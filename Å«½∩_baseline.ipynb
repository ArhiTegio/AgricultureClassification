{
 "cells": [
  {
   "cell_type": "markdown",
   "metadata": {
    "id": "fnE1_J-4dhSR"
   },
   "source": [
    "## Загрузим нужные библиотеки"
   ]
  },
  {
   "cell_type": "code",
   "execution_count": 4,
   "metadata": {
    "id": "uaKzqUxsdjDa"
   },
   "outputs": [],
   "source": [
    "import pandas as pd\n",
    "import seaborn as sns\n",
    "import matplotlib.pyplot as plt\n",
    "from sklearn.model_selection import train_test_split\n",
    "from sklearn.ensemble import RandomForestClassifier\n",
    "\n",
    "%matplotlib inline"
   ]
  },
  {
   "cell_type": "code",
   "execution_count": 5,
   "metadata": {},
   "outputs": [],
   "source": [
    "from tqdm import tqdm\n",
    "\n",
    "import torch\n",
    "import torch.nn as nn\n",
    "import torch.optim as optim\n",
    "from torch.utils.data import Dataset\n",
    "from torchvision import datasets, models, transforms\n",
    "from torchvision.models import resnet18\n",
    "\n",
    "import numpy as np\n",
    "\n",
    "import json\n",
    "import random\n",
    "\n",
    "import torch.nn.functional as F\n",
    "import random\n",
    "\n",
    "from sklearn.metrics import recall_score, precision_score\n",
    "\n",
    "from tqdm import tqdm\n",
    "from tqdm.auto import tqdm as tqdm_\n",
    "from tqdm.notebook import tqdm as tqdm_step\n",
    "\n",
    "from sklearn.model_selection import train_test_split\n",
    "from sklearn.decomposition import PCA\n",
    "from sklearn.svm import SVC\n",
    "from sklearn.discriminant_analysis import LinearDiscriminantAnalysis\n",
    "from sklearn import metrics\n",
    "\n",
    "import json\n",
    "import os"
   ]
  },
  {
   "cell_type": "code",
   "execution_count": 6,
   "metadata": {
    "id": "2scLoULoXkT0"
   },
   "outputs": [],
   "source": [
    "df = pd.read_csv(\"train_dataset_train.csv\")"
   ]
  },
  {
   "cell_type": "markdown",
   "metadata": {
    "id": "WcxAsO_Md05t"
   },
   "source": [
    "## Рассмотрим датасет по ближе"
   ]
  },
  {
   "cell_type": "code",
   "execution_count": 7,
   "metadata": {
    "colab": {
     "base_uri": "https://localhost:8080/",
     "height": 254
    },
    "id": "I16XfuOpXwIy",
    "outputId": "f44fbf10-f067-4716-9c1d-f4660753940e"
   },
   "outputs": [
    {
     "data": {
      "text/html": [
       "<div>\n",
       "<style scoped>\n",
       "    .dataframe tbody tr th:only-of-type {\n",
       "        vertical-align: middle;\n",
       "    }\n",
       "\n",
       "    .dataframe tbody tr th {\n",
       "        vertical-align: top;\n",
       "    }\n",
       "\n",
       "    .dataframe thead th {\n",
       "        text-align: right;\n",
       "    }\n",
       "</style>\n",
       "<table border=\"1\" class=\"dataframe\">\n",
       "  <thead>\n",
       "    <tr style=\"text-align: right;\">\n",
       "      <th></th>\n",
       "      <th>id</th>\n",
       "      <th>area</th>\n",
       "      <th>nd_mean_2021-04-16</th>\n",
       "      <th>nd_mean_2021-04-19</th>\n",
       "      <th>nd_mean_2021-04-22</th>\n",
       "      <th>nd_mean_2021-04-26</th>\n",
       "      <th>nd_mean_2021-04-28</th>\n",
       "      <th>nd_mean_2021-05-02</th>\n",
       "      <th>nd_mean_2021-05-04</th>\n",
       "      <th>nd_mean_2021-05-07</th>\n",
       "      <th>...</th>\n",
       "      <th>nd_mean_2021-05-20</th>\n",
       "      <th>nd_mean_2021-06-04</th>\n",
       "      <th>nd_mean_2021-06-05</th>\n",
       "      <th>nd_mean_2021-06-10</th>\n",
       "      <th>nd_mean_2021-07-05</th>\n",
       "      <th>nd_mean_2021-08-13</th>\n",
       "      <th>nd_mean_2021-08-27</th>\n",
       "      <th>nd_mean_2021-05-08</th>\n",
       "      <th>nd_mean_2021-05-24</th>\n",
       "      <th>crop</th>\n",
       "    </tr>\n",
       "  </thead>\n",
       "  <tbody>\n",
       "    <tr>\n",
       "      <th>0</th>\n",
       "      <td>3536</td>\n",
       "      <td>20</td>\n",
       "      <td>0.072846</td>\n",
       "      <td>0.261778</td>\n",
       "      <td>0.062981</td>\n",
       "      <td>0.104442</td>\n",
       "      <td>0.021096</td>\n",
       "      <td>0.052202</td>\n",
       "      <td>0.158723</td>\n",
       "      <td>0.000000</td>\n",
       "      <td>...</td>\n",
       "      <td>0.108999</td>\n",
       "      <td>0.118854</td>\n",
       "      <td>0.000000</td>\n",
       "      <td>0.000000</td>\n",
       "      <td>0.026784</td>\n",
       "      <td>0.126832</td>\n",
       "      <td>0.614770</td>\n",
       "      <td>0.008857</td>\n",
       "      <td>0.081498</td>\n",
       "      <td>3</td>\n",
       "    </tr>\n",
       "    <tr>\n",
       "      <th>1</th>\n",
       "      <td>3739</td>\n",
       "      <td>45</td>\n",
       "      <td>0.332928</td>\n",
       "      <td>0.287182</td>\n",
       "      <td>0.097138</td>\n",
       "      <td>0.152467</td>\n",
       "      <td>0.075484</td>\n",
       "      <td>0.000000</td>\n",
       "      <td>0.140326</td>\n",
       "      <td>0.163340</td>\n",
       "      <td>...</td>\n",
       "      <td>0.134469</td>\n",
       "      <td>0.208268</td>\n",
       "      <td>0.000000</td>\n",
       "      <td>0.000000</td>\n",
       "      <td>0.111148</td>\n",
       "      <td>0.174914</td>\n",
       "      <td>0.179612</td>\n",
       "      <td>0.113071</td>\n",
       "      <td>0.046997</td>\n",
       "      <td>4</td>\n",
       "    </tr>\n",
       "    <tr>\n",
       "      <th>2</th>\n",
       "      <td>1294</td>\n",
       "      <td>28</td>\n",
       "      <td>0.013679</td>\n",
       "      <td>0.007055</td>\n",
       "      <td>0.120804</td>\n",
       "      <td>0.037839</td>\n",
       "      <td>0.259125</td>\n",
       "      <td>0.000000</td>\n",
       "      <td>0.037446</td>\n",
       "      <td>0.506516</td>\n",
       "      <td>...</td>\n",
       "      <td>0.084467</td>\n",
       "      <td>0.000000</td>\n",
       "      <td>0.210496</td>\n",
       "      <td>0.130467</td>\n",
       "      <td>0.155225</td>\n",
       "      <td>0.090607</td>\n",
       "      <td>0.054127</td>\n",
       "      <td>0.007437</td>\n",
       "      <td>0.219614</td>\n",
       "      <td>2</td>\n",
       "    </tr>\n",
       "  </tbody>\n",
       "</table>\n",
       "<p>3 rows × 74 columns</p>\n",
       "</div>"
      ],
      "text/plain": [
       "     id  area  nd_mean_2021-04-16  nd_mean_2021-04-19  nd_mean_2021-04-22  \\\n",
       "0  3536    20            0.072846            0.261778            0.062981   \n",
       "1  3739    45            0.332928            0.287182            0.097138   \n",
       "2  1294    28            0.013679            0.007055            0.120804   \n",
       "\n",
       "   nd_mean_2021-04-26  nd_mean_2021-04-28  nd_mean_2021-05-02  \\\n",
       "0            0.104442            0.021096            0.052202   \n",
       "1            0.152467            0.075484            0.000000   \n",
       "2            0.037839            0.259125            0.000000   \n",
       "\n",
       "   nd_mean_2021-05-04  nd_mean_2021-05-07  ...  nd_mean_2021-05-20  \\\n",
       "0            0.158723            0.000000  ...            0.108999   \n",
       "1            0.140326            0.163340  ...            0.134469   \n",
       "2            0.037446            0.506516  ...            0.084467   \n",
       "\n",
       "   nd_mean_2021-06-04  nd_mean_2021-06-05  nd_mean_2021-06-10  \\\n",
       "0            0.118854            0.000000            0.000000   \n",
       "1            0.208268            0.000000            0.000000   \n",
       "2            0.000000            0.210496            0.130467   \n",
       "\n",
       "   nd_mean_2021-07-05  nd_mean_2021-08-13  nd_mean_2021-08-27  \\\n",
       "0            0.026784            0.126832            0.614770   \n",
       "1            0.111148            0.174914            0.179612   \n",
       "2            0.155225            0.090607            0.054127   \n",
       "\n",
       "   nd_mean_2021-05-08  nd_mean_2021-05-24  crop  \n",
       "0            0.008857            0.081498     3  \n",
       "1            0.113071            0.046997     4  \n",
       "2            0.007437            0.219614     2  \n",
       "\n",
       "[3 rows x 74 columns]"
      ]
     },
     "execution_count": 7,
     "metadata": {},
     "output_type": "execute_result"
    }
   ],
   "source": [
    "df.head(3)"
   ]
  },
  {
   "cell_type": "code",
   "execution_count": null,
   "metadata": {},
   "outputs": [],
   "source": []
  },
  {
   "cell_type": "code",
   "execution_count": 8,
   "metadata": {
    "colab": {
     "base_uri": "https://localhost:8080/"
    },
    "id": "czcOBmDFduKQ",
    "outputId": "4cc0c78b-1ccb-4504-d22e-85321dbe1936"
   },
   "outputs": [
    {
     "name": "stdout",
     "output_type": "stream",
     "text": [
      "<class 'pandas.core.frame.DataFrame'>\n",
      "RangeIndex: 4830 entries, 0 to 4829\n",
      "Data columns (total 74 columns):\n",
      " #   Column              Non-Null Count  Dtype  \n",
      "---  ------              --------------  -----  \n",
      " 0   id                  4830 non-null   int64  \n",
      " 1   area                4830 non-null   int64  \n",
      " 2   nd_mean_2021-04-16  4830 non-null   float64\n",
      " 3   nd_mean_2021-04-19  4830 non-null   float64\n",
      " 4   nd_mean_2021-04-22  4830 non-null   float64\n",
      " 5   nd_mean_2021-04-26  4830 non-null   float64\n",
      " 6   nd_mean_2021-04-28  4830 non-null   float64\n",
      " 7   nd_mean_2021-05-02  4830 non-null   float64\n",
      " 8   nd_mean_2021-05-04  4830 non-null   float64\n",
      " 9   nd_mean_2021-05-07  4830 non-null   float64\n",
      " 10  nd_mean_2021-05-16  4830 non-null   float64\n",
      " 11  nd_mean_2021-05-17  4830 non-null   float64\n",
      " 12  nd_mean_2021-05-21  4830 non-null   float64\n",
      " 13  nd_mean_2021-05-26  4830 non-null   float64\n",
      " 14  nd_mean_2021-05-27  4830 non-null   float64\n",
      " 15  nd_mean_2021-05-29  4830 non-null   float64\n",
      " 16  nd_mean_2021-06-06  4830 non-null   float64\n",
      " 17  nd_mean_2021-06-09  4830 non-null   float64\n",
      " 18  nd_mean_2021-06-13  4830 non-null   float64\n",
      " 19  nd_mean_2021-06-16  4830 non-null   float64\n",
      " 20  nd_mean_2021-06-18  4830 non-null   float64\n",
      " 21  nd_mean_2021-06-19  4830 non-null   float64\n",
      " 22  nd_mean_2021-06-20  4830 non-null   float64\n",
      " 23  nd_mean_2021-06-22  4830 non-null   float64\n",
      " 24  nd_mean_2021-06-25  4830 non-null   float64\n",
      " 25  nd_mean_2021-06-27  4830 non-null   float64\n",
      " 26  nd_mean_2021-07-07  4830 non-null   float64\n",
      " 27  nd_mean_2021-07-08  4830 non-null   float64\n",
      " 28  nd_mean_2021-07-09  4830 non-null   float64\n",
      " 29  nd_mean_2021-07-13  4830 non-null   float64\n",
      " 30  nd_mean_2021-07-15  4830 non-null   float64\n",
      " 31  nd_mean_2021-07-17  4830 non-null   float64\n",
      " 32  nd_mean_2021-07-20  4830 non-null   float64\n",
      " 33  nd_mean_2021-07-26  4830 non-null   float64\n",
      " 34  nd_mean_2021-07-27  4830 non-null   float64\n",
      " 35  nd_mean_2021-07-29  4830 non-null   float64\n",
      " 36  nd_mean_2021-07-31  4830 non-null   float64\n",
      " 37  nd_mean_2021-08-07  4830 non-null   float64\n",
      " 38  nd_mean_2021-08-12  4830 non-null   float64\n",
      " 39  .geo                4830 non-null   object \n",
      " 40  nd_mean_2021-04-15  4830 non-null   float64\n",
      " 41  nd_mean_2021-04-18  4830 non-null   float64\n",
      " 42  nd_mean_2021-04-25  4830 non-null   float64\n",
      " 43  nd_mean_2021-04-27  4830 non-null   float64\n",
      " 44  nd_mean_2021-04-29  4830 non-null   float64\n",
      " 45  nd_mean_2021-04-30  4830 non-null   float64\n",
      " 46  nd_mean_2021-06-07  4830 non-null   float64\n",
      " 47  nd_mean_2021-06-12  4830 non-null   float64\n",
      " 48  nd_mean_2021-06-28  4830 non-null   float64\n",
      " 49  nd_mean_2021-08-01  4830 non-null   float64\n",
      " 50  nd_mean_2021-08-11  4830 non-null   float64\n",
      " 51  nd_mean_2021-05-01  4830 non-null   float64\n",
      " 52  nd_mean_2021-05-03  4830 non-null   float64\n",
      " 53  nd_mean_2021-05-10  4830 non-null   float64\n",
      " 54  nd_mean_2021-05-15  4830 non-null   float64\n",
      " 55  nd_mean_2021-06-02  4830 non-null   float64\n",
      " 56  nd_mean_2021-06-03  4830 non-null   float64\n",
      " 57  nd_mean_2021-07-04  4830 non-null   float64\n",
      " 58  nd_mean_2021-08-10  4830 non-null   float64\n",
      " 59  nd_mean_2021-08-23  4830 non-null   float64\n",
      " 60  nd_mean_2021-04-20  4830 non-null   float64\n",
      " 61  nd_mean_2021-04-23  4830 non-null   float64\n",
      " 62  nd_mean_2021-05-09  4830 non-null   float64\n",
      " 63  nd_mean_2021-05-19  4830 non-null   float64\n",
      " 64  nd_mean_2021-05-20  4830 non-null   float64\n",
      " 65  nd_mean_2021-06-04  4830 non-null   float64\n",
      " 66  nd_mean_2021-06-05  4830 non-null   float64\n",
      " 67  nd_mean_2021-06-10  4830 non-null   float64\n",
      " 68  nd_mean_2021-07-05  4830 non-null   float64\n",
      " 69  nd_mean_2021-08-13  4830 non-null   float64\n",
      " 70  nd_mean_2021-08-27  4830 non-null   float64\n",
      " 71  nd_mean_2021-05-08  4830 non-null   float64\n",
      " 72  nd_mean_2021-05-24  4830 non-null   float64\n",
      " 73  crop                4830 non-null   int64  \n",
      "dtypes: float64(70), int64(3), object(1)\n",
      "memory usage: 2.7+ MB\n"
     ]
    }
   ],
   "source": [
    "df.info()"
   ]
  },
  {
   "cell_type": "markdown",
   "metadata": {
    "id": "yQuR1Zv65zp_"
   },
   "source": [
    "Рассмотрим единственный не числовой столбец"
   ]
  },
  {
   "cell_type": "code",
   "execution_count": 9,
   "metadata": {},
   "outputs": [
    {
     "data": {
      "text/plain": [
       "['nd_mean_2021-04-15',\n",
       " 'nd_mean_2021-04-16',\n",
       " 'nd_mean_2021-04-18',\n",
       " 'nd_mean_2021-04-19',\n",
       " 'nd_mean_2021-04-20',\n",
       " 'nd_mean_2021-04-22',\n",
       " 'nd_mean_2021-04-23',\n",
       " 'nd_mean_2021-04-25',\n",
       " 'nd_mean_2021-04-26',\n",
       " 'nd_mean_2021-04-27',\n",
       " 'nd_mean_2021-04-28',\n",
       " 'nd_mean_2021-04-29',\n",
       " 'nd_mean_2021-04-30',\n",
       " 'nd_mean_2021-05-01',\n",
       " 'nd_mean_2021-05-02',\n",
       " 'nd_mean_2021-05-03',\n",
       " 'nd_mean_2021-05-04',\n",
       " 'nd_mean_2021-05-07',\n",
       " 'nd_mean_2021-05-08',\n",
       " 'nd_mean_2021-05-09',\n",
       " 'nd_mean_2021-05-10',\n",
       " 'nd_mean_2021-05-15',\n",
       " 'nd_mean_2021-05-16',\n",
       " 'nd_mean_2021-05-17',\n",
       " 'nd_mean_2021-05-19',\n",
       " 'nd_mean_2021-05-20',\n",
       " 'nd_mean_2021-05-21',\n",
       " 'nd_mean_2021-05-24',\n",
       " 'nd_mean_2021-05-26',\n",
       " 'nd_mean_2021-05-27',\n",
       " 'nd_mean_2021-05-29',\n",
       " 'nd_mean_2021-06-02',\n",
       " 'nd_mean_2021-06-03',\n",
       " 'nd_mean_2021-06-04',\n",
       " 'nd_mean_2021-06-05',\n",
       " 'nd_mean_2021-06-06',\n",
       " 'nd_mean_2021-06-07',\n",
       " 'nd_mean_2021-06-09',\n",
       " 'nd_mean_2021-06-10',\n",
       " 'nd_mean_2021-06-12',\n",
       " 'nd_mean_2021-06-13',\n",
       " 'nd_mean_2021-06-16',\n",
       " 'nd_mean_2021-06-18',\n",
       " 'nd_mean_2021-06-19',\n",
       " 'nd_mean_2021-06-20',\n",
       " 'nd_mean_2021-06-22',\n",
       " 'nd_mean_2021-06-25',\n",
       " 'nd_mean_2021-06-27',\n",
       " 'nd_mean_2021-06-28',\n",
       " 'nd_mean_2021-07-04',\n",
       " 'nd_mean_2021-07-05',\n",
       " 'nd_mean_2021-07-07',\n",
       " 'nd_mean_2021-07-08',\n",
       " 'nd_mean_2021-07-09',\n",
       " 'nd_mean_2021-07-13',\n",
       " 'nd_mean_2021-07-15',\n",
       " 'nd_mean_2021-07-17',\n",
       " 'nd_mean_2021-07-20',\n",
       " 'nd_mean_2021-07-26',\n",
       " 'nd_mean_2021-07-27',\n",
       " 'nd_mean_2021-07-29',\n",
       " 'nd_mean_2021-07-31',\n",
       " 'nd_mean_2021-08-01',\n",
       " 'nd_mean_2021-08-07',\n",
       " 'nd_mean_2021-08-10',\n",
       " 'nd_mean_2021-08-11',\n",
       " 'nd_mean_2021-08-12',\n",
       " 'nd_mean_2021-08-13',\n",
       " 'nd_mean_2021-08-23',\n",
       " 'nd_mean_2021-08-27']"
      ]
     },
     "execution_count": 9,
     "metadata": {},
     "output_type": "execute_result"
    }
   ],
   "source": [
    "arr_cols = [col for col in df.columns if 'nd_mean' in col]\n",
    "arr_cols.sort()\n",
    "arr_cols"
   ]
  },
  {
   "cell_type": "code",
   "execution_count": 10,
   "metadata": {},
   "outputs": [
    {
     "data": {
      "text/plain": [
       "['nd_mean_2021-04-15',\n",
       " 'nd_mean_2021-04-16',\n",
       " 'nd_mean_2021-04-18',\n",
       " 'nd_mean_2021-04-19',\n",
       " 'nd_mean_2021-04-20',\n",
       " 'nd_mean_2021-04-22',\n",
       " 'nd_mean_2021-04-23',\n",
       " 'nd_mean_2021-04-25',\n",
       " 'nd_mean_2021-04-26',\n",
       " 'nd_mean_2021-04-27',\n",
       " 'nd_mean_2021-04-28',\n",
       " 'nd_mean_2021-04-29',\n",
       " 'nd_mean_2021-04-30',\n",
       " 'nd_mean_2021-05-01',\n",
       " 'nd_mean_2021-05-02',\n",
       " 'nd_mean_2021-05-03',\n",
       " 'nd_mean_2021-05-04',\n",
       " 'nd_mean_2021-05-07',\n",
       " 'nd_mean_2021-05-08',\n",
       " 'nd_mean_2021-05-09',\n",
       " 'nd_mean_2021-05-10',\n",
       " 'nd_mean_2021-05-15',\n",
       " 'nd_mean_2021-05-16',\n",
       " 'nd_mean_2021-05-17',\n",
       " 'nd_mean_2021-05-19',\n",
       " 'nd_mean_2021-05-20',\n",
       " 'nd_mean_2021-05-21',\n",
       " 'nd_mean_2021-05-24',\n",
       " 'nd_mean_2021-05-26',\n",
       " 'nd_mean_2021-05-27',\n",
       " 'nd_mean_2021-05-29',\n",
       " 'nd_mean_2021-06-02',\n",
       " 'nd_mean_2021-06-03',\n",
       " 'nd_mean_2021-06-04',\n",
       " 'nd_mean_2021-06-05',\n",
       " 'nd_mean_2021-06-06',\n",
       " 'nd_mean_2021-06-07',\n",
       " 'nd_mean_2021-06-09',\n",
       " 'nd_mean_2021-06-10',\n",
       " 'nd_mean_2021-06-12',\n",
       " 'nd_mean_2021-06-13',\n",
       " 'nd_mean_2021-06-16',\n",
       " 'nd_mean_2021-06-18',\n",
       " 'nd_mean_2021-06-19',\n",
       " 'nd_mean_2021-06-20',\n",
       " 'nd_mean_2021-06-22',\n",
       " 'nd_mean_2021-06-25',\n",
       " 'nd_mean_2021-06-27',\n",
       " 'nd_mean_2021-06-28',\n",
       " 'nd_mean_2021-07-04',\n",
       " 'nd_mean_2021-07-05',\n",
       " 'nd_mean_2021-07-07',\n",
       " 'nd_mean_2021-07-08',\n",
       " 'nd_mean_2021-07-09',\n",
       " 'nd_mean_2021-07-13',\n",
       " 'nd_mean_2021-07-15',\n",
       " 'nd_mean_2021-07-17',\n",
       " 'nd_mean_2021-07-20',\n",
       " 'nd_mean_2021-07-26',\n",
       " 'nd_mean_2021-07-27',\n",
       " 'nd_mean_2021-07-29',\n",
       " 'nd_mean_2021-07-31',\n",
       " 'nd_mean_2021-08-01',\n",
       " 'nd_mean_2021-08-07',\n",
       " 'nd_mean_2021-08-10',\n",
       " 'nd_mean_2021-08-11',\n",
       " 'nd_mean_2021-08-12',\n",
       " 'nd_mean_2021-08-13',\n",
       " 'nd_mean_2021-08-23',\n",
       " 'nd_mean_2021-08-27']"
      ]
     },
     "execution_count": 10,
     "metadata": {},
     "output_type": "execute_result"
    }
   ],
   "source": [
    "arr_cols"
   ]
  },
  {
   "cell_type": "code",
   "execution_count": 11,
   "metadata": {},
   "outputs": [],
   "source": [
    "group_cols = {}\n",
    "for col in arr_cols:\n",
    "    val = col.split('-')[-2]\n",
    "    if val in group_cols.keys():\n",
    "        group_cols[val].append(col)\n",
    "    else:\n",
    "        group_cols[val] = [col]"
   ]
  },
  {
   "cell_type": "code",
   "execution_count": 12,
   "metadata": {},
   "outputs": [
    {
     "data": {
      "text/plain": [
       "dict_keys(['04', '05', '06', '07', '08'])"
      ]
     },
     "execution_count": 12,
     "metadata": {},
     "output_type": "execute_result"
    }
   ],
   "source": [
    "group_cols.keys()"
   ]
  },
  {
   "cell_type": "code",
   "execution_count": 13,
   "metadata": {},
   "outputs": [
    {
     "data": {
      "text/plain": [
       "['nd_mean_2021-04-15',\n",
       " 'nd_mean_2021-04-16',\n",
       " 'nd_mean_2021-04-18',\n",
       " 'nd_mean_2021-04-19',\n",
       " 'nd_mean_2021-04-20',\n",
       " 'nd_mean_2021-04-22',\n",
       " 'nd_mean_2021-04-23',\n",
       " 'nd_mean_2021-04-25',\n",
       " 'nd_mean_2021-04-26',\n",
       " 'nd_mean_2021-04-27',\n",
       " 'nd_mean_2021-04-28',\n",
       " 'nd_mean_2021-04-29',\n",
       " 'nd_mean_2021-04-30',\n",
       " 'nd_mean_2021-05-01',\n",
       " 'nd_mean_2021-05-02',\n",
       " 'nd_mean_2021-05-03',\n",
       " 'nd_mean_2021-05-04',\n",
       " 'nd_mean_2021-05-07',\n",
       " 'nd_mean_2021-05-08',\n",
       " 'nd_mean_2021-05-09',\n",
       " 'nd_mean_2021-05-10',\n",
       " 'nd_mean_2021-05-15',\n",
       " 'nd_mean_2021-05-16',\n",
       " 'nd_mean_2021-05-17',\n",
       " 'nd_mean_2021-05-19',\n",
       " 'nd_mean_2021-05-20',\n",
       " 'nd_mean_2021-05-21',\n",
       " 'nd_mean_2021-05-24',\n",
       " 'nd_mean_2021-05-26',\n",
       " 'nd_mean_2021-05-27',\n",
       " 'nd_mean_2021-05-29',\n",
       " 'nd_mean_2021-06-02',\n",
       " 'nd_mean_2021-06-03',\n",
       " 'nd_mean_2021-06-04',\n",
       " 'nd_mean_2021-06-05',\n",
       " 'nd_mean_2021-06-06',\n",
       " 'nd_mean_2021-06-07',\n",
       " 'nd_mean_2021-06-09',\n",
       " 'nd_mean_2021-06-10',\n",
       " 'nd_mean_2021-06-12',\n",
       " 'nd_mean_2021-06-13',\n",
       " 'nd_mean_2021-06-16',\n",
       " 'nd_mean_2021-06-18',\n",
       " 'nd_mean_2021-06-19',\n",
       " 'nd_mean_2021-06-20',\n",
       " 'nd_mean_2021-06-22',\n",
       " 'nd_mean_2021-06-25',\n",
       " 'nd_mean_2021-06-27',\n",
       " 'nd_mean_2021-06-28',\n",
       " 'nd_mean_2021-07-04',\n",
       " 'nd_mean_2021-07-05',\n",
       " 'nd_mean_2021-07-07',\n",
       " 'nd_mean_2021-07-08',\n",
       " 'nd_mean_2021-07-09',\n",
       " 'nd_mean_2021-07-13',\n",
       " 'nd_mean_2021-07-15',\n",
       " 'nd_mean_2021-07-17',\n",
       " 'nd_mean_2021-07-20',\n",
       " 'nd_mean_2021-07-26',\n",
       " 'nd_mean_2021-07-27',\n",
       " 'nd_mean_2021-07-29',\n",
       " 'nd_mean_2021-07-31',\n",
       " 'nd_mean_2021-08-01',\n",
       " 'nd_mean_2021-08-07',\n",
       " 'nd_mean_2021-08-10',\n",
       " 'nd_mean_2021-08-11',\n",
       " 'nd_mean_2021-08-12',\n",
       " 'nd_mean_2021-08-13',\n",
       " 'nd_mean_2021-08-23',\n",
       " 'nd_mean_2021-08-27']"
      ]
     },
     "execution_count": 13,
     "metadata": {},
     "output_type": "execute_result"
    }
   ],
   "source": [
    "arr_cols"
   ]
  },
  {
   "cell_type": "code",
   "execution_count": 14,
   "metadata": {},
   "outputs": [],
   "source": [
    "calc = {}\n",
    "data_arr = df[arr_cols].to_numpy()\n",
    "\n",
    "df['sum_nd_global_mean'] = np.sum(data_arr, axis=1)"
   ]
  },
  {
   "cell_type": "code",
   "execution_count": 15,
   "metadata": {},
   "outputs": [],
   "source": [
    "df['sum_nd_global_max'] = np.max(data_arr, axis=1)\n",
    "df['sum_nd_global_min'] = np.min(data_arr, axis=1)\n",
    "df['sum_nd_global_mean'] = np.mean(data_arr, axis=1)\n",
    "df['sum_nd_global_median'] = np.median(data_arr, axis=1)\n",
    "df['sum_nd_global_std'] = np.std(data_arr, axis=1)\n",
    "df['sum_nd_global_argmax'] = np.argmax(data_arr, axis=1)\n",
    "df['sum_nd_global_argmin'] = np.argmin(data_arr, axis=1)"
   ]
  },
  {
   "cell_type": "code",
   "execution_count": 16,
   "metadata": {},
   "outputs": [],
   "source": [
    "for k in group_cols.keys():\n",
    "    data_k_arr = df[group_cols[k]].to_numpy()\n",
    "    df[f'sum_nd_{k}_mean'] = np.sum(data_k_arr, axis=1)\n",
    "    df[f'sum_nd_{k}_max'] = np.max(data_k_arr, axis=1)\n",
    "    df[f'sum_nd_{k}_min'] = np.min(data_k_arr, axis=1)\n",
    "    df[f'sum_nd_{k}_mean'] = np.mean(data_k_arr, axis=1)\n",
    "    df[f'sum_nd_{k}_median'] = np.median(data_k_arr, axis=1)\n",
    "    df[f'sum_nd_{k}_std'] = np.std(data_k_arr, axis=1)\n",
    "    df[f'sum_nd_{k}_argmax'] = np.argmax(data_k_arr, axis=1)\n",
    "    df[f'sum_nd_{k}_argmin'] = np.argmin(data_k_arr, axis=1)"
   ]
  },
  {
   "cell_type": "code",
   "execution_count": 17,
   "metadata": {},
   "outputs": [
    {
     "data": {
      "text/plain": [
       "116"
      ]
     },
     "execution_count": 17,
     "metadata": {},
     "output_type": "execute_result"
    }
   ],
   "source": [
    "len(df.columns)"
   ]
  },
  {
   "cell_type": "code",
   "execution_count": 18,
   "metadata": {},
   "outputs": [
    {
     "data": {
      "text/html": [
       "<div>\n",
       "<style scoped>\n",
       "    .dataframe tbody tr th:only-of-type {\n",
       "        vertical-align: middle;\n",
       "    }\n",
       "\n",
       "    .dataframe tbody tr th {\n",
       "        vertical-align: top;\n",
       "    }\n",
       "\n",
       "    .dataframe thead th {\n",
       "        text-align: right;\n",
       "    }\n",
       "</style>\n",
       "<table border=\"1\" class=\"dataframe\">\n",
       "  <thead>\n",
       "    <tr style=\"text-align: right;\">\n",
       "      <th></th>\n",
       "      <th>id</th>\n",
       "      <th>area</th>\n",
       "      <th>nd_mean_2021-04-16</th>\n",
       "      <th>nd_mean_2021-04-19</th>\n",
       "      <th>nd_mean_2021-04-22</th>\n",
       "      <th>nd_mean_2021-04-26</th>\n",
       "      <th>nd_mean_2021-04-28</th>\n",
       "      <th>nd_mean_2021-05-02</th>\n",
       "      <th>nd_mean_2021-05-04</th>\n",
       "      <th>nd_mean_2021-05-07</th>\n",
       "      <th>...</th>\n",
       "      <th>sum_nd_07_std</th>\n",
       "      <th>sum_nd_07_argmax</th>\n",
       "      <th>sum_nd_07_argmin</th>\n",
       "      <th>sum_nd_08_mean</th>\n",
       "      <th>sum_nd_08_max</th>\n",
       "      <th>sum_nd_08_min</th>\n",
       "      <th>sum_nd_08_median</th>\n",
       "      <th>sum_nd_08_std</th>\n",
       "      <th>sum_nd_08_argmax</th>\n",
       "      <th>sum_nd_08_argmin</th>\n",
       "    </tr>\n",
       "  </thead>\n",
       "  <tbody>\n",
       "    <tr>\n",
       "      <th>count</th>\n",
       "      <td>4830.000000</td>\n",
       "      <td>4830.000000</td>\n",
       "      <td>4830.000000</td>\n",
       "      <td>4830.000000</td>\n",
       "      <td>4830.000000</td>\n",
       "      <td>4830.000000</td>\n",
       "      <td>4830.000000</td>\n",
       "      <td>4830.000000</td>\n",
       "      <td>4830.000000</td>\n",
       "      <td>4830.000000</td>\n",
       "      <td>...</td>\n",
       "      <td>4830.000000</td>\n",
       "      <td>4830.000000</td>\n",
       "      <td>4830.000000</td>\n",
       "      <td>4830.000000</td>\n",
       "      <td>4830.000000</td>\n",
       "      <td>4830.000000</td>\n",
       "      <td>4830.000000</td>\n",
       "      <td>4830.000000</td>\n",
       "      <td>4830.000000</td>\n",
       "      <td>4830.000000</td>\n",
       "    </tr>\n",
       "    <tr>\n",
       "      <th>mean</th>\n",
       "      <td>3473.406211</td>\n",
       "      <td>53.871429</td>\n",
       "      <td>0.149911</td>\n",
       "      <td>0.118843</td>\n",
       "      <td>0.158939</td>\n",
       "      <td>0.166146</td>\n",
       "      <td>0.125002</td>\n",
       "      <td>0.162440</td>\n",
       "      <td>0.092302</td>\n",
       "      <td>0.108834</td>\n",
       "      <td>...</td>\n",
       "      <td>0.269944</td>\n",
       "      <td>3.827329</td>\n",
       "      <td>4.143271</td>\n",
       "      <td>0.232430</td>\n",
       "      <td>0.584272</td>\n",
       "      <td>0.009173</td>\n",
       "      <td>0.169965</td>\n",
       "      <td>0.214995</td>\n",
       "      <td>2.131263</td>\n",
       "      <td>3.304141</td>\n",
       "    </tr>\n",
       "    <tr>\n",
       "      <th>std</th>\n",
       "      <td>1984.993812</td>\n",
       "      <td>34.191660</td>\n",
       "      <td>0.112598</td>\n",
       "      <td>0.103192</td>\n",
       "      <td>0.136001</td>\n",
       "      <td>0.123605</td>\n",
       "      <td>0.117605</td>\n",
       "      <td>0.145027</td>\n",
       "      <td>0.095207</td>\n",
       "      <td>0.120939</td>\n",
       "      <td>...</td>\n",
       "      <td>0.045399</td>\n",
       "      <td>2.719890</td>\n",
       "      <td>4.309108</td>\n",
       "      <td>0.086175</td>\n",
       "      <td>0.152622</td>\n",
       "      <td>0.020299</td>\n",
       "      <td>0.125417</td>\n",
       "      <td>0.066555</td>\n",
       "      <td>2.039919</td>\n",
       "      <td>2.255580</td>\n",
       "    </tr>\n",
       "    <tr>\n",
       "      <th>min</th>\n",
       "      <td>0.000000</td>\n",
       "      <td>10.000000</td>\n",
       "      <td>0.000000</td>\n",
       "      <td>0.000000</td>\n",
       "      <td>0.000000</td>\n",
       "      <td>0.000000</td>\n",
       "      <td>0.000000</td>\n",
       "      <td>0.000000</td>\n",
       "      <td>0.000000</td>\n",
       "      <td>0.000000</td>\n",
       "      <td>...</td>\n",
       "      <td>0.105258</td>\n",
       "      <td>0.000000</td>\n",
       "      <td>0.000000</td>\n",
       "      <td>0.017558</td>\n",
       "      <td>0.064747</td>\n",
       "      <td>0.000000</td>\n",
       "      <td>0.000000</td>\n",
       "      <td>0.020018</td>\n",
       "      <td>0.000000</td>\n",
       "      <td>0.000000</td>\n",
       "    </tr>\n",
       "    <tr>\n",
       "      <th>25%</th>\n",
       "      <td>1772.500000</td>\n",
       "      <td>26.000000</td>\n",
       "      <td>0.047477</td>\n",
       "      <td>0.025280</td>\n",
       "      <td>0.050124</td>\n",
       "      <td>0.053859</td>\n",
       "      <td>0.027609</td>\n",
       "      <td>0.040885</td>\n",
       "      <td>0.012844</td>\n",
       "      <td>0.014682</td>\n",
       "      <td>...</td>\n",
       "      <td>0.239891</td>\n",
       "      <td>2.000000</td>\n",
       "      <td>0.000000</td>\n",
       "      <td>0.168322</td>\n",
       "      <td>0.491633</td>\n",
       "      <td>0.000000</td>\n",
       "      <td>0.087711</td>\n",
       "      <td>0.169496</td>\n",
       "      <td>0.000000</td>\n",
       "      <td>1.000000</td>\n",
       "    </tr>\n",
       "    <tr>\n",
       "      <th>50%</th>\n",
       "      <td>3489.500000</td>\n",
       "      <td>45.000000</td>\n",
       "      <td>0.142240</td>\n",
       "      <td>0.097346</td>\n",
       "      <td>0.129819</td>\n",
       "      <td>0.155571</td>\n",
       "      <td>0.096516</td>\n",
       "      <td>0.121307</td>\n",
       "      <td>0.069936</td>\n",
       "      <td>0.077155</td>\n",
       "      <td>...</td>\n",
       "      <td>0.271359</td>\n",
       "      <td>3.000000</td>\n",
       "      <td>1.000000</td>\n",
       "      <td>0.230354</td>\n",
       "      <td>0.605010</td>\n",
       "      <td>0.000000</td>\n",
       "      <td>0.133629</td>\n",
       "      <td>0.218437</td>\n",
       "      <td>1.000000</td>\n",
       "      <td>3.000000</td>\n",
       "    </tr>\n",
       "    <tr>\n",
       "      <th>75%</th>\n",
       "      <td>5191.750000</td>\n",
       "      <td>76.000000</td>\n",
       "      <td>0.245596</td>\n",
       "      <td>0.202955</td>\n",
       "      <td>0.241323</td>\n",
       "      <td>0.269131</td>\n",
       "      <td>0.192070</td>\n",
       "      <td>0.277772</td>\n",
       "      <td>0.143207</td>\n",
       "      <td>0.162079</td>\n",
       "      <td>...</td>\n",
       "      <td>0.301618</td>\n",
       "      <td>4.000000</td>\n",
       "      <td>8.000000</td>\n",
       "      <td>0.292232</td>\n",
       "      <td>0.698825</td>\n",
       "      <td>0.007743</td>\n",
       "      <td>0.204099</td>\n",
       "      <td>0.263411</td>\n",
       "      <td>4.000000</td>\n",
       "      <td>5.000000</td>\n",
       "    </tr>\n",
       "    <tr>\n",
       "      <th>max</th>\n",
       "      <td>6900.000000</td>\n",
       "      <td>140.000000</td>\n",
       "      <td>0.987671</td>\n",
       "      <td>0.760245</td>\n",
       "      <td>0.764437</td>\n",
       "      <td>0.983779</td>\n",
       "      <td>0.668150</td>\n",
       "      <td>0.970286</td>\n",
       "      <td>0.779277</td>\n",
       "      <td>0.782066</td>\n",
       "      <td>...</td>\n",
       "      <td>0.403435</td>\n",
       "      <td>12.000000</td>\n",
       "      <td>12.000000</td>\n",
       "      <td>0.541592</td>\n",
       "      <td>0.942515</td>\n",
       "      <td>0.171648</td>\n",
       "      <td>0.771215</td>\n",
       "      <td>0.405411</td>\n",
       "      <td>7.000000</td>\n",
       "      <td>7.000000</td>\n",
       "    </tr>\n",
       "  </tbody>\n",
       "</table>\n",
       "<p>8 rows × 115 columns</p>\n",
       "</div>"
      ],
      "text/plain": [
       "                id         area  nd_mean_2021-04-16  nd_mean_2021-04-19  \\\n",
       "count  4830.000000  4830.000000         4830.000000         4830.000000   \n",
       "mean   3473.406211    53.871429            0.149911            0.118843   \n",
       "std    1984.993812    34.191660            0.112598            0.103192   \n",
       "min       0.000000    10.000000            0.000000            0.000000   \n",
       "25%    1772.500000    26.000000            0.047477            0.025280   \n",
       "50%    3489.500000    45.000000            0.142240            0.097346   \n",
       "75%    5191.750000    76.000000            0.245596            0.202955   \n",
       "max    6900.000000   140.000000            0.987671            0.760245   \n",
       "\n",
       "       nd_mean_2021-04-22  nd_mean_2021-04-26  nd_mean_2021-04-28  \\\n",
       "count         4830.000000         4830.000000         4830.000000   \n",
       "mean             0.158939            0.166146            0.125002   \n",
       "std              0.136001            0.123605            0.117605   \n",
       "min              0.000000            0.000000            0.000000   \n",
       "25%              0.050124            0.053859            0.027609   \n",
       "50%              0.129819            0.155571            0.096516   \n",
       "75%              0.241323            0.269131            0.192070   \n",
       "max              0.764437            0.983779            0.668150   \n",
       "\n",
       "       nd_mean_2021-05-02  nd_mean_2021-05-04  nd_mean_2021-05-07  ...  \\\n",
       "count         4830.000000         4830.000000         4830.000000  ...   \n",
       "mean             0.162440            0.092302            0.108834  ...   \n",
       "std              0.145027            0.095207            0.120939  ...   \n",
       "min              0.000000            0.000000            0.000000  ...   \n",
       "25%              0.040885            0.012844            0.014682  ...   \n",
       "50%              0.121307            0.069936            0.077155  ...   \n",
       "75%              0.277772            0.143207            0.162079  ...   \n",
       "max              0.970286            0.779277            0.782066  ...   \n",
       "\n",
       "       sum_nd_07_std  sum_nd_07_argmax  sum_nd_07_argmin  sum_nd_08_mean  \\\n",
       "count    4830.000000       4830.000000       4830.000000     4830.000000   \n",
       "mean        0.269944          3.827329          4.143271        0.232430   \n",
       "std         0.045399          2.719890          4.309108        0.086175   \n",
       "min         0.105258          0.000000          0.000000        0.017558   \n",
       "25%         0.239891          2.000000          0.000000        0.168322   \n",
       "50%         0.271359          3.000000          1.000000        0.230354   \n",
       "75%         0.301618          4.000000          8.000000        0.292232   \n",
       "max         0.403435         12.000000         12.000000        0.541592   \n",
       "\n",
       "       sum_nd_08_max  sum_nd_08_min  sum_nd_08_median  sum_nd_08_std  \\\n",
       "count    4830.000000    4830.000000       4830.000000    4830.000000   \n",
       "mean        0.584272       0.009173          0.169965       0.214995   \n",
       "std         0.152622       0.020299          0.125417       0.066555   \n",
       "min         0.064747       0.000000          0.000000       0.020018   \n",
       "25%         0.491633       0.000000          0.087711       0.169496   \n",
       "50%         0.605010       0.000000          0.133629       0.218437   \n",
       "75%         0.698825       0.007743          0.204099       0.263411   \n",
       "max         0.942515       0.171648          0.771215       0.405411   \n",
       "\n",
       "       sum_nd_08_argmax  sum_nd_08_argmin  \n",
       "count       4830.000000       4830.000000  \n",
       "mean           2.131263          3.304141  \n",
       "std            2.039919          2.255580  \n",
       "min            0.000000          0.000000  \n",
       "25%            0.000000          1.000000  \n",
       "50%            1.000000          3.000000  \n",
       "75%            4.000000          5.000000  \n",
       "max            7.000000          7.000000  \n",
       "\n",
       "[8 rows x 115 columns]"
      ]
     },
     "execution_count": 18,
     "metadata": {},
     "output_type": "execute_result"
    }
   ],
   "source": [
    "df.describe()"
   ]
  },
  {
   "cell_type": "code",
   "execution_count": 19,
   "metadata": {
    "colab": {
     "base_uri": "https://localhost:8080/",
     "height": 424
    },
    "id": "JKsM5f-W5p4i",
    "outputId": "6d8b32c9-d2e3-4ae9-a023-154e1838419e"
   },
   "outputs": [
    {
     "data": {
      "text/html": [
       "<div>\n",
       "<style scoped>\n",
       "    .dataframe tbody tr th:only-of-type {\n",
       "        vertical-align: middle;\n",
       "    }\n",
       "\n",
       "    .dataframe tbody tr th {\n",
       "        vertical-align: top;\n",
       "    }\n",
       "\n",
       "    .dataframe thead th {\n",
       "        text-align: right;\n",
       "    }\n",
       "</style>\n",
       "<table border=\"1\" class=\"dataframe\">\n",
       "  <thead>\n",
       "    <tr style=\"text-align: right;\">\n",
       "      <th></th>\n",
       "      <th>.geo</th>\n",
       "    </tr>\n",
       "  </thead>\n",
       "  <tbody>\n",
       "    <tr>\n",
       "      <th>0</th>\n",
       "      <td>{\"type\":\"Polygon\",\"coordinates\":[[[42.49107269...</td>\n",
       "    </tr>\n",
       "    <tr>\n",
       "      <th>1</th>\n",
       "      <td>{\"type\":\"Polygon\",\"coordinates\":[[[50.25545110...</td>\n",
       "    </tr>\n",
       "    <tr>\n",
       "      <th>2</th>\n",
       "      <td>{\"type\":\"Polygon\",\"coordinates\":[[[37.99698998...</td>\n",
       "    </tr>\n",
       "    <tr>\n",
       "      <th>3</th>\n",
       "      <td>{\"type\":\"Polygon\",\"coordinates\":[[[44.72154181...</td>\n",
       "    </tr>\n",
       "    <tr>\n",
       "      <th>4</th>\n",
       "      <td>{\"type\":\"Polygon\",\"coordinates\":[[[34.77829934...</td>\n",
       "    </tr>\n",
       "    <tr>\n",
       "      <th>...</th>\n",
       "      <td>...</td>\n",
       "    </tr>\n",
       "    <tr>\n",
       "      <th>4825</th>\n",
       "      <td>{\"type\":\"Polygon\",\"coordinates\":[[[40.90052911...</td>\n",
       "    </tr>\n",
       "    <tr>\n",
       "      <th>4826</th>\n",
       "      <td>{\"type\":\"Polygon\",\"coordinates\":[[[40.00883381...</td>\n",
       "    </tr>\n",
       "    <tr>\n",
       "      <th>4827</th>\n",
       "      <td>{\"type\":\"Polygon\",\"coordinates\":[[[38.57789936...</td>\n",
       "    </tr>\n",
       "    <tr>\n",
       "      <th>4828</th>\n",
       "      <td>{\"type\":\"Polygon\",\"coordinates\":[[[53.31082730...</td>\n",
       "    </tr>\n",
       "    <tr>\n",
       "      <th>4829</th>\n",
       "      <td>{\"type\":\"Polygon\",\"coordinates\":[[[38.79371096...</td>\n",
       "    </tr>\n",
       "  </tbody>\n",
       "</table>\n",
       "<p>4830 rows × 1 columns</p>\n",
       "</div>"
      ],
      "text/plain": [
       "                                                   .geo\n",
       "0     {\"type\":\"Polygon\",\"coordinates\":[[[42.49107269...\n",
       "1     {\"type\":\"Polygon\",\"coordinates\":[[[50.25545110...\n",
       "2     {\"type\":\"Polygon\",\"coordinates\":[[[37.99698998...\n",
       "3     {\"type\":\"Polygon\",\"coordinates\":[[[44.72154181...\n",
       "4     {\"type\":\"Polygon\",\"coordinates\":[[[34.77829934...\n",
       "...                                                 ...\n",
       "4825  {\"type\":\"Polygon\",\"coordinates\":[[[40.90052911...\n",
       "4826  {\"type\":\"Polygon\",\"coordinates\":[[[40.00883381...\n",
       "4827  {\"type\":\"Polygon\",\"coordinates\":[[[38.57789936...\n",
       "4828  {\"type\":\"Polygon\",\"coordinates\":[[[53.31082730...\n",
       "4829  {\"type\":\"Polygon\",\"coordinates\":[[[38.79371096...\n",
       "\n",
       "[4830 rows x 1 columns]"
      ]
     },
     "execution_count": 19,
     "metadata": {},
     "output_type": "execute_result"
    }
   ],
   "source": [
    "df.select_dtypes(include=['object'])"
   ]
  },
  {
   "cell_type": "markdown",
   "metadata": {
    "id": "vVN39hUu6L2a"
   },
   "source": [
    "Это столбец **.geo**"
   ]
  },
  {
   "cell_type": "markdown",
   "metadata": {
    "id": "ySP6KVIC6TGf"
   },
   "source": [
    "Тепепрь рассмотрим главный столбец с C/Х культурой"
   ]
  },
  {
   "cell_type": "code",
   "execution_count": 20,
   "metadata": {
    "colab": {
     "base_uri": "https://localhost:8080/",
     "height": 881
    },
    "id": "ccsstA-IdxOJ",
    "outputId": "d68832f2-3f58-4da6-b2d0-68ca2205febe",
    "scrolled": true
   },
   "outputs": [
    {
     "data": {
      "text/plain": [
       "<AxesSubplot:>"
      ]
     },
     "execution_count": 20,
     "metadata": {},
     "output_type": "execute_result"
    },
    {
     "data": {
      "image/png": "[encoded data removed]",
      "text/plain": [
       "<Figure size 640x480 with 1 Axes>"
      ]
     },
     "metadata": {},
     "output_type": "display_data"
    }
   ],
   "source": [
    "df[\"crop\"].hist(bins = 7)"
   ]
  },
  {
   "cell_type": "markdown",
   "metadata": {
    "id": "s9fKKhV8edY_"
   },
   "source": [
    "Заметен слабый разброс популярности категориий"
   ]
  },
  {
   "cell_type": "code",
   "execution_count": 21,
   "metadata": {
    "colab": {
     "base_uri": "https://localhost:8080/"
    },
    "id": "Gq6HjkgCeQSy",
    "outputId": "06093559-7957-42a3-dad9-9c2888584234"
   },
   "outputs": [
    {
     "data": {
      "text/plain": [
       "0    726\n",
       "4    718\n",
       "1    700\n",
       "2    697\n",
       "5    668\n",
       "6    666\n",
       "3    655\n",
       "Name: crop, dtype: int64"
      ]
     },
     "execution_count": 21,
     "metadata": {},
     "output_type": "execute_result"
    }
   ],
   "source": [
    "df[\"crop\"].value_counts()"
   ]
  },
  {
   "cell_type": "markdown",
   "metadata": {
    "id": "oykqxzOm5Rwz"
   },
   "source": [
    "Посмотрим на разброс площади полей"
   ]
  },
  {
   "cell_type": "code",
   "execution_count": 22,
   "metadata": {
    "colab": {
     "base_uri": "https://localhost:8080/",
     "height": 895
    },
    "id": "opRa45nN5Nea",
    "outputId": "45a66f63-8aee-450d-8605-35994910edba"
   },
   "outputs": [
    {
     "data": {
      "text/plain": [
       "<AxesSubplot:xlabel='area', ylabel='count'>"
      ]
     },
     "execution_count": 22,
     "metadata": {},
     "output_type": "execute_result"
    },
    {
     "data": {
      "image/png": "[encoded data removed]",
      "text/plain": [
       "<Figure size 640x480 with 1 Axes>"
      ]
     },
     "metadata": {},
     "output_type": "display_data"
    }
   ],
   "source": [
    "sns.countplot(x = \"area\" , data  = df)  "
   ]
  },
  {
   "cell_type": "markdown",
   "metadata": {
    "id": "1gths0kI5XkR"
   },
   "source": [
    "Постараемся найти закономерность"
   ]
  },
  {
   "cell_type": "code",
   "execution_count": 23,
   "metadata": {
    "colab": {
     "base_uri": "https://localhost:8080/",
     "height": 459
    },
    "id": "OH-8nXJ5fJAX",
    "outputId": "d04295a9-0f9a-40b9-c7cb-ddaadbddb32c"
   },
   "outputs": [
    {
     "data": {
      "text/plain": [
       "<seaborn.axisgrid.JointGrid at 0x7f440c6688b0>"
      ]
     },
     "execution_count": 23,
     "metadata": {},
     "output_type": "execute_result"
    },
    {
     "data": {
      "image/png": "[encoded data removed]",
      "text/plain": [
       "<Figure size 600x600 with 3 Axes>"
      ]
     },
     "metadata": {},
     "output_type": "display_data"
    }
   ],
   "source": [
    "sns.jointplot(x = \"crop\", y = 'area', data = df, kind = 'reg')"
   ]
  },
  {
   "cell_type": "markdown",
   "metadata": {
    "id": "9treu6dEfnd6"
   },
   "source": [
    "Кажется нет четкой зависимости между категорией культуры и площадью территроии"
   ]
  },
  {
   "cell_type": "markdown",
   "metadata": {
    "id": "x37Hw0K8hXOS"
   },
   "source": [
    "Последняя попытка найти явную зависимость в данных"
   ]
  },
  {
   "cell_type": "code",
   "execution_count": 24,
   "metadata": {
    "colab": {
     "base_uri": "https://localhost:8080/",
     "height": 893
    },
    "id": "LQNuW50pgJYa",
    "outputId": "d1fba77c-2e02-475a-ad21-0a09f960f520"
   },
   "outputs": [
    {
     "data": {
      "image/png": "[encoded data removed]",
      "text/plain": [
       "<Figure size 1500x1500 with 2 Axes>"
      ]
     },
     "metadata": {},
     "output_type": "display_data"
    }
   ],
   "source": [
    "plt.rcParams['figure.figsize']=(15,15)\n",
    "\n",
    "corr = df.loc[:, \"nd_mean_2021-08-27\":\"crop\"].corr()\n",
    "g = sns.heatmap(corr, square = True, annot=True)"
   ]
  },
  {
   "cell_type": "markdown",
   "metadata": {
    "id": "WIFh_dnOhj1V"
   },
   "source": [
    "## Выделим выборки"
   ]
  },
  {
   "cell_type": "code",
   "execution_count": null,
   "metadata": {},
   "outputs": [],
   "source": []
  },
  {
   "cell_type": "code",
   "execution_count": null,
   "metadata": {},
   "outputs": [],
   "source": []
  },
  {
   "cell_type": "code",
   "execution_count": 25,
   "metadata": {},
   "outputs": [],
   "source": [
    "x_min = []\n",
    "x_max = []\n",
    "x_mean = []\n",
    "x_mediam = []\n",
    "y_min = []\n",
    "y_max = []\n",
    "y_mean = []\n",
    "y_mediam = []\n",
    "\n",
    "geo_list = []\n",
    "\n",
    "for idx in range(len(df[\".geo\"])):\n",
    "    row = json.loads(df[\".geo\"].iloc[idx])\n",
    "    x = []\n",
    "    y = []\n",
    "    \n",
    "    el = row\n",
    "    while True:\n",
    "        if type(el) == type(dict()):\n",
    "            keys = el.keys()\n",
    "            for k in keys:\n",
    "                if k in ['coordinates', 'geometries']:\n",
    "                    geo_list.append(el[k])\n",
    "        if type(el) == list and type(el[0]) == type(list()):\n",
    "            for e in el:\n",
    "                geo_list.append(e)\n",
    "        if type(el) == list and type(el[0]) in (int, float) and len(el) == 2:\n",
    "            x.append(el[0])\n",
    "            y.append(el[1])\n",
    "        if type(el) == type(list()) and type(el[0]) == type(dict()):\n",
    "            for e in el:\n",
    "                geo_list.append(e)\n",
    "        if len(geo_list) > 0:\n",
    "            el = geo_list.pop(-1)\n",
    "        else:\n",
    "            break\n",
    "    \n",
    "    if len(x) == 0:\n",
    "        print('--------------------------------------------------------------')\n",
    "        print(x)\n",
    "        print('--------------------------------------------------------------')\n",
    "        print(y)\n",
    "        print('--------------------------------------------------------------')\n",
    "        print(row)\n",
    "    \n",
    "    x_min.append(np.min(x))\n",
    "    x_max.append(np.max(x))\n",
    "    x_mean.append(np.mean(x))\n",
    "    x_mediam.append(np.median(x))\n",
    "    y_min.append(np.min(y))\n",
    "    y_max.append(np.max(y))\n",
    "    y_mean.append(np.mean(y))\n",
    "    y_mediam.append(np.median(y))"
   ]
  },
  {
   "cell_type": "code",
   "execution_count": 26,
   "metadata": {},
   "outputs": [
    {
     "data": {
      "text/plain": [
       "array(['GeometryCollection', 'MultiPolygon', 'Polygon'], dtype='<U18')"
      ]
     },
     "execution_count": 26,
     "metadata": {},
     "output_type": "execute_result"
    }
   ],
   "source": [
    "ty = []\n",
    "ty_set = set()\n",
    "ty_ = {}\n",
    "for idx in range(len(df[\".geo\"])):\n",
    "    row = json.loads(df[\".geo\"].iloc[idx])\n",
    "    ty.append(row['type'])\n",
    "    \n",
    "    if row['type'] not in ty_set:\n",
    "        ty_set.add(row['type'])\n",
    "        ty_[row['type']] = row\n",
    "ty = np.array(ty)\n",
    "np.unique(ty)"
   ]
  },
  {
   "cell_type": "code",
   "execution_count": 27,
   "metadata": {},
   "outputs": [],
   "source": [
    "df['x_min'] = x_min / np.max(x_min)\n",
    "df['x_max'] = x_max / np.max(x_max)\n",
    "df['x_mean'] = x_mean / np.max(x_mean)\n",
    "df['x_mediam'] = x_mediam / np.max(x_mediam)\n",
    "df['y_min'] = y_min / np.max(y_min)\n",
    "df['y_max'] = y_max / np.max(y_max)\n",
    "df['y_mean'] = y_mean / np.max(y_mean)\n",
    "df['y_mediam'] = y_mediam / np.max(y_mediam)"
   ]
  },
  {
   "cell_type": "code",
   "execution_count": null,
   "metadata": {},
   "outputs": [],
   "source": [
    "df = df.drop([\".geo\"], axis = 1)"
   ]
  },
  {
   "cell_type": "code",
   "execution_count": 51,
   "metadata": {
    "id": "mkCL9b-8hmZ1"
   },
   "outputs": [],
   "source": [
    "X = df.drop([\"id\",\"crop\"], axis = 1)\n",
    "y = df[[\"crop\"]]"
   ]
  },
  {
   "cell_type": "code",
   "execution_count": null,
   "metadata": {},
   "outputs": [],
   "source": []
  },
  {
   "cell_type": "code",
   "execution_count": 52,
   "metadata": {},
   "outputs": [],
   "source": [
    "cols = X.columns\n",
    "cols_set_1 = set()\n",
    "cols_set_2 = set()\n",
    "#for col_1 in cols:\n",
    "#    for col_2 in cols:\n",
    "#        if col_1 != col_2:\n",
    "            #if (col_1, col_2) not in cols_set_1 or (col_2, col_1) not in cols_set_1:\n",
    "            #    X[f'{col_1}_*_{col_2}'] = X[col_1].to_numpy() * X[col_2].to_numpy()\n",
    "            #    cols_set_1.add((col_1, col_2))\n",
    "#            if (col_1, col_2) not in cols_set_2 or (col_2, col_1) not in cols_set_2:\n",
    "#                X[f'{col_1}_+_{col_2}'] = X[col_1].to_numpy() + X[col_2].to_numpy()\n",
    "#                cols_set_2.add((col_1, col_2))\n",
    "            #X[f'{col_1}_-_{col_2}'] = X[col_1].to_numpy() - X[col_2].to_numpy()"
   ]
  },
  {
   "cell_type": "code",
   "execution_count": 53,
   "metadata": {},
   "outputs": [],
   "source": [
    "from sklearn import preprocessing\n",
    "import numpy as np\n",
    "\n",
    "\n",
    "for col in X.columns:\n",
    "    val = preprocessing.normalize([X[col].to_numpy()])\n",
    "    X[col] = val[0]"
   ]
  },
  {
   "cell_type": "code",
   "execution_count": null,
   "metadata": {},
   "outputs": [],
   "source": []
  },
  {
   "cell_type": "code",
   "execution_count": 54,
   "metadata": {
    "colab": {
     "base_uri": "https://localhost:8080/",
     "height": 317
    },
    "id": "syYVXkxwl1IF",
    "outputId": "66c3a2e3-5cf6-440d-9517-4ec679f6799d"
   },
   "outputs": [
    {
     "data": {
      "text/html": [
       "<div>\n",
       "<style scoped>\n",
       "    .dataframe tbody tr th:only-of-type {\n",
       "        vertical-align: middle;\n",
       "    }\n",
       "\n",
       "    .dataframe tbody tr th {\n",
       "        vertical-align: top;\n",
       "    }\n",
       "\n",
       "    .dataframe thead th {\n",
       "        text-align: right;\n",
       "    }\n",
       "</style>\n",
       "<table border=\"1\" class=\"dataframe\">\n",
       "  <thead>\n",
       "    <tr style=\"text-align: right;\">\n",
       "      <th></th>\n",
       "      <th>area</th>\n",
       "      <th>nd_mean_2021-04-16</th>\n",
       "      <th>nd_mean_2021-04-19</th>\n",
       "      <th>nd_mean_2021-04-22</th>\n",
       "      <th>nd_mean_2021-04-26</th>\n",
       "      <th>nd_mean_2021-04-28</th>\n",
       "      <th>nd_mean_2021-05-02</th>\n",
       "      <th>nd_mean_2021-05-04</th>\n",
       "      <th>nd_mean_2021-05-07</th>\n",
       "      <th>nd_mean_2021-05-16</th>\n",
       "      <th>...</th>\n",
       "      <th>sum_nd_08_argmax</th>\n",
       "      <th>sum_nd_08_argmin</th>\n",
       "      <th>x_min</th>\n",
       "      <th>x_max</th>\n",
       "      <th>x_mean</th>\n",
       "      <th>x_mediam</th>\n",
       "      <th>y_min</th>\n",
       "      <th>y_max</th>\n",
       "      <th>y_mean</th>\n",
       "      <th>y_mediam</th>\n",
       "    </tr>\n",
       "  </thead>\n",
       "  <tbody>\n",
       "    <tr>\n",
       "      <th>0</th>\n",
       "      <td>0.004510</td>\n",
       "      <td>0.005591</td>\n",
       "      <td>0.023933</td>\n",
       "      <td>0.004332</td>\n",
       "      <td>0.007257</td>\n",
       "      <td>0.001769</td>\n",
       "      <td>0.003450</td>\n",
       "      <td>0.017224</td>\n",
       "      <td>0.000000</td>\n",
       "      <td>0.014972</td>\n",
       "      <td>...</td>\n",
       "      <td>0.000000</td>\n",
       "      <td>0.003597</td>\n",
       "      <td>0.013807</td>\n",
       "      <td>0.013808</td>\n",
       "      <td>0.013807</td>\n",
       "      <td>0.013808</td>\n",
       "      <td>0.013863</td>\n",
       "      <td>0.013862</td>\n",
       "      <td>0.013862</td>\n",
       "      <td>0.013862</td>\n",
       "    </tr>\n",
       "    <tr>\n",
       "      <th>1</th>\n",
       "      <td>0.010148</td>\n",
       "      <td>0.025552</td>\n",
       "      <td>0.026256</td>\n",
       "      <td>0.006682</td>\n",
       "      <td>0.010594</td>\n",
       "      <td>0.006329</td>\n",
       "      <td>0.000000</td>\n",
       "      <td>0.015227</td>\n",
       "      <td>0.014446</td>\n",
       "      <td>0.016066</td>\n",
       "      <td>...</td>\n",
       "      <td>0.000000</td>\n",
       "      <td>0.021581</td>\n",
       "      <td>0.016329</td>\n",
       "      <td>0.016330</td>\n",
       "      <td>0.016330</td>\n",
       "      <td>0.016330</td>\n",
       "      <td>0.015262</td>\n",
       "      <td>0.015262</td>\n",
       "      <td>0.015262</td>\n",
       "      <td>0.015262</td>\n",
       "    </tr>\n",
       "    <tr>\n",
       "      <th>2</th>\n",
       "      <td>0.006314</td>\n",
       "      <td>0.001050</td>\n",
       "      <td>0.000645</td>\n",
       "      <td>0.008310</td>\n",
       "      <td>0.002629</td>\n",
       "      <td>0.021725</td>\n",
       "      <td>0.000000</td>\n",
       "      <td>0.004063</td>\n",
       "      <td>0.044798</td>\n",
       "      <td>0.000000</td>\n",
       "      <td>...</td>\n",
       "      <td>0.004878</td>\n",
       "      <td>0.000000</td>\n",
       "      <td>0.012346</td>\n",
       "      <td>0.012346</td>\n",
       "      <td>0.012346</td>\n",
       "      <td>0.012347</td>\n",
       "      <td>0.014516</td>\n",
       "      <td>0.014515</td>\n",
       "      <td>0.014516</td>\n",
       "      <td>0.014516</td>\n",
       "    </tr>\n",
       "    <tr>\n",
       "      <th>3</th>\n",
       "      <td>0.004285</td>\n",
       "      <td>0.008133</td>\n",
       "      <td>0.004800</td>\n",
       "      <td>0.000132</td>\n",
       "      <td>0.000801</td>\n",
       "      <td>0.003548</td>\n",
       "      <td>0.000000</td>\n",
       "      <td>0.000000</td>\n",
       "      <td>0.003856</td>\n",
       "      <td>0.015782</td>\n",
       "      <td>...</td>\n",
       "      <td>0.014633</td>\n",
       "      <td>0.003597</td>\n",
       "      <td>0.014531</td>\n",
       "      <td>0.014530</td>\n",
       "      <td>0.014531</td>\n",
       "      <td>0.014531</td>\n",
       "      <td>0.015082</td>\n",
       "      <td>0.015081</td>\n",
       "      <td>0.015082</td>\n",
       "      <td>0.015082</td>\n",
       "    </tr>\n",
       "    <tr>\n",
       "      <th>4</th>\n",
       "      <td>0.007442</td>\n",
       "      <td>0.010045</td>\n",
       "      <td>0.005805</td>\n",
       "      <td>0.001680</td>\n",
       "      <td>0.000000</td>\n",
       "      <td>0.012632</td>\n",
       "      <td>0.003087</td>\n",
       "      <td>0.027594</td>\n",
       "      <td>0.008975</td>\n",
       "      <td>0.000000</td>\n",
       "      <td>...</td>\n",
       "      <td>0.000000</td>\n",
       "      <td>0.003597</td>\n",
       "      <td>0.011300</td>\n",
       "      <td>0.011300</td>\n",
       "      <td>0.011300</td>\n",
       "      <td>0.011300</td>\n",
       "      <td>0.014265</td>\n",
       "      <td>0.014265</td>\n",
       "      <td>0.014265</td>\n",
       "      <td>0.014265</td>\n",
       "    </tr>\n",
       "  </tbody>\n",
       "</table>\n",
       "<p>5 rows × 121 columns</p>\n",
       "</div>"
      ],
      "text/plain": [
       "       area  nd_mean_2021-04-16  nd_mean_2021-04-19  nd_mean_2021-04-22  \\\n",
       "0  0.004510            0.005591            0.023933            0.004332   \n",
       "1  0.010148            0.025552            0.026256            0.006682   \n",
       "2  0.006314            0.001050            0.000645            0.008310   \n",
       "3  0.004285            0.008133            0.004800            0.000132   \n",
       "4  0.007442            0.010045            0.005805            0.001680   \n",
       "\n",
       "   nd_mean_2021-04-26  nd_mean_2021-04-28  nd_mean_2021-05-02  \\\n",
       "0            0.007257            0.001769            0.003450   \n",
       "1            0.010594            0.006329            0.000000   \n",
       "2            0.002629            0.021725            0.000000   \n",
       "3            0.000801            0.003548            0.000000   \n",
       "4            0.000000            0.012632            0.003087   \n",
       "\n",
       "   nd_mean_2021-05-04  nd_mean_2021-05-07  nd_mean_2021-05-16  ...  \\\n",
       "0            0.017224            0.000000            0.014972  ...   \n",
       "1            0.015227            0.014446            0.016066  ...   \n",
       "2            0.004063            0.044798            0.000000  ...   \n",
       "3            0.000000            0.003856            0.015782  ...   \n",
       "4            0.027594            0.008975            0.000000  ...   \n",
       "\n",
       "   sum_nd_08_argmax  sum_nd_08_argmin     x_min     x_max    x_mean  x_mediam  \\\n",
       "0          0.000000          0.003597  0.013807  0.013808  0.013807  0.013808   \n",
       "1          0.000000          0.021581  0.016329  0.016330  0.016330  0.016330   \n",
       "2          0.004878          0.000000  0.012346  0.012346  0.012346  0.012347   \n",
       "3          0.014633          0.003597  0.014531  0.014530  0.014531  0.014531   \n",
       "4          0.000000          0.003597  0.011300  0.011300  0.011300  0.011300   \n",
       "\n",
       "      y_min     y_max    y_mean  y_mediam  \n",
       "0  0.013863  0.013862  0.013862  0.013862  \n",
       "1  0.015262  0.015262  0.015262  0.015262  \n",
       "2  0.014516  0.014515  0.014516  0.014516  \n",
       "3  0.015082  0.015081  0.015082  0.015082  \n",
       "4  0.014265  0.014265  0.014265  0.014265  \n",
       "\n",
       "[5 rows x 121 columns]"
      ]
     },
     "execution_count": 54,
     "metadata": {},
     "output_type": "execute_result"
    }
   ],
   "source": [
    "X.head()"
   ]
  },
  {
   "cell_type": "code",
   "execution_count": 73,
   "metadata": {
    "id": "NfIOX9Lbik_i"
   },
   "outputs": [],
   "source": [
    "X_train, X_test, y_train, y_test = train_test_split(X, y, test_size=0.15, random_state=42)"
   ]
  },
  {
   "cell_type": "code",
   "execution_count": 56,
   "metadata": {},
   "outputs": [
    {
     "data": {
      "text/html": [
       "<div>\n",
       "<style scoped>\n",
       "    .dataframe tbody tr th:only-of-type {\n",
       "        vertical-align: middle;\n",
       "    }\n",
       "\n",
       "    .dataframe tbody tr th {\n",
       "        vertical-align: top;\n",
       "    }\n",
       "\n",
       "    .dataframe thead th {\n",
       "        text-align: right;\n",
       "    }\n",
       "</style>\n",
       "<table border=\"1\" class=\"dataframe\">\n",
       "  <thead>\n",
       "    <tr style=\"text-align: right;\">\n",
       "      <th></th>\n",
       "      <th>area</th>\n",
       "      <th>nd_mean_2021-04-16</th>\n",
       "      <th>nd_mean_2021-04-19</th>\n",
       "      <th>nd_mean_2021-04-22</th>\n",
       "      <th>nd_mean_2021-04-26</th>\n",
       "      <th>nd_mean_2021-04-28</th>\n",
       "      <th>nd_mean_2021-05-02</th>\n",
       "      <th>nd_mean_2021-05-04</th>\n",
       "      <th>nd_mean_2021-05-07</th>\n",
       "      <th>nd_mean_2021-05-16</th>\n",
       "      <th>...</th>\n",
       "      <th>sum_nd_08_argmax</th>\n",
       "      <th>sum_nd_08_argmin</th>\n",
       "      <th>x_min</th>\n",
       "      <th>x_max</th>\n",
       "      <th>x_mean</th>\n",
       "      <th>x_mediam</th>\n",
       "      <th>y_min</th>\n",
       "      <th>y_max</th>\n",
       "      <th>y_mean</th>\n",
       "      <th>y_mediam</th>\n",
       "    </tr>\n",
       "  </thead>\n",
       "  <tbody>\n",
       "    <tr>\n",
       "      <th>3158</th>\n",
       "      <td>0.026836</td>\n",
       "      <td>0.004539</td>\n",
       "      <td>0.013303</td>\n",
       "      <td>0.015976</td>\n",
       "      <td>0.001432</td>\n",
       "      <td>0.005178</td>\n",
       "      <td>0.004138</td>\n",
       "      <td>0.004082</td>\n",
       "      <td>0.046168</td>\n",
       "      <td>0.026147</td>\n",
       "      <td>...</td>\n",
       "      <td>0.004878</td>\n",
       "      <td>0.000000</td>\n",
       "      <td>0.011763</td>\n",
       "      <td>0.011774</td>\n",
       "      <td>0.011767</td>\n",
       "      <td>0.011766</td>\n",
       "      <td>0.014345</td>\n",
       "      <td>0.014346</td>\n",
       "      <td>0.014345</td>\n",
       "      <td>0.014345</td>\n",
       "    </tr>\n",
       "    <tr>\n",
       "      <th>517</th>\n",
       "      <td>0.019169</td>\n",
       "      <td>0.016866</td>\n",
       "      <td>0.005568</td>\n",
       "      <td>0.002099</td>\n",
       "      <td>0.000501</td>\n",
       "      <td>0.002294</td>\n",
       "      <td>0.002480</td>\n",
       "      <td>0.019266</td>\n",
       "      <td>0.000000</td>\n",
       "      <td>0.008859</td>\n",
       "      <td>...</td>\n",
       "      <td>0.000000</td>\n",
       "      <td>0.007194</td>\n",
       "      <td>0.017819</td>\n",
       "      <td>0.017820</td>\n",
       "      <td>0.017821</td>\n",
       "      <td>0.017822</td>\n",
       "      <td>0.014843</td>\n",
       "      <td>0.014844</td>\n",
       "      <td>0.014844</td>\n",
       "      <td>0.014844</td>\n",
       "    </tr>\n",
       "    <tr>\n",
       "      <th>1057</th>\n",
       "      <td>0.004961</td>\n",
       "      <td>0.023353</td>\n",
       "      <td>0.000000</td>\n",
       "      <td>0.017648</td>\n",
       "      <td>0.000721</td>\n",
       "      <td>0.009876</td>\n",
       "      <td>0.003447</td>\n",
       "      <td>0.011963</td>\n",
       "      <td>0.001107</td>\n",
       "      <td>0.014227</td>\n",
       "      <td>...</td>\n",
       "      <td>0.000000</td>\n",
       "      <td>0.017984</td>\n",
       "      <td>0.012158</td>\n",
       "      <td>0.012158</td>\n",
       "      <td>0.012158</td>\n",
       "      <td>0.012158</td>\n",
       "      <td>0.014129</td>\n",
       "      <td>0.014129</td>\n",
       "      <td>0.014129</td>\n",
       "      <td>0.014129</td>\n",
       "    </tr>\n",
       "    <tr>\n",
       "      <th>4005</th>\n",
       "      <td>0.023905</td>\n",
       "      <td>0.004431</td>\n",
       "      <td>0.003347</td>\n",
       "      <td>0.010921</td>\n",
       "      <td>0.003230</td>\n",
       "      <td>0.028071</td>\n",
       "      <td>0.023406</td>\n",
       "      <td>0.006129</td>\n",
       "      <td>0.010096</td>\n",
       "      <td>0.016835</td>\n",
       "      <td>...</td>\n",
       "      <td>0.004878</td>\n",
       "      <td>0.010790</td>\n",
       "      <td>0.012591</td>\n",
       "      <td>0.012592</td>\n",
       "      <td>0.012592</td>\n",
       "      <td>0.012592</td>\n",
       "      <td>0.013822</td>\n",
       "      <td>0.013824</td>\n",
       "      <td>0.013823</td>\n",
       "      <td>0.013823</td>\n",
       "    </tr>\n",
       "    <tr>\n",
       "      <th>1966</th>\n",
       "      <td>0.013982</td>\n",
       "      <td>0.022522</td>\n",
       "      <td>0.001450</td>\n",
       "      <td>0.002319</td>\n",
       "      <td>0.006575</td>\n",
       "      <td>0.002778</td>\n",
       "      <td>0.014164</td>\n",
       "      <td>0.000000</td>\n",
       "      <td>0.021565</td>\n",
       "      <td>0.018054</td>\n",
       "      <td>...</td>\n",
       "      <td>0.004878</td>\n",
       "      <td>0.021581</td>\n",
       "      <td>0.016627</td>\n",
       "      <td>0.016627</td>\n",
       "      <td>0.016626</td>\n",
       "      <td>0.016626</td>\n",
       "      <td>0.014739</td>\n",
       "      <td>0.014740</td>\n",
       "      <td>0.014740</td>\n",
       "      <td>0.014740</td>\n",
       "    </tr>\n",
       "    <tr>\n",
       "      <th>...</th>\n",
       "      <td>...</td>\n",
       "      <td>...</td>\n",
       "      <td>...</td>\n",
       "      <td>...</td>\n",
       "      <td>...</td>\n",
       "      <td>...</td>\n",
       "      <td>...</td>\n",
       "      <td>...</td>\n",
       "      <td>...</td>\n",
       "      <td>...</td>\n",
       "      <td>...</td>\n",
       "      <td>...</td>\n",
       "      <td>...</td>\n",
       "      <td>...</td>\n",
       "      <td>...</td>\n",
       "      <td>...</td>\n",
       "      <td>...</td>\n",
       "      <td>...</td>\n",
       "      <td>...</td>\n",
       "      <td>...</td>\n",
       "      <td>...</td>\n",
       "    </tr>\n",
       "    <tr>\n",
       "      <th>4426</th>\n",
       "      <td>0.027062</td>\n",
       "      <td>0.011573</td>\n",
       "      <td>0.012172</td>\n",
       "      <td>0.013256</td>\n",
       "      <td>0.000000</td>\n",
       "      <td>0.013172</td>\n",
       "      <td>0.004351</td>\n",
       "      <td>0.001646</td>\n",
       "      <td>0.017545</td>\n",
       "      <td>0.008446</td>\n",
       "      <td>...</td>\n",
       "      <td>0.000000</td>\n",
       "      <td>0.007194</td>\n",
       "      <td>0.012592</td>\n",
       "      <td>0.012596</td>\n",
       "      <td>0.012593</td>\n",
       "      <td>0.012592</td>\n",
       "      <td>0.014564</td>\n",
       "      <td>0.014565</td>\n",
       "      <td>0.014566</td>\n",
       "      <td>0.014566</td>\n",
       "    </tr>\n",
       "    <tr>\n",
       "      <th>466</th>\n",
       "      <td>0.004736</td>\n",
       "      <td>0.011892</td>\n",
       "      <td>0.005334</td>\n",
       "      <td>0.008264</td>\n",
       "      <td>0.022807</td>\n",
       "      <td>0.003062</td>\n",
       "      <td>0.021340</td>\n",
       "      <td>0.022406</td>\n",
       "      <td>0.010386</td>\n",
       "      <td>0.015174</td>\n",
       "      <td>...</td>\n",
       "      <td>0.000000</td>\n",
       "      <td>0.021581</td>\n",
       "      <td>0.012798</td>\n",
       "      <td>0.012797</td>\n",
       "      <td>0.012797</td>\n",
       "      <td>0.012797</td>\n",
       "      <td>0.013838</td>\n",
       "      <td>0.013837</td>\n",
       "      <td>0.013838</td>\n",
       "      <td>0.013838</td>\n",
       "    </tr>\n",
       "    <tr>\n",
       "      <th>3092</th>\n",
       "      <td>0.022101</td>\n",
       "      <td>0.002510</td>\n",
       "      <td>0.024081</td>\n",
       "      <td>0.017316</td>\n",
       "      <td>0.016762</td>\n",
       "      <td>0.023081</td>\n",
       "      <td>0.008717</td>\n",
       "      <td>0.009827</td>\n",
       "      <td>0.012550</td>\n",
       "      <td>0.016855</td>\n",
       "      <td>...</td>\n",
       "      <td>0.004878</td>\n",
       "      <td>0.017984</td>\n",
       "      <td>0.013291</td>\n",
       "      <td>0.013294</td>\n",
       "      <td>0.013292</td>\n",
       "      <td>0.013293</td>\n",
       "      <td>0.013904</td>\n",
       "      <td>0.013904</td>\n",
       "      <td>0.013903</td>\n",
       "      <td>0.013903</td>\n",
       "    </tr>\n",
       "    <tr>\n",
       "      <th>3772</th>\n",
       "      <td>0.012629</td>\n",
       "      <td>0.020785</td>\n",
       "      <td>0.040080</td>\n",
       "      <td>0.004460</td>\n",
       "      <td>0.020860</td>\n",
       "      <td>0.013160</td>\n",
       "      <td>0.019920</td>\n",
       "      <td>0.013586</td>\n",
       "      <td>0.002127</td>\n",
       "      <td>0.012494</td>\n",
       "      <td>...</td>\n",
       "      <td>0.000000</td>\n",
       "      <td>0.007194</td>\n",
       "      <td>0.012722</td>\n",
       "      <td>0.012720</td>\n",
       "      <td>0.012722</td>\n",
       "      <td>0.012722</td>\n",
       "      <td>0.013996</td>\n",
       "      <td>0.013997</td>\n",
       "      <td>0.013997</td>\n",
       "      <td>0.013997</td>\n",
       "    </tr>\n",
       "    <tr>\n",
       "      <th>860</th>\n",
       "      <td>0.017365</td>\n",
       "      <td>0.014266</td>\n",
       "      <td>0.007006</td>\n",
       "      <td>0.011091</td>\n",
       "      <td>0.016975</td>\n",
       "      <td>0.013325</td>\n",
       "      <td>0.014037</td>\n",
       "      <td>0.001675</td>\n",
       "      <td>0.002450</td>\n",
       "      <td>0.020157</td>\n",
       "      <td>...</td>\n",
       "      <td>0.014633</td>\n",
       "      <td>0.000000</td>\n",
       "      <td>0.018141</td>\n",
       "      <td>0.018140</td>\n",
       "      <td>0.018141</td>\n",
       "      <td>0.018141</td>\n",
       "      <td>0.014506</td>\n",
       "      <td>0.014507</td>\n",
       "      <td>0.014507</td>\n",
       "      <td>0.014507</td>\n",
       "    </tr>\n",
       "  </tbody>\n",
       "</table>\n",
       "<p>4105 rows × 121 columns</p>\n",
       "</div>"
      ],
      "text/plain": [
       "          area  nd_mean_2021-04-16  nd_mean_2021-04-19  nd_mean_2021-04-22  \\\n",
       "3158  0.026836            0.004539            0.013303            0.015976   \n",
       "517   0.019169            0.016866            0.005568            0.002099   \n",
       "1057  0.004961            0.023353            0.000000            0.017648   \n",
       "4005  0.023905            0.004431            0.003347            0.010921   \n",
       "1966  0.013982            0.022522            0.001450            0.002319   \n",
       "...        ...                 ...                 ...                 ...   \n",
       "4426  0.027062            0.011573            0.012172            0.013256   \n",
       "466   0.004736            0.011892            0.005334            0.008264   \n",
       "3092  0.022101            0.002510            0.024081            0.017316   \n",
       "3772  0.012629            0.020785            0.040080            0.004460   \n",
       "860   0.017365            0.014266            0.007006            0.011091   \n",
       "\n",
       "      nd_mean_2021-04-26  nd_mean_2021-04-28  nd_mean_2021-05-02  \\\n",
       "3158            0.001432            0.005178            0.004138   \n",
       "517             0.000501            0.002294            0.002480   \n",
       "1057            0.000721            0.009876            0.003447   \n",
       "4005            0.003230            0.028071            0.023406   \n",
       "1966            0.006575            0.002778            0.014164   \n",
       "...                  ...                 ...                 ...   \n",
       "4426            0.000000            0.013172            0.004351   \n",
       "466             0.022807            0.003062            0.021340   \n",
       "3092            0.016762            0.023081            0.008717   \n",
       "3772            0.020860            0.013160            0.019920   \n",
       "860             0.016975            0.013325            0.014037   \n",
       "\n",
       "      nd_mean_2021-05-04  nd_mean_2021-05-07  nd_mean_2021-05-16  ...  \\\n",
       "3158            0.004082            0.046168            0.026147  ...   \n",
       "517             0.019266            0.000000            0.008859  ...   \n",
       "1057            0.011963            0.001107            0.014227  ...   \n",
       "4005            0.006129            0.010096            0.016835  ...   \n",
       "1966            0.000000            0.021565            0.018054  ...   \n",
       "...                  ...                 ...                 ...  ...   \n",
       "4426            0.001646            0.017545            0.008446  ...   \n",
       "466             0.022406            0.010386            0.015174  ...   \n",
       "3092            0.009827            0.012550            0.016855  ...   \n",
       "3772            0.013586            0.002127            0.012494  ...   \n",
       "860             0.001675            0.002450            0.020157  ...   \n",
       "\n",
       "      sum_nd_08_argmax  sum_nd_08_argmin     x_min     x_max    x_mean  \\\n",
       "3158          0.004878          0.000000  0.011763  0.011774  0.011767   \n",
       "517           0.000000          0.007194  0.017819  0.017820  0.017821   \n",
       "1057          0.000000          0.017984  0.012158  0.012158  0.012158   \n",
       "4005          0.004878          0.010790  0.012591  0.012592  0.012592   \n",
       "1966          0.004878          0.021581  0.016627  0.016627  0.016626   \n",
       "...                ...               ...       ...       ...       ...   \n",
       "4426          0.000000          0.007194  0.012592  0.012596  0.012593   \n",
       "466           0.000000          0.021581  0.012798  0.012797  0.012797   \n",
       "3092          0.004878          0.017984  0.013291  0.013294  0.013292   \n",
       "3772          0.000000          0.007194  0.012722  0.012720  0.012722   \n",
       "860           0.014633          0.000000  0.018141  0.018140  0.018141   \n",
       "\n",
       "      x_mediam     y_min     y_max    y_mean  y_mediam  \n",
       "3158  0.011766  0.014345  0.014346  0.014345  0.014345  \n",
       "517   0.017822  0.014843  0.014844  0.014844  0.014844  \n",
       "1057  0.012158  0.014129  0.014129  0.014129  0.014129  \n",
       "4005  0.012592  0.013822  0.013824  0.013823  0.013823  \n",
       "1966  0.016626  0.014739  0.014740  0.014740  0.014740  \n",
       "...        ...       ...       ...       ...       ...  \n",
       "4426  0.012592  0.014564  0.014565  0.014566  0.014566  \n",
       "466   0.012797  0.013838  0.013837  0.013838  0.013838  \n",
       "3092  0.013293  0.013904  0.013904  0.013903  0.013903  \n",
       "3772  0.012722  0.013996  0.013997  0.013997  0.013997  \n",
       "860   0.018141  0.014506  0.014507  0.014507  0.014507  \n",
       "\n",
       "[4105 rows x 121 columns]"
      ]
     },
     "execution_count": 56,
     "metadata": {},
     "output_type": "execute_result"
    }
   ],
   "source": [
    "X_train"
   ]
  },
  {
   "cell_type": "code",
   "execution_count": 57,
   "metadata": {},
   "outputs": [
    {
     "data": {
      "text/html": [
       "<div>\n",
       "<style scoped>\n",
       "    .dataframe tbody tr th:only-of-type {\n",
       "        vertical-align: middle;\n",
       "    }\n",
       "\n",
       "    .dataframe tbody tr th {\n",
       "        vertical-align: top;\n",
       "    }\n",
       "\n",
       "    .dataframe thead th {\n",
       "        text-align: right;\n",
       "    }\n",
       "</style>\n",
       "<table border=\"1\" class=\"dataframe\">\n",
       "  <thead>\n",
       "    <tr style=\"text-align: right;\">\n",
       "      <th></th>\n",
       "      <th>crop</th>\n",
       "    </tr>\n",
       "  </thead>\n",
       "  <tbody>\n",
       "    <tr>\n",
       "      <th>3158</th>\n",
       "      <td>2</td>\n",
       "    </tr>\n",
       "    <tr>\n",
       "      <th>517</th>\n",
       "      <td>0</td>\n",
       "    </tr>\n",
       "    <tr>\n",
       "      <th>1057</th>\n",
       "      <td>4</td>\n",
       "    </tr>\n",
       "    <tr>\n",
       "      <th>4005</th>\n",
       "      <td>4</td>\n",
       "    </tr>\n",
       "    <tr>\n",
       "      <th>1966</th>\n",
       "      <td>0</td>\n",
       "    </tr>\n",
       "    <tr>\n",
       "      <th>...</th>\n",
       "      <td>...</td>\n",
       "    </tr>\n",
       "    <tr>\n",
       "      <th>4426</th>\n",
       "      <td>1</td>\n",
       "    </tr>\n",
       "    <tr>\n",
       "      <th>466</th>\n",
       "      <td>0</td>\n",
       "    </tr>\n",
       "    <tr>\n",
       "      <th>3092</th>\n",
       "      <td>6</td>\n",
       "    </tr>\n",
       "    <tr>\n",
       "      <th>3772</th>\n",
       "      <td>4</td>\n",
       "    </tr>\n",
       "    <tr>\n",
       "      <th>860</th>\n",
       "      <td>3</td>\n",
       "    </tr>\n",
       "  </tbody>\n",
       "</table>\n",
       "<p>4105 rows × 1 columns</p>\n",
       "</div>"
      ],
      "text/plain": [
       "      crop\n",
       "3158     2\n",
       "517      0\n",
       "1057     4\n",
       "4005     4\n",
       "1966     0\n",
       "...    ...\n",
       "4426     1\n",
       "466      0\n",
       "3092     6\n",
       "3772     4\n",
       "860      3\n",
       "\n",
       "[4105 rows x 1 columns]"
      ]
     },
     "execution_count": 57,
     "metadata": {},
     "output_type": "execute_result"
    }
   ],
   "source": [
    "y_train"
   ]
  },
  {
   "cell_type": "code",
   "execution_count": 58,
   "metadata": {},
   "outputs": [],
   "source": [
    "df_train = X_train.copy()\n",
    "df_train['crop'] = y_train"
   ]
  },
  {
   "cell_type": "code",
   "execution_count": 59,
   "metadata": {},
   "outputs": [
    {
     "data": {
      "text/html": [
       "<div>\n",
       "<style scoped>\n",
       "    .dataframe tbody tr th:only-of-type {\n",
       "        vertical-align: middle;\n",
       "    }\n",
       "\n",
       "    .dataframe tbody tr th {\n",
       "        vertical-align: top;\n",
       "    }\n",
       "\n",
       "    .dataframe thead th {\n",
       "        text-align: right;\n",
       "    }\n",
       "</style>\n",
       "<table border=\"1\" class=\"dataframe\">\n",
       "  <thead>\n",
       "    <tr style=\"text-align: right;\">\n",
       "      <th></th>\n",
       "      <th>area</th>\n",
       "      <th>nd_mean_2021-04-16</th>\n",
       "      <th>nd_mean_2021-04-19</th>\n",
       "      <th>nd_mean_2021-04-22</th>\n",
       "      <th>nd_mean_2021-04-26</th>\n",
       "      <th>nd_mean_2021-04-28</th>\n",
       "      <th>nd_mean_2021-05-02</th>\n",
       "      <th>nd_mean_2021-05-04</th>\n",
       "      <th>nd_mean_2021-05-07</th>\n",
       "      <th>nd_mean_2021-05-16</th>\n",
       "      <th>...</th>\n",
       "      <th>sum_nd_08_argmin</th>\n",
       "      <th>x_min</th>\n",
       "      <th>x_max</th>\n",
       "      <th>x_mean</th>\n",
       "      <th>x_mediam</th>\n",
       "      <th>y_min</th>\n",
       "      <th>y_max</th>\n",
       "      <th>y_mean</th>\n",
       "      <th>y_mediam</th>\n",
       "      <th>crop</th>\n",
       "    </tr>\n",
       "  </thead>\n",
       "  <tbody>\n",
       "    <tr>\n",
       "      <th>3158</th>\n",
       "      <td>0.026836</td>\n",
       "      <td>0.004539</td>\n",
       "      <td>0.013303</td>\n",
       "      <td>0.015976</td>\n",
       "      <td>0.001432</td>\n",
       "      <td>0.005178</td>\n",
       "      <td>0.004138</td>\n",
       "      <td>0.004082</td>\n",
       "      <td>0.046168</td>\n",
       "      <td>0.026147</td>\n",
       "      <td>...</td>\n",
       "      <td>0.000000</td>\n",
       "      <td>0.011763</td>\n",
       "      <td>0.011774</td>\n",
       "      <td>0.011767</td>\n",
       "      <td>0.011766</td>\n",
       "      <td>0.014345</td>\n",
       "      <td>0.014346</td>\n",
       "      <td>0.014345</td>\n",
       "      <td>0.014345</td>\n",
       "      <td>2</td>\n",
       "    </tr>\n",
       "    <tr>\n",
       "      <th>517</th>\n",
       "      <td>0.019169</td>\n",
       "      <td>0.016866</td>\n",
       "      <td>0.005568</td>\n",
       "      <td>0.002099</td>\n",
       "      <td>0.000501</td>\n",
       "      <td>0.002294</td>\n",
       "      <td>0.002480</td>\n",
       "      <td>0.019266</td>\n",
       "      <td>0.000000</td>\n",
       "      <td>0.008859</td>\n",
       "      <td>...</td>\n",
       "      <td>0.007194</td>\n",
       "      <td>0.017819</td>\n",
       "      <td>0.017820</td>\n",
       "      <td>0.017821</td>\n",
       "      <td>0.017822</td>\n",
       "      <td>0.014843</td>\n",
       "      <td>0.014844</td>\n",
       "      <td>0.014844</td>\n",
       "      <td>0.014844</td>\n",
       "      <td>0</td>\n",
       "    </tr>\n",
       "    <tr>\n",
       "      <th>1057</th>\n",
       "      <td>0.004961</td>\n",
       "      <td>0.023353</td>\n",
       "      <td>0.000000</td>\n",
       "      <td>0.017648</td>\n",
       "      <td>0.000721</td>\n",
       "      <td>0.009876</td>\n",
       "      <td>0.003447</td>\n",
       "      <td>0.011963</td>\n",
       "      <td>0.001107</td>\n",
       "      <td>0.014227</td>\n",
       "      <td>...</td>\n",
       "      <td>0.017984</td>\n",
       "      <td>0.012158</td>\n",
       "      <td>0.012158</td>\n",
       "      <td>0.012158</td>\n",
       "      <td>0.012158</td>\n",
       "      <td>0.014129</td>\n",
       "      <td>0.014129</td>\n",
       "      <td>0.014129</td>\n",
       "      <td>0.014129</td>\n",
       "      <td>4</td>\n",
       "    </tr>\n",
       "    <tr>\n",
       "      <th>4005</th>\n",
       "      <td>0.023905</td>\n",
       "      <td>0.004431</td>\n",
       "      <td>0.003347</td>\n",
       "      <td>0.010921</td>\n",
       "      <td>0.003230</td>\n",
       "      <td>0.028071</td>\n",
       "      <td>0.023406</td>\n",
       "      <td>0.006129</td>\n",
       "      <td>0.010096</td>\n",
       "      <td>0.016835</td>\n",
       "      <td>...</td>\n",
       "      <td>0.010790</td>\n",
       "      <td>0.012591</td>\n",
       "      <td>0.012592</td>\n",
       "      <td>0.012592</td>\n",
       "      <td>0.012592</td>\n",
       "      <td>0.013822</td>\n",
       "      <td>0.013824</td>\n",
       "      <td>0.013823</td>\n",
       "      <td>0.013823</td>\n",
       "      <td>4</td>\n",
       "    </tr>\n",
       "    <tr>\n",
       "      <th>1966</th>\n",
       "      <td>0.013982</td>\n",
       "      <td>0.022522</td>\n",
       "      <td>0.001450</td>\n",
       "      <td>0.002319</td>\n",
       "      <td>0.006575</td>\n",
       "      <td>0.002778</td>\n",
       "      <td>0.014164</td>\n",
       "      <td>0.000000</td>\n",
       "      <td>0.021565</td>\n",
       "      <td>0.018054</td>\n",
       "      <td>...</td>\n",
       "      <td>0.021581</td>\n",
       "      <td>0.016627</td>\n",
       "      <td>0.016627</td>\n",
       "      <td>0.016626</td>\n",
       "      <td>0.016626</td>\n",
       "      <td>0.014739</td>\n",
       "      <td>0.014740</td>\n",
       "      <td>0.014740</td>\n",
       "      <td>0.014740</td>\n",
       "      <td>0</td>\n",
       "    </tr>\n",
       "    <tr>\n",
       "      <th>...</th>\n",
       "      <td>...</td>\n",
       "      <td>...</td>\n",
       "      <td>...</td>\n",
       "      <td>...</td>\n",
       "      <td>...</td>\n",
       "      <td>...</td>\n",
       "      <td>...</td>\n",
       "      <td>...</td>\n",
       "      <td>...</td>\n",
       "      <td>...</td>\n",
       "      <td>...</td>\n",
       "      <td>...</td>\n",
       "      <td>...</td>\n",
       "      <td>...</td>\n",
       "      <td>...</td>\n",
       "      <td>...</td>\n",
       "      <td>...</td>\n",
       "      <td>...</td>\n",
       "      <td>...</td>\n",
       "      <td>...</td>\n",
       "      <td>...</td>\n",
       "    </tr>\n",
       "    <tr>\n",
       "      <th>4426</th>\n",
       "      <td>0.027062</td>\n",
       "      <td>0.011573</td>\n",
       "      <td>0.012172</td>\n",
       "      <td>0.013256</td>\n",
       "      <td>0.000000</td>\n",
       "      <td>0.013172</td>\n",
       "      <td>0.004351</td>\n",
       "      <td>0.001646</td>\n",
       "      <td>0.017545</td>\n",
       "      <td>0.008446</td>\n",
       "      <td>...</td>\n",
       "      <td>0.007194</td>\n",
       "      <td>0.012592</td>\n",
       "      <td>0.012596</td>\n",
       "      <td>0.012593</td>\n",
       "      <td>0.012592</td>\n",
       "      <td>0.014564</td>\n",
       "      <td>0.014565</td>\n",
       "      <td>0.014566</td>\n",
       "      <td>0.014566</td>\n",
       "      <td>1</td>\n",
       "    </tr>\n",
       "    <tr>\n",
       "      <th>466</th>\n",
       "      <td>0.004736</td>\n",
       "      <td>0.011892</td>\n",
       "      <td>0.005334</td>\n",
       "      <td>0.008264</td>\n",
       "      <td>0.022807</td>\n",
       "      <td>0.003062</td>\n",
       "      <td>0.021340</td>\n",
       "      <td>0.022406</td>\n",
       "      <td>0.010386</td>\n",
       "      <td>0.015174</td>\n",
       "      <td>...</td>\n",
       "      <td>0.021581</td>\n",
       "      <td>0.012798</td>\n",
       "      <td>0.012797</td>\n",
       "      <td>0.012797</td>\n",
       "      <td>0.012797</td>\n",
       "      <td>0.013838</td>\n",
       "      <td>0.013837</td>\n",
       "      <td>0.013838</td>\n",
       "      <td>0.013838</td>\n",
       "      <td>0</td>\n",
       "    </tr>\n",
       "    <tr>\n",
       "      <th>3092</th>\n",
       "      <td>0.022101</td>\n",
       "      <td>0.002510</td>\n",
       "      <td>0.024081</td>\n",
       "      <td>0.017316</td>\n",
       "      <td>0.016762</td>\n",
       "      <td>0.023081</td>\n",
       "      <td>0.008717</td>\n",
       "      <td>0.009827</td>\n",
       "      <td>0.012550</td>\n",
       "      <td>0.016855</td>\n",
       "      <td>...</td>\n",
       "      <td>0.017984</td>\n",
       "      <td>0.013291</td>\n",
       "      <td>0.013294</td>\n",
       "      <td>0.013292</td>\n",
       "      <td>0.013293</td>\n",
       "      <td>0.013904</td>\n",
       "      <td>0.013904</td>\n",
       "      <td>0.013903</td>\n",
       "      <td>0.013903</td>\n",
       "      <td>6</td>\n",
       "    </tr>\n",
       "    <tr>\n",
       "      <th>3772</th>\n",
       "      <td>0.012629</td>\n",
       "      <td>0.020785</td>\n",
       "      <td>0.040080</td>\n",
       "      <td>0.004460</td>\n",
       "      <td>0.020860</td>\n",
       "      <td>0.013160</td>\n",
       "      <td>0.019920</td>\n",
       "      <td>0.013586</td>\n",
       "      <td>0.002127</td>\n",
       "      <td>0.012494</td>\n",
       "      <td>...</td>\n",
       "      <td>0.007194</td>\n",
       "      <td>0.012722</td>\n",
       "      <td>0.012720</td>\n",
       "      <td>0.012722</td>\n",
       "      <td>0.012722</td>\n",
       "      <td>0.013996</td>\n",
       "      <td>0.013997</td>\n",
       "      <td>0.013997</td>\n",
       "      <td>0.013997</td>\n",
       "      <td>4</td>\n",
       "    </tr>\n",
       "    <tr>\n",
       "      <th>860</th>\n",
       "      <td>0.017365</td>\n",
       "      <td>0.014266</td>\n",
       "      <td>0.007006</td>\n",
       "      <td>0.011091</td>\n",
       "      <td>0.016975</td>\n",
       "      <td>0.013325</td>\n",
       "      <td>0.014037</td>\n",
       "      <td>0.001675</td>\n",
       "      <td>0.002450</td>\n",
       "      <td>0.020157</td>\n",
       "      <td>...</td>\n",
       "      <td>0.000000</td>\n",
       "      <td>0.018141</td>\n",
       "      <td>0.018140</td>\n",
       "      <td>0.018141</td>\n",
       "      <td>0.018141</td>\n",
       "      <td>0.014506</td>\n",
       "      <td>0.014507</td>\n",
       "      <td>0.014507</td>\n",
       "      <td>0.014507</td>\n",
       "      <td>3</td>\n",
       "    </tr>\n",
       "  </tbody>\n",
       "</table>\n",
       "<p>4105 rows × 122 columns</p>\n",
       "</div>"
      ],
      "text/plain": [
       "          area  nd_mean_2021-04-16  nd_mean_2021-04-19  nd_mean_2021-04-22  \\\n",
       "3158  0.026836            0.004539            0.013303            0.015976   \n",
       "517   0.019169            0.016866            0.005568            0.002099   \n",
       "1057  0.004961            0.023353            0.000000            0.017648   \n",
       "4005  0.023905            0.004431            0.003347            0.010921   \n",
       "1966  0.013982            0.022522            0.001450            0.002319   \n",
       "...        ...                 ...                 ...                 ...   \n",
       "4426  0.027062            0.011573            0.012172            0.013256   \n",
       "466   0.004736            0.011892            0.005334            0.008264   \n",
       "3092  0.022101            0.002510            0.024081            0.017316   \n",
       "3772  0.012629            0.020785            0.040080            0.004460   \n",
       "860   0.017365            0.014266            0.007006            0.011091   \n",
       "\n",
       "      nd_mean_2021-04-26  nd_mean_2021-04-28  nd_mean_2021-05-02  \\\n",
       "3158            0.001432            0.005178            0.004138   \n",
       "517             0.000501            0.002294            0.002480   \n",
       "1057            0.000721            0.009876            0.003447   \n",
       "4005            0.003230            0.028071            0.023406   \n",
       "1966            0.006575            0.002778            0.014164   \n",
       "...                  ...                 ...                 ...   \n",
       "4426            0.000000            0.013172            0.004351   \n",
       "466             0.022807            0.003062            0.021340   \n",
       "3092            0.016762            0.023081            0.008717   \n",
       "3772            0.020860            0.013160            0.019920   \n",
       "860             0.016975            0.013325            0.014037   \n",
       "\n",
       "      nd_mean_2021-05-04  nd_mean_2021-05-07  nd_mean_2021-05-16  ...  \\\n",
       "3158            0.004082            0.046168            0.026147  ...   \n",
       "517             0.019266            0.000000            0.008859  ...   \n",
       "1057            0.011963            0.001107            0.014227  ...   \n",
       "4005            0.006129            0.010096            0.016835  ...   \n",
       "1966            0.000000            0.021565            0.018054  ...   \n",
       "...                  ...                 ...                 ...  ...   \n",
       "4426            0.001646            0.017545            0.008446  ...   \n",
       "466             0.022406            0.010386            0.015174  ...   \n",
       "3092            0.009827            0.012550            0.016855  ...   \n",
       "3772            0.013586            0.002127            0.012494  ...   \n",
       "860             0.001675            0.002450            0.020157  ...   \n",
       "\n",
       "      sum_nd_08_argmin     x_min     x_max    x_mean  x_mediam     y_min  \\\n",
       "3158          0.000000  0.011763  0.011774  0.011767  0.011766  0.014345   \n",
       "517           0.007194  0.017819  0.017820  0.017821  0.017822  0.014843   \n",
       "1057          0.017984  0.012158  0.012158  0.012158  0.012158  0.014129   \n",
       "4005          0.010790  0.012591  0.012592  0.012592  0.012592  0.013822   \n",
       "1966          0.021581  0.016627  0.016627  0.016626  0.016626  0.014739   \n",
       "...                ...       ...       ...       ...       ...       ...   \n",
       "4426          0.007194  0.012592  0.012596  0.012593  0.012592  0.014564   \n",
       "466           0.021581  0.012798  0.012797  0.012797  0.012797  0.013838   \n",
       "3092          0.017984  0.013291  0.013294  0.013292  0.013293  0.013904   \n",
       "3772          0.007194  0.012722  0.012720  0.012722  0.012722  0.013996   \n",
       "860           0.000000  0.018141  0.018140  0.018141  0.018141  0.014506   \n",
       "\n",
       "         y_max    y_mean  y_mediam  crop  \n",
       "3158  0.014346  0.014345  0.014345     2  \n",
       "517   0.014844  0.014844  0.014844     0  \n",
       "1057  0.014129  0.014129  0.014129     4  \n",
       "4005  0.013824  0.013823  0.013823     4  \n",
       "1966  0.014740  0.014740  0.014740     0  \n",
       "...        ...       ...       ...   ...  \n",
       "4426  0.014565  0.014566  0.014566     1  \n",
       "466   0.013837  0.013838  0.013838     0  \n",
       "3092  0.013904  0.013903  0.013903     6  \n",
       "3772  0.013997  0.013997  0.013997     4  \n",
       "860   0.014507  0.014507  0.014507     3  \n",
       "\n",
       "[4105 rows x 122 columns]"
      ]
     },
     "execution_count": 59,
     "metadata": {},
     "output_type": "execute_result"
    }
   ],
   "source": [
    "df_train"
   ]
  },
  {
   "cell_type": "code",
   "execution_count": 60,
   "metadata": {},
   "outputs": [
    {
     "data": {
      "text/html": [
       "<div>\n",
       "<style scoped>\n",
       "    .dataframe tbody tr th:only-of-type {\n",
       "        vertical-align: middle;\n",
       "    }\n",
       "\n",
       "    .dataframe tbody tr th {\n",
       "        vertical-align: top;\n",
       "    }\n",
       "\n",
       "    .dataframe thead th {\n",
       "        text-align: right;\n",
       "    }\n",
       "</style>\n",
       "<table border=\"1\" class=\"dataframe\">\n",
       "  <thead>\n",
       "    <tr style=\"text-align: right;\">\n",
       "      <th></th>\n",
       "      <th>area</th>\n",
       "      <th>nd_mean_2021-04-16</th>\n",
       "      <th>nd_mean_2021-04-19</th>\n",
       "      <th>nd_mean_2021-04-22</th>\n",
       "      <th>nd_mean_2021-04-26</th>\n",
       "      <th>nd_mean_2021-04-28</th>\n",
       "      <th>nd_mean_2021-05-02</th>\n",
       "      <th>nd_mean_2021-05-04</th>\n",
       "      <th>nd_mean_2021-05-07</th>\n",
       "      <th>nd_mean_2021-05-16</th>\n",
       "      <th>...</th>\n",
       "      <th>sum_nd_08_argmin</th>\n",
       "      <th>x_min</th>\n",
       "      <th>x_max</th>\n",
       "      <th>x_mean</th>\n",
       "      <th>x_mediam</th>\n",
       "      <th>y_min</th>\n",
       "      <th>y_max</th>\n",
       "      <th>y_mean</th>\n",
       "      <th>y_mediam</th>\n",
       "      <th>crop</th>\n",
       "    </tr>\n",
       "  </thead>\n",
       "  <tbody>\n",
       "    <tr>\n",
       "      <th>0</th>\n",
       "      <td>0.019409</td>\n",
       "      <td>0.021198</td>\n",
       "      <td>0.008127</td>\n",
       "      <td>0.007262</td>\n",
       "      <td>0.014194</td>\n",
       "      <td>0.004654</td>\n",
       "      <td>0.012091</td>\n",
       "      <td>0.013507</td>\n",
       "      <td>0.011696</td>\n",
       "      <td>0.015167</td>\n",
       "      <td>...</td>\n",
       "      <td>0.016635</td>\n",
       "      <td>0.013775</td>\n",
       "      <td>0.013777</td>\n",
       "      <td>0.013776</td>\n",
       "      <td>0.013775</td>\n",
       "      <td>0.014147</td>\n",
       "      <td>0.014148</td>\n",
       "      <td>0.014148</td>\n",
       "      <td>0.014148</td>\n",
       "      <td>0.0</td>\n",
       "    </tr>\n",
       "    <tr>\n",
       "      <th>1</th>\n",
       "      <td>0.007012</td>\n",
       "      <td>0.012481</td>\n",
       "      <td>0.008687</td>\n",
       "      <td>0.012285</td>\n",
       "      <td>0.017541</td>\n",
       "      <td>0.011469</td>\n",
       "      <td>0.024849</td>\n",
       "      <td>0.008565</td>\n",
       "      <td>0.005853</td>\n",
       "      <td>0.016643</td>\n",
       "      <td>...</td>\n",
       "      <td>0.015623</td>\n",
       "      <td>0.013669</td>\n",
       "      <td>0.013669</td>\n",
       "      <td>0.013669</td>\n",
       "      <td>0.013669</td>\n",
       "      <td>0.013884</td>\n",
       "      <td>0.013884</td>\n",
       "      <td>0.013884</td>\n",
       "      <td>0.013884</td>\n",
       "      <td>0.0</td>\n",
       "    </tr>\n",
       "    <tr>\n",
       "      <th>2</th>\n",
       "      <td>0.005631</td>\n",
       "      <td>0.014028</td>\n",
       "      <td>0.004157</td>\n",
       "      <td>0.021836</td>\n",
       "      <td>0.009992</td>\n",
       "      <td>0.007266</td>\n",
       "      <td>0.020941</td>\n",
       "      <td>0.003242</td>\n",
       "      <td>0.010932</td>\n",
       "      <td>0.015412</td>\n",
       "      <td>...</td>\n",
       "      <td>0.007081</td>\n",
       "      <td>0.012884</td>\n",
       "      <td>0.012882</td>\n",
       "      <td>0.012883</td>\n",
       "      <td>0.012883</td>\n",
       "      <td>0.014008</td>\n",
       "      <td>0.014008</td>\n",
       "      <td>0.014008</td>\n",
       "      <td>0.014008</td>\n",
       "      <td>0.0</td>\n",
       "    </tr>\n",
       "    <tr>\n",
       "      <th>3</th>\n",
       "      <td>0.014052</td>\n",
       "      <td>0.020512</td>\n",
       "      <td>0.008878</td>\n",
       "      <td>0.014309</td>\n",
       "      <td>0.014225</td>\n",
       "      <td>0.016993</td>\n",
       "      <td>0.013728</td>\n",
       "      <td>0.008294</td>\n",
       "      <td>0.001199</td>\n",
       "      <td>0.012130</td>\n",
       "      <td>...</td>\n",
       "      <td>0.013151</td>\n",
       "      <td>0.014639</td>\n",
       "      <td>0.014638</td>\n",
       "      <td>0.014638</td>\n",
       "      <td>0.014638</td>\n",
       "      <td>0.014153</td>\n",
       "      <td>0.014153</td>\n",
       "      <td>0.014153</td>\n",
       "      <td>0.014153</td>\n",
       "      <td>0.0</td>\n",
       "    </tr>\n",
       "    <tr>\n",
       "      <th>4</th>\n",
       "      <td>0.017485</td>\n",
       "      <td>0.019251</td>\n",
       "      <td>0.003562</td>\n",
       "      <td>0.007385</td>\n",
       "      <td>0.017560</td>\n",
       "      <td>0.013575</td>\n",
       "      <td>0.007991</td>\n",
       "      <td>0.016521</td>\n",
       "      <td>0.015873</td>\n",
       "      <td>0.013254</td>\n",
       "      <td>...</td>\n",
       "      <td>0.005620</td>\n",
       "      <td>0.013820</td>\n",
       "      <td>0.013822</td>\n",
       "      <td>0.013821</td>\n",
       "      <td>0.013821</td>\n",
       "      <td>0.014257</td>\n",
       "      <td>0.014258</td>\n",
       "      <td>0.014257</td>\n",
       "      <td>0.014258</td>\n",
       "      <td>0.0</td>\n",
       "    </tr>\n",
       "    <tr>\n",
       "      <th>...</th>\n",
       "      <td>...</td>\n",
       "      <td>...</td>\n",
       "      <td>...</td>\n",
       "      <td>...</td>\n",
       "      <td>...</td>\n",
       "      <td>...</td>\n",
       "      <td>...</td>\n",
       "      <td>...</td>\n",
       "      <td>...</td>\n",
       "      <td>...</td>\n",
       "      <td>...</td>\n",
       "      <td>...</td>\n",
       "      <td>...</td>\n",
       "      <td>...</td>\n",
       "      <td>...</td>\n",
       "      <td>...</td>\n",
       "      <td>...</td>\n",
       "      <td>...</td>\n",
       "      <td>...</td>\n",
       "      <td>...</td>\n",
       "      <td>...</td>\n",
       "    </tr>\n",
       "    <tr>\n",
       "      <th>4100</th>\n",
       "      <td>0.020867</td>\n",
       "      <td>0.005885</td>\n",
       "      <td>0.011025</td>\n",
       "      <td>0.010064</td>\n",
       "      <td>0.017833</td>\n",
       "      <td>0.017659</td>\n",
       "      <td>0.013215</td>\n",
       "      <td>0.014584</td>\n",
       "      <td>0.010031</td>\n",
       "      <td>0.013384</td>\n",
       "      <td>...</td>\n",
       "      <td>0.010341</td>\n",
       "      <td>0.014060</td>\n",
       "      <td>0.014061</td>\n",
       "      <td>0.014061</td>\n",
       "      <td>0.014061</td>\n",
       "      <td>0.013910</td>\n",
       "      <td>0.013911</td>\n",
       "      <td>0.013910</td>\n",
       "      <td>0.013910</td>\n",
       "      <td>6.0</td>\n",
       "    </tr>\n",
       "    <tr>\n",
       "      <th>4101</th>\n",
       "      <td>0.010324</td>\n",
       "      <td>0.011306</td>\n",
       "      <td>0.021320</td>\n",
       "      <td>0.015214</td>\n",
       "      <td>0.015652</td>\n",
       "      <td>0.003318</td>\n",
       "      <td>0.013373</td>\n",
       "      <td>0.004262</td>\n",
       "      <td>0.014869</td>\n",
       "      <td>0.016092</td>\n",
       "      <td>...</td>\n",
       "      <td>0.011690</td>\n",
       "      <td>0.015908</td>\n",
       "      <td>0.015907</td>\n",
       "      <td>0.015908</td>\n",
       "      <td>0.015909</td>\n",
       "      <td>0.014642</td>\n",
       "      <td>0.014642</td>\n",
       "      <td>0.014642</td>\n",
       "      <td>0.014642</td>\n",
       "      <td>6.0</td>\n",
       "    </tr>\n",
       "    <tr>\n",
       "      <th>4102</th>\n",
       "      <td>0.016040</td>\n",
       "      <td>0.005860</td>\n",
       "      <td>0.020040</td>\n",
       "      <td>0.006446</td>\n",
       "      <td>0.012638</td>\n",
       "      <td>0.007626</td>\n",
       "      <td>0.018530</td>\n",
       "      <td>0.011195</td>\n",
       "      <td>0.014899</td>\n",
       "      <td>0.011206</td>\n",
       "      <td>...</td>\n",
       "      <td>0.013713</td>\n",
       "      <td>0.016067</td>\n",
       "      <td>0.016067</td>\n",
       "      <td>0.016067</td>\n",
       "      <td>0.016067</td>\n",
       "      <td>0.014479</td>\n",
       "      <td>0.014479</td>\n",
       "      <td>0.014479</td>\n",
       "      <td>0.014480</td>\n",
       "      <td>6.0</td>\n",
       "    </tr>\n",
       "    <tr>\n",
       "      <th>4103</th>\n",
       "      <td>0.015180</td>\n",
       "      <td>0.004114</td>\n",
       "      <td>0.013725</td>\n",
       "      <td>0.011311</td>\n",
       "      <td>0.012466</td>\n",
       "      <td>0.003492</td>\n",
       "      <td>0.008689</td>\n",
       "      <td>0.009532</td>\n",
       "      <td>0.013268</td>\n",
       "      <td>0.007431</td>\n",
       "      <td>...</td>\n",
       "      <td>0.023154</td>\n",
       "      <td>0.015234</td>\n",
       "      <td>0.015235</td>\n",
       "      <td>0.015234</td>\n",
       "      <td>0.015233</td>\n",
       "      <td>0.014628</td>\n",
       "      <td>0.014628</td>\n",
       "      <td>0.014628</td>\n",
       "      <td>0.014628</td>\n",
       "      <td>6.0</td>\n",
       "    </tr>\n",
       "    <tr>\n",
       "      <th>4104</th>\n",
       "      <td>0.011142</td>\n",
       "      <td>0.009726</td>\n",
       "      <td>0.010555</td>\n",
       "      <td>0.005392</td>\n",
       "      <td>0.014702</td>\n",
       "      <td>0.016689</td>\n",
       "      <td>0.020247</td>\n",
       "      <td>0.005043</td>\n",
       "      <td>0.014660</td>\n",
       "      <td>0.011284</td>\n",
       "      <td>...</td>\n",
       "      <td>0.018209</td>\n",
       "      <td>0.014340</td>\n",
       "      <td>0.014341</td>\n",
       "      <td>0.014341</td>\n",
       "      <td>0.014341</td>\n",
       "      <td>0.014333</td>\n",
       "      <td>0.014332</td>\n",
       "      <td>0.014332</td>\n",
       "      <td>0.014332</td>\n",
       "      <td>6.0</td>\n",
       "    </tr>\n",
       "  </tbody>\n",
       "</table>\n",
       "<p>4105 rows × 122 columns</p>\n",
       "</div>"
      ],
      "text/plain": [
       "          area  nd_mean_2021-04-16  nd_mean_2021-04-19  nd_mean_2021-04-22  \\\n",
       "0     0.019409            0.021198            0.008127            0.007262   \n",
       "1     0.007012            0.012481            0.008687            0.012285   \n",
       "2     0.005631            0.014028            0.004157            0.021836   \n",
       "3     0.014052            0.020512            0.008878            0.014309   \n",
       "4     0.017485            0.019251            0.003562            0.007385   \n",
       "...        ...                 ...                 ...                 ...   \n",
       "4100  0.020867            0.005885            0.011025            0.010064   \n",
       "4101  0.010324            0.011306            0.021320            0.015214   \n",
       "4102  0.016040            0.005860            0.020040            0.006446   \n",
       "4103  0.015180            0.004114            0.013725            0.011311   \n",
       "4104  0.011142            0.009726            0.010555            0.005392   \n",
       "\n",
       "      nd_mean_2021-04-26  nd_mean_2021-04-28  nd_mean_2021-05-02  \\\n",
       "0               0.014194            0.004654            0.012091   \n",
       "1               0.017541            0.011469            0.024849   \n",
       "2               0.009992            0.007266            0.020941   \n",
       "3               0.014225            0.016993            0.013728   \n",
       "4               0.017560            0.013575            0.007991   \n",
       "...                  ...                 ...                 ...   \n",
       "4100            0.017833            0.017659            0.013215   \n",
       "4101            0.015652            0.003318            0.013373   \n",
       "4102            0.012638            0.007626            0.018530   \n",
       "4103            0.012466            0.003492            0.008689   \n",
       "4104            0.014702            0.016689            0.020247   \n",
       "\n",
       "      nd_mean_2021-05-04  nd_mean_2021-05-07  nd_mean_2021-05-16  ...  \\\n",
       "0               0.013507            0.011696            0.015167  ...   \n",
       "1               0.008565            0.005853            0.016643  ...   \n",
       "2               0.003242            0.010932            0.015412  ...   \n",
       "3               0.008294            0.001199            0.012130  ...   \n",
       "4               0.016521            0.015873            0.013254  ...   \n",
       "...                  ...                 ...                 ...  ...   \n",
       "4100            0.014584            0.010031            0.013384  ...   \n",
       "4101            0.004262            0.014869            0.016092  ...   \n",
       "4102            0.011195            0.014899            0.011206  ...   \n",
       "4103            0.009532            0.013268            0.007431  ...   \n",
       "4104            0.005043            0.014660            0.011284  ...   \n",
       "\n",
       "      sum_nd_08_argmin     x_min     x_max    x_mean  x_mediam     y_min  \\\n",
       "0             0.016635  0.013775  0.013777  0.013776  0.013775  0.014147   \n",
       "1             0.015623  0.013669  0.013669  0.013669  0.013669  0.013884   \n",
       "2             0.007081  0.012884  0.012882  0.012883  0.012883  0.014008   \n",
       "3             0.013151  0.014639  0.014638  0.014638  0.014638  0.014153   \n",
       "4             0.005620  0.013820  0.013822  0.013821  0.013821  0.014257   \n",
       "...                ...       ...       ...       ...       ...       ...   \n",
       "4100          0.010341  0.014060  0.014061  0.014061  0.014061  0.013910   \n",
       "4101          0.011690  0.015908  0.015907  0.015908  0.015909  0.014642   \n",
       "4102          0.013713  0.016067  0.016067  0.016067  0.016067  0.014479   \n",
       "4103          0.023154  0.015234  0.015235  0.015234  0.015233  0.014628   \n",
       "4104          0.018209  0.014340  0.014341  0.014341  0.014341  0.014333   \n",
       "\n",
       "         y_max    y_mean  y_mediam  crop  \n",
       "0     0.014148  0.014148  0.014148   0.0  \n",
       "1     0.013884  0.013884  0.013884   0.0  \n",
       "2     0.014008  0.014008  0.014008   0.0  \n",
       "3     0.014153  0.014153  0.014153   0.0  \n",
       "4     0.014258  0.014257  0.014258   0.0  \n",
       "...        ...       ...       ...   ...  \n",
       "4100  0.013911  0.013910  0.013910   6.0  \n",
       "4101  0.014642  0.014642  0.014642   6.0  \n",
       "4102  0.014479  0.014479  0.014480   6.0  \n",
       "4103  0.014628  0.014628  0.014628   6.0  \n",
       "4104  0.014332  0.014332  0.014332   6.0  \n",
       "\n",
       "[4105 rows x 122 columns]"
      ]
     },
     "execution_count": 60,
     "metadata": {},
     "output_type": "execute_result"
    }
   ],
   "source": [
    "df_new_row = []\n",
    "\n",
    "for crop in np.unique(df_train['crop']):\n",
    "    df_crop = df_train.loc[df_train['crop'] == crop]\n",
    "    for idx in range(len(df_crop)):\n",
    "        select_row = df_crop.iloc[idx]\n",
    "        for _ in range(5):\n",
    "            select_row = (select_row + df_crop.iloc[random.randint(0, len(df_crop)-1)])/2\n",
    "\n",
    "        df_new_row.append(select_row)\n",
    "\n",
    "df_new_row = pd.concat(df_new_row, axis=1).transpose()     \n",
    "df_new_row"
   ]
  },
  {
   "cell_type": "code",
   "execution_count": 61,
   "metadata": {},
   "outputs": [],
   "source": [
    "#df_train = df_train.append(df_new_row)"
   ]
  },
  {
   "cell_type": "code",
   "execution_count": 62,
   "metadata": {},
   "outputs": [],
   "source": [
    "#X_train = df_train.drop([\"crop\"], axis = 1)\n",
    "#y_train = df_train['crop']"
   ]
  },
  {
   "cell_type": "markdown",
   "metadata": {
    "id": "60NotS9ehbO5"
   },
   "source": [
    "## Обучение модели"
   ]
  },
  {
   "cell_type": "code",
   "execution_count": 63,
   "metadata": {
    "id": "jc-KKFlWf6_N"
   },
   "outputs": [],
   "source": [
    "clf = RandomForestClassifier( n_estimators = 14, )"
   ]
  },
  {
   "cell_type": "code",
   "execution_count": null,
   "metadata": {},
   "outputs": [],
   "source": []
  },
  {
   "cell_type": "code",
   "execution_count": 64,
   "metadata": {
    "colab": {
     "base_uri": "https://localhost:8080/"
    },
    "id": "bc8JAH4yf7Bs",
    "outputId": "4b49b98f-4811-4058-96fd-a3f23b3ab74e"
   },
   "outputs": [
    {
     "name": "stderr",
     "output_type": "stream",
     "text": [
      "/tmp/ipykernel_9630/2395142735.py:1: DataConversionWarning: A column-vector y was passed when a 1d array was expected. Please change the shape of y to (n_samples,), for example using ravel().\n",
      "  clf.fit(X_train, y_train)\n"
     ]
    },
    {
     "data": {
      "text/plain": [
       "RandomForestClassifier(n_estimators=14)"
      ]
     },
     "execution_count": 64,
     "metadata": {},
     "output_type": "execute_result"
    }
   ],
   "source": [
    "clf.fit(X_train, y_train)"
   ]
  },
  {
   "cell_type": "markdown",
   "metadata": {
    "id": "6Y60HHS5jKeN"
   },
   "source": [
    "## Оценка точности"
   ]
  },
  {
   "cell_type": "code",
   "execution_count": 65,
   "metadata": {
    "colab": {
     "base_uri": "https://localhost:8080/"
    },
    "id": "AgEZTGYujQMW",
    "outputId": "c8a5de56-a493-4fdc-f4f5-539670e4db94"
   },
   "outputs": [
    {
     "name": "stdout",
     "output_type": "stream",
     "text": [
      "RandomForestClassifier(n_estimators=14) \n",
      " 0.9459323826148817\n"
     ]
    }
   ],
   "source": [
    "pred = clf.predict(X_test)\n",
    "print(clf,'\\n',recall_score(y_test, pred, average=\"macro\", zero_division=0))"
   ]
  },
  {
   "cell_type": "code",
   "execution_count": 66,
   "metadata": {},
   "outputs": [
    {
     "data": {
      "image/png": "[encoded data removed]",
      "text/plain": [
       "<Figure size 1600x1400 with 1 Axes>"
      ]
     },
     "metadata": {},
     "output_type": "display_data"
    }
   ],
   "source": [
    "skl_iris_imp = pd.Series(clf.feature_importances_, clf.feature_names_in_)\n",
    "\n",
    "fig, ax = plt.subplots(figsize=(16,14))\n",
    "skl_iris_imp.plot.bar(ax=ax)\n",
    "ax.set_title(\"Важность признаков\")\n",
    "ax.set_ylabel('Важность')\n",
    "fig.tight_layout()"
   ]
  },
  {
   "cell_type": "code",
   "execution_count": 67,
   "metadata": {},
   "outputs": [
    {
     "data": {
      "text/plain": [
       "(121,)"
      ]
     },
     "execution_count": 67,
     "metadata": {},
     "output_type": "execute_result"
    }
   ],
   "source": [
    "np.shape(clf.feature_importances_)"
   ]
  },
  {
   "cell_type": "code",
   "execution_count": 68,
   "metadata": {},
   "outputs": [
    {
     "data": {
      "text/plain": [
       "(0,)"
      ]
     },
     "execution_count": 68,
     "metadata": {},
     "output_type": "execute_result"
    }
   ],
   "source": [
    "np.shape([idx for idx, e in enumerate(clf.feature_names_in_) if '+' in e])"
   ]
  },
  {
   "cell_type": "code",
   "execution_count": 69,
   "metadata": {},
   "outputs": [
    {
     "data": {
      "text/plain": [
       "0"
      ]
     },
     "execution_count": 69,
     "metadata": {},
     "output_type": "execute_result"
    }
   ],
   "source": [
    "np.sum(clf.feature_importances_[[idx for idx, e in enumerate(clf.feature_names_in_) if '+' in e]] > 0.005)"
   ]
  },
  {
   "cell_type": "code",
   "execution_count": 70,
   "metadata": {},
   "outputs": [],
   "source": [
    "#mask = clf.feature_importances_[[idx for idx, e in enumerate(clf.feature_names_in_) if '+' in e]] > 0.005\n",
    "#X_train = X_train[clf.feature_names_in_[mask]]\n",
    "#X_test = X_test[clf.feature_names_in_[mask]]\n",
    "#X_ = X[clf.feature_names_in_[mask]].copy()"
   ]
  },
  {
   "cell_type": "code",
   "execution_count": 74,
   "metadata": {},
   "outputs": [
    {
     "name": "stderr",
     "output_type": "stream",
     "text": [
      "/tmp/ipykernel_9630/1491333743.py:2: DataConversionWarning: A column-vector y was passed when a 1d array was expected. Please change the shape of y to (n_samples,), for example using ravel().\n",
      "  clf.fit(X_train, y_train)\n"
     ]
    },
    {
     "name": "stdout",
     "output_type": "stream",
     "text": [
      "RandomForestClassifier(n_estimators=14) \n",
      " 0.939017838322141\n"
     ]
    }
   ],
   "source": [
    "clf = RandomForestClassifier( n_estimators = 14, )\n",
    "clf.fit(X_train, y_train)\n",
    "pred = clf.predict(X_test)\n",
    "print(clf,'\\n',recall_score(y_test, pred, average=\"macro\", zero_division=0))"
   ]
  },
  {
   "cell_type": "code",
   "execution_count": 75,
   "metadata": {},
   "outputs": [
    {
     "name": "stdout",
     "output_type": "stream",
     "text": [
      "Learning rate set to 0.164182\n",
      "0:\tlearn: 1.5123753\ttest: 1.5180536\tbest: 1.5180536 (0)\ttotal: 18.2ms\tremaining: 9.07s\n",
      "5:\tlearn: 0.7937318\ttest: 0.8210533\tbest: 0.8210533 (5)\ttotal: 82.2ms\tremaining: 6.76s\n",
      "10:\tlearn: 0.5361238\ttest: 0.5641368\tbest: 0.5641368 (10)\ttotal: 141ms\tremaining: 6.29s\n",
      "15:\tlearn: 0.3959299\ttest: 0.4280717\tbest: 0.4280717 (15)\ttotal: 202ms\tremaining: 6.13s\n",
      "20:\tlearn: 0.3198851\ttest: 0.3539199\tbest: 0.3539199 (20)\ttotal: 260ms\tremaining: 5.93s\n",
      "25:\tlearn: 0.2675772\ttest: 0.3026647\tbest: 0.3026647 (25)\ttotal: 320ms\tremaining: 5.83s\n",
      "30:\tlearn: 0.2274612\ttest: 0.2621903\tbest: 0.2621903 (30)\ttotal: 378ms\tremaining: 5.72s\n",
      "35:\tlearn: 0.2014759\ttest: 0.2374089\tbest: 0.2374089 (35)\ttotal: 436ms\tremaining: 5.61s\n",
      "40:\tlearn: 0.1841679\ttest: 0.2226806\tbest: 0.2226806 (40)\ttotal: 491ms\tremaining: 5.49s\n",
      "45:\tlearn: 0.1676333\ttest: 0.2086497\tbest: 0.2086497 (45)\ttotal: 548ms\tremaining: 5.41s\n",
      "50:\tlearn: 0.1557340\ttest: 0.1997267\tbest: 0.1997267 (50)\ttotal: 601ms\tremaining: 5.29s\n",
      "55:\tlearn: 0.1461638\ttest: 0.1912146\tbest: 0.1912146 (55)\ttotal: 654ms\tremaining: 5.18s\n",
      "60:\tlearn: 0.1371037\ttest: 0.1838397\tbest: 0.1838397 (60)\ttotal: 707ms\tremaining: 5.09s\n",
      "65:\tlearn: 0.1292465\ttest: 0.1790569\tbest: 0.1790569 (65)\ttotal: 765ms\tremaining: 5.03s\n",
      "70:\tlearn: 0.1223819\ttest: 0.1740635\tbest: 0.1740635 (70)\ttotal: 822ms\tremaining: 4.96s\n",
      "75:\tlearn: 0.1162083\ttest: 0.1676425\tbest: 0.1676425 (75)\ttotal: 874ms\tremaining: 4.88s\n",
      "80:\tlearn: 0.1112542\ttest: 0.1635931\tbest: 0.1635931 (80)\ttotal: 927ms\tremaining: 4.79s\n",
      "85:\tlearn: 0.1055722\ttest: 0.1582544\tbest: 0.1582544 (85)\ttotal: 980ms\tremaining: 4.72s\n",
      "90:\tlearn: 0.1005926\ttest: 0.1548532\tbest: 0.1548532 (90)\ttotal: 1.03s\tremaining: 4.63s\n",
      "95:\tlearn: 0.0958704\ttest: 0.1517061\tbest: 0.1517061 (95)\ttotal: 1.08s\tremaining: 4.57s\n",
      "100:\tlearn: 0.0924180\ttest: 0.1502009\tbest: 0.1502009 (100)\ttotal: 1.14s\tremaining: 4.5s\n",
      "105:\tlearn: 0.0892436\ttest: 0.1488944\tbest: 0.1488944 (105)\ttotal: 1.19s\tremaining: 4.42s\n",
      "110:\tlearn: 0.0848324\ttest: 0.1461518\tbest: 0.1461518 (110)\ttotal: 1.25s\tremaining: 4.37s\n",
      "115:\tlearn: 0.0814112\ttest: 0.1438918\tbest: 0.1438918 (115)\ttotal: 1.3s\tremaining: 4.3s\n",
      "120:\tlearn: 0.0786078\ttest: 0.1415923\tbest: 0.1415923 (120)\ttotal: 1.35s\tremaining: 4.23s\n",
      "125:\tlearn: 0.0762386\ttest: 0.1401709\tbest: 0.1401709 (125)\ttotal: 1.41s\tremaining: 4.17s\n",
      "130:\tlearn: 0.0738315\ttest: 0.1391207\tbest: 0.1391207 (130)\ttotal: 1.46s\tremaining: 4.11s\n",
      "135:\tlearn: 0.0710984\ttest: 0.1376924\tbest: 0.1376536 (134)\ttotal: 1.51s\tremaining: 4.05s\n",
      "140:\tlearn: 0.0694029\ttest: 0.1366703\tbest: 0.1366703 (140)\ttotal: 1.57s\tremaining: 3.99s\n",
      "145:\tlearn: 0.0675181\ttest: 0.1357077\tbest: 0.1357077 (145)\ttotal: 1.62s\tremaining: 3.93s\n",
      "150:\tlearn: 0.0654858\ttest: 0.1348902\tbest: 0.1348902 (150)\ttotal: 1.67s\tremaining: 3.87s\n",
      "155:\tlearn: 0.0636873\ttest: 0.1335939\tbest: 0.1335939 (155)\ttotal: 1.73s\tremaining: 3.81s\n",
      "160:\tlearn: 0.0618075\ttest: 0.1326647\tbest: 0.1326647 (160)\ttotal: 1.78s\tremaining: 3.75s\n",
      "165:\tlearn: 0.0598985\ttest: 0.1313993\tbest: 0.1313993 (165)\ttotal: 1.84s\tremaining: 3.7s\n",
      "170:\tlearn: 0.0583903\ttest: 0.1309858\tbest: 0.1309080 (168)\ttotal: 1.89s\tremaining: 3.64s\n",
      "175:\tlearn: 0.0565459\ttest: 0.1286414\tbest: 0.1285991 (174)\ttotal: 1.95s\tremaining: 3.59s\n",
      "180:\tlearn: 0.0552450\ttest: 0.1278989\tbest: 0.1278989 (180)\ttotal: 2s\tremaining: 3.53s\n",
      "185:\tlearn: 0.0536239\ttest: 0.1273439\tbest: 0.1273439 (185)\ttotal: 2.06s\tremaining: 3.47s\n",
      "190:\tlearn: 0.0524039\ttest: 0.1266128\tbest: 0.1264364 (189)\ttotal: 2.11s\tremaining: 3.41s\n",
      "195:\tlearn: 0.0506942\ttest: 0.1256933\tbest: 0.1256933 (195)\ttotal: 2.16s\tremaining: 3.35s\n",
      "200:\tlearn: 0.0494182\ttest: 0.1249368\tbest: 0.1249368 (200)\ttotal: 2.21s\tremaining: 3.29s\n",
      "205:\tlearn: 0.0476040\ttest: 0.1235506\tbest: 0.1235506 (205)\ttotal: 2.27s\tremaining: 3.24s\n",
      "210:\tlearn: 0.0462628\ttest: 0.1221330\tbest: 0.1221330 (210)\ttotal: 2.32s\tremaining: 3.18s\n",
      "215:\tlearn: 0.0452969\ttest: 0.1218125\tbest: 0.1218125 (215)\ttotal: 2.37s\tremaining: 3.12s\n",
      "220:\tlearn: 0.0444224\ttest: 0.1209303\tbest: 0.1209015 (219)\ttotal: 2.42s\tremaining: 3.06s\n",
      "225:\tlearn: 0.0430616\ttest: 0.1187461\tbest: 0.1187461 (225)\ttotal: 2.48s\tremaining: 3s\n",
      "230:\tlearn: 0.0418242\ttest: 0.1177390\tbest: 0.1177390 (230)\ttotal: 2.53s\tremaining: 2.95s\n",
      "235:\tlearn: 0.0407863\ttest: 0.1171774\tbest: 0.1171774 (235)\ttotal: 2.59s\tremaining: 2.9s\n",
      "240:\tlearn: 0.0397211\ttest: 0.1164151\tbest: 0.1164151 (240)\ttotal: 2.65s\tremaining: 2.84s\n",
      "245:\tlearn: 0.0387263\ttest: 0.1163758\tbest: 0.1160527 (243)\ttotal: 2.7s\tremaining: 2.79s\n",
      "250:\tlearn: 0.0379748\ttest: 0.1161205\tbest: 0.1160527 (243)\ttotal: 2.75s\tremaining: 2.73s\n",
      "255:\tlearn: 0.0371742\ttest: 0.1154754\tbest: 0.1154754 (255)\ttotal: 2.8s\tremaining: 2.67s\n",
      "260:\tlearn: 0.0365988\ttest: 0.1149755\tbest: 0.1149755 (260)\ttotal: 2.86s\tremaining: 2.62s\n",
      "265:\tlearn: 0.0357946\ttest: 0.1146189\tbest: 0.1146189 (265)\ttotal: 2.91s\tremaining: 2.56s\n",
      "270:\tlearn: 0.0349555\ttest: 0.1140879\tbest: 0.1140384 (268)\ttotal: 2.96s\tremaining: 2.5s\n",
      "275:\tlearn: 0.0343711\ttest: 0.1138504\tbest: 0.1138504 (275)\ttotal: 3.02s\tremaining: 2.45s\n",
      "280:\tlearn: 0.0335009\ttest: 0.1135234\tbest: 0.1134248 (278)\ttotal: 3.08s\tremaining: 2.4s\n",
      "285:\tlearn: 0.0328514\ttest: 0.1129420\tbest: 0.1129420 (285)\ttotal: 3.13s\tremaining: 2.34s\n",
      "290:\tlearn: 0.0323054\ttest: 0.1127049\tbest: 0.1126524 (288)\ttotal: 3.19s\tremaining: 2.29s\n",
      "295:\tlearn: 0.0316565\ttest: 0.1125572\tbest: 0.1125572 (295)\ttotal: 3.24s\tremaining: 2.23s\n",
      "300:\tlearn: 0.0310800\ttest: 0.1123699\tbest: 0.1123699 (300)\ttotal: 3.29s\tremaining: 2.17s\n",
      "305:\tlearn: 0.0304625\ttest: 0.1120525\tbest: 0.1120296 (304)\ttotal: 3.34s\tremaining: 2.12s\n",
      "310:\tlearn: 0.0299454\ttest: 0.1117354\tbest: 0.1117354 (310)\ttotal: 3.4s\tremaining: 2.06s\n",
      "315:\tlearn: 0.0293543\ttest: 0.1112247\tbest: 0.1111487 (313)\ttotal: 3.45s\tremaining: 2.01s\n",
      "320:\tlearn: 0.0288653\ttest: 0.1105125\tbest: 0.1105125 (320)\ttotal: 3.5s\tremaining: 1.95s\n",
      "325:\tlearn: 0.0282719\ttest: 0.1101189\tbest: 0.1101189 (325)\ttotal: 3.56s\tremaining: 1.9s\n",
      "330:\tlearn: 0.0275907\ttest: 0.1095209\tbest: 0.1095209 (330)\ttotal: 3.62s\tremaining: 1.85s\n",
      "335:\tlearn: 0.0270881\ttest: 0.1092976\tbest: 0.1092261 (332)\ttotal: 3.67s\tremaining: 1.79s\n",
      "340:\tlearn: 0.0265078\ttest: 0.1087876\tbest: 0.1087876 (340)\ttotal: 3.72s\tremaining: 1.74s\n",
      "345:\tlearn: 0.0259953\ttest: 0.1086509\tbest: 0.1086509 (345)\ttotal: 3.77s\tremaining: 1.68s\n",
      "350:\tlearn: 0.0255013\ttest: 0.1078965\tbest: 0.1078965 (350)\ttotal: 3.83s\tremaining: 1.62s\n",
      "355:\tlearn: 0.0250611\ttest: 0.1076945\tbest: 0.1076945 (355)\ttotal: 3.88s\tremaining: 1.57s\n",
      "360:\tlearn: 0.0245818\ttest: 0.1072362\tbest: 0.1072362 (360)\ttotal: 3.93s\tremaining: 1.51s\n",
      "365:\tlearn: 0.0242162\ttest: 0.1067183\tbest: 0.1067146 (364)\ttotal: 3.98s\tremaining: 1.46s\n",
      "370:\tlearn: 0.0238669\ttest: 0.1067341\tbest: 0.1066347 (368)\ttotal: 4.03s\tremaining: 1.4s\n",
      "375:\tlearn: 0.0234826\ttest: 0.1062954\tbest: 0.1061911 (374)\ttotal: 4.09s\tremaining: 1.35s\n",
      "380:\tlearn: 0.0230521\ttest: 0.1059045\tbest: 0.1058691 (378)\ttotal: 4.14s\tremaining: 1.29s\n",
      "385:\tlearn: 0.0226557\ttest: 0.1056132\tbest: 0.1056132 (385)\ttotal: 4.19s\tremaining: 1.24s\n",
      "390:\tlearn: 0.0221852\ttest: 0.1051348\tbest: 0.1050647 (389)\ttotal: 4.24s\tremaining: 1.18s\n",
      "395:\tlearn: 0.0218538\ttest: 0.1045005\tbest: 0.1045005 (395)\ttotal: 4.29s\tremaining: 1.13s\n",
      "400:\tlearn: 0.0215169\ttest: 0.1039677\tbest: 0.1038974 (399)\ttotal: 4.35s\tremaining: 1.07s\n",
      "405:\tlearn: 0.0211699\ttest: 0.1035943\tbest: 0.1035943 (405)\ttotal: 4.4s\tremaining: 1.02s\n",
      "410:\tlearn: 0.0206865\ttest: 0.1031938\tbest: 0.1031635 (409)\ttotal: 4.45s\tremaining: 964ms\n",
      "415:\tlearn: 0.0203977\ttest: 0.1030382\tbest: 0.1030382 (415)\ttotal: 4.5s\tremaining: 909ms\n",
      "420:\tlearn: 0.0201134\ttest: 0.1031886\tbest: 0.1030079 (418)\ttotal: 4.55s\tremaining: 855ms\n",
      "425:\tlearn: 0.0197666\ttest: 0.1029375\tbest: 0.1029375 (425)\ttotal: 4.61s\tremaining: 801ms\n",
      "430:\tlearn: 0.0193815\ttest: 0.1023286\tbest: 0.1023286 (430)\ttotal: 4.67s\tremaining: 747ms\n",
      "435:\tlearn: 0.0190861\ttest: 0.1018150\tbest: 0.1018150 (435)\ttotal: 4.72s\tremaining: 693ms\n",
      "440:\tlearn: 0.0188321\ttest: 0.1015804\tbest: 0.1015804 (440)\ttotal: 4.77s\tremaining: 639ms\n",
      "445:\tlearn: 0.0186007\ttest: 0.1015493\tbest: 0.1015246 (441)\ttotal: 4.83s\tremaining: 585ms\n",
      "450:\tlearn: 0.0182455\ttest: 0.1014304\tbest: 0.1012904 (448)\ttotal: 4.88s\tremaining: 531ms\n",
      "455:\tlearn: 0.0179539\ttest: 0.1012750\tbest: 0.1012750 (455)\ttotal: 4.94s\tremaining: 476ms\n",
      "460:\tlearn: 0.0176540\ttest: 0.1011332\tbest: 0.1011332 (460)\ttotal: 4.99s\tremaining: 422ms\n",
      "465:\tlearn: 0.0174310\ttest: 0.1011494\tbest: 0.1010852 (462)\ttotal: 5.04s\tremaining: 368ms\n"
     ]
    },
    {
     "name": "stdout",
     "output_type": "stream",
     "text": [
      "470:\tlearn: 0.0171857\ttest: 0.1009277\tbest: 0.1009035 (467)\ttotal: 5.1s\tremaining: 314ms\n",
      "475:\tlearn: 0.0169422\ttest: 0.1003652\tbest: 0.1003652 (475)\ttotal: 5.15s\tremaining: 260ms\n",
      "480:\tlearn: 0.0167131\ttest: 0.1000108\tbest: 0.1000108 (480)\ttotal: 5.2s\tremaining: 206ms\n",
      "485:\tlearn: 0.0164966\ttest: 0.1002480\tbest: 0.0999816 (481)\ttotal: 5.26s\tremaining: 152ms\n",
      "490:\tlearn: 0.0163033\ttest: 0.0999591\tbest: 0.0999591 (490)\ttotal: 5.32s\tremaining: 97.4ms\n",
      "495:\tlearn: 0.0161045\ttest: 0.1000998\tbest: 0.0998609 (491)\ttotal: 5.37s\tremaining: 43.3ms\n",
      "499:\tlearn: 0.0159188\ttest: 0.1003729\tbest: 0.0998609 (491)\ttotal: 5.41s\tremaining: 0us\n",
      "bestTest = 0.09986085037\n",
      "bestIteration = 491\n",
      "Shrink model to first 492 iterations.\n",
      "accuracy score:1.000000\n",
      "accuracy score:0.964372\n"
     ]
    }
   ],
   "source": [
    "from catboost import CatBoostClassifier\n",
    "\n",
    "\n",
    "booster = CatBoostClassifier(iterations=500, verbose=5, task_type=\"GPU\", devices='0:1')\n",
    "\n",
    "booster.fit(X_train, y_train, eval_set=(X_test, y_test))\n",
    "\n",
    "test_preds = booster.predict(X_test)\n",
    "train_preds = booster.predict(X_train)\n",
    "\n",
    "print(\"accuracy score:{:.6f}\".format(metrics.recall_score(y_train, train_preds, average=\"macro\", zero_division=0)))\n",
    "print(\"accuracy score:{:.6f}\".format(metrics.recall_score(y_test, test_preds, average=\"macro\", zero_division=0)))"
   ]
  },
  {
   "cell_type": "code",
   "execution_count": 76,
   "metadata": {},
   "outputs": [
    {
     "name": "stdout",
     "output_type": "stream",
     "text": [
      "Learning rate set to 0.121276\n",
      "0:\tlearn: 1.6170876\ttest: 1.6213866\tbest: 1.6213866 (0)\ttotal: 16.7ms\tremaining: 16.7s\n",
      "5:\tlearn: 0.9442622\ttest: 0.9709915\tbest: 0.9709915 (5)\ttotal: 82ms\tremaining: 13.6s\n",
      "10:\tlearn: 0.6719407\ttest: 0.7030796\tbest: 0.7030796 (10)\ttotal: 145ms\tremaining: 13s\n",
      "15:\tlearn: 0.5129723\ttest: 0.5457146\tbest: 0.5457146 (15)\ttotal: 205ms\tremaining: 12.6s\n",
      "20:\tlearn: 0.4154606\ttest: 0.4520098\tbest: 0.4520098 (20)\ttotal: 262ms\tremaining: 12.2s\n",
      "25:\tlearn: 0.3484107\ttest: 0.3882639\tbest: 0.3882639 (25)\ttotal: 321ms\tremaining: 12s\n",
      "30:\tlearn: 0.2996589\ttest: 0.3376821\tbest: 0.3376821 (30)\ttotal: 377ms\tremaining: 11.8s\n",
      "35:\tlearn: 0.2633174\ttest: 0.3021076\tbest: 0.3021076 (35)\ttotal: 434ms\tremaining: 11.6s\n",
      "40:\tlearn: 0.2380976\ttest: 0.2779703\tbest: 0.2779703 (40)\ttotal: 491ms\tremaining: 11.5s\n",
      "45:\tlearn: 0.2166732\ttest: 0.2576240\tbest: 0.2576240 (45)\ttotal: 547ms\tremaining: 11.4s\n",
      "50:\tlearn: 0.1992152\ttest: 0.2414836\tbest: 0.2414836 (50)\ttotal: 602ms\tremaining: 11.2s\n",
      "55:\tlearn: 0.1824685\ttest: 0.2237496\tbest: 0.2237496 (55)\ttotal: 656ms\tremaining: 11.1s\n",
      "60:\tlearn: 0.1719779\ttest: 0.2155225\tbest: 0.2155225 (60)\ttotal: 711ms\tremaining: 10.9s\n",
      "65:\tlearn: 0.1611304\ttest: 0.2082159\tbest: 0.2082159 (65)\ttotal: 769ms\tremaining: 10.9s\n",
      "70:\tlearn: 0.1526669\ttest: 0.2009956\tbest: 0.2009956 (70)\ttotal: 825ms\tremaining: 10.8s\n",
      "75:\tlearn: 0.1462331\ttest: 0.1961700\tbest: 0.1961700 (75)\ttotal: 880ms\tremaining: 10.7s\n",
      "80:\tlearn: 0.1392795\ttest: 0.1913458\tbest: 0.1913274 (79)\ttotal: 934ms\tremaining: 10.6s\n",
      "85:\tlearn: 0.1323108\ttest: 0.1851341\tbest: 0.1851341 (85)\ttotal: 987ms\tremaining: 10.5s\n",
      "90:\tlearn: 0.1277561\ttest: 0.1816071\tbest: 0.1816071 (90)\ttotal: 1.04s\tremaining: 10.4s\n",
      "95:\tlearn: 0.1227044\ttest: 0.1782344\tbest: 0.1782344 (95)\ttotal: 1.09s\tremaining: 10.3s\n",
      "100:\tlearn: 0.1180005\ttest: 0.1744884\tbest: 0.1744884 (100)\ttotal: 1.15s\tremaining: 10.2s\n",
      "105:\tlearn: 0.1125072\ttest: 0.1698674\tbest: 0.1698674 (105)\ttotal: 1.2s\tremaining: 10.1s\n",
      "110:\tlearn: 0.1083758\ttest: 0.1669654\tbest: 0.1669654 (110)\ttotal: 1.26s\tremaining: 10.1s\n",
      "115:\tlearn: 0.1045163\ttest: 0.1648319\tbest: 0.1648319 (115)\ttotal: 1.31s\tremaining: 9.99s\n",
      "120:\tlearn: 0.1001609\ttest: 0.1610164\tbest: 0.1610164 (120)\ttotal: 1.36s\tremaining: 9.91s\n",
      "125:\tlearn: 0.0980552\ttest: 0.1600601\tbest: 0.1600601 (125)\ttotal: 1.42s\tremaining: 9.82s\n",
      "130:\tlearn: 0.0954293\ttest: 0.1577599\tbest: 0.1577599 (130)\ttotal: 1.47s\tremaining: 9.72s\n",
      "135:\tlearn: 0.0923787\ttest: 0.1558719\tbest: 0.1558719 (135)\ttotal: 1.51s\tremaining: 9.63s\n",
      "140:\tlearn: 0.0895706\ttest: 0.1542642\tbest: 0.1542642 (140)\ttotal: 1.57s\tremaining: 9.56s\n",
      "145:\tlearn: 0.0875378\ttest: 0.1534099\tbest: 0.1534099 (145)\ttotal: 1.63s\tremaining: 9.51s\n",
      "150:\tlearn: 0.0847557\ttest: 0.1519201\tbest: 0.1519201 (150)\ttotal: 1.68s\tremaining: 9.46s\n",
      "155:\tlearn: 0.0825145\ttest: 0.1510961\tbest: 0.1510961 (155)\ttotal: 1.74s\tremaining: 9.4s\n",
      "160:\tlearn: 0.0803785\ttest: 0.1499361\tbest: 0.1499361 (160)\ttotal: 1.79s\tremaining: 9.34s\n",
      "165:\tlearn: 0.0785008\ttest: 0.1494708\tbest: 0.1494293 (161)\ttotal: 1.84s\tremaining: 9.27s\n",
      "170:\tlearn: 0.0768678\ttest: 0.1487345\tbest: 0.1486412 (167)\ttotal: 1.9s\tremaining: 9.2s\n",
      "175:\tlearn: 0.0745875\ttest: 0.1470155\tbest: 0.1470155 (175)\ttotal: 1.95s\tremaining: 9.14s\n",
      "180:\tlearn: 0.0729172\ttest: 0.1450693\tbest: 0.1450693 (180)\ttotal: 2s\tremaining: 9.06s\n",
      "185:\tlearn: 0.0710988\ttest: 0.1438268\tbest: 0.1438268 (185)\ttotal: 2.06s\tremaining: 9.01s\n",
      "190:\tlearn: 0.0694121\ttest: 0.1429368\tbest: 0.1429368 (190)\ttotal: 2.11s\tremaining: 8.95s\n",
      "195:\tlearn: 0.0680252\ttest: 0.1423013\tbest: 0.1423013 (195)\ttotal: 2.17s\tremaining: 8.88s\n",
      "200:\tlearn: 0.0667083\ttest: 0.1419232\tbest: 0.1417999 (198)\ttotal: 2.22s\tremaining: 8.82s\n",
      "205:\tlearn: 0.0650145\ttest: 0.1402677\tbest: 0.1402677 (205)\ttotal: 2.27s\tremaining: 8.76s\n",
      "210:\tlearn: 0.0635011\ttest: 0.1393702\tbest: 0.1393702 (210)\ttotal: 2.33s\tremaining: 8.7s\n",
      "215:\tlearn: 0.0620198\ttest: 0.1388974\tbest: 0.1386983 (214)\ttotal: 2.38s\tremaining: 8.64s\n",
      "220:\tlearn: 0.0608945\ttest: 0.1384148\tbest: 0.1384148 (220)\ttotal: 2.43s\tremaining: 8.58s\n",
      "225:\tlearn: 0.0597065\ttest: 0.1374970\tbest: 0.1374970 (225)\ttotal: 2.49s\tremaining: 8.52s\n",
      "230:\tlearn: 0.0584397\ttest: 0.1366045\tbest: 0.1366045 (230)\ttotal: 2.54s\tremaining: 8.46s\n",
      "235:\tlearn: 0.0571525\ttest: 0.1355734\tbest: 0.1355734 (235)\ttotal: 2.59s\tremaining: 8.39s\n",
      "240:\tlearn: 0.0557463\ttest: 0.1349615\tbest: 0.1349615 (240)\ttotal: 2.65s\tremaining: 8.33s\n",
      "245:\tlearn: 0.0544088\ttest: 0.1342954\tbest: 0.1342954 (245)\ttotal: 2.7s\tremaining: 8.27s\n",
      "250:\tlearn: 0.0533884\ttest: 0.1343437\tbest: 0.1342241 (249)\ttotal: 2.75s\tremaining: 8.22s\n",
      "255:\tlearn: 0.0523051\ttest: 0.1337219\tbest: 0.1337219 (255)\ttotal: 2.81s\tremaining: 8.16s\n",
      "260:\tlearn: 0.0513594\ttest: 0.1328334\tbest: 0.1328334 (260)\ttotal: 2.86s\tremaining: 8.1s\n",
      "265:\tlearn: 0.0504535\ttest: 0.1320332\tbest: 0.1320332 (265)\ttotal: 2.91s\tremaining: 8.04s\n",
      "270:\tlearn: 0.0495191\ttest: 0.1317952\tbest: 0.1317952 (270)\ttotal: 2.97s\tremaining: 7.99s\n",
      "275:\tlearn: 0.0487863\ttest: 0.1315420\tbest: 0.1315420 (275)\ttotal: 3.02s\tremaining: 7.93s\n",
      "280:\tlearn: 0.0476541\ttest: 0.1301059\tbest: 0.1301059 (280)\ttotal: 3.08s\tremaining: 7.88s\n",
      "285:\tlearn: 0.0468881\ttest: 0.1293854\tbest: 0.1293854 (285)\ttotal: 3.13s\tremaining: 7.82s\n",
      "290:\tlearn: 0.0461455\ttest: 0.1290111\tbest: 0.1290111 (290)\ttotal: 3.19s\tremaining: 7.77s\n",
      "295:\tlearn: 0.0453302\ttest: 0.1284560\tbest: 0.1284560 (295)\ttotal: 3.25s\tremaining: 7.72s\n",
      "300:\tlearn: 0.0444931\ttest: 0.1281830\tbest: 0.1280166 (297)\ttotal: 3.3s\tremaining: 7.67s\n",
      "305:\tlearn: 0.0436492\ttest: 0.1274036\tbest: 0.1274036 (305)\ttotal: 3.36s\tremaining: 7.62s\n",
      "310:\tlearn: 0.0429404\ttest: 0.1269457\tbest: 0.1269011 (309)\ttotal: 3.41s\tremaining: 7.56s\n",
      "315:\tlearn: 0.0421725\ttest: 0.1262998\tbest: 0.1262998 (315)\ttotal: 3.47s\tremaining: 7.5s\n",
      "320:\tlearn: 0.0414917\ttest: 0.1257251\tbest: 0.1257251 (320)\ttotal: 3.52s\tremaining: 7.44s\n",
      "325:\tlearn: 0.0405645\ttest: 0.1247586\tbest: 0.1247586 (325)\ttotal: 3.58s\tremaining: 7.39s\n",
      "330:\tlearn: 0.0395815\ttest: 0.1234933\tbest: 0.1234933 (330)\ttotal: 3.63s\tremaining: 7.34s\n",
      "335:\tlearn: 0.0390856\ttest: 0.1235197\tbest: 0.1233473 (332)\ttotal: 3.69s\tremaining: 7.28s\n",
      "340:\tlearn: 0.0383566\ttest: 0.1229823\tbest: 0.1229530 (339)\ttotal: 3.74s\tremaining: 7.23s\n",
      "345:\tlearn: 0.0376546\ttest: 0.1224858\tbest: 0.1224091 (344)\ttotal: 3.8s\tremaining: 7.18s\n",
      "350:\tlearn: 0.0370405\ttest: 0.1219498\tbest: 0.1219233 (349)\ttotal: 3.85s\tremaining: 7.11s\n",
      "355:\tlearn: 0.0362661\ttest: 0.1210921\tbest: 0.1210355 (354)\ttotal: 3.9s\tremaining: 7.05s\n",
      "360:\tlearn: 0.0357554\ttest: 0.1205821\tbest: 0.1205821 (360)\ttotal: 3.95s\tremaining: 6.99s\n",
      "365:\tlearn: 0.0353528\ttest: 0.1203813\tbest: 0.1203813 (365)\ttotal: 4s\tremaining: 6.93s\n",
      "370:\tlearn: 0.0348933\ttest: 0.1200101\tbest: 0.1200101 (370)\ttotal: 4.05s\tremaining: 6.87s\n",
      "375:\tlearn: 0.0343972\ttest: 0.1195112\tbest: 0.1195112 (375)\ttotal: 4.1s\tremaining: 6.81s\n",
      "380:\tlearn: 0.0338673\ttest: 0.1190597\tbest: 0.1190412 (379)\ttotal: 4.16s\tremaining: 6.75s\n",
      "385:\tlearn: 0.0334201\ttest: 0.1184573\tbest: 0.1184573 (385)\ttotal: 4.21s\tremaining: 6.69s\n",
      "390:\tlearn: 0.0326755\ttest: 0.1176043\tbest: 0.1176043 (390)\ttotal: 4.26s\tremaining: 6.64s\n",
      "395:\tlearn: 0.0322066\ttest: 0.1170089\tbest: 0.1170089 (395)\ttotal: 4.32s\tremaining: 6.58s\n",
      "400:\tlearn: 0.0317273\ttest: 0.1164709\tbest: 0.1164405 (399)\ttotal: 4.37s\tremaining: 6.53s\n",
      "405:\tlearn: 0.0311294\ttest: 0.1156423\tbest: 0.1156423 (405)\ttotal: 4.43s\tremaining: 6.48s\n",
      "410:\tlearn: 0.0307261\ttest: 0.1152123\tbest: 0.1152104 (409)\ttotal: 4.48s\tremaining: 6.42s\n",
      "415:\tlearn: 0.0303327\ttest: 0.1149088\tbest: 0.1149088 (415)\ttotal: 4.53s\tremaining: 6.37s\n",
      "420:\tlearn: 0.0298973\ttest: 0.1144553\tbest: 0.1144553 (420)\ttotal: 4.59s\tremaining: 6.31s\n",
      "425:\tlearn: 0.0295391\ttest: 0.1143358\tbest: 0.1143358 (425)\ttotal: 4.64s\tremaining: 6.25s\n",
      "430:\tlearn: 0.0291733\ttest: 0.1137713\tbest: 0.1137713 (430)\ttotal: 4.69s\tremaining: 6.19s\n",
      "435:\tlearn: 0.0287120\ttest: 0.1132055\tbest: 0.1132055 (435)\ttotal: 4.74s\tremaining: 6.14s\n",
      "440:\tlearn: 0.0282747\ttest: 0.1132041\tbest: 0.1131885 (436)\ttotal: 4.8s\tremaining: 6.08s\n",
      "445:\tlearn: 0.0278087\ttest: 0.1126268\tbest: 0.1126268 (445)\ttotal: 4.85s\tremaining: 6.02s\n",
      "450:\tlearn: 0.0275078\ttest: 0.1126953\tbest: 0.1126055 (447)\ttotal: 4.9s\tremaining: 5.97s\n",
      "455:\tlearn: 0.0270694\ttest: 0.1119614\tbest: 0.1119614 (455)\ttotal: 4.95s\tremaining: 5.91s\n",
      "460:\tlearn: 0.0265811\ttest: 0.1115170\tbest: 0.1114838 (459)\ttotal: 5.01s\tremaining: 5.86s\n",
      "465:\tlearn: 0.0263123\ttest: 0.1112340\tbest: 0.1112340 (465)\ttotal: 5.06s\tremaining: 5.8s\n"
     ]
    },
    {
     "name": "stdout",
     "output_type": "stream",
     "text": [
      "470:\tlearn: 0.0259403\ttest: 0.1111082\tbest: 0.1111082 (470)\ttotal: 5.12s\tremaining: 5.75s\n",
      "475:\tlearn: 0.0256178\ttest: 0.1108504\tbest: 0.1108504 (475)\ttotal: 5.17s\tremaining: 5.69s\n",
      "480:\tlearn: 0.0253612\ttest: 0.1105718\tbest: 0.1105557 (479)\ttotal: 5.22s\tremaining: 5.63s\n",
      "485:\tlearn: 0.0250782\ttest: 0.1106603\tbest: 0.1105423 (481)\ttotal: 5.27s\tremaining: 5.58s\n",
      "490:\tlearn: 0.0247935\ttest: 0.1102485\tbest: 0.1102485 (490)\ttotal: 5.33s\tremaining: 5.52s\n",
      "495:\tlearn: 0.0244941\ttest: 0.1102402\tbest: 0.1101620 (493)\ttotal: 5.38s\tremaining: 5.46s\n",
      "500:\tlearn: 0.0241569\ttest: 0.1102506\tbest: 0.1100645 (496)\ttotal: 5.43s\tremaining: 5.41s\n",
      "505:\tlearn: 0.0238945\ttest: 0.1099503\tbest: 0.1099503 (505)\ttotal: 5.49s\tremaining: 5.36s\n",
      "510:\tlearn: 0.0236615\ttest: 0.1097648\tbest: 0.1097648 (510)\ttotal: 5.54s\tremaining: 5.3s\n",
      "515:\tlearn: 0.0234309\ttest: 0.1097208\tbest: 0.1096717 (513)\ttotal: 5.59s\tremaining: 5.25s\n",
      "520:\tlearn: 0.0230905\ttest: 0.1094845\tbest: 0.1094694 (518)\ttotal: 5.65s\tremaining: 5.19s\n",
      "525:\tlearn: 0.0227881\ttest: 0.1091915\tbest: 0.1091915 (525)\ttotal: 5.7s\tremaining: 5.14s\n",
      "530:\tlearn: 0.0225328\ttest: 0.1088357\tbest: 0.1088357 (530)\ttotal: 5.76s\tremaining: 5.08s\n",
      "535:\tlearn: 0.0222706\ttest: 0.1084542\tbest: 0.1084542 (535)\ttotal: 5.81s\tremaining: 5.03s\n",
      "540:\tlearn: 0.0219409\ttest: 0.1082640\tbest: 0.1082640 (540)\ttotal: 5.86s\tremaining: 4.97s\n",
      "545:\tlearn: 0.0216820\ttest: 0.1080038\tbest: 0.1080038 (545)\ttotal: 5.92s\tremaining: 4.92s\n",
      "550:\tlearn: 0.0214431\ttest: 0.1077543\tbest: 0.1077081 (549)\ttotal: 5.97s\tremaining: 4.87s\n",
      "555:\tlearn: 0.0212039\ttest: 0.1076649\tbest: 0.1076649 (555)\ttotal: 6.02s\tremaining: 4.81s\n",
      "560:\tlearn: 0.0208834\ttest: 0.1074179\tbest: 0.1074179 (560)\ttotal: 6.08s\tremaining: 4.76s\n",
      "565:\tlearn: 0.0206519\ttest: 0.1072706\tbest: 0.1072706 (565)\ttotal: 6.13s\tremaining: 4.7s\n",
      "570:\tlearn: 0.0204257\ttest: 0.1067923\tbest: 0.1067923 (570)\ttotal: 6.18s\tremaining: 4.64s\n",
      "575:\tlearn: 0.0202202\ttest: 0.1066876\tbest: 0.1066761 (574)\ttotal: 6.23s\tremaining: 4.59s\n",
      "580:\tlearn: 0.0200075\ttest: 0.1067218\tbest: 0.1066649 (576)\ttotal: 6.29s\tremaining: 4.54s\n",
      "585:\tlearn: 0.0197692\ttest: 0.1065806\tbest: 0.1065806 (585)\ttotal: 6.34s\tremaining: 4.48s\n",
      "590:\tlearn: 0.0195448\ttest: 0.1062341\tbest: 0.1062341 (590)\ttotal: 6.4s\tremaining: 4.43s\n",
      "595:\tlearn: 0.0193550\ttest: 0.1060843\tbest: 0.1060843 (595)\ttotal: 6.45s\tremaining: 4.37s\n",
      "600:\tlearn: 0.0190052\ttest: 0.1057527\tbest: 0.1056999 (597)\ttotal: 6.5s\tremaining: 4.32s\n",
      "605:\tlearn: 0.0187737\ttest: 0.1055277\tbest: 0.1055277 (605)\ttotal: 6.56s\tremaining: 4.26s\n",
      "610:\tlearn: 0.0185831\ttest: 0.1053394\tbest: 0.1053394 (610)\ttotal: 6.61s\tremaining: 4.21s\n",
      "615:\tlearn: 0.0183344\ttest: 0.1050655\tbest: 0.1050655 (615)\ttotal: 6.67s\tremaining: 4.16s\n",
      "620:\tlearn: 0.0181532\ttest: 0.1048088\tbest: 0.1047479 (619)\ttotal: 6.72s\tremaining: 4.1s\n",
      "625:\tlearn: 0.0179708\ttest: 0.1047516\tbest: 0.1046774 (624)\ttotal: 6.77s\tremaining: 4.04s\n",
      "630:\tlearn: 0.0177207\ttest: 0.1044432\tbest: 0.1044432 (630)\ttotal: 6.82s\tremaining: 3.99s\n",
      "635:\tlearn: 0.0175307\ttest: 0.1043782\tbest: 0.1043354 (632)\ttotal: 6.88s\tremaining: 3.94s\n",
      "640:\tlearn: 0.0173191\ttest: 0.1042008\tbest: 0.1041704 (639)\ttotal: 6.93s\tremaining: 3.88s\n",
      "645:\tlearn: 0.0171556\ttest: 0.1041296\tbest: 0.1040396 (641)\ttotal: 6.99s\tremaining: 3.83s\n",
      "650:\tlearn: 0.0169650\ttest: 0.1042820\tbest: 0.1040396 (641)\ttotal: 7.05s\tremaining: 3.78s\n",
      "655:\tlearn: 0.0167874\ttest: 0.1041998\tbest: 0.1040396 (641)\ttotal: 7.1s\tremaining: 3.72s\n",
      "660:\tlearn: 0.0165927\ttest: 0.1040071\tbest: 0.1038985 (659)\ttotal: 7.15s\tremaining: 3.67s\n",
      "665:\tlearn: 0.0163540\ttest: 0.1039697\tbest: 0.1038985 (659)\ttotal: 7.21s\tremaining: 3.61s\n",
      "670:\tlearn: 0.0161973\ttest: 0.1038776\tbest: 0.1038776 (670)\ttotal: 7.26s\tremaining: 3.56s\n",
      "675:\tlearn: 0.0159708\ttest: 0.1037046\tbest: 0.1037046 (675)\ttotal: 7.32s\tremaining: 3.51s\n",
      "680:\tlearn: 0.0157582\ttest: 0.1036359\tbest: 0.1036105 (678)\ttotal: 7.37s\tremaining: 3.45s\n",
      "685:\tlearn: 0.0156143\ttest: 0.1034572\tbest: 0.1034572 (685)\ttotal: 7.42s\tremaining: 3.4s\n",
      "690:\tlearn: 0.0154336\ttest: 0.1033393\tbest: 0.1032379 (686)\ttotal: 7.47s\tremaining: 3.34s\n",
      "695:\tlearn: 0.0152879\ttest: 0.1031247\tbest: 0.1031011 (693)\ttotal: 7.53s\tremaining: 3.29s\n",
      "700:\tlearn: 0.0151307\ttest: 0.1028320\tbest: 0.1028320 (700)\ttotal: 7.59s\tremaining: 3.24s\n",
      "705:\tlearn: 0.0149772\ttest: 0.1026141\tbest: 0.1026054 (703)\ttotal: 7.64s\tremaining: 3.18s\n",
      "710:\tlearn: 0.0147887\ttest: 0.1025644\tbest: 0.1025644 (710)\ttotal: 7.7s\tremaining: 3.13s\n",
      "715:\tlearn: 0.0146387\ttest: 0.1024785\tbest: 0.1024785 (715)\ttotal: 7.75s\tremaining: 3.07s\n",
      "720:\tlearn: 0.0144951\ttest: 0.1024502\tbest: 0.1023814 (719)\ttotal: 7.8s\tremaining: 3.02s\n",
      "725:\tlearn: 0.0143335\ttest: 0.1020896\tbest: 0.1020896 (725)\ttotal: 7.85s\tremaining: 2.96s\n",
      "730:\tlearn: 0.0142172\ttest: 0.1020678\tbest: 0.1020291 (729)\ttotal: 7.91s\tremaining: 2.91s\n",
      "735:\tlearn: 0.0140884\ttest: 0.1017670\tbest: 0.1017670 (735)\ttotal: 7.96s\tremaining: 2.85s\n",
      "740:\tlearn: 0.0139582\ttest: 0.1017080\tbest: 0.1016791 (739)\ttotal: 8.01s\tremaining: 2.8s\n",
      "745:\tlearn: 0.0138296\ttest: 0.1016589\tbest: 0.1016589 (745)\ttotal: 8.06s\tremaining: 2.74s\n",
      "750:\tlearn: 0.0136727\ttest: 0.1016092\tbest: 0.1015239 (748)\ttotal: 8.11s\tremaining: 2.69s\n",
      "755:\tlearn: 0.0135421\ttest: 0.1011849\tbest: 0.1011849 (755)\ttotal: 8.17s\tremaining: 2.64s\n",
      "760:\tlearn: 0.0133895\ttest: 0.1010723\tbest: 0.1010529 (759)\ttotal: 8.23s\tremaining: 2.58s\n",
      "765:\tlearn: 0.0132822\ttest: 0.1012715\tbest: 0.1010529 (759)\ttotal: 8.28s\tremaining: 2.53s\n",
      "770:\tlearn: 0.0131689\ttest: 0.1011851\tbest: 0.1010529 (759)\ttotal: 8.33s\tremaining: 2.48s\n",
      "775:\tlearn: 0.0130494\ttest: 0.1009923\tbest: 0.1009923 (775)\ttotal: 8.39s\tremaining: 2.42s\n",
      "780:\tlearn: 0.0129526\ttest: 0.1009062\tbest: 0.1008914 (778)\ttotal: 8.44s\tremaining: 2.37s\n",
      "785:\tlearn: 0.0128243\ttest: 0.1007494\tbest: 0.1007494 (785)\ttotal: 8.49s\tremaining: 2.31s\n",
      "790:\tlearn: 0.0127163\ttest: 0.1005635\tbest: 0.1005635 (790)\ttotal: 8.55s\tremaining: 2.26s\n",
      "795:\tlearn: 0.0125980\ttest: 0.1003601\tbest: 0.1003601 (795)\ttotal: 8.6s\tremaining: 2.2s\n",
      "800:\tlearn: 0.0124706\ttest: 0.1003028\tbest: 0.1002461 (799)\ttotal: 8.65s\tremaining: 2.15s\n",
      "805:\tlearn: 0.0123697\ttest: 0.1001792\tbest: 0.1001386 (803)\ttotal: 8.71s\tremaining: 2.1s\n",
      "810:\tlearn: 0.0122780\ttest: 0.1001694\tbest: 0.1001386 (803)\ttotal: 8.76s\tremaining: 2.04s\n",
      "815:\tlearn: 0.0121557\ttest: 0.1002071\tbest: 0.1001386 (803)\ttotal: 8.81s\tremaining: 1.99s\n",
      "820:\tlearn: 0.0120351\ttest: 0.1001652\tbest: 0.1001386 (803)\ttotal: 8.87s\tremaining: 1.93s\n",
      "825:\tlearn: 0.0119303\ttest: 0.1001640\tbest: 0.1000824 (824)\ttotal: 8.92s\tremaining: 1.88s\n",
      "830:\tlearn: 0.0118038\ttest: 0.0998876\tbest: 0.0998876 (830)\ttotal: 8.97s\tremaining: 1.82s\n",
      "835:\tlearn: 0.0117163\ttest: 0.0998639\tbest: 0.0998362 (831)\ttotal: 9.03s\tremaining: 1.77s\n",
      "840:\tlearn: 0.0115773\ttest: 0.0995643\tbest: 0.0994916 (839)\ttotal: 9.08s\tremaining: 1.72s\n",
      "845:\tlearn: 0.0114743\ttest: 0.0995692\tbest: 0.0994916 (839)\ttotal: 9.14s\tremaining: 1.66s\n",
      "850:\tlearn: 0.0113996\ttest: 0.0994521\tbest: 0.0994521 (850)\ttotal: 9.19s\tremaining: 1.61s\n",
      "855:\tlearn: 0.0112824\ttest: 0.0994720\tbest: 0.0994514 (854)\ttotal: 9.24s\tremaining: 1.55s\n",
      "860:\tlearn: 0.0111660\ttest: 0.0993044\tbest: 0.0992181 (858)\ttotal: 9.3s\tremaining: 1.5s\n",
      "865:\tlearn: 0.0110896\ttest: 0.0990923\tbest: 0.0990923 (865)\ttotal: 9.35s\tremaining: 1.45s\n",
      "870:\tlearn: 0.0109932\ttest: 0.0991131\tbest: 0.0990923 (865)\ttotal: 9.4s\tremaining: 1.39s\n",
      "875:\tlearn: 0.0109158\ttest: 0.0992351\tbest: 0.0990923 (865)\ttotal: 9.46s\tremaining: 1.34s\n",
      "880:\tlearn: 0.0108410\ttest: 0.0990790\tbest: 0.0990270 (879)\ttotal: 9.51s\tremaining: 1.28s\n",
      "885:\tlearn: 0.0107657\ttest: 0.0992097\tbest: 0.0990270 (879)\ttotal: 9.56s\tremaining: 1.23s\n",
      "890:\tlearn: 0.0106940\ttest: 0.0989955\tbest: 0.0989955 (890)\ttotal: 9.61s\tremaining: 1.18s\n",
      "895:\tlearn: 0.0106085\ttest: 0.0986772\tbest: 0.0986772 (895)\ttotal: 9.67s\tremaining: 1.12s\n",
      "900:\tlearn: 0.0105327\ttest: 0.0985709\tbest: 0.0985709 (900)\ttotal: 9.72s\tremaining: 1.07s\n",
      "905:\tlearn: 0.0104760\ttest: 0.0983846\tbest: 0.0983846 (905)\ttotal: 9.78s\tremaining: 1.01s\n",
      "910:\tlearn: 0.0103681\ttest: 0.0982778\tbest: 0.0982015 (908)\ttotal: 9.83s\tremaining: 961ms\n",
      "915:\tlearn: 0.0102908\ttest: 0.0981552\tbest: 0.0980983 (914)\ttotal: 9.88s\tremaining: 906ms\n",
      "920:\tlearn: 0.0101885\ttest: 0.0981827\tbest: 0.0980983 (914)\ttotal: 9.94s\tremaining: 853ms\n",
      "925:\tlearn: 0.0101100\ttest: 0.0981361\tbest: 0.0980983 (914)\ttotal: 9.99s\tremaining: 799ms\n"
     ]
    },
    {
     "name": "stdout",
     "output_type": "stream",
     "text": [
      "930:\tlearn: 0.0100283\ttest: 0.0980406\tbest: 0.0980194 (929)\ttotal: 10s\tremaining: 745ms\n",
      "935:\tlearn: 0.0099721\ttest: 0.0979259\tbest: 0.0979259 (935)\ttotal: 10.1s\tremaining: 690ms\n",
      "940:\tlearn: 0.0098959\ttest: 0.0979751\tbest: 0.0979105 (937)\ttotal: 10.2s\tremaining: 636ms\n",
      "945:\tlearn: 0.0098362\ttest: 0.0977493\tbest: 0.0977493 (945)\ttotal: 10.2s\tremaining: 582ms\n",
      "950:\tlearn: 0.0097741\ttest: 0.0976569\tbest: 0.0976569 (950)\ttotal: 10.3s\tremaining: 529ms\n",
      "955:\tlearn: 0.0097013\ttest: 0.0976146\tbest: 0.0975772 (952)\ttotal: 10.3s\tremaining: 475ms\n",
      "960:\tlearn: 0.0096425\ttest: 0.0974538\tbest: 0.0974538 (960)\ttotal: 10.4s\tremaining: 421ms\n",
      "965:\tlearn: 0.0095747\ttest: 0.0972656\tbest: 0.0972656 (965)\ttotal: 10.4s\tremaining: 367ms\n",
      "970:\tlearn: 0.0095153\ttest: 0.0973054\tbest: 0.0972496 (966)\ttotal: 10.5s\tremaining: 313ms\n",
      "975:\tlearn: 0.0094341\ttest: 0.0971097\tbest: 0.0971097 (975)\ttotal: 10.5s\tremaining: 259ms\n",
      "980:\tlearn: 0.0093945\ttest: 0.0970321\tbest: 0.0970140 (979)\ttotal: 10.6s\tremaining: 205ms\n",
      "985:\tlearn: 0.0093161\ttest: 0.0968070\tbest: 0.0968070 (985)\ttotal: 10.6s\tremaining: 151ms\n",
      "990:\tlearn: 0.0092532\ttest: 0.0967297\tbest: 0.0966668 (989)\ttotal: 10.7s\tremaining: 97.1ms\n",
      "995:\tlearn: 0.0091946\ttest: 0.0967853\tbest: 0.0966129 (992)\ttotal: 10.7s\tremaining: 43.1ms\n",
      "999:\tlearn: 0.0091303\ttest: 0.0967841\tbest: 0.0966129 (992)\ttotal: 10.8s\tremaining: 0us\n",
      "bestTest = 0.09661288557\n",
      "bestIteration = 992\n",
      "Shrink model to first 993 iterations.\n",
      "accuracy score:1.000000\n",
      "accuracy score:0.959837\n"
     ]
    }
   ],
   "source": [
    "from catboost import CatBoostClassifier\n",
    "\n",
    "\n",
    "booster = CatBoostClassifier(iterations=1000, verbose=5, task_type=\"GPU\", devices='0:1')\n",
    "\n",
    "booster.fit(X_train, y_train, eval_set=(X_test, y_test))\n",
    "\n",
    "test_preds = booster.predict(X_test)\n",
    "train_preds = booster.predict(X_train)\n",
    "\n",
    "print(\"accuracy score:{:.6f}\".format(metrics.recall_score(y_train, train_preds, average=\"macro\", zero_division=0)))\n",
    "print(\"accuracy score:{:.6f}\".format(metrics.recall_score(y_test, test_preds, average=\"macro\", zero_division=0)))"
   ]
  },
  {
   "cell_type": "code",
   "execution_count": 77,
   "metadata": {},
   "outputs": [
    {
     "name": "stdout",
     "output_type": "stream",
     "text": [
      "Learning rate set to 0.089583\n",
      "0:\tlearn: 1.6986440\ttest: 1.7018747\tbest: 1.7018747 (0)\ttotal: 14.6ms\tremaining: 29.3s\n",
      "5:\tlearn: 1.0923681\ttest: 1.1162167\tbest: 1.1162167 (5)\ttotal: 77ms\tremaining: 25.6s\n",
      "10:\tlearn: 0.8129516\ttest: 0.8447188\tbest: 0.8447188 (10)\ttotal: 135ms\tremaining: 24.5s\n",
      "15:\tlearn: 0.6404699\ttest: 0.6762984\tbest: 0.6762984 (15)\ttotal: 194ms\tremaining: 24.1s\n",
      "20:\tlearn: 0.5271801\ttest: 0.5617244\tbest: 0.5617244 (20)\ttotal: 249ms\tremaining: 23.5s\n",
      "25:\tlearn: 0.4495127\ttest: 0.4863431\tbest: 0.4863431 (25)\ttotal: 304ms\tremaining: 23.1s\n",
      "30:\tlearn: 0.3902536\ttest: 0.4280314\tbest: 0.4280314 (30)\ttotal: 365ms\tremaining: 23.2s\n",
      "35:\tlearn: 0.3445740\ttest: 0.3816897\tbest: 0.3816897 (35)\ttotal: 421ms\tremaining: 23s\n",
      "40:\tlearn: 0.3050608\ttest: 0.3426243\tbest: 0.3426243 (40)\ttotal: 476ms\tremaining: 22.8s\n",
      "45:\tlearn: 0.2765430\ttest: 0.3137570\tbest: 0.3137570 (45)\ttotal: 533ms\tremaining: 22.6s\n",
      "50:\tlearn: 0.2536902\ttest: 0.2923130\tbest: 0.2923130 (50)\ttotal: 586ms\tremaining: 22.4s\n",
      "55:\tlearn: 0.2329612\ttest: 0.2726547\tbest: 0.2726547 (55)\ttotal: 646ms\tremaining: 22.4s\n",
      "60:\tlearn: 0.2171117\ttest: 0.2570301\tbest: 0.2570301 (60)\ttotal: 704ms\tremaining: 22.4s\n",
      "65:\tlearn: 0.2030986\ttest: 0.2447602\tbest: 0.2447602 (65)\ttotal: 762ms\tremaining: 22.3s\n",
      "70:\tlearn: 0.1908794\ttest: 0.2341364\tbest: 0.2341364 (70)\ttotal: 819ms\tremaining: 22.2s\n",
      "75:\tlearn: 0.1793386\ttest: 0.2229483\tbest: 0.2229483 (75)\ttotal: 873ms\tremaining: 22.1s\n",
      "80:\tlearn: 0.1707274\ttest: 0.2154790\tbest: 0.2154790 (80)\ttotal: 928ms\tremaining: 22s\n",
      "85:\tlearn: 0.1630500\ttest: 0.2084226\tbest: 0.2084226 (85)\ttotal: 985ms\tremaining: 21.9s\n",
      "90:\tlearn: 0.1569590\ttest: 0.2030249\tbest: 0.2030249 (90)\ttotal: 1.04s\tremaining: 21.8s\n",
      "95:\tlearn: 0.1520163\ttest: 0.1995246\tbest: 0.1995246 (95)\ttotal: 1.09s\tremaining: 21.7s\n",
      "100:\tlearn: 0.1462633\ttest: 0.1954595\tbest: 0.1954595 (100)\ttotal: 1.15s\tremaining: 21.5s\n",
      "105:\tlearn: 0.1408241\ttest: 0.1916775\tbest: 0.1916775 (105)\ttotal: 1.2s\tremaining: 21.5s\n",
      "110:\tlearn: 0.1366602\ttest: 0.1878868\tbest: 0.1878868 (110)\ttotal: 1.25s\tremaining: 21.4s\n",
      "115:\tlearn: 0.1308553\ttest: 0.1829929\tbest: 0.1829929 (115)\ttotal: 1.31s\tremaining: 21.3s\n",
      "120:\tlearn: 0.1270884\ttest: 0.1795951\tbest: 0.1795951 (120)\ttotal: 1.36s\tremaining: 21.2s\n",
      "125:\tlearn: 0.1234239\ttest: 0.1769509\tbest: 0.1769509 (125)\ttotal: 1.42s\tremaining: 21.1s\n",
      "130:\tlearn: 0.1201386\ttest: 0.1748988\tbest: 0.1748988 (130)\ttotal: 1.47s\tremaining: 21s\n",
      "135:\tlearn: 0.1169715\ttest: 0.1729759\tbest: 0.1729759 (135)\ttotal: 1.52s\tremaining: 20.9s\n",
      "140:\tlearn: 0.1137888\ttest: 0.1710820\tbest: 0.1710820 (140)\ttotal: 1.57s\tremaining: 20.8s\n",
      "145:\tlearn: 0.1111173\ttest: 0.1695516\tbest: 0.1695516 (145)\ttotal: 1.63s\tremaining: 20.7s\n",
      "150:\tlearn: 0.1078987\ttest: 0.1678527\tbest: 0.1678527 (150)\ttotal: 1.68s\tremaining: 20.6s\n",
      "155:\tlearn: 0.1050894\ttest: 0.1657560\tbest: 0.1657560 (155)\ttotal: 1.74s\tremaining: 20.5s\n",
      "160:\tlearn: 0.1026327\ttest: 0.1635597\tbest: 0.1635597 (160)\ttotal: 1.79s\tremaining: 20.4s\n",
      "165:\tlearn: 0.1001703\ttest: 0.1625150\tbest: 0.1625150 (165)\ttotal: 1.84s\tremaining: 20.4s\n",
      "170:\tlearn: 0.0979620\ttest: 0.1617829\tbest: 0.1617829 (170)\ttotal: 1.9s\tremaining: 20.3s\n",
      "175:\tlearn: 0.0955456\ttest: 0.1598294\tbest: 0.1598294 (175)\ttotal: 1.95s\tremaining: 20.2s\n",
      "180:\tlearn: 0.0936910\ttest: 0.1577100\tbest: 0.1577100 (180)\ttotal: 2s\tremaining: 20.1s\n",
      "185:\tlearn: 0.0915157\ttest: 0.1563774\tbest: 0.1563774 (185)\ttotal: 2.05s\tremaining: 20s\n",
      "190:\tlearn: 0.0895536\ttest: 0.1556819\tbest: 0.1556819 (190)\ttotal: 2.11s\tremaining: 20s\n",
      "195:\tlearn: 0.0877745\ttest: 0.1551949\tbest: 0.1551949 (195)\ttotal: 2.16s\tremaining: 19.9s\n",
      "200:\tlearn: 0.0863531\ttest: 0.1535886\tbest: 0.1535886 (200)\ttotal: 2.21s\tremaining: 19.8s\n",
      "205:\tlearn: 0.0844598\ttest: 0.1524519\tbest: 0.1524519 (205)\ttotal: 2.27s\tremaining: 19.7s\n",
      "210:\tlearn: 0.0827264\ttest: 0.1508021\tbest: 0.1508021 (210)\ttotal: 2.32s\tremaining: 19.7s\n",
      "215:\tlearn: 0.0809070\ttest: 0.1500631\tbest: 0.1500631 (215)\ttotal: 2.37s\tremaining: 19.6s\n",
      "220:\tlearn: 0.0794026\ttest: 0.1493464\tbest: 0.1492264 (218)\ttotal: 2.42s\tremaining: 19.5s\n",
      "225:\tlearn: 0.0780222\ttest: 0.1489635\tbest: 0.1489178 (224)\ttotal: 2.47s\tremaining: 19.4s\n",
      "230:\tlearn: 0.0763878\ttest: 0.1483362\tbest: 0.1483362 (230)\ttotal: 2.53s\tremaining: 19.4s\n",
      "235:\tlearn: 0.0749113\ttest: 0.1473003\tbest: 0.1473003 (235)\ttotal: 2.59s\tremaining: 19.3s\n",
      "240:\tlearn: 0.0733455\ttest: 0.1460477\tbest: 0.1460477 (240)\ttotal: 2.64s\tremaining: 19.3s\n",
      "245:\tlearn: 0.0722107\ttest: 0.1450575\tbest: 0.1450575 (245)\ttotal: 2.69s\tremaining: 19.2s\n",
      "250:\tlearn: 0.0708979\ttest: 0.1439968\tbest: 0.1439968 (250)\ttotal: 2.75s\tremaining: 19.1s\n",
      "255:\tlearn: 0.0696093\ttest: 0.1428434\tbest: 0.1428434 (255)\ttotal: 2.8s\tremaining: 19.1s\n",
      "260:\tlearn: 0.0682058\ttest: 0.1415135\tbest: 0.1415135 (260)\ttotal: 2.85s\tremaining: 19s\n",
      "265:\tlearn: 0.0674244\ttest: 0.1411190\tbest: 0.1411190 (265)\ttotal: 2.9s\tremaining: 18.9s\n",
      "270:\tlearn: 0.0663069\ttest: 0.1404328\tbest: 0.1404328 (270)\ttotal: 2.96s\tremaining: 18.9s\n",
      "275:\tlearn: 0.0653014\ttest: 0.1396154\tbest: 0.1396154 (275)\ttotal: 3.01s\tremaining: 18.8s\n",
      "280:\tlearn: 0.0642928\ttest: 0.1387562\tbest: 0.1387562 (280)\ttotal: 3.07s\tremaining: 18.8s\n",
      "285:\tlearn: 0.0632557\ttest: 0.1380126\tbest: 0.1380126 (285)\ttotal: 3.12s\tremaining: 18.7s\n",
      "290:\tlearn: 0.0621343\ttest: 0.1373391\tbest: 0.1373391 (290)\ttotal: 3.18s\tremaining: 18.7s\n",
      "295:\tlearn: 0.0611051\ttest: 0.1365564\tbest: 0.1365564 (295)\ttotal: 3.23s\tremaining: 18.6s\n",
      "300:\tlearn: 0.0600663\ttest: 0.1363071\tbest: 0.1361400 (299)\ttotal: 3.28s\tremaining: 18.5s\n",
      "305:\tlearn: 0.0590271\ttest: 0.1356623\tbest: 0.1356623 (305)\ttotal: 3.34s\tremaining: 18.5s\n",
      "310:\tlearn: 0.0582159\ttest: 0.1351953\tbest: 0.1351953 (310)\ttotal: 3.4s\tremaining: 18.4s\n",
      "315:\tlearn: 0.0571794\ttest: 0.1342629\tbest: 0.1342629 (315)\ttotal: 3.45s\tremaining: 18.4s\n",
      "320:\tlearn: 0.0562267\ttest: 0.1339622\tbest: 0.1339622 (320)\ttotal: 3.5s\tremaining: 18.3s\n",
      "325:\tlearn: 0.0551607\ttest: 0.1331655\tbest: 0.1331655 (325)\ttotal: 3.56s\tremaining: 18.3s\n",
      "330:\tlearn: 0.0541527\ttest: 0.1322454\tbest: 0.1322454 (330)\ttotal: 3.61s\tremaining: 18.2s\n",
      "335:\tlearn: 0.0532705\ttest: 0.1312526\tbest: 0.1312526 (335)\ttotal: 3.67s\tremaining: 18.2s\n",
      "340:\tlearn: 0.0525011\ttest: 0.1304061\tbest: 0.1304061 (340)\ttotal: 3.72s\tremaining: 18.1s\n",
      "345:\tlearn: 0.0518749\ttest: 0.1301803\tbest: 0.1301123 (344)\ttotal: 3.77s\tremaining: 18s\n",
      "350:\tlearn: 0.0512263\ttest: 0.1293266\tbest: 0.1293266 (350)\ttotal: 3.83s\tremaining: 18s\n",
      "355:\tlearn: 0.0504683\ttest: 0.1286451\tbest: 0.1286451 (355)\ttotal: 3.88s\tremaining: 17.9s\n",
      "360:\tlearn: 0.0497255\ttest: 0.1280870\tbest: 0.1280870 (360)\ttotal: 3.94s\tremaining: 17.9s\n",
      "365:\tlearn: 0.0492942\ttest: 0.1280814\tbest: 0.1279570 (362)\ttotal: 3.99s\tremaining: 17.8s\n",
      "370:\tlearn: 0.0487299\ttest: 0.1279456\tbest: 0.1279456 (370)\ttotal: 4.04s\tremaining: 17.8s\n",
      "375:\tlearn: 0.0478747\ttest: 0.1272994\tbest: 0.1271742 (374)\ttotal: 4.1s\tremaining: 17.7s\n",
      "380:\tlearn: 0.0471648\ttest: 0.1264412\tbest: 0.1264412 (380)\ttotal: 4.15s\tremaining: 17.6s\n",
      "385:\tlearn: 0.0464323\ttest: 0.1258824\tbest: 0.1258824 (385)\ttotal: 4.2s\tremaining: 17.6s\n",
      "390:\tlearn: 0.0457407\ttest: 0.1252375\tbest: 0.1252375 (390)\ttotal: 4.26s\tremaining: 17.5s\n",
      "395:\tlearn: 0.0452062\ttest: 0.1251099\tbest: 0.1251099 (395)\ttotal: 4.31s\tremaining: 17.5s\n",
      "400:\tlearn: 0.0443757\ttest: 0.1242490\tbest: 0.1242490 (400)\ttotal: 4.36s\tremaining: 17.4s\n",
      "405:\tlearn: 0.0437674\ttest: 0.1239350\tbest: 0.1239350 (405)\ttotal: 4.42s\tremaining: 17.3s\n",
      "410:\tlearn: 0.0429216\ttest: 0.1232831\tbest: 0.1232831 (410)\ttotal: 4.47s\tremaining: 17.3s\n",
      "415:\tlearn: 0.0424233\ttest: 0.1228236\tbest: 0.1228236 (415)\ttotal: 4.52s\tremaining: 17.2s\n",
      "420:\tlearn: 0.0419160\ttest: 0.1224770\tbest: 0.1224770 (420)\ttotal: 4.58s\tremaining: 17.2s\n",
      "425:\tlearn: 0.0415145\ttest: 0.1224056\tbest: 0.1223001 (422)\ttotal: 4.63s\tremaining: 17.1s\n",
      "430:\tlearn: 0.0408680\ttest: 0.1218565\tbest: 0.1218565 (430)\ttotal: 4.68s\tremaining: 17.1s\n",
      "435:\tlearn: 0.0403358\ttest: 0.1212345\tbest: 0.1212345 (435)\ttotal: 4.74s\tremaining: 17s\n",
      "440:\tlearn: 0.0397409\ttest: 0.1206119\tbest: 0.1206119 (440)\ttotal: 4.79s\tremaining: 16.9s\n",
      "445:\tlearn: 0.0392029\ttest: 0.1203501\tbest: 0.1203501 (445)\ttotal: 4.85s\tremaining: 16.9s\n",
      "450:\tlearn: 0.0386976\ttest: 0.1200685\tbest: 0.1199909 (447)\ttotal: 4.9s\tremaining: 16.8s\n",
      "455:\tlearn: 0.0382357\ttest: 0.1197467\tbest: 0.1197467 (455)\ttotal: 4.96s\tremaining: 16.8s\n",
      "460:\tlearn: 0.0376542\ttest: 0.1195549\tbest: 0.1193995 (458)\ttotal: 5.01s\tremaining: 16.7s\n",
      "465:\tlearn: 0.0372461\ttest: 0.1192357\tbest: 0.1192357 (465)\ttotal: 5.06s\tremaining: 16.7s\n",
      "470:\tlearn: 0.0367721\ttest: 0.1190156\tbest: 0.1189840 (467)\ttotal: 5.12s\tremaining: 16.6s\n"
     ]
    },
    {
     "name": "stdout",
     "output_type": "stream",
     "text": [
      "475:\tlearn: 0.0363627\ttest: 0.1187354\tbest: 0.1187309 (474)\ttotal: 5.17s\tremaining: 16.6s\n",
      "480:\tlearn: 0.0359816\ttest: 0.1185027\tbest: 0.1185027 (480)\ttotal: 5.22s\tremaining: 16.5s\n",
      "485:\tlearn: 0.0355956\ttest: 0.1185161\tbest: 0.1183577 (483)\ttotal: 5.28s\tremaining: 16.4s\n",
      "490:\tlearn: 0.0350856\ttest: 0.1182887\tbest: 0.1182887 (490)\ttotal: 5.33s\tremaining: 16.4s\n",
      "495:\tlearn: 0.0347438\ttest: 0.1182793\tbest: 0.1182085 (494)\ttotal: 5.38s\tremaining: 16.3s\n",
      "500:\tlearn: 0.0343653\ttest: 0.1180117\tbest: 0.1179318 (499)\ttotal: 5.43s\tremaining: 16.3s\n",
      "505:\tlearn: 0.0339240\ttest: 0.1175819\tbest: 0.1175819 (505)\ttotal: 5.48s\tremaining: 16.2s\n",
      "510:\tlearn: 0.0336459\ttest: 0.1174045\tbest: 0.1174045 (510)\ttotal: 5.54s\tremaining: 16.1s\n",
      "515:\tlearn: 0.0333178\ttest: 0.1171511\tbest: 0.1171511 (515)\ttotal: 5.59s\tremaining: 16.1s\n",
      "520:\tlearn: 0.0330235\ttest: 0.1170119\tbest: 0.1170119 (520)\ttotal: 5.65s\tremaining: 16s\n",
      "525:\tlearn: 0.0327047\ttest: 0.1171394\tbest: 0.1170119 (520)\ttotal: 5.7s\tremaining: 16s\n",
      "530:\tlearn: 0.0322210\ttest: 0.1167305\tbest: 0.1167305 (530)\ttotal: 5.76s\tremaining: 15.9s\n",
      "535:\tlearn: 0.0319037\ttest: 0.1167738\tbest: 0.1166545 (532)\ttotal: 5.82s\tremaining: 15.9s\n",
      "540:\tlearn: 0.0315232\ttest: 0.1165576\tbest: 0.1165576 (540)\ttotal: 5.88s\tremaining: 15.9s\n",
      "545:\tlearn: 0.0311806\ttest: 0.1164794\tbest: 0.1164794 (545)\ttotal: 5.93s\tremaining: 15.8s\n",
      "550:\tlearn: 0.0309397\ttest: 0.1161432\tbest: 0.1161194 (549)\ttotal: 5.98s\tremaining: 15.7s\n",
      "555:\tlearn: 0.0305720\ttest: 0.1157930\tbest: 0.1157930 (555)\ttotal: 6.04s\tremaining: 15.7s\n",
      "560:\tlearn: 0.0301787\ttest: 0.1156041\tbest: 0.1156041 (560)\ttotal: 6.09s\tremaining: 15.6s\n",
      "565:\tlearn: 0.0297926\ttest: 0.1152162\tbest: 0.1152162 (565)\ttotal: 6.15s\tremaining: 15.6s\n",
      "570:\tlearn: 0.0295487\ttest: 0.1149386\tbest: 0.1149386 (570)\ttotal: 6.2s\tremaining: 15.5s\n",
      "575:\tlearn: 0.0293176\ttest: 0.1147849\tbest: 0.1147849 (575)\ttotal: 6.25s\tremaining: 15.5s\n",
      "580:\tlearn: 0.0290418\ttest: 0.1145853\tbest: 0.1145433 (579)\ttotal: 6.31s\tremaining: 15.4s\n",
      "585:\tlearn: 0.0286766\ttest: 0.1145929\tbest: 0.1144204 (583)\ttotal: 6.36s\tremaining: 15.4s\n",
      "590:\tlearn: 0.0284195\ttest: 0.1145001\tbest: 0.1143954 (588)\ttotal: 6.42s\tremaining: 15.3s\n",
      "595:\tlearn: 0.0281870\ttest: 0.1143121\tbest: 0.1142749 (594)\ttotal: 6.47s\tremaining: 15.2s\n",
      "600:\tlearn: 0.0278545\ttest: 0.1143776\tbest: 0.1142749 (594)\ttotal: 6.53s\tremaining: 15.2s\n",
      "605:\tlearn: 0.0275568\ttest: 0.1143724\tbest: 0.1142749 (594)\ttotal: 6.59s\tremaining: 15.2s\n",
      "610:\tlearn: 0.0272350\ttest: 0.1141939\tbest: 0.1141939 (610)\ttotal: 6.65s\tremaining: 15.1s\n",
      "615:\tlearn: 0.0269306\ttest: 0.1135436\tbest: 0.1135436 (615)\ttotal: 6.7s\tremaining: 15s\n",
      "620:\tlearn: 0.0266689\ttest: 0.1131847\tbest: 0.1131847 (620)\ttotal: 6.75s\tremaining: 15s\n",
      "625:\tlearn: 0.0264540\ttest: 0.1127911\tbest: 0.1127911 (625)\ttotal: 6.8s\tremaining: 14.9s\n",
      "630:\tlearn: 0.0261389\ttest: 0.1125435\tbest: 0.1125435 (630)\ttotal: 6.85s\tremaining: 14.9s\n",
      "635:\tlearn: 0.0259184\ttest: 0.1123410\tbest: 0.1123410 (635)\ttotal: 6.91s\tremaining: 14.8s\n",
      "640:\tlearn: 0.0256272\ttest: 0.1119279\tbest: 0.1119279 (640)\ttotal: 6.96s\tremaining: 14.8s\n",
      "645:\tlearn: 0.0252896\ttest: 0.1118373\tbest: 0.1117318 (641)\ttotal: 7.02s\tremaining: 14.7s\n",
      "650:\tlearn: 0.0250514\ttest: 0.1116979\tbest: 0.1116963 (647)\ttotal: 7.07s\tremaining: 14.7s\n",
      "655:\tlearn: 0.0248298\ttest: 0.1116584\tbest: 0.1116584 (655)\ttotal: 7.13s\tremaining: 14.6s\n",
      "660:\tlearn: 0.0245012\ttest: 0.1112637\tbest: 0.1112593 (659)\ttotal: 7.18s\tremaining: 14.6s\n",
      "665:\tlearn: 0.0242683\ttest: 0.1109181\tbest: 0.1108971 (664)\ttotal: 7.23s\tremaining: 14.5s\n",
      "670:\tlearn: 0.0240733\ttest: 0.1108583\tbest: 0.1108583 (670)\ttotal: 7.29s\tremaining: 14.4s\n",
      "675:\tlearn: 0.0237928\ttest: 0.1106206\tbest: 0.1105867 (674)\ttotal: 7.35s\tremaining: 14.4s\n",
      "680:\tlearn: 0.0235264\ttest: 0.1104894\tbest: 0.1103562 (679)\ttotal: 7.4s\tremaining: 14.3s\n",
      "685:\tlearn: 0.0233321\ttest: 0.1105128\tbest: 0.1103562 (679)\ttotal: 7.46s\tremaining: 14.3s\n",
      "690:\tlearn: 0.0230880\ttest: 0.1102489\tbest: 0.1102489 (690)\ttotal: 7.51s\tremaining: 14.2s\n",
      "695:\tlearn: 0.0228714\ttest: 0.1103364\tbest: 0.1102489 (690)\ttotal: 7.57s\tremaining: 14.2s\n",
      "700:\tlearn: 0.0226477\ttest: 0.1100170\tbest: 0.1100170 (700)\ttotal: 7.62s\tremaining: 14.1s\n",
      "705:\tlearn: 0.0224296\ttest: 0.1099957\tbest: 0.1099210 (703)\ttotal: 7.67s\tremaining: 14.1s\n",
      "710:\tlearn: 0.0222302\ttest: 0.1100205\tbest: 0.1099210 (703)\ttotal: 7.73s\tremaining: 14s\n",
      "715:\tlearn: 0.0220208\ttest: 0.1097838\tbest: 0.1097788 (714)\ttotal: 7.78s\tremaining: 14s\n",
      "720:\tlearn: 0.0218151\ttest: 0.1097743\tbest: 0.1096830 (718)\ttotal: 7.83s\tremaining: 13.9s\n",
      "725:\tlearn: 0.0216351\ttest: 0.1098172\tbest: 0.1096830 (718)\ttotal: 7.88s\tremaining: 13.8s\n",
      "730:\tlearn: 0.0214349\ttest: 0.1096292\tbest: 0.1096292 (730)\ttotal: 7.94s\tremaining: 13.8s\n",
      "735:\tlearn: 0.0211887\ttest: 0.1094081\tbest: 0.1094081 (735)\ttotal: 8s\tremaining: 13.7s\n",
      "740:\tlearn: 0.0210100\ttest: 0.1093299\tbest: 0.1093299 (740)\ttotal: 8.05s\tremaining: 13.7s\n",
      "745:\tlearn: 0.0208609\ttest: 0.1091445\tbest: 0.1091445 (745)\ttotal: 8.1s\tremaining: 13.6s\n",
      "750:\tlearn: 0.0206662\ttest: 0.1087757\tbest: 0.1087757 (750)\ttotal: 8.16s\tremaining: 13.6s\n",
      "755:\tlearn: 0.0204794\ttest: 0.1086883\tbest: 0.1086218 (754)\ttotal: 8.21s\tremaining: 13.5s\n",
      "760:\tlearn: 0.0202276\ttest: 0.1082649\tbest: 0.1082649 (760)\ttotal: 8.26s\tremaining: 13.5s\n",
      "765:\tlearn: 0.0200202\ttest: 0.1083303\tbest: 0.1082643 (764)\ttotal: 8.32s\tremaining: 13.4s\n",
      "770:\tlearn: 0.0198741\ttest: 0.1081788\tbest: 0.1081606 (768)\ttotal: 8.37s\tremaining: 13.3s\n",
      "775:\tlearn: 0.0196967\ttest: 0.1080367\tbest: 0.1080367 (775)\ttotal: 8.42s\tremaining: 13.3s\n",
      "780:\tlearn: 0.0195052\ttest: 0.1079821\tbest: 0.1079520 (777)\ttotal: 8.48s\tremaining: 13.2s\n",
      "785:\tlearn: 0.0193719\ttest: 0.1078597\tbest: 0.1078597 (785)\ttotal: 8.53s\tremaining: 13.2s\n",
      "790:\tlearn: 0.0191907\ttest: 0.1077687\tbest: 0.1077203 (787)\ttotal: 8.58s\tremaining: 13.1s\n",
      "795:\tlearn: 0.0189773\ttest: 0.1073873\tbest: 0.1073873 (795)\ttotal: 8.64s\tremaining: 13.1s\n",
      "800:\tlearn: 0.0187845\ttest: 0.1072778\tbest: 0.1072304 (798)\ttotal: 8.69s\tremaining: 13s\n",
      "805:\tlearn: 0.0186569\ttest: 0.1070934\tbest: 0.1070934 (805)\ttotal: 8.74s\tremaining: 12.9s\n",
      "810:\tlearn: 0.0185134\ttest: 0.1070957\tbest: 0.1070601 (806)\ttotal: 8.79s\tremaining: 12.9s\n",
      "815:\tlearn: 0.0183455\ttest: 0.1068394\tbest: 0.1068394 (815)\ttotal: 8.85s\tremaining: 12.8s\n",
      "820:\tlearn: 0.0182068\ttest: 0.1067770\tbest: 0.1067770 (820)\ttotal: 8.9s\tremaining: 12.8s\n",
      "825:\tlearn: 0.0180914\ttest: 0.1066525\tbest: 0.1066329 (824)\ttotal: 8.96s\tremaining: 12.7s\n",
      "830:\tlearn: 0.0179478\ttest: 0.1064893\tbest: 0.1064893 (830)\ttotal: 9.01s\tremaining: 12.7s\n",
      "835:\tlearn: 0.0177597\ttest: 0.1062839\tbest: 0.1062839 (835)\ttotal: 9.06s\tremaining: 12.6s\n",
      "840:\tlearn: 0.0175707\ttest: 0.1059023\tbest: 0.1058595 (838)\ttotal: 9.12s\tremaining: 12.6s\n",
      "845:\tlearn: 0.0174625\ttest: 0.1058448\tbest: 0.1058114 (844)\ttotal: 9.17s\tremaining: 12.5s\n",
      "850:\tlearn: 0.0173251\ttest: 0.1058681\tbest: 0.1058114 (844)\ttotal: 9.23s\tremaining: 12.5s\n",
      "855:\tlearn: 0.0172218\ttest: 0.1057370\tbest: 0.1056747 (854)\ttotal: 9.28s\tremaining: 12.4s\n",
      "860:\tlearn: 0.0170667\ttest: 0.1058137\tbest: 0.1056747 (854)\ttotal: 9.33s\tremaining: 12.3s\n",
      "865:\tlearn: 0.0169465\ttest: 0.1055216\tbest: 0.1055216 (865)\ttotal: 9.39s\tremaining: 12.3s\n",
      "870:\tlearn: 0.0168310\ttest: 0.1052528\tbest: 0.1052528 (870)\ttotal: 9.44s\tremaining: 12.2s\n",
      "875:\tlearn: 0.0166795\ttest: 0.1054729\tbest: 0.1052528 (870)\ttotal: 9.5s\tremaining: 12.2s\n",
      "880:\tlearn: 0.0165527\ttest: 0.1053451\tbest: 0.1052528 (870)\ttotal: 9.55s\tremaining: 12.1s\n",
      "885:\tlearn: 0.0164410\ttest: 0.1052510\tbest: 0.1052510 (885)\ttotal: 9.61s\tremaining: 12.1s\n",
      "890:\tlearn: 0.0163366\ttest: 0.1052710\tbest: 0.1052510 (885)\ttotal: 9.66s\tremaining: 12s\n",
      "895:\tlearn: 0.0162325\ttest: 0.1052279\tbest: 0.1052279 (895)\ttotal: 9.72s\tremaining: 12s\n",
      "900:\tlearn: 0.0161207\ttest: 0.1050900\tbest: 0.1050900 (900)\ttotal: 9.77s\tremaining: 11.9s\n",
      "905:\tlearn: 0.0159644\ttest: 0.1049000\tbest: 0.1049000 (905)\ttotal: 9.82s\tremaining: 11.9s\n",
      "910:\tlearn: 0.0158436\ttest: 0.1046845\tbest: 0.1046845 (910)\ttotal: 9.88s\tremaining: 11.8s\n",
      "915:\tlearn: 0.0157404\ttest: 0.1045226\tbest: 0.1045226 (915)\ttotal: 9.93s\tremaining: 11.8s\n",
      "920:\tlearn: 0.0155768\ttest: 0.1041881\tbest: 0.1041881 (920)\ttotal: 9.99s\tremaining: 11.7s\n",
      "925:\tlearn: 0.0154873\ttest: 0.1041676\tbest: 0.1041446 (923)\ttotal: 10s\tremaining: 11.6s\n",
      "930:\tlearn: 0.0153570\ttest: 0.1042072\tbest: 0.1040289 (928)\ttotal: 10.1s\tremaining: 11.6s\n"
     ]
    },
    {
     "name": "stdout",
     "output_type": "stream",
     "text": [
      "935:\tlearn: 0.0152699\ttest: 0.1041112\tbest: 0.1040289 (928)\ttotal: 10.2s\tremaining: 11.5s\n",
      "940:\tlearn: 0.0151933\ttest: 0.1041039\tbest: 0.1040289 (928)\ttotal: 10.2s\tremaining: 11.5s\n",
      "945:\tlearn: 0.0151052\ttest: 0.1040498\tbest: 0.1040002 (944)\ttotal: 10.3s\tremaining: 11.4s\n",
      "950:\tlearn: 0.0149672\ttest: 0.1038221\tbest: 0.1038221 (950)\ttotal: 10.3s\tremaining: 11.4s\n",
      "955:\tlearn: 0.0148806\ttest: 0.1036883\tbest: 0.1036883 (955)\ttotal: 10.4s\tremaining: 11.3s\n",
      "960:\tlearn: 0.0147591\ttest: 0.1034918\tbest: 0.1034918 (960)\ttotal: 10.4s\tremaining: 11.3s\n",
      "965:\tlearn: 0.0146491\ttest: 0.1033935\tbest: 0.1033935 (965)\ttotal: 10.5s\tremaining: 11.2s\n",
      "970:\tlearn: 0.0145492\ttest: 0.1034499\tbest: 0.1033920 (966)\ttotal: 10.5s\tremaining: 11.2s\n",
      "975:\tlearn: 0.0144280\ttest: 0.1032032\tbest: 0.1032032 (975)\ttotal: 10.6s\tremaining: 11.1s\n",
      "980:\tlearn: 0.0143393\ttest: 0.1033083\tbest: 0.1032032 (975)\ttotal: 10.6s\tremaining: 11.1s\n",
      "985:\tlearn: 0.0142183\ttest: 0.1031009\tbest: 0.1030768 (984)\ttotal: 10.7s\tremaining: 11s\n",
      "990:\tlearn: 0.0141229\ttest: 0.1027859\tbest: 0.1027859 (990)\ttotal: 10.8s\tremaining: 10.9s\n",
      "995:\tlearn: 0.0140258\ttest: 0.1026771\tbest: 0.1026771 (995)\ttotal: 10.8s\tremaining: 10.9s\n",
      "1000:\tlearn: 0.0139226\ttest: 0.1027169\tbest: 0.1026554 (997)\ttotal: 10.9s\tremaining: 10.8s\n",
      "1005:\tlearn: 0.0138150\ttest: 0.1027155\tbest: 0.1026554 (997)\ttotal: 10.9s\tremaining: 10.8s\n",
      "1010:\tlearn: 0.0137323\ttest: 0.1024838\tbest: 0.1024838 (1010)\ttotal: 11s\tremaining: 10.7s\n",
      "1015:\tlearn: 0.0136511\ttest: 0.1024519\tbest: 0.1024506 (1011)\ttotal: 11s\tremaining: 10.7s\n",
      "1020:\tlearn: 0.0135804\ttest: 0.1025211\tbest: 0.1024506 (1011)\ttotal: 11.1s\tremaining: 10.6s\n",
      "1025:\tlearn: 0.0134738\ttest: 0.1022919\tbest: 0.1022919 (1025)\ttotal: 11.1s\tremaining: 10.6s\n",
      "1030:\tlearn: 0.0133779\ttest: 0.1022115\tbest: 0.1022111 (1029)\ttotal: 11.2s\tremaining: 10.5s\n",
      "1035:\tlearn: 0.0132956\ttest: 0.1022886\tbest: 0.1022111 (1029)\ttotal: 11.2s\tremaining: 10.5s\n",
      "1040:\tlearn: 0.0132177\ttest: 0.1022167\tbest: 0.1022111 (1029)\ttotal: 11.3s\tremaining: 10.4s\n",
      "1045:\tlearn: 0.0131250\ttest: 0.1021226\tbest: 0.1021226 (1045)\ttotal: 11.3s\tremaining: 10.3s\n",
      "1050:\tlearn: 0.0130655\ttest: 0.1021455\tbest: 0.1021168 (1046)\ttotal: 11.4s\tremaining: 10.3s\n",
      "1055:\tlearn: 0.0129578\ttest: 0.1018129\tbest: 0.1018087 (1053)\ttotal: 11.4s\tremaining: 10.2s\n",
      "1060:\tlearn: 0.0128893\ttest: 0.1016856\tbest: 0.1016794 (1059)\ttotal: 11.5s\tremaining: 10.2s\n",
      "1065:\tlearn: 0.0128074\ttest: 0.1017046\tbest: 0.1016586 (1064)\ttotal: 11.6s\tremaining: 10.1s\n",
      "1070:\tlearn: 0.0127328\ttest: 0.1018327\tbest: 0.1016586 (1064)\ttotal: 11.6s\tremaining: 10.1s\n",
      "1075:\tlearn: 0.0126624\ttest: 0.1017364\tbest: 0.1016586 (1064)\ttotal: 11.7s\tremaining: 10s\n",
      "1080:\tlearn: 0.0125843\ttest: 0.1017753\tbest: 0.1016586 (1064)\ttotal: 11.7s\tremaining: 9.96s\n",
      "1085:\tlearn: 0.0124968\ttest: 0.1014810\tbest: 0.1014810 (1085)\ttotal: 11.8s\tremaining: 9.9s\n",
      "1090:\tlearn: 0.0124269\ttest: 0.1014088\tbest: 0.1014088 (1090)\ttotal: 11.8s\tremaining: 9.84s\n",
      "1095:\tlearn: 0.0123340\ttest: 0.1014721\tbest: 0.1014088 (1090)\ttotal: 11.9s\tremaining: 9.79s\n",
      "1100:\tlearn: 0.0122517\ttest: 0.1014145\tbest: 0.1013985 (1097)\ttotal: 11.9s\tremaining: 9.73s\n",
      "1105:\tlearn: 0.0121893\ttest: 0.1013896\tbest: 0.1013850 (1102)\ttotal: 12s\tremaining: 9.68s\n",
      "1110:\tlearn: 0.0121165\ttest: 0.1014708\tbest: 0.1013850 (1102)\ttotal: 12s\tremaining: 9.62s\n",
      "1115:\tlearn: 0.0120445\ttest: 0.1014300\tbest: 0.1013850 (1102)\ttotal: 12.1s\tremaining: 9.57s\n",
      "1120:\tlearn: 0.0119721\ttest: 0.1012736\tbest: 0.1012736 (1120)\ttotal: 12.1s\tremaining: 9.51s\n",
      "1125:\tlearn: 0.0118871\ttest: 0.1011082\tbest: 0.1011082 (1125)\ttotal: 12.2s\tremaining: 9.46s\n",
      "1130:\tlearn: 0.0117862\ttest: 0.1011647\tbest: 0.1010226 (1127)\ttotal: 12.2s\tremaining: 9.41s\n",
      "1135:\tlearn: 0.0117143\ttest: 0.1010624\tbest: 0.1010226 (1127)\ttotal: 12.3s\tremaining: 9.35s\n",
      "1140:\tlearn: 0.0116612\ttest: 0.1009502\tbest: 0.1009265 (1139)\ttotal: 12.3s\tremaining: 9.29s\n",
      "1145:\tlearn: 0.0115895\ttest: 0.1010639\tbest: 0.1009265 (1139)\ttotal: 12.4s\tremaining: 9.24s\n",
      "1150:\tlearn: 0.0115146\ttest: 0.1009625\tbest: 0.1009265 (1139)\ttotal: 12.5s\tremaining: 9.19s\n",
      "1155:\tlearn: 0.0114477\ttest: 0.1010905\tbest: 0.1009265 (1139)\ttotal: 12.5s\tremaining: 9.13s\n",
      "1160:\tlearn: 0.0113669\ttest: 0.1008037\tbest: 0.1008037 (1160)\ttotal: 12.6s\tremaining: 9.08s\n",
      "1165:\tlearn: 0.0113224\ttest: 0.1007996\tbest: 0.1007450 (1163)\ttotal: 12.6s\tremaining: 9.02s\n",
      "1170:\tlearn: 0.0112554\ttest: 0.1006689\tbest: 0.1006490 (1167)\ttotal: 12.7s\tremaining: 8.96s\n",
      "1175:\tlearn: 0.0112030\ttest: 0.1005183\tbest: 0.1005170 (1174)\ttotal: 12.7s\tremaining: 8.91s\n",
      "1180:\tlearn: 0.0111292\ttest: 0.1002787\tbest: 0.1002787 (1180)\ttotal: 12.8s\tremaining: 8.85s\n",
      "1185:\tlearn: 0.0110685\ttest: 0.1004458\tbest: 0.1002787 (1180)\ttotal: 12.8s\tremaining: 8.8s\n",
      "1190:\tlearn: 0.0109913\ttest: 0.1004263\tbest: 0.1002787 (1180)\ttotal: 12.9s\tremaining: 8.75s\n",
      "1195:\tlearn: 0.0109173\ttest: 0.1003163\tbest: 0.1002787 (1180)\ttotal: 12.9s\tremaining: 8.69s\n",
      "1200:\tlearn: 0.0108652\ttest: 0.1002658\tbest: 0.1002123 (1199)\ttotal: 13s\tremaining: 8.64s\n",
      "1205:\tlearn: 0.0108011\ttest: 0.1002157\tbest: 0.1002123 (1199)\ttotal: 13s\tremaining: 8.58s\n",
      "1210:\tlearn: 0.0107467\ttest: 0.1001735\tbest: 0.1001735 (1210)\ttotal: 13.1s\tremaining: 8.53s\n",
      "1215:\tlearn: 0.0106852\ttest: 0.1000872\tbest: 0.1000872 (1215)\ttotal: 13.1s\tremaining: 8.47s\n",
      "1220:\tlearn: 0.0106209\ttest: 0.1000993\tbest: 0.1000872 (1215)\ttotal: 13.2s\tremaining: 8.42s\n",
      "1225:\tlearn: 0.0105550\ttest: 0.1000470\tbest: 0.1000285 (1224)\ttotal: 13.2s\tremaining: 8.36s\n",
      "1230:\tlearn: 0.0104729\ttest: 0.1000706\tbest: 0.1000285 (1224)\ttotal: 13.3s\tremaining: 8.31s\n",
      "1235:\tlearn: 0.0104027\ttest: 0.0999384\tbest: 0.0999384 (1235)\ttotal: 13.4s\tremaining: 8.26s\n",
      "1240:\tlearn: 0.0103514\ttest: 0.0998275\tbest: 0.0997960 (1239)\ttotal: 13.4s\tremaining: 8.2s\n",
      "1245:\tlearn: 0.0102957\ttest: 0.0996968\tbest: 0.0996968 (1245)\ttotal: 13.5s\tremaining: 8.14s\n",
      "1250:\tlearn: 0.0102309\ttest: 0.0996332\tbest: 0.0996224 (1247)\ttotal: 13.5s\tremaining: 8.09s\n",
      "1255:\tlearn: 0.0101714\ttest: 0.0996973\tbest: 0.0995944 (1253)\ttotal: 13.6s\tremaining: 8.04s\n",
      "1260:\tlearn: 0.0101273\ttest: 0.0996027\tbest: 0.0995944 (1253)\ttotal: 13.6s\tremaining: 7.98s\n",
      "1265:\tlearn: 0.0100559\ttest: 0.0994408\tbest: 0.0994408 (1265)\ttotal: 13.7s\tremaining: 7.93s\n",
      "1270:\tlearn: 0.0100133\ttest: 0.0992433\tbest: 0.0992400 (1269)\ttotal: 13.7s\tremaining: 7.87s\n",
      "1275:\tlearn: 0.0099608\ttest: 0.0991378\tbest: 0.0991007 (1274)\ttotal: 13.8s\tremaining: 7.82s\n",
      "1280:\tlearn: 0.0099095\ttest: 0.0989401\tbest: 0.0989401 (1280)\ttotal: 13.8s\tremaining: 7.76s\n",
      "1285:\tlearn: 0.0098463\ttest: 0.0989261\tbest: 0.0988944 (1282)\ttotal: 13.9s\tremaining: 7.71s\n",
      "1290:\tlearn: 0.0097890\ttest: 0.0989506\tbest: 0.0988944 (1282)\ttotal: 13.9s\tremaining: 7.65s\n",
      "1295:\tlearn: 0.0097432\ttest: 0.0988130\tbest: 0.0988130 (1295)\ttotal: 14s\tremaining: 7.6s\n",
      "1300:\tlearn: 0.0096946\ttest: 0.0988676\tbest: 0.0988130 (1295)\ttotal: 14s\tremaining: 7.54s\n",
      "1305:\tlearn: 0.0096234\ttest: 0.0987319\tbest: 0.0987319 (1305)\ttotal: 14.1s\tremaining: 7.49s\n",
      "1310:\tlearn: 0.0095670\ttest: 0.0985517\tbest: 0.0985449 (1309)\ttotal: 14.1s\tremaining: 7.43s\n",
      "1315:\tlearn: 0.0095136\ttest: 0.0984334\tbest: 0.0984334 (1315)\ttotal: 14.2s\tremaining: 7.38s\n",
      "1320:\tlearn: 0.0094585\ttest: 0.0983679\tbest: 0.0983383 (1318)\ttotal: 14.3s\tremaining: 7.33s\n",
      "1325:\tlearn: 0.0094136\ttest: 0.0983819\tbest: 0.0983011 (1323)\ttotal: 14.3s\tremaining: 7.27s\n",
      "1330:\tlearn: 0.0093527\ttest: 0.0983600\tbest: 0.0983011 (1323)\ttotal: 14.4s\tremaining: 7.21s\n",
      "1335:\tlearn: 0.0093059\ttest: 0.0982323\tbest: 0.0982323 (1335)\ttotal: 14.4s\tremaining: 7.16s\n",
      "1340:\tlearn: 0.0092583\ttest: 0.0982372\tbest: 0.0981692 (1336)\ttotal: 14.5s\tremaining: 7.11s\n",
      "1345:\tlearn: 0.0092211\ttest: 0.0982579\tbest: 0.0981692 (1336)\ttotal: 14.5s\tremaining: 7.05s\n",
      "1350:\tlearn: 0.0091817\ttest: 0.0982871\tbest: 0.0981692 (1336)\ttotal: 14.6s\tremaining: 7s\n",
      "1355:\tlearn: 0.0091488\ttest: 0.0982874\tbest: 0.0981692 (1336)\ttotal: 14.6s\tremaining: 6.94s\n",
      "1360:\tlearn: 0.0090948\ttest: 0.0982240\tbest: 0.0981692 (1336)\ttotal: 14.7s\tremaining: 6.89s\n",
      "1365:\tlearn: 0.0090356\ttest: 0.0981458\tbest: 0.0981458 (1365)\ttotal: 14.7s\tremaining: 6.83s\n",
      "1370:\tlearn: 0.0089980\ttest: 0.0981518\tbest: 0.0981309 (1367)\ttotal: 14.8s\tremaining: 6.78s\n",
      "1375:\tlearn: 0.0089586\ttest: 0.0981674\tbest: 0.0981309 (1367)\ttotal: 14.8s\tremaining: 6.72s\n",
      "1380:\tlearn: 0.0089194\ttest: 0.0980380\tbest: 0.0980380 (1380)\ttotal: 14.9s\tremaining: 6.67s\n",
      "1385:\tlearn: 0.0088790\ttest: 0.0980184\tbest: 0.0979987 (1383)\ttotal: 14.9s\tremaining: 6.61s\n",
      "1390:\tlearn: 0.0088401\ttest: 0.0979534\tbest: 0.0979534 (1390)\ttotal: 15s\tremaining: 6.56s\n"
     ]
    },
    {
     "name": "stdout",
     "output_type": "stream",
     "text": [
      "1395:\tlearn: 0.0087982\ttest: 0.0980534\tbest: 0.0979247 (1392)\ttotal: 15s\tremaining: 6.5s\n",
      "1400:\tlearn: 0.0087599\ttest: 0.0981497\tbest: 0.0979247 (1392)\ttotal: 15.1s\tremaining: 6.45s\n",
      "1405:\tlearn: 0.0087219\ttest: 0.0980449\tbest: 0.0979247 (1392)\ttotal: 15.1s\tremaining: 6.39s\n",
      "1410:\tlearn: 0.0086887\ttest: 0.0980055\tbest: 0.0979247 (1392)\ttotal: 15.2s\tremaining: 6.34s\n",
      "1415:\tlearn: 0.0086512\ttest: 0.0981293\tbest: 0.0979247 (1392)\ttotal: 15.2s\tremaining: 6.28s\n",
      "1420:\tlearn: 0.0086128\ttest: 0.0980447\tbest: 0.0979247 (1392)\ttotal: 15.3s\tremaining: 6.23s\n",
      "1425:\tlearn: 0.0085730\ttest: 0.0979266\tbest: 0.0979247 (1392)\ttotal: 15.3s\tremaining: 6.17s\n",
      "1430:\tlearn: 0.0085267\ttest: 0.0979084\tbest: 0.0978954 (1428)\ttotal: 15.4s\tremaining: 6.12s\n",
      "1435:\tlearn: 0.0084760\ttest: 0.0977235\tbest: 0.0977235 (1435)\ttotal: 15.4s\tremaining: 6.07s\n",
      "1440:\tlearn: 0.0084336\ttest: 0.0977657\tbest: 0.0977235 (1435)\ttotal: 15.5s\tremaining: 6.01s\n",
      "1445:\tlearn: 0.0083812\ttest: 0.0978935\tbest: 0.0977235 (1435)\ttotal: 15.6s\tremaining: 5.96s\n",
      "1450:\tlearn: 0.0083537\ttest: 0.0977816\tbest: 0.0977235 (1435)\ttotal: 15.6s\tremaining: 5.91s\n",
      "1455:\tlearn: 0.0083075\ttest: 0.0976656\tbest: 0.0976656 (1455)\ttotal: 15.7s\tremaining: 5.85s\n",
      "1460:\tlearn: 0.0082704\ttest: 0.0976125\tbest: 0.0976125 (1460)\ttotal: 15.7s\tremaining: 5.8s\n",
      "1465:\tlearn: 0.0082238\ttest: 0.0975068\tbest: 0.0975068 (1465)\ttotal: 15.8s\tremaining: 5.75s\n",
      "1470:\tlearn: 0.0081914\ttest: 0.0974734\tbest: 0.0974407 (1467)\ttotal: 15.8s\tremaining: 5.69s\n",
      "1475:\tlearn: 0.0081468\ttest: 0.0973689\tbest: 0.0973689 (1475)\ttotal: 15.9s\tremaining: 5.63s\n",
      "1480:\tlearn: 0.0080970\ttest: 0.0973789\tbest: 0.0973524 (1479)\ttotal: 15.9s\tremaining: 5.58s\n",
      "1485:\tlearn: 0.0080669\ttest: 0.0973987\tbest: 0.0973524 (1479)\ttotal: 16s\tremaining: 5.53s\n",
      "1490:\tlearn: 0.0080241\ttest: 0.0973060\tbest: 0.0973060 (1490)\ttotal: 16s\tremaining: 5.47s\n",
      "1495:\tlearn: 0.0079775\ttest: 0.0972114\tbest: 0.0972114 (1495)\ttotal: 16.1s\tremaining: 5.42s\n",
      "1500:\tlearn: 0.0079426\ttest: 0.0971932\tbest: 0.0971763 (1499)\ttotal: 16.1s\tremaining: 5.37s\n",
      "1505:\tlearn: 0.0079132\ttest: 0.0971207\tbest: 0.0971207 (1505)\ttotal: 16.2s\tremaining: 5.31s\n",
      "1510:\tlearn: 0.0078747\ttest: 0.0971311\tbest: 0.0970770 (1506)\ttotal: 16.2s\tremaining: 5.26s\n",
      "1515:\tlearn: 0.0078368\ttest: 0.0970991\tbest: 0.0970319 (1512)\ttotal: 16.3s\tremaining: 5.2s\n",
      "1520:\tlearn: 0.0077982\ttest: 0.0971000\tbest: 0.0970319 (1512)\ttotal: 16.4s\tremaining: 5.15s\n",
      "1525:\tlearn: 0.0077619\ttest: 0.0969175\tbest: 0.0969175 (1525)\ttotal: 16.4s\tremaining: 5.1s\n",
      "1530:\tlearn: 0.0077378\ttest: 0.0969112\tbest: 0.0968958 (1528)\ttotal: 16.5s\tremaining: 5.05s\n",
      "1535:\tlearn: 0.0077062\ttest: 0.0968443\tbest: 0.0968379 (1532)\ttotal: 16.5s\tremaining: 4.99s\n",
      "1540:\tlearn: 0.0076822\ttest: 0.0968274\tbest: 0.0968250 (1536)\ttotal: 16.6s\tremaining: 4.94s\n",
      "1545:\tlearn: 0.0076558\ttest: 0.0968012\tbest: 0.0968012 (1545)\ttotal: 16.6s\tremaining: 4.88s\n",
      "1550:\tlearn: 0.0076105\ttest: 0.0967989\tbest: 0.0967989 (1550)\ttotal: 16.7s\tremaining: 4.83s\n",
      "1555:\tlearn: 0.0075703\ttest: 0.0966023\tbest: 0.0966023 (1555)\ttotal: 16.7s\tremaining: 4.78s\n",
      "1560:\tlearn: 0.0075433\ttest: 0.0965911\tbest: 0.0965657 (1557)\ttotal: 16.8s\tremaining: 4.72s\n",
      "1565:\tlearn: 0.0075138\ttest: 0.0965242\tbest: 0.0965112 (1562)\ttotal: 16.9s\tremaining: 4.67s\n",
      "1570:\tlearn: 0.0074855\ttest: 0.0964769\tbest: 0.0964496 (1569)\ttotal: 16.9s\tremaining: 4.62s\n",
      "1575:\tlearn: 0.0074544\ttest: 0.0964819\tbest: 0.0964496 (1569)\ttotal: 17s\tremaining: 4.56s\n",
      "1580:\tlearn: 0.0074290\ttest: 0.0965816\tbest: 0.0964496 (1569)\ttotal: 17s\tremaining: 4.51s\n",
      "1585:\tlearn: 0.0074022\ttest: 0.0964874\tbest: 0.0964496 (1569)\ttotal: 17.1s\tremaining: 4.46s\n",
      "1590:\tlearn: 0.0073780\ttest: 0.0964866\tbest: 0.0964496 (1569)\ttotal: 17.1s\tremaining: 4.4s\n",
      "1595:\tlearn: 0.0073389\ttest: 0.0965001\tbest: 0.0964445 (1591)\ttotal: 17.2s\tremaining: 4.35s\n",
      "1600:\tlearn: 0.0073002\ttest: 0.0964871\tbest: 0.0964445 (1591)\ttotal: 17.2s\tremaining: 4.29s\n",
      "1605:\tlearn: 0.0072620\ttest: 0.0963945\tbest: 0.0963945 (1605)\ttotal: 17.3s\tremaining: 4.24s\n",
      "1610:\tlearn: 0.0072352\ttest: 0.0963785\tbest: 0.0963512 (1608)\ttotal: 17.3s\tremaining: 4.19s\n",
      "1615:\tlearn: 0.0071922\ttest: 0.0963430\tbest: 0.0962728 (1614)\ttotal: 17.4s\tremaining: 4.13s\n",
      "1620:\tlearn: 0.0071624\ttest: 0.0963508\tbest: 0.0962728 (1614)\ttotal: 17.4s\tremaining: 4.08s\n",
      "1625:\tlearn: 0.0071387\ttest: 0.0963664\tbest: 0.0962728 (1614)\ttotal: 17.5s\tremaining: 4.03s\n",
      "1630:\tlearn: 0.0071036\ttest: 0.0962661\tbest: 0.0962595 (1629)\ttotal: 17.6s\tremaining: 3.97s\n",
      "1635:\tlearn: 0.0070756\ttest: 0.0962579\tbest: 0.0962488 (1634)\ttotal: 17.6s\tremaining: 3.92s\n",
      "1640:\tlearn: 0.0070495\ttest: 0.0963093\tbest: 0.0962488 (1634)\ttotal: 17.7s\tremaining: 3.86s\n",
      "1645:\tlearn: 0.0070275\ttest: 0.0963992\tbest: 0.0962488 (1634)\ttotal: 17.7s\tremaining: 3.81s\n",
      "1650:\tlearn: 0.0070089\ttest: 0.0963382\tbest: 0.0962488 (1634)\ttotal: 17.8s\tremaining: 3.75s\n",
      "1655:\tlearn: 0.0069706\ttest: 0.0963068\tbest: 0.0962488 (1634)\ttotal: 17.8s\tremaining: 3.7s\n",
      "1660:\tlearn: 0.0069380\ttest: 0.0962968\tbest: 0.0962488 (1634)\ttotal: 17.9s\tremaining: 3.65s\n",
      "1665:\tlearn: 0.0069095\ttest: 0.0962683\tbest: 0.0962488 (1634)\ttotal: 17.9s\tremaining: 3.6s\n",
      "1670:\tlearn: 0.0068839\ttest: 0.0962230\tbest: 0.0962230 (1670)\ttotal: 18s\tremaining: 3.54s\n",
      "1675:\tlearn: 0.0068619\ttest: 0.0961926\tbest: 0.0961558 (1673)\ttotal: 18s\tremaining: 3.49s\n",
      "1680:\tlearn: 0.0068426\ttest: 0.0961932\tbest: 0.0961558 (1673)\ttotal: 18.1s\tremaining: 3.43s\n",
      "1685:\tlearn: 0.0068139\ttest: 0.0962974\tbest: 0.0961558 (1673)\ttotal: 18.1s\tremaining: 3.38s\n",
      "1690:\tlearn: 0.0067891\ttest: 0.0962444\tbest: 0.0961558 (1673)\ttotal: 18.2s\tremaining: 3.33s\n",
      "1695:\tlearn: 0.0067483\ttest: 0.0961726\tbest: 0.0961223 (1693)\ttotal: 18.3s\tremaining: 3.27s\n",
      "1700:\tlearn: 0.0067139\ttest: 0.0959922\tbest: 0.0959922 (1700)\ttotal: 18.3s\tremaining: 3.22s\n",
      "1705:\tlearn: 0.0066852\ttest: 0.0958973\tbest: 0.0958823 (1704)\ttotal: 18.4s\tremaining: 3.17s\n",
      "1710:\tlearn: 0.0066589\ttest: 0.0958363\tbest: 0.0958363 (1710)\ttotal: 18.4s\tremaining: 3.11s\n",
      "1715:\tlearn: 0.0066306\ttest: 0.0958993\tbest: 0.0958363 (1710)\ttotal: 18.5s\tremaining: 3.06s\n",
      "1720:\tlearn: 0.0066084\ttest: 0.0957894\tbest: 0.0957894 (1720)\ttotal: 18.5s\tremaining: 3s\n",
      "1725:\tlearn: 0.0065739\ttest: 0.0956372\tbest: 0.0955991 (1723)\ttotal: 18.6s\tremaining: 2.95s\n",
      "1730:\tlearn: 0.0065404\ttest: 0.0955702\tbest: 0.0955702 (1730)\ttotal: 18.6s\tremaining: 2.9s\n",
      "1735:\tlearn: 0.0065145\ttest: 0.0955384\tbest: 0.0955384 (1735)\ttotal: 18.7s\tremaining: 2.84s\n",
      "1740:\tlearn: 0.0064861\ttest: 0.0954540\tbest: 0.0954540 (1740)\ttotal: 18.7s\tremaining: 2.79s\n",
      "1745:\tlearn: 0.0064618\ttest: 0.0953267\tbest: 0.0953267 (1745)\ttotal: 18.8s\tremaining: 2.73s\n",
      "1750:\tlearn: 0.0064382\ttest: 0.0953714\tbest: 0.0953267 (1745)\ttotal: 18.8s\tremaining: 2.68s\n",
      "1755:\tlearn: 0.0064148\ttest: 0.0953612\tbest: 0.0953267 (1745)\ttotal: 18.9s\tremaining: 2.63s\n",
      "1760:\tlearn: 0.0063858\ttest: 0.0953213\tbest: 0.0953213 (1760)\ttotal: 19s\tremaining: 2.57s\n",
      "1765:\tlearn: 0.0063625\ttest: 0.0952615\tbest: 0.0952615 (1765)\ttotal: 19s\tremaining: 2.52s\n",
      "1770:\tlearn: 0.0063273\ttest: 0.0953045\tbest: 0.0952214 (1767)\ttotal: 19.1s\tremaining: 2.46s\n",
      "1775:\tlearn: 0.0063093\ttest: 0.0952662\tbest: 0.0952214 (1767)\ttotal: 19.1s\tremaining: 2.41s\n",
      "1780:\tlearn: 0.0062865\ttest: 0.0952407\tbest: 0.0952214 (1767)\ttotal: 19.2s\tremaining: 2.35s\n",
      "1785:\tlearn: 0.0062667\ttest: 0.0952756\tbest: 0.0952214 (1767)\ttotal: 19.2s\tremaining: 2.3s\n",
      "1790:\tlearn: 0.0062366\ttest: 0.0951587\tbest: 0.0951587 (1790)\ttotal: 19.3s\tremaining: 2.25s\n",
      "1795:\tlearn: 0.0062168\ttest: 0.0950343\tbest: 0.0950343 (1795)\ttotal: 19.3s\tremaining: 2.19s\n",
      "1800:\tlearn: 0.0061958\ttest: 0.0951453\tbest: 0.0950343 (1795)\ttotal: 19.4s\tremaining: 2.14s\n",
      "1805:\tlearn: 0.0061744\ttest: 0.0951483\tbest: 0.0950343 (1795)\ttotal: 19.4s\tremaining: 2.08s\n",
      "1810:\tlearn: 0.0061529\ttest: 0.0951673\tbest: 0.0950343 (1795)\ttotal: 19.5s\tremaining: 2.03s\n",
      "1815:\tlearn: 0.0061250\ttest: 0.0951379\tbest: 0.0950343 (1795)\ttotal: 19.5s\tremaining: 1.98s\n",
      "1820:\tlearn: 0.0060987\ttest: 0.0950477\tbest: 0.0950343 (1795)\ttotal: 19.6s\tremaining: 1.92s\n",
      "1825:\tlearn: 0.0060770\ttest: 0.0950559\tbest: 0.0950343 (1795)\ttotal: 19.6s\tremaining: 1.87s\n",
      "1830:\tlearn: 0.0060450\ttest: 0.0949984\tbest: 0.0949984 (1830)\ttotal: 19.7s\tremaining: 1.82s\n",
      "1835:\tlearn: 0.0060117\ttest: 0.0949206\tbest: 0.0949206 (1835)\ttotal: 19.7s\tremaining: 1.76s\n",
      "1840:\tlearn: 0.0059897\ttest: 0.0949573\tbest: 0.0949206 (1835)\ttotal: 19.8s\tremaining: 1.71s\n",
      "1845:\tlearn: 0.0059627\ttest: 0.0949555\tbest: 0.0949206 (1835)\ttotal: 19.8s\tremaining: 1.66s\n",
      "1850:\tlearn: 0.0059399\ttest: 0.0949417\tbest: 0.0949206 (1835)\ttotal: 19.9s\tremaining: 1.6s\n"
     ]
    },
    {
     "name": "stdout",
     "output_type": "stream",
     "text": [
      "1855:\tlearn: 0.0059091\ttest: 0.0947796\tbest: 0.0947796 (1855)\ttotal: 19.9s\tremaining: 1.55s\n",
      "1860:\tlearn: 0.0058858\ttest: 0.0947088\tbest: 0.0947088 (1860)\ttotal: 20s\tremaining: 1.49s\n",
      "1865:\tlearn: 0.0058640\ttest: 0.0947235\tbest: 0.0947088 (1860)\ttotal: 20.1s\tremaining: 1.44s\n",
      "1870:\tlearn: 0.0058468\ttest: 0.0947765\tbest: 0.0946912 (1866)\ttotal: 20.1s\tremaining: 1.39s\n",
      "1875:\tlearn: 0.0058264\ttest: 0.0948179\tbest: 0.0946912 (1866)\ttotal: 20.2s\tremaining: 1.33s\n",
      "1880:\tlearn: 0.0058029\ttest: 0.0947947\tbest: 0.0946912 (1866)\ttotal: 20.2s\tremaining: 1.28s\n",
      "1885:\tlearn: 0.0057838\ttest: 0.0947625\tbest: 0.0946912 (1866)\ttotal: 20.3s\tremaining: 1.22s\n",
      "1890:\tlearn: 0.0057615\ttest: 0.0946884\tbest: 0.0946884 (1890)\ttotal: 20.3s\tremaining: 1.17s\n",
      "1895:\tlearn: 0.0057328\ttest: 0.0945808\tbest: 0.0945483 (1894)\ttotal: 20.4s\tremaining: 1.12s\n",
      "1900:\tlearn: 0.0057011\ttest: 0.0944361\tbest: 0.0944361 (1900)\ttotal: 20.4s\tremaining: 1.06s\n",
      "1905:\tlearn: 0.0056813\ttest: 0.0945095\tbest: 0.0944361 (1900)\ttotal: 20.5s\tremaining: 1.01s\n",
      "1910:\tlearn: 0.0056560\ttest: 0.0945263\tbest: 0.0944361 (1900)\ttotal: 20.5s\tremaining: 956ms\n",
      "1915:\tlearn: 0.0056355\ttest: 0.0945637\tbest: 0.0944361 (1900)\ttotal: 20.6s\tremaining: 903ms\n",
      "1920:\tlearn: 0.0056169\ttest: 0.0944855\tbest: 0.0944361 (1900)\ttotal: 20.6s\tremaining: 849ms\n",
      "1925:\tlearn: 0.0055916\ttest: 0.0944493\tbest: 0.0944361 (1900)\ttotal: 20.7s\tremaining: 795ms\n",
      "1930:\tlearn: 0.0055629\ttest: 0.0943395\tbest: 0.0943395 (1930)\ttotal: 20.8s\tremaining: 741ms\n",
      "1935:\tlearn: 0.0055460\ttest: 0.0943163\tbest: 0.0943057 (1933)\ttotal: 20.8s\tremaining: 688ms\n",
      "1940:\tlearn: 0.0055273\ttest: 0.0941769\tbest: 0.0941769 (1940)\ttotal: 20.9s\tremaining: 634ms\n",
      "1945:\tlearn: 0.0055032\ttest: 0.0941557\tbest: 0.0941334 (1943)\ttotal: 20.9s\tremaining: 580ms\n",
      "1950:\tlearn: 0.0054769\ttest: 0.0941417\tbest: 0.0940844 (1947)\ttotal: 21s\tremaining: 527ms\n",
      "1955:\tlearn: 0.0054574\ttest: 0.0940920\tbest: 0.0940844 (1947)\ttotal: 21s\tremaining: 473ms\n",
      "1960:\tlearn: 0.0054417\ttest: 0.0940417\tbest: 0.0940379 (1959)\ttotal: 21.1s\tremaining: 419ms\n",
      "1965:\tlearn: 0.0054183\ttest: 0.0939889\tbest: 0.0939889 (1965)\ttotal: 21.1s\tremaining: 365ms\n",
      "1970:\tlearn: 0.0054045\ttest: 0.0940396\tbest: 0.0939889 (1965)\ttotal: 21.2s\tremaining: 312ms\n",
      "1975:\tlearn: 0.0053790\ttest: 0.0940145\tbest: 0.0939362 (1971)\ttotal: 21.2s\tremaining: 258ms\n",
      "1980:\tlearn: 0.0053597\ttest: 0.0939470\tbest: 0.0939362 (1971)\ttotal: 21.3s\tremaining: 204ms\n",
      "1985:\tlearn: 0.0053477\ttest: 0.0939153\tbest: 0.0939153 (1985)\ttotal: 21.3s\tremaining: 150ms\n",
      "1990:\tlearn: 0.0053274\ttest: 0.0938976\tbest: 0.0938482 (1988)\ttotal: 21.4s\tremaining: 96.7ms\n",
      "1995:\tlearn: 0.0053082\ttest: 0.0938442\tbest: 0.0938251 (1993)\ttotal: 21.4s\tremaining: 43ms\n",
      "1999:\tlearn: 0.0052984\ttest: 0.0938193\tbest: 0.0938193 (1999)\ttotal: 21.5s\tremaining: 0us\n",
      "bestTest = 0.09381928543\n",
      "bestIteration = 1999\n",
      "accuracy score:1.000000\n",
      "accuracy score:0.960487\n"
     ]
    }
   ],
   "source": [
    "from catboost import CatBoostClassifier\n",
    "\n",
    "\n",
    "booster = CatBoostClassifier(iterations=2000, verbose=5, task_type=\"GPU\", devices='0:1')\n",
    "\n",
    "booster.fit(X_train, y_train, eval_set=(X_test, y_test))\n",
    "\n",
    "test_preds = booster.predict(X_test)\n",
    "train_preds = booster.predict(X_train)\n",
    "\n",
    "print(\"accuracy score:{:.6f}\".format(metrics.recall_score(y_train, train_preds, average=\"macro\", zero_division=0)))\n",
    "print(\"accuracy score:{:.6f}\".format(metrics.recall_score(y_test, test_preds, average=\"macro\", zero_division=0)))"
   ]
  },
  {
   "cell_type": "code",
   "execution_count": 79,
   "metadata": {},
   "outputs": [
    {
     "name": "stdout",
     "output_type": "stream",
     "text": [
      "Learning rate set to 0.075037\n",
      "0:\tlearn: 1.7371863\ttest: 1.7399131\tbest: 1.7399131 (0)\ttotal: 16.4ms\tremaining: 49.2s\n",
      "5:\tlearn: 1.1815141\ttest: 1.2013561\tbest: 1.2013561 (5)\ttotal: 81ms\tremaining: 40.4s\n",
      "10:\tlearn: 0.9133552\ttest: 0.9334458\tbest: 0.9334458 (10)\ttotal: 149ms\tremaining: 40.4s\n",
      "15:\tlearn: 0.7253558\ttest: 0.7529616\tbest: 0.7529616 (15)\ttotal: 213ms\tremaining: 39.7s\n",
      "20:\tlearn: 0.6070088\ttest: 0.6378231\tbest: 0.6378231 (20)\ttotal: 272ms\tremaining: 38.6s\n",
      "25:\tlearn: 0.5204327\ttest: 0.5528202\tbest: 0.5528202 (25)\ttotal: 333ms\tremaining: 38.1s\n",
      "30:\tlearn: 0.4536378\ttest: 0.4876968\tbest: 0.4876968 (30)\ttotal: 389ms\tremaining: 37.2s\n",
      "35:\tlearn: 0.4022553\ttest: 0.4387012\tbest: 0.4387012 (35)\ttotal: 448ms\tremaining: 36.9s\n",
      "40:\tlearn: 0.3602535\ttest: 0.3991045\tbest: 0.3991045 (40)\ttotal: 508ms\tremaining: 36.7s\n",
      "45:\tlearn: 0.3280292\ttest: 0.3673126\tbest: 0.3673126 (45)\ttotal: 566ms\tremaining: 36.4s\n",
      "50:\tlearn: 0.3020890\ttest: 0.3416820\tbest: 0.3416820 (50)\ttotal: 621ms\tremaining: 35.9s\n",
      "55:\tlearn: 0.2783727\ttest: 0.3197591\tbest: 0.3197591 (55)\ttotal: 679ms\tremaining: 35.7s\n",
      "60:\tlearn: 0.2582242\ttest: 0.2998238\tbest: 0.2998238 (60)\ttotal: 739ms\tremaining: 35.6s\n",
      "65:\tlearn: 0.2410347\ttest: 0.2822831\tbest: 0.2822831 (65)\ttotal: 798ms\tremaining: 35.5s\n",
      "70:\tlearn: 0.2265464\ttest: 0.2682929\tbest: 0.2682929 (70)\ttotal: 856ms\tremaining: 35.3s\n",
      "75:\tlearn: 0.2134701\ttest: 0.2546347\tbest: 0.2546347 (75)\ttotal: 914ms\tremaining: 35.1s\n",
      "80:\tlearn: 0.2018060\ttest: 0.2437276\tbest: 0.2437276 (80)\ttotal: 973ms\tremaining: 35.1s\n",
      "85:\tlearn: 0.1915413\ttest: 0.2336213\tbest: 0.2336213 (85)\ttotal: 1.03s\tremaining: 35s\n",
      "90:\tlearn: 0.1815200\ttest: 0.2245128\tbest: 0.2245128 (90)\ttotal: 1.09s\tremaining: 34.8s\n",
      "95:\tlearn: 0.1735826\ttest: 0.2177631\tbest: 0.2177631 (95)\ttotal: 1.15s\tremaining: 34.7s\n",
      "100:\tlearn: 0.1664948\ttest: 0.2115848\tbest: 0.2115848 (100)\ttotal: 1.2s\tremaining: 34.5s\n",
      "105:\tlearn: 0.1595896\ttest: 0.2054338\tbest: 0.2054338 (105)\ttotal: 1.26s\tremaining: 34.4s\n",
      "110:\tlearn: 0.1537763\ttest: 0.2001065\tbest: 0.2001065 (110)\ttotal: 1.31s\tremaining: 34.2s\n",
      "115:\tlearn: 0.1481600\ttest: 0.1957482\tbest: 0.1957482 (115)\ttotal: 1.37s\tremaining: 34.1s\n",
      "120:\tlearn: 0.1437238\ttest: 0.1928467\tbest: 0.1928467 (120)\ttotal: 1.43s\tremaining: 34s\n",
      "125:\tlearn: 0.1397919\ttest: 0.1896948\tbest: 0.1896948 (125)\ttotal: 1.48s\tremaining: 33.8s\n",
      "130:\tlearn: 0.1360385\ttest: 0.1872370\tbest: 0.1872370 (130)\ttotal: 1.54s\tremaining: 33.6s\n",
      "135:\tlearn: 0.1327839\ttest: 0.1851352\tbest: 0.1851352 (135)\ttotal: 1.59s\tremaining: 33.5s\n",
      "140:\tlearn: 0.1292152\ttest: 0.1821458\tbest: 0.1821458 (140)\ttotal: 1.65s\tremaining: 33.4s\n",
      "145:\tlearn: 0.1257590\ttest: 0.1797237\tbest: 0.1797237 (145)\ttotal: 1.7s\tremaining: 33.3s\n",
      "150:\tlearn: 0.1226934\ttest: 0.1778162\tbest: 0.1778162 (150)\ttotal: 1.76s\tremaining: 33.2s\n",
      "155:\tlearn: 0.1191206\ttest: 0.1746238\tbest: 0.1746238 (155)\ttotal: 1.81s\tremaining: 33.1s\n",
      "160:\tlearn: 0.1161297\ttest: 0.1724667\tbest: 0.1724667 (160)\ttotal: 1.87s\tremaining: 33s\n",
      "165:\tlearn: 0.1136431\ttest: 0.1705104\tbest: 0.1705104 (165)\ttotal: 1.93s\tremaining: 32.9s\n",
      "170:\tlearn: 0.1113527\ttest: 0.1692081\tbest: 0.1692069 (169)\ttotal: 1.98s\tremaining: 32.7s\n",
      "175:\tlearn: 0.1088264\ttest: 0.1671617\tbest: 0.1671617 (175)\ttotal: 2.03s\tremaining: 32.6s\n",
      "180:\tlearn: 0.1066935\ttest: 0.1649316\tbest: 0.1649316 (180)\ttotal: 2.08s\tremaining: 32.4s\n",
      "185:\tlearn: 0.1045345\ttest: 0.1634408\tbest: 0.1634408 (185)\ttotal: 2.14s\tremaining: 32.3s\n",
      "190:\tlearn: 0.1021671\ttest: 0.1619085\tbest: 0.1619085 (190)\ttotal: 2.19s\tremaining: 32.2s\n",
      "195:\tlearn: 0.1003404\ttest: 0.1613483\tbest: 0.1613483 (195)\ttotal: 2.25s\tremaining: 32.1s\n",
      "200:\tlearn: 0.0985987\ttest: 0.1599667\tbest: 0.1599667 (200)\ttotal: 2.3s\tremaining: 32s\n",
      "205:\tlearn: 0.0961795\ttest: 0.1574910\tbest: 0.1574910 (205)\ttotal: 2.36s\tremaining: 32s\n",
      "210:\tlearn: 0.0943243\ttest: 0.1563538\tbest: 0.1563538 (210)\ttotal: 2.41s\tremaining: 31.8s\n",
      "215:\tlearn: 0.0929011\ttest: 0.1554986\tbest: 0.1554986 (215)\ttotal: 2.46s\tremaining: 31.7s\n",
      "220:\tlearn: 0.0913462\ttest: 0.1542953\tbest: 0.1542953 (220)\ttotal: 2.51s\tremaining: 31.6s\n",
      "225:\tlearn: 0.0894715\ttest: 0.1527165\tbest: 0.1527165 (225)\ttotal: 2.57s\tremaining: 31.5s\n",
      "230:\tlearn: 0.0880324\ttest: 0.1515972\tbest: 0.1515972 (230)\ttotal: 2.62s\tremaining: 31.4s\n",
      "235:\tlearn: 0.0863432\ttest: 0.1501114\tbest: 0.1501114 (235)\ttotal: 2.68s\tremaining: 31.4s\n",
      "240:\tlearn: 0.0849351\ttest: 0.1489943\tbest: 0.1489943 (240)\ttotal: 2.73s\tremaining: 31.3s\n",
      "245:\tlearn: 0.0834599\ttest: 0.1477549\tbest: 0.1477549 (245)\ttotal: 2.78s\tremaining: 31.2s\n",
      "250:\tlearn: 0.0822961\ttest: 0.1471823\tbest: 0.1471823 (250)\ttotal: 2.84s\tremaining: 31.1s\n",
      "255:\tlearn: 0.0810887\ttest: 0.1463625\tbest: 0.1463625 (255)\ttotal: 2.89s\tremaining: 31s\n",
      "260:\tlearn: 0.0797316\ttest: 0.1454072\tbest: 0.1454072 (260)\ttotal: 2.94s\tremaining: 30.9s\n",
      "265:\tlearn: 0.0786250\ttest: 0.1445463\tbest: 0.1445463 (265)\ttotal: 2.99s\tremaining: 30.7s\n",
      "270:\tlearn: 0.0772783\ttest: 0.1435143\tbest: 0.1435143 (270)\ttotal: 3.04s\tremaining: 30.7s\n",
      "275:\tlearn: 0.0762294\ttest: 0.1429860\tbest: 0.1429860 (275)\ttotal: 3.1s\tremaining: 30.6s\n",
      "280:\tlearn: 0.0748578\ttest: 0.1418481\tbest: 0.1418481 (280)\ttotal: 3.15s\tremaining: 30.5s\n",
      "285:\tlearn: 0.0735388\ttest: 0.1404841\tbest: 0.1404841 (285)\ttotal: 3.21s\tremaining: 30.4s\n",
      "290:\tlearn: 0.0725455\ttest: 0.1398151\tbest: 0.1398151 (290)\ttotal: 3.26s\tremaining: 30.3s\n",
      "295:\tlearn: 0.0715288\ttest: 0.1390693\tbest: 0.1390693 (295)\ttotal: 3.31s\tremaining: 30.3s\n",
      "300:\tlearn: 0.0706255\ttest: 0.1389484\tbest: 0.1388935 (298)\ttotal: 3.36s\tremaining: 30.2s\n",
      "305:\tlearn: 0.0697522\ttest: 0.1386844\tbest: 0.1386844 (305)\ttotal: 3.42s\tremaining: 30.1s\n",
      "310:\tlearn: 0.0689853\ttest: 0.1381249\tbest: 0.1381249 (310)\ttotal: 3.47s\tremaining: 30s\n",
      "315:\tlearn: 0.0680518\ttest: 0.1375412\tbest: 0.1375412 (315)\ttotal: 3.53s\tremaining: 29.9s\n",
      "320:\tlearn: 0.0670329\ttest: 0.1367390\tbest: 0.1367390 (320)\ttotal: 3.58s\tremaining: 29.9s\n",
      "325:\tlearn: 0.0660948\ttest: 0.1361791\tbest: 0.1361791 (325)\ttotal: 3.63s\tremaining: 29.8s\n",
      "330:\tlearn: 0.0652045\ttest: 0.1355283\tbest: 0.1355283 (330)\ttotal: 3.69s\tremaining: 29.7s\n",
      "335:\tlearn: 0.0643198\ttest: 0.1347849\tbest: 0.1347849 (335)\ttotal: 3.74s\tremaining: 29.7s\n",
      "340:\tlearn: 0.0635080\ttest: 0.1338884\tbest: 0.1338884 (340)\ttotal: 3.79s\tremaining: 29.6s\n",
      "345:\tlearn: 0.0626991\ttest: 0.1335053\tbest: 0.1335053 (345)\ttotal: 3.85s\tremaining: 29.5s\n",
      "350:\tlearn: 0.0617002\ttest: 0.1323310\tbest: 0.1323310 (350)\ttotal: 3.9s\tremaining: 29.5s\n",
      "355:\tlearn: 0.0609053\ttest: 0.1317771\tbest: 0.1317771 (355)\ttotal: 3.96s\tremaining: 29.4s\n",
      "360:\tlearn: 0.0600726\ttest: 0.1312884\tbest: 0.1312884 (360)\ttotal: 4.01s\tremaining: 29.3s\n",
      "365:\tlearn: 0.0594693\ttest: 0.1311248\tbest: 0.1310397 (364)\ttotal: 4.07s\tremaining: 29.3s\n",
      "370:\tlearn: 0.0587391\ttest: 0.1307954\tbest: 0.1307954 (370)\ttotal: 4.12s\tremaining: 29.2s\n",
      "375:\tlearn: 0.0580951\ttest: 0.1302659\tbest: 0.1302659 (375)\ttotal: 4.18s\tremaining: 29.1s\n",
      "380:\tlearn: 0.0572772\ttest: 0.1294095\tbest: 0.1294095 (380)\ttotal: 4.23s\tremaining: 29.1s\n",
      "385:\tlearn: 0.0565262\ttest: 0.1286691\tbest: 0.1286691 (385)\ttotal: 4.28s\tremaining: 29s\n",
      "390:\tlearn: 0.0555156\ttest: 0.1281943\tbest: 0.1281943 (390)\ttotal: 4.34s\tremaining: 29s\n",
      "395:\tlearn: 0.0549696\ttest: 0.1283268\tbest: 0.1281103 (391)\ttotal: 4.39s\tremaining: 28.9s\n",
      "400:\tlearn: 0.0542335\ttest: 0.1279042\tbest: 0.1279042 (400)\ttotal: 4.45s\tremaining: 28.8s\n",
      "405:\tlearn: 0.0534402\ttest: 0.1269957\tbest: 0.1269957 (405)\ttotal: 4.51s\tremaining: 28.8s\n",
      "410:\tlearn: 0.0528207\ttest: 0.1267185\tbest: 0.1267185 (410)\ttotal: 4.56s\tremaining: 28.7s\n",
      "415:\tlearn: 0.0524067\ttest: 0.1264393\tbest: 0.1264393 (415)\ttotal: 4.61s\tremaining: 28.6s\n",
      "420:\tlearn: 0.0518096\ttest: 0.1262319\tbest: 0.1262319 (420)\ttotal: 4.66s\tremaining: 28.5s\n",
      "425:\tlearn: 0.0513734\ttest: 0.1259597\tbest: 0.1259597 (425)\ttotal: 4.71s\tremaining: 28.5s\n",
      "430:\tlearn: 0.0508102\ttest: 0.1255893\tbest: 0.1255893 (430)\ttotal: 4.76s\tremaining: 28.4s\n",
      "435:\tlearn: 0.0501724\ttest: 0.1252435\tbest: 0.1252435 (435)\ttotal: 4.81s\tremaining: 28.3s\n",
      "440:\tlearn: 0.0496718\ttest: 0.1248121\tbest: 0.1248121 (440)\ttotal: 4.87s\tremaining: 28.2s\n",
      "445:\tlearn: 0.0491268\ttest: 0.1246769\tbest: 0.1246769 (445)\ttotal: 4.92s\tremaining: 28.2s\n",
      "450:\tlearn: 0.0486586\ttest: 0.1245930\tbest: 0.1245425 (447)\ttotal: 4.98s\tremaining: 28.1s\n",
      "455:\tlearn: 0.0480227\ttest: 0.1243362\tbest: 0.1243362 (455)\ttotal: 5.03s\tremaining: 28.1s\n",
      "460:\tlearn: 0.0473869\ttest: 0.1240419\tbest: 0.1240419 (460)\ttotal: 5.08s\tremaining: 28s\n",
      "465:\tlearn: 0.0468771\ttest: 0.1235369\tbest: 0.1235369 (465)\ttotal: 5.13s\tremaining: 27.9s\n",
      "470:\tlearn: 0.0462996\ttest: 0.1234951\tbest: 0.1234951 (470)\ttotal: 5.18s\tremaining: 27.8s\n"
     ]
    },
    {
     "name": "stdout",
     "output_type": "stream",
     "text": [
      "475:\tlearn: 0.0456519\ttest: 0.1229803\tbest: 0.1229803 (475)\ttotal: 5.23s\tremaining: 27.8s\n",
      "480:\tlearn: 0.0452116\ttest: 0.1227863\tbest: 0.1227863 (480)\ttotal: 5.29s\tremaining: 27.7s\n",
      "485:\tlearn: 0.0447130\ttest: 0.1225901\tbest: 0.1225265 (484)\ttotal: 5.34s\tremaining: 27.6s\n",
      "490:\tlearn: 0.0442682\ttest: 0.1225656\tbest: 0.1225128 (487)\ttotal: 5.39s\tremaining: 27.6s\n",
      "495:\tlearn: 0.0438725\ttest: 0.1224379\tbest: 0.1224379 (495)\ttotal: 5.44s\tremaining: 27.5s\n",
      "500:\tlearn: 0.0432696\ttest: 0.1222784\tbest: 0.1221964 (499)\ttotal: 5.5s\tremaining: 27.4s\n",
      "505:\tlearn: 0.0428832\ttest: 0.1221621\tbest: 0.1221176 (504)\ttotal: 5.55s\tremaining: 27.4s\n",
      "510:\tlearn: 0.0425362\ttest: 0.1222682\tbest: 0.1221176 (504)\ttotal: 5.6s\tremaining: 27.3s\n",
      "515:\tlearn: 0.0421696\ttest: 0.1218399\tbest: 0.1218399 (515)\ttotal: 5.66s\tremaining: 27.2s\n",
      "520:\tlearn: 0.0416509\ttest: 0.1217450\tbest: 0.1216541 (519)\ttotal: 5.71s\tremaining: 27.1s\n",
      "525:\tlearn: 0.0411577\ttest: 0.1212664\tbest: 0.1212664 (525)\ttotal: 5.76s\tremaining: 27.1s\n",
      "530:\tlearn: 0.0407461\ttest: 0.1210217\tbest: 0.1210217 (530)\ttotal: 5.81s\tremaining: 27s\n",
      "535:\tlearn: 0.0404009\ttest: 0.1207140\tbest: 0.1206753 (532)\ttotal: 5.87s\tremaining: 27s\n",
      "540:\tlearn: 0.0399509\ttest: 0.1202782\tbest: 0.1202782 (540)\ttotal: 5.92s\tremaining: 26.9s\n",
      "545:\tlearn: 0.0395716\ttest: 0.1198279\tbest: 0.1198279 (545)\ttotal: 5.98s\tremaining: 26.9s\n",
      "550:\tlearn: 0.0391770\ttest: 0.1194192\tbest: 0.1193882 (549)\ttotal: 6.04s\tremaining: 26.8s\n",
      "555:\tlearn: 0.0387172\ttest: 0.1189774\tbest: 0.1189774 (555)\ttotal: 6.1s\tremaining: 26.8s\n",
      "560:\tlearn: 0.0383007\ttest: 0.1185156\tbest: 0.1185156 (560)\ttotal: 6.16s\tremaining: 26.8s\n",
      "565:\tlearn: 0.0378674\ttest: 0.1180342\tbest: 0.1180342 (565)\ttotal: 6.22s\tremaining: 26.7s\n",
      "570:\tlearn: 0.0374990\ttest: 0.1176700\tbest: 0.1176700 (570)\ttotal: 6.28s\tremaining: 26.7s\n",
      "575:\tlearn: 0.0371817\ttest: 0.1174763\tbest: 0.1174763 (575)\ttotal: 6.33s\tremaining: 26.7s\n",
      "580:\tlearn: 0.0368333\ttest: 0.1172842\tbest: 0.1172234 (579)\ttotal: 6.39s\tremaining: 26.6s\n",
      "585:\tlearn: 0.0363691\ttest: 0.1170586\tbest: 0.1169548 (583)\ttotal: 6.45s\tremaining: 26.6s\n",
      "590:\tlearn: 0.0360021\ttest: 0.1168222\tbest: 0.1168222 (590)\ttotal: 6.5s\tremaining: 26.5s\n",
      "595:\tlearn: 0.0357317\ttest: 0.1163940\tbest: 0.1163940 (595)\ttotal: 6.55s\tremaining: 26.4s\n",
      "600:\tlearn: 0.0353723\ttest: 0.1159132\tbest: 0.1159132 (600)\ttotal: 6.61s\tremaining: 26.4s\n",
      "605:\tlearn: 0.0350527\ttest: 0.1156578\tbest: 0.1156578 (605)\ttotal: 6.66s\tremaining: 26.3s\n",
      "610:\tlearn: 0.0346530\ttest: 0.1155434\tbest: 0.1155434 (610)\ttotal: 6.71s\tremaining: 26.3s\n",
      "615:\tlearn: 0.0342852\ttest: 0.1151572\tbest: 0.1151572 (615)\ttotal: 6.77s\tremaining: 26.2s\n",
      "620:\tlearn: 0.0340092\ttest: 0.1148974\tbest: 0.1148638 (619)\ttotal: 6.83s\tremaining: 26.2s\n",
      "625:\tlearn: 0.0336178\ttest: 0.1143676\tbest: 0.1143676 (625)\ttotal: 6.88s\tremaining: 26.1s\n",
      "630:\tlearn: 0.0332850\ttest: 0.1141323\tbest: 0.1141323 (630)\ttotal: 6.94s\tremaining: 26.1s\n",
      "635:\tlearn: 0.0330434\ttest: 0.1141773\tbest: 0.1141323 (630)\ttotal: 7s\tremaining: 26s\n",
      "640:\tlearn: 0.0327857\ttest: 0.1140551\tbest: 0.1140171 (638)\ttotal: 7.05s\tremaining: 25.9s\n",
      "645:\tlearn: 0.0324085\ttest: 0.1137073\tbest: 0.1137073 (645)\ttotal: 7.11s\tremaining: 25.9s\n",
      "650:\tlearn: 0.0321054\ttest: 0.1134546\tbest: 0.1134546 (650)\ttotal: 7.16s\tremaining: 25.9s\n",
      "655:\tlearn: 0.0318058\ttest: 0.1133965\tbest: 0.1133965 (655)\ttotal: 7.22s\tremaining: 25.8s\n",
      "660:\tlearn: 0.0314944\ttest: 0.1131125\tbest: 0.1131076 (659)\ttotal: 7.27s\tremaining: 25.7s\n",
      "665:\tlearn: 0.0311983\ttest: 0.1128152\tbest: 0.1127716 (663)\ttotal: 7.32s\tremaining: 25.7s\n",
      "670:\tlearn: 0.0309982\ttest: 0.1127302\tbest: 0.1127302 (670)\ttotal: 7.38s\tremaining: 25.6s\n",
      "675:\tlearn: 0.0306917\ttest: 0.1127247\tbest: 0.1126541 (672)\ttotal: 7.43s\tremaining: 25.5s\n",
      "680:\tlearn: 0.0304015\ttest: 0.1123857\tbest: 0.1123857 (680)\ttotal: 7.48s\tremaining: 25.5s\n",
      "685:\tlearn: 0.0300686\ttest: 0.1118970\tbest: 0.1118970 (685)\ttotal: 7.54s\tremaining: 25.4s\n",
      "690:\tlearn: 0.0297661\ttest: 0.1116930\tbest: 0.1116714 (689)\ttotal: 7.59s\tremaining: 25.4s\n",
      "695:\tlearn: 0.0294972\ttest: 0.1113848\tbest: 0.1113130 (693)\ttotal: 7.64s\tremaining: 25.3s\n",
      "700:\tlearn: 0.0292050\ttest: 0.1112742\tbest: 0.1112166 (697)\ttotal: 7.69s\tremaining: 25.2s\n",
      "705:\tlearn: 0.0288732\ttest: 0.1112253\tbest: 0.1111200 (702)\ttotal: 7.75s\tremaining: 25.2s\n",
      "710:\tlearn: 0.0285348\ttest: 0.1113890\tbest: 0.1111200 (702)\ttotal: 7.8s\tremaining: 25.1s\n",
      "715:\tlearn: 0.0282725\ttest: 0.1111870\tbest: 0.1111200 (702)\ttotal: 7.86s\tremaining: 25.1s\n",
      "720:\tlearn: 0.0279799\ttest: 0.1107717\tbest: 0.1107717 (720)\ttotal: 7.91s\tremaining: 25s\n",
      "725:\tlearn: 0.0276979\ttest: 0.1103870\tbest: 0.1103870 (725)\ttotal: 7.97s\tremaining: 25s\n",
      "730:\tlearn: 0.0274752\ttest: 0.1101584\tbest: 0.1101373 (728)\ttotal: 8.02s\tremaining: 24.9s\n",
      "735:\tlearn: 0.0272401\ttest: 0.1097751\tbest: 0.1097751 (735)\ttotal: 8.07s\tremaining: 24.8s\n",
      "740:\tlearn: 0.0269738\ttest: 0.1095868\tbest: 0.1095868 (740)\ttotal: 8.13s\tremaining: 24.8s\n",
      "745:\tlearn: 0.0267717\ttest: 0.1093973\tbest: 0.1093973 (745)\ttotal: 8.18s\tremaining: 24.7s\n",
      "750:\tlearn: 0.0265536\ttest: 0.1092263\tbest: 0.1092025 (748)\ttotal: 8.23s\tremaining: 24.7s\n",
      "755:\tlearn: 0.0263143\ttest: 0.1090378\tbest: 0.1090145 (754)\ttotal: 8.29s\tremaining: 24.6s\n",
      "760:\tlearn: 0.0261167\ttest: 0.1087803\tbest: 0.1087803 (760)\ttotal: 8.34s\tremaining: 24.5s\n",
      "765:\tlearn: 0.0258624\ttest: 0.1087147\tbest: 0.1086371 (764)\ttotal: 8.4s\tremaining: 24.5s\n",
      "770:\tlearn: 0.0256465\ttest: 0.1085287\tbest: 0.1085287 (770)\ttotal: 8.45s\tremaining: 24.4s\n",
      "775:\tlearn: 0.0254466\ttest: 0.1083060\tbest: 0.1083060 (775)\ttotal: 8.5s\tremaining: 24.4s\n",
      "780:\tlearn: 0.0252163\ttest: 0.1080653\tbest: 0.1080653 (780)\ttotal: 8.56s\tremaining: 24.3s\n",
      "785:\tlearn: 0.0250486\ttest: 0.1080344\tbest: 0.1080122 (784)\ttotal: 8.61s\tremaining: 24.3s\n",
      "790:\tlearn: 0.0248158\ttest: 0.1081222\tbest: 0.1080122 (784)\ttotal: 8.67s\tremaining: 24.2s\n",
      "795:\tlearn: 0.0246025\ttest: 0.1078470\tbest: 0.1078470 (795)\ttotal: 8.72s\tremaining: 24.2s\n",
      "800:\tlearn: 0.0244133\ttest: 0.1077205\tbest: 0.1077093 (799)\ttotal: 8.78s\tremaining: 24.1s\n",
      "805:\tlearn: 0.0242259\ttest: 0.1076173\tbest: 0.1076173 (805)\ttotal: 8.84s\tremaining: 24.1s\n",
      "810:\tlearn: 0.0239871\ttest: 0.1076877\tbest: 0.1076173 (805)\ttotal: 8.89s\tremaining: 24s\n",
      "815:\tlearn: 0.0237587\ttest: 0.1077344\tbest: 0.1076173 (805)\ttotal: 8.95s\tremaining: 24s\n",
      "820:\tlearn: 0.0235843\ttest: 0.1075762\tbest: 0.1075762 (820)\ttotal: 9s\tremaining: 23.9s\n",
      "825:\tlearn: 0.0234380\ttest: 0.1073024\tbest: 0.1072643 (824)\ttotal: 9.06s\tremaining: 23.8s\n",
      "830:\tlearn: 0.0232519\ttest: 0.1071325\tbest: 0.1071325 (830)\ttotal: 9.11s\tremaining: 23.8s\n",
      "835:\tlearn: 0.0230345\ttest: 0.1070221\tbest: 0.1070221 (835)\ttotal: 9.17s\tremaining: 23.7s\n",
      "840:\tlearn: 0.0227970\ttest: 0.1065313\tbest: 0.1065313 (840)\ttotal: 9.22s\tremaining: 23.7s\n",
      "845:\tlearn: 0.0225978\ttest: 0.1064303\tbest: 0.1064303 (845)\ttotal: 9.27s\tremaining: 23.6s\n",
      "850:\tlearn: 0.0224368\ttest: 0.1060893\tbest: 0.1060893 (850)\ttotal: 9.33s\tremaining: 23.6s\n",
      "855:\tlearn: 0.0223147\ttest: 0.1059099\tbest: 0.1058557 (854)\ttotal: 9.38s\tremaining: 23.5s\n",
      "860:\tlearn: 0.0221157\ttest: 0.1056804\tbest: 0.1056804 (860)\ttotal: 9.43s\tremaining: 23.4s\n",
      "865:\tlearn: 0.0219602\ttest: 0.1055425\tbest: 0.1055425 (865)\ttotal: 9.48s\tremaining: 23.4s\n",
      "870:\tlearn: 0.0218067\ttest: 0.1055014\tbest: 0.1055014 (870)\ttotal: 9.53s\tremaining: 23.3s\n",
      "875:\tlearn: 0.0216432\ttest: 0.1055767\tbest: 0.1054843 (873)\ttotal: 9.59s\tremaining: 23.2s\n",
      "880:\tlearn: 0.0215001\ttest: 0.1054091\tbest: 0.1054002 (878)\ttotal: 9.64s\tremaining: 23.2s\n",
      "885:\tlearn: 0.0213686\ttest: 0.1053054\tbest: 0.1053054 (885)\ttotal: 9.69s\tremaining: 23.1s\n",
      "890:\tlearn: 0.0212473\ttest: 0.1051729\tbest: 0.1051729 (890)\ttotal: 9.74s\tremaining: 23.1s\n",
      "895:\tlearn: 0.0211069\ttest: 0.1051392\tbest: 0.1051392 (895)\ttotal: 9.8s\tremaining: 23s\n",
      "900:\tlearn: 0.0209801\ttest: 0.1050440\tbest: 0.1050440 (900)\ttotal: 9.85s\tremaining: 22.9s\n",
      "905:\tlearn: 0.0208165\ttest: 0.1048593\tbest: 0.1048593 (905)\ttotal: 9.9s\tremaining: 22.9s\n",
      "910:\tlearn: 0.0206539\ttest: 0.1047461\tbest: 0.1045658 (907)\ttotal: 9.96s\tremaining: 22.8s\n",
      "915:\tlearn: 0.0205132\ttest: 0.1045985\tbest: 0.1045658 (907)\ttotal: 10s\tremaining: 22.8s\n",
      "920:\tlearn: 0.0203428\ttest: 0.1043442\tbest: 0.1043180 (919)\ttotal: 10.1s\tremaining: 22.7s\n",
      "925:\tlearn: 0.0202358\ttest: 0.1043445\tbest: 0.1042976 (923)\ttotal: 10.1s\tremaining: 22.7s\n",
      "930:\tlearn: 0.0200652\ttest: 0.1041557\tbest: 0.1041554 (929)\ttotal: 10.2s\tremaining: 22.6s\n"
     ]
    },
    {
     "name": "stdout",
     "output_type": "stream",
     "text": [
      "935:\tlearn: 0.0199298\ttest: 0.1041257\tbest: 0.1041247 (934)\ttotal: 10.2s\tremaining: 22.5s\n",
      "940:\tlearn: 0.0198300\ttest: 0.1042995\tbest: 0.1041247 (934)\ttotal: 10.3s\tremaining: 22.5s\n",
      "945:\tlearn: 0.0196864\ttest: 0.1041430\tbest: 0.1041114 (944)\ttotal: 10.3s\tremaining: 22.4s\n",
      "950:\tlearn: 0.0195502\ttest: 0.1041154\tbest: 0.1040691 (948)\ttotal: 10.4s\tremaining: 22.4s\n",
      "955:\tlearn: 0.0194436\ttest: 0.1039447\tbest: 0.1039447 (955)\ttotal: 10.4s\tremaining: 22.3s\n",
      "960:\tlearn: 0.0193128\ttest: 0.1037276\tbest: 0.1037276 (960)\ttotal: 10.5s\tremaining: 22.2s\n",
      "965:\tlearn: 0.0191965\ttest: 0.1036277\tbest: 0.1036277 (965)\ttotal: 10.5s\tremaining: 22.2s\n",
      "970:\tlearn: 0.0190992\ttest: 0.1036143\tbest: 0.1035960 (966)\ttotal: 10.6s\tremaining: 22.1s\n",
      "975:\tlearn: 0.0189769\ttest: 0.1035344\tbest: 0.1035172 (973)\ttotal: 10.6s\tremaining: 22.1s\n",
      "980:\tlearn: 0.0188604\ttest: 0.1035071\tbest: 0.1034781 (979)\ttotal: 10.7s\tremaining: 22s\n",
      "985:\tlearn: 0.0187322\ttest: 0.1035207\tbest: 0.1034781 (979)\ttotal: 10.8s\tremaining: 22s\n",
      "990:\tlearn: 0.0186320\ttest: 0.1034338\tbest: 0.1034203 (989)\ttotal: 10.8s\tremaining: 21.9s\n",
      "995:\tlearn: 0.0185029\ttest: 0.1032732\tbest: 0.1032732 (995)\ttotal: 10.9s\tremaining: 21.8s\n",
      "1000:\tlearn: 0.0183614\ttest: 0.1032105\tbest: 0.1032105 (1000)\ttotal: 10.9s\tremaining: 21.8s\n",
      "1005:\tlearn: 0.0182276\ttest: 0.1030821\tbest: 0.1030650 (1004)\ttotal: 11s\tremaining: 21.7s\n",
      "1010:\tlearn: 0.0181255\ttest: 0.1030569\tbest: 0.1030569 (1010)\ttotal: 11s\tremaining: 21.7s\n",
      "1015:\tlearn: 0.0180193\ttest: 0.1030269\tbest: 0.1029546 (1014)\ttotal: 11.1s\tremaining: 21.6s\n",
      "1020:\tlearn: 0.0179076\ttest: 0.1029413\tbest: 0.1029211 (1019)\ttotal: 11.1s\tremaining: 21.6s\n",
      "1025:\tlearn: 0.0177617\ttest: 0.1027141\tbest: 0.1027141 (1025)\ttotal: 11.2s\tremaining: 21.5s\n",
      "1030:\tlearn: 0.0175944\ttest: 0.1025448\tbest: 0.1025014 (1029)\ttotal: 11.2s\tremaining: 21.5s\n",
      "1035:\tlearn: 0.0174699\ttest: 0.1025283\tbest: 0.1025014 (1029)\ttotal: 11.3s\tremaining: 21.4s\n",
      "1040:\tlearn: 0.0173530\ttest: 0.1023242\tbest: 0.1023242 (1040)\ttotal: 11.3s\tremaining: 21.3s\n",
      "1045:\tlearn: 0.0172702\ttest: 0.1022623\tbest: 0.1022623 (1045)\ttotal: 11.4s\tremaining: 21.3s\n",
      "1050:\tlearn: 0.0171747\ttest: 0.1021328\tbest: 0.1021328 (1050)\ttotal: 11.4s\tremaining: 21.2s\n",
      "1055:\tlearn: 0.0170500\ttest: 0.1018173\tbest: 0.1018173 (1055)\ttotal: 11.5s\tremaining: 21.2s\n",
      "1060:\tlearn: 0.0169518\ttest: 0.1017621\tbest: 0.1017617 (1059)\ttotal: 11.6s\tremaining: 21.1s\n",
      "1065:\tlearn: 0.0168460\ttest: 0.1015804\tbest: 0.1015804 (1065)\ttotal: 11.6s\tremaining: 21.1s\n",
      "1070:\tlearn: 0.0167441\ttest: 0.1015503\tbest: 0.1015503 (1070)\ttotal: 11.7s\tremaining: 21s\n",
      "1075:\tlearn: 0.0166299\ttest: 0.1012571\tbest: 0.1012571 (1075)\ttotal: 11.7s\tremaining: 20.9s\n",
      "1080:\tlearn: 0.0165398\ttest: 0.1011320\tbest: 0.1011211 (1078)\ttotal: 11.8s\tremaining: 20.9s\n",
      "1085:\tlearn: 0.0164190\ttest: 0.1010989\tbest: 0.1010989 (1085)\ttotal: 11.8s\tremaining: 20.8s\n",
      "1090:\tlearn: 0.0163125\ttest: 0.1011018\tbest: 0.1010989 (1085)\ttotal: 11.9s\tremaining: 20.8s\n",
      "1095:\tlearn: 0.0161979\ttest: 0.1009135\tbest: 0.1009135 (1095)\ttotal: 11.9s\tremaining: 20.7s\n",
      "1100:\tlearn: 0.0160665\ttest: 0.1007030\tbest: 0.1007030 (1100)\ttotal: 12s\tremaining: 20.7s\n",
      "1105:\tlearn: 0.0159779\ttest: 0.1005629\tbest: 0.1005629 (1105)\ttotal: 12s\tremaining: 20.6s\n",
      "1110:\tlearn: 0.0158746\ttest: 0.1005441\tbest: 0.1005115 (1106)\ttotal: 12.1s\tremaining: 20.6s\n",
      "1115:\tlearn: 0.0158039\ttest: 0.1005526\tbest: 0.1005115 (1106)\ttotal: 12.1s\tremaining: 20.5s\n",
      "1120:\tlearn: 0.0157237\ttest: 0.1005227\tbest: 0.1005115 (1106)\ttotal: 12.2s\tremaining: 20.5s\n",
      "1125:\tlearn: 0.0156041\ttest: 0.1005387\tbest: 0.1004031 (1123)\ttotal: 12.3s\tremaining: 20.4s\n",
      "1130:\tlearn: 0.0154833\ttest: 0.1005987\tbest: 0.1004031 (1123)\ttotal: 12.3s\tremaining: 20.3s\n",
      "1135:\tlearn: 0.0153988\ttest: 0.1006028\tbest: 0.1004031 (1123)\ttotal: 12.4s\tremaining: 20.3s\n",
      "1140:\tlearn: 0.0152957\ttest: 0.1006590\tbest: 0.1004031 (1123)\ttotal: 12.4s\tremaining: 20.2s\n",
      "1145:\tlearn: 0.0151885\ttest: 0.1006902\tbest: 0.1004031 (1123)\ttotal: 12.5s\tremaining: 20.2s\n",
      "1150:\tlearn: 0.0150748\ttest: 0.1005676\tbest: 0.1004031 (1123)\ttotal: 12.5s\tremaining: 20.1s\n",
      "1155:\tlearn: 0.0149844\ttest: 0.1006326\tbest: 0.1004031 (1123)\ttotal: 12.6s\tremaining: 20.1s\n",
      "1160:\tlearn: 0.0148844\ttest: 0.1004769\tbest: 0.1004031 (1123)\ttotal: 12.6s\tremaining: 20s\n",
      "1165:\tlearn: 0.0147651\ttest: 0.1004497\tbest: 0.1004031 (1123)\ttotal: 12.7s\tremaining: 20s\n",
      "1170:\tlearn: 0.0146630\ttest: 0.1002365\tbest: 0.1002365 (1170)\ttotal: 12.8s\tremaining: 19.9s\n",
      "1175:\tlearn: 0.0145916\ttest: 0.1002240\tbest: 0.1002156 (1174)\ttotal: 12.8s\tremaining: 19.9s\n",
      "1180:\tlearn: 0.0145004\ttest: 0.1000751\tbest: 0.1000751 (1180)\ttotal: 12.9s\tremaining: 19.8s\n",
      "1185:\tlearn: 0.0144171\ttest: 0.1000049\tbest: 0.0999577 (1184)\ttotal: 12.9s\tremaining: 19.8s\n",
      "1190:\tlearn: 0.0143197\ttest: 0.0997334\tbest: 0.0997334 (1190)\ttotal: 13s\tremaining: 19.7s\n",
      "1195:\tlearn: 0.0142540\ttest: 0.0996877\tbest: 0.0996877 (1195)\ttotal: 13s\tremaining: 19.6s\n",
      "1200:\tlearn: 0.0141925\ttest: 0.0998269\tbest: 0.0996794 (1196)\ttotal: 13.1s\tremaining: 19.6s\n",
      "1205:\tlearn: 0.0141017\ttest: 0.0998825\tbest: 0.0996794 (1196)\ttotal: 13.1s\tremaining: 19.5s\n",
      "1210:\tlearn: 0.0140066\ttest: 0.0997616\tbest: 0.0996794 (1196)\ttotal: 13.2s\tremaining: 19.5s\n",
      "1215:\tlearn: 0.0139360\ttest: 0.0997386\tbest: 0.0996794 (1196)\ttotal: 13.2s\tremaining: 19.4s\n",
      "1220:\tlearn: 0.0138456\ttest: 0.0996842\tbest: 0.0996794 (1196)\ttotal: 13.3s\tremaining: 19.4s\n",
      "1225:\tlearn: 0.0137773\ttest: 0.0995121\tbest: 0.0995121 (1225)\ttotal: 13.4s\tremaining: 19.3s\n",
      "1230:\tlearn: 0.0136997\ttest: 0.0995206\tbest: 0.0994982 (1226)\ttotal: 13.4s\tremaining: 19.3s\n",
      "1235:\tlearn: 0.0136286\ttest: 0.0995373\tbest: 0.0994454 (1232)\ttotal: 13.5s\tremaining: 19.2s\n",
      "1240:\tlearn: 0.0135560\ttest: 0.0993921\tbest: 0.0993921 (1240)\ttotal: 13.5s\tremaining: 19.2s\n",
      "1245:\tlearn: 0.0134711\ttest: 0.0993150\tbest: 0.0992931 (1244)\ttotal: 13.6s\tremaining: 19.1s\n",
      "1250:\tlearn: 0.0134127\ttest: 0.0992625\tbest: 0.0992625 (1250)\ttotal: 13.6s\tremaining: 19s\n",
      "1255:\tlearn: 0.0133413\ttest: 0.0990652\tbest: 0.0990652 (1255)\ttotal: 13.7s\tremaining: 19s\n",
      "1260:\tlearn: 0.0132747\ttest: 0.0990368\tbest: 0.0990368 (1260)\ttotal: 13.7s\tremaining: 18.9s\n",
      "1265:\tlearn: 0.0132066\ttest: 0.0989386\tbest: 0.0989386 (1265)\ttotal: 13.8s\tremaining: 18.9s\n",
      "1270:\tlearn: 0.0131513\ttest: 0.0989173\tbest: 0.0988484 (1267)\ttotal: 13.8s\tremaining: 18.8s\n",
      "1275:\tlearn: 0.0130776\ttest: 0.0988853\tbest: 0.0988484 (1271)\ttotal: 13.9s\tremaining: 18.8s\n",
      "1280:\tlearn: 0.0130186\ttest: 0.0989449\tbest: 0.0988484 (1271)\ttotal: 13.9s\tremaining: 18.7s\n",
      "1285:\tlearn: 0.0129542\ttest: 0.0988651\tbest: 0.0988484 (1271)\ttotal: 14s\tremaining: 18.7s\n",
      "1290:\tlearn: 0.0128839\ttest: 0.0987996\tbest: 0.0987859 (1289)\ttotal: 14s\tremaining: 18.6s\n",
      "1295:\tlearn: 0.0128132\ttest: 0.0988356\tbest: 0.0987459 (1292)\ttotal: 14.1s\tremaining: 18.5s\n",
      "1300:\tlearn: 0.0127500\ttest: 0.0988356\tbest: 0.0987459 (1292)\ttotal: 14.2s\tremaining: 18.5s\n",
      "1305:\tlearn: 0.0126522\ttest: 0.0987131\tbest: 0.0987131 (1305)\ttotal: 14.2s\tremaining: 18.4s\n",
      "1310:\tlearn: 0.0125941\ttest: 0.0986014\tbest: 0.0985933 (1309)\ttotal: 14.3s\tremaining: 18.4s\n",
      "1315:\tlearn: 0.0125222\ttest: 0.0983628\tbest: 0.0983628 (1315)\ttotal: 14.3s\tremaining: 18.3s\n",
      "1320:\tlearn: 0.0124351\ttest: 0.0981533\tbest: 0.0981367 (1319)\ttotal: 14.4s\tremaining: 18.3s\n",
      "1325:\tlearn: 0.0123708\ttest: 0.0981522\tbest: 0.0981367 (1319)\ttotal: 14.4s\tremaining: 18.2s\n",
      "1330:\tlearn: 0.0123063\ttest: 0.0981915\tbest: 0.0981367 (1319)\ttotal: 14.5s\tremaining: 18.2s\n",
      "1335:\tlearn: 0.0122334\ttest: 0.0980629\tbest: 0.0980629 (1335)\ttotal: 14.5s\tremaining: 18.1s\n",
      "1340:\tlearn: 0.0121452\ttest: 0.0980394\tbest: 0.0979952 (1339)\ttotal: 14.6s\tremaining: 18.1s\n",
      "1345:\tlearn: 0.0120865\ttest: 0.0979259\tbest: 0.0979259 (1345)\ttotal: 14.6s\tremaining: 18s\n",
      "1350:\tlearn: 0.0119960\ttest: 0.0978678\tbest: 0.0978678 (1350)\ttotal: 14.7s\tremaining: 17.9s\n",
      "1355:\tlearn: 0.0119352\ttest: 0.0977657\tbest: 0.0977657 (1355)\ttotal: 14.7s\tremaining: 17.9s\n",
      "1360:\tlearn: 0.0118836\ttest: 0.0977047\tbest: 0.0976942 (1359)\ttotal: 14.8s\tremaining: 17.8s\n",
      "1365:\tlearn: 0.0118144\ttest: 0.0978475\tbest: 0.0976942 (1359)\ttotal: 14.8s\tremaining: 17.8s\n",
      "1370:\tlearn: 0.0117598\ttest: 0.0977064\tbest: 0.0976942 (1359)\ttotal: 14.9s\tremaining: 17.7s\n",
      "1375:\tlearn: 0.0117014\ttest: 0.0977359\tbest: 0.0976523 (1374)\ttotal: 15s\tremaining: 17.7s\n",
      "1380:\tlearn: 0.0116415\ttest: 0.0975817\tbest: 0.0975772 (1378)\ttotal: 15s\tremaining: 17.6s\n",
      "1385:\tlearn: 0.0115912\ttest: 0.0976043\tbest: 0.0975708 (1383)\ttotal: 15.1s\tremaining: 17.5s\n",
      "1390:\tlearn: 0.0115185\ttest: 0.0975342\tbest: 0.0975342 (1390)\ttotal: 15.1s\tremaining: 17.5s\n"
     ]
    },
    {
     "name": "stdout",
     "output_type": "stream",
     "text": [
      "1395:\tlearn: 0.0114608\ttest: 0.0975310\tbest: 0.0975310 (1395)\ttotal: 15.2s\tremaining: 17.4s\n",
      "1400:\tlearn: 0.0114096\ttest: 0.0975954\tbest: 0.0975310 (1395)\ttotal: 15.2s\tremaining: 17.4s\n",
      "1405:\tlearn: 0.0113682\ttest: 0.0974814\tbest: 0.0974814 (1405)\ttotal: 15.3s\tremaining: 17.3s\n",
      "1410:\tlearn: 0.0113091\ttest: 0.0973214\tbest: 0.0973104 (1409)\ttotal: 15.3s\tremaining: 17.3s\n",
      "1415:\tlearn: 0.0112590\ttest: 0.0973053\tbest: 0.0972697 (1412)\ttotal: 15.4s\tremaining: 17.2s\n",
      "1420:\tlearn: 0.0112087\ttest: 0.0971910\tbest: 0.0971910 (1420)\ttotal: 15.4s\tremaining: 17.2s\n",
      "1425:\tlearn: 0.0111367\ttest: 0.0970044\tbest: 0.0970044 (1425)\ttotal: 15.5s\tremaining: 17.1s\n",
      "1430:\tlearn: 0.0110679\ttest: 0.0969630\tbest: 0.0969630 (1430)\ttotal: 15.5s\tremaining: 17s\n",
      "1435:\tlearn: 0.0109991\ttest: 0.0968426\tbest: 0.0968426 (1435)\ttotal: 15.6s\tremaining: 17s\n",
      "1440:\tlearn: 0.0109549\ttest: 0.0968118\tbest: 0.0968118 (1440)\ttotal: 15.6s\tremaining: 16.9s\n",
      "1445:\tlearn: 0.0108906\ttest: 0.0968441\tbest: 0.0968118 (1440)\ttotal: 15.7s\tremaining: 16.9s\n",
      "1450:\tlearn: 0.0108333\ttest: 0.0967917\tbest: 0.0967917 (1450)\ttotal: 15.8s\tremaining: 16.8s\n",
      "1455:\tlearn: 0.0107715\ttest: 0.0967375\tbest: 0.0967214 (1452)\ttotal: 15.8s\tremaining: 16.8s\n",
      "1460:\tlearn: 0.0107294\ttest: 0.0967143\tbest: 0.0967141 (1456)\ttotal: 15.9s\tremaining: 16.7s\n",
      "1465:\tlearn: 0.0106628\ttest: 0.0966239\tbest: 0.0966239 (1465)\ttotal: 15.9s\tremaining: 16.6s\n",
      "1470:\tlearn: 0.0106309\ttest: 0.0965991\tbest: 0.0965991 (1470)\ttotal: 16s\tremaining: 16.6s\n",
      "1475:\tlearn: 0.0105506\ttest: 0.0964435\tbest: 0.0964435 (1475)\ttotal: 16s\tremaining: 16.5s\n",
      "1480:\tlearn: 0.0104876\ttest: 0.0964610\tbest: 0.0964041 (1476)\ttotal: 16.1s\tremaining: 16.5s\n",
      "1485:\tlearn: 0.0104551\ttest: 0.0964574\tbest: 0.0964041 (1476)\ttotal: 16.1s\tremaining: 16.4s\n",
      "1490:\tlearn: 0.0104018\ttest: 0.0964946\tbest: 0.0964041 (1476)\ttotal: 16.2s\tremaining: 16.4s\n",
      "1495:\tlearn: 0.0103528\ttest: 0.0964261\tbest: 0.0964041 (1476)\ttotal: 16.2s\tremaining: 16.3s\n",
      "1500:\tlearn: 0.0103036\ttest: 0.0963797\tbest: 0.0963567 (1498)\ttotal: 16.3s\tremaining: 16.3s\n",
      "1505:\tlearn: 0.0102722\ttest: 0.0963183\tbest: 0.0963053 (1502)\ttotal: 16.3s\tremaining: 16.2s\n",
      "1510:\tlearn: 0.0102303\ttest: 0.0963668\tbest: 0.0963053 (1502)\ttotal: 16.4s\tremaining: 16.1s\n",
      "1515:\tlearn: 0.0101848\ttest: 0.0963491\tbest: 0.0962952 (1513)\ttotal: 16.4s\tremaining: 16.1s\n",
      "1520:\tlearn: 0.0101270\ttest: 0.0963360\tbest: 0.0962952 (1513)\ttotal: 16.5s\tremaining: 16s\n",
      "1525:\tlearn: 0.0100764\ttest: 0.0961692\tbest: 0.0961692 (1525)\ttotal: 16.5s\tremaining: 16s\n",
      "1530:\tlearn: 0.0100345\ttest: 0.0961593\tbest: 0.0961593 (1530)\ttotal: 16.6s\tremaining: 15.9s\n",
      "1535:\tlearn: 0.0099968\ttest: 0.0961639\tbest: 0.0961469 (1534)\ttotal: 16.7s\tremaining: 15.9s\n",
      "1540:\tlearn: 0.0099516\ttest: 0.0962672\tbest: 0.0961469 (1534)\ttotal: 16.7s\tremaining: 15.8s\n",
      "1545:\tlearn: 0.0099053\ttest: 0.0962706\tbest: 0.0961469 (1534)\ttotal: 16.8s\tremaining: 15.8s\n",
      "1550:\tlearn: 0.0098530\ttest: 0.0960948\tbest: 0.0960948 (1550)\ttotal: 16.8s\tremaining: 15.7s\n",
      "1555:\tlearn: 0.0098068\ttest: 0.0959225\tbest: 0.0959225 (1555)\ttotal: 16.9s\tremaining: 15.7s\n",
      "1560:\tlearn: 0.0097587\ttest: 0.0959083\tbest: 0.0959083 (1560)\ttotal: 16.9s\tremaining: 15.6s\n",
      "1565:\tlearn: 0.0097206\ttest: 0.0957611\tbest: 0.0957500 (1562)\ttotal: 17s\tremaining: 15.6s\n",
      "1570:\tlearn: 0.0096695\ttest: 0.0958262\tbest: 0.0957414 (1567)\ttotal: 17.1s\tremaining: 15.5s\n",
      "1575:\tlearn: 0.0096277\ttest: 0.0959056\tbest: 0.0957414 (1567)\ttotal: 17.1s\tremaining: 15.5s\n",
      "1580:\tlearn: 0.0095960\ttest: 0.0959390\tbest: 0.0957414 (1567)\ttotal: 17.2s\tremaining: 15.4s\n",
      "1585:\tlearn: 0.0095583\ttest: 0.0959541\tbest: 0.0957414 (1567)\ttotal: 17.2s\tremaining: 15.4s\n",
      "1590:\tlearn: 0.0095188\ttest: 0.0958148\tbest: 0.0957414 (1567)\ttotal: 17.3s\tremaining: 15.3s\n",
      "1595:\tlearn: 0.0094708\ttest: 0.0957782\tbest: 0.0957380 (1593)\ttotal: 17.3s\tremaining: 15.3s\n",
      "1600:\tlearn: 0.0094105\ttest: 0.0956061\tbest: 0.0956061 (1600)\ttotal: 17.4s\tremaining: 15.2s\n",
      "1605:\tlearn: 0.0093630\ttest: 0.0956657\tbest: 0.0956061 (1600)\ttotal: 17.4s\tremaining: 15.1s\n",
      "1610:\tlearn: 0.0093276\ttest: 0.0956055\tbest: 0.0956055 (1610)\ttotal: 17.5s\tremaining: 15.1s\n",
      "1615:\tlearn: 0.0092845\ttest: 0.0955451\tbest: 0.0955451 (1615)\ttotal: 17.5s\tremaining: 15s\n",
      "1620:\tlearn: 0.0092388\ttest: 0.0954544\tbest: 0.0954544 (1620)\ttotal: 17.6s\tremaining: 15s\n",
      "1625:\tlearn: 0.0092040\ttest: 0.0955121\tbest: 0.0954544 (1620)\ttotal: 17.7s\tremaining: 14.9s\n",
      "1630:\tlearn: 0.0091524\ttest: 0.0955182\tbest: 0.0954387 (1627)\ttotal: 17.7s\tremaining: 14.9s\n",
      "1635:\tlearn: 0.0091143\ttest: 0.0954484\tbest: 0.0954387 (1627)\ttotal: 17.8s\tremaining: 14.8s\n",
      "1640:\tlearn: 0.0090719\ttest: 0.0953990\tbest: 0.0953953 (1639)\ttotal: 17.8s\tremaining: 14.8s\n",
      "1645:\tlearn: 0.0090454\ttest: 0.0953456\tbest: 0.0953456 (1645)\ttotal: 17.9s\tremaining: 14.7s\n",
      "1650:\tlearn: 0.0090168\ttest: 0.0952771\tbest: 0.0952679 (1647)\ttotal: 17.9s\tremaining: 14.6s\n",
      "1655:\tlearn: 0.0089666\ttest: 0.0952418\tbest: 0.0952396 (1653)\ttotal: 18s\tremaining: 14.6s\n",
      "1660:\tlearn: 0.0089227\ttest: 0.0951718\tbest: 0.0951718 (1660)\ttotal: 18s\tremaining: 14.5s\n",
      "1665:\tlearn: 0.0088755\ttest: 0.0952043\tbest: 0.0951718 (1660)\ttotal: 18.1s\tremaining: 14.5s\n",
      "1670:\tlearn: 0.0088506\ttest: 0.0950470\tbest: 0.0950470 (1670)\ttotal: 18.1s\tremaining: 14.4s\n",
      "1675:\tlearn: 0.0088201\ttest: 0.0950056\tbest: 0.0950056 (1675)\ttotal: 18.2s\tremaining: 14.4s\n",
      "1680:\tlearn: 0.0087957\ttest: 0.0949232\tbest: 0.0949232 (1680)\ttotal: 18.2s\tremaining: 14.3s\n",
      "1685:\tlearn: 0.0087653\ttest: 0.0949964\tbest: 0.0949028 (1681)\ttotal: 18.3s\tremaining: 14.3s\n",
      "1690:\tlearn: 0.0087393\ttest: 0.0949567\tbest: 0.0949028 (1681)\ttotal: 18.3s\tremaining: 14.2s\n",
      "1695:\tlearn: 0.0086983\ttest: 0.0948708\tbest: 0.0948708 (1695)\ttotal: 18.4s\tremaining: 14.1s\n",
      "1700:\tlearn: 0.0086520\ttest: 0.0949531\tbest: 0.0948708 (1695)\ttotal: 18.5s\tremaining: 14.1s\n",
      "1705:\tlearn: 0.0086133\ttest: 0.0948251\tbest: 0.0948127 (1704)\ttotal: 18.5s\tremaining: 14s\n",
      "1710:\tlearn: 0.0085748\ttest: 0.0948193\tbest: 0.0948127 (1704)\ttotal: 18.6s\tremaining: 14s\n",
      "1715:\tlearn: 0.0085359\ttest: 0.0948238\tbest: 0.0947733 (1714)\ttotal: 18.6s\tremaining: 13.9s\n",
      "1720:\tlearn: 0.0085053\ttest: 0.0947613\tbest: 0.0947593 (1718)\ttotal: 18.7s\tremaining: 13.9s\n",
      "1725:\tlearn: 0.0084684\ttest: 0.0946897\tbest: 0.0946897 (1725)\ttotal: 18.7s\tremaining: 13.8s\n",
      "1730:\tlearn: 0.0084331\ttest: 0.0946399\tbest: 0.0946399 (1730)\ttotal: 18.8s\tremaining: 13.8s\n",
      "1735:\tlearn: 0.0084011\ttest: 0.0947935\tbest: 0.0946399 (1730)\ttotal: 18.8s\tremaining: 13.7s\n",
      "1740:\tlearn: 0.0083639\ttest: 0.0947127\tbest: 0.0946399 (1730)\ttotal: 18.9s\tremaining: 13.7s\n",
      "1745:\tlearn: 0.0083316\ttest: 0.0946247\tbest: 0.0946247 (1745)\ttotal: 18.9s\tremaining: 13.6s\n",
      "1750:\tlearn: 0.0082936\ttest: 0.0945651\tbest: 0.0945316 (1748)\ttotal: 19s\tremaining: 13.5s\n",
      "1755:\tlearn: 0.0082669\ttest: 0.0945053\tbest: 0.0944915 (1754)\ttotal: 19s\tremaining: 13.5s\n",
      "1760:\tlearn: 0.0082357\ttest: 0.0944558\tbest: 0.0944527 (1758)\ttotal: 19.1s\tremaining: 13.4s\n",
      "1765:\tlearn: 0.0082019\ttest: 0.0944483\tbest: 0.0944397 (1764)\ttotal: 19.1s\tremaining: 13.4s\n",
      "1770:\tlearn: 0.0081684\ttest: 0.0943361\tbest: 0.0943102 (1769)\ttotal: 19.2s\tremaining: 13.3s\n",
      "1775:\tlearn: 0.0081322\ttest: 0.0943139\tbest: 0.0943102 (1769)\ttotal: 19.3s\tremaining: 13.3s\n",
      "1780:\tlearn: 0.0081042\ttest: 0.0943062\tbest: 0.0942834 (1779)\ttotal: 19.3s\tremaining: 13.2s\n",
      "1785:\tlearn: 0.0080783\ttest: 0.0942883\tbest: 0.0942834 (1779)\ttotal: 19.4s\tremaining: 13.2s\n",
      "1790:\tlearn: 0.0080468\ttest: 0.0942767\tbest: 0.0942544 (1789)\ttotal: 19.4s\tremaining: 13.1s\n",
      "1795:\tlearn: 0.0080150\ttest: 0.0942419\tbest: 0.0942419 (1795)\ttotal: 19.5s\tremaining: 13.1s\n",
      "1800:\tlearn: 0.0079812\ttest: 0.0942055\tbest: 0.0941585 (1799)\ttotal: 19.5s\tremaining: 13s\n",
      "1805:\tlearn: 0.0079492\ttest: 0.0941552\tbest: 0.0941552 (1805)\ttotal: 19.6s\tremaining: 12.9s\n",
      "1810:\tlearn: 0.0079190\ttest: 0.0941733\tbest: 0.0941552 (1805)\ttotal: 19.6s\tremaining: 12.9s\n",
      "1815:\tlearn: 0.0078852\ttest: 0.0943157\tbest: 0.0941552 (1805)\ttotal: 19.7s\tremaining: 12.8s\n",
      "1820:\tlearn: 0.0078511\ttest: 0.0942458\tbest: 0.0941552 (1805)\ttotal: 19.7s\tremaining: 12.8s\n",
      "1825:\tlearn: 0.0078244\ttest: 0.0942860\tbest: 0.0941552 (1805)\ttotal: 19.8s\tremaining: 12.7s\n",
      "1830:\tlearn: 0.0077952\ttest: 0.0942426\tbest: 0.0941552 (1805)\ttotal: 19.9s\tremaining: 12.7s\n",
      "1835:\tlearn: 0.0077649\ttest: 0.0941098\tbest: 0.0941098 (1835)\ttotal: 19.9s\tremaining: 12.6s\n",
      "1840:\tlearn: 0.0077368\ttest: 0.0941772\tbest: 0.0941098 (1835)\ttotal: 20s\tremaining: 12.6s\n",
      "1845:\tlearn: 0.0077054\ttest: 0.0940869\tbest: 0.0940869 (1845)\ttotal: 20s\tremaining: 12.5s\n",
      "1850:\tlearn: 0.0076742\ttest: 0.0940296\tbest: 0.0940262 (1849)\ttotal: 20.1s\tremaining: 12.5s\n"
     ]
    },
    {
     "name": "stdout",
     "output_type": "stream",
     "text": [
      "1855:\tlearn: 0.0076416\ttest: 0.0940048\tbest: 0.0940048 (1855)\ttotal: 20.1s\tremaining: 12.4s\n",
      "1860:\tlearn: 0.0076043\ttest: 0.0940807\tbest: 0.0940048 (1855)\ttotal: 20.2s\tremaining: 12.3s\n",
      "1865:\tlearn: 0.0075697\ttest: 0.0939637\tbest: 0.0939637 (1865)\ttotal: 20.2s\tremaining: 12.3s\n",
      "1870:\tlearn: 0.0075458\ttest: 0.0938967\tbest: 0.0938967 (1870)\ttotal: 20.3s\tremaining: 12.2s\n",
      "1875:\tlearn: 0.0075213\ttest: 0.0939517\tbest: 0.0938967 (1870)\ttotal: 20.3s\tremaining: 12.2s\n",
      "1880:\tlearn: 0.0074924\ttest: 0.0939223\tbest: 0.0938923 (1879)\ttotal: 20.4s\tremaining: 12.1s\n",
      "1885:\tlearn: 0.0074694\ttest: 0.0939048\tbest: 0.0938785 (1881)\ttotal: 20.5s\tremaining: 12.1s\n",
      "1890:\tlearn: 0.0074413\ttest: 0.0938462\tbest: 0.0938248 (1889)\ttotal: 20.5s\tremaining: 12s\n",
      "1895:\tlearn: 0.0074016\ttest: 0.0938042\tbest: 0.0937279 (1892)\ttotal: 20.6s\tremaining: 12s\n",
      "1900:\tlearn: 0.0073712\ttest: 0.0936284\tbest: 0.0936276 (1899)\ttotal: 20.6s\tremaining: 11.9s\n",
      "1905:\tlearn: 0.0073512\ttest: 0.0936919\tbest: 0.0936170 (1901)\ttotal: 20.7s\tremaining: 11.9s\n",
      "1910:\tlearn: 0.0073295\ttest: 0.0937625\tbest: 0.0936170 (1901)\ttotal: 20.7s\tremaining: 11.8s\n",
      "1915:\tlearn: 0.0072959\ttest: 0.0937819\tbest: 0.0936170 (1901)\ttotal: 20.8s\tremaining: 11.8s\n",
      "1920:\tlearn: 0.0072762\ttest: 0.0938017\tbest: 0.0936170 (1901)\ttotal: 20.8s\tremaining: 11.7s\n",
      "1925:\tlearn: 0.0072518\ttest: 0.0937376\tbest: 0.0936170 (1901)\ttotal: 20.9s\tremaining: 11.6s\n",
      "1930:\tlearn: 0.0072113\ttest: 0.0936838\tbest: 0.0936170 (1901)\ttotal: 20.9s\tremaining: 11.6s\n",
      "1935:\tlearn: 0.0071877\ttest: 0.0936392\tbest: 0.0936170 (1901)\ttotal: 21s\tremaining: 11.5s\n",
      "1940:\tlearn: 0.0071605\ttest: 0.0935677\tbest: 0.0935677 (1940)\ttotal: 21.1s\tremaining: 11.5s\n",
      "1945:\tlearn: 0.0071278\ttest: 0.0935435\tbest: 0.0935193 (1942)\ttotal: 21.1s\tremaining: 11.4s\n",
      "1950:\tlearn: 0.0070974\ttest: 0.0935589\tbest: 0.0935163 (1946)\ttotal: 21.2s\tremaining: 11.4s\n",
      "1955:\tlearn: 0.0070693\ttest: 0.0934693\tbest: 0.0934693 (1955)\ttotal: 21.2s\tremaining: 11.3s\n",
      "1960:\tlearn: 0.0070452\ttest: 0.0935014\tbest: 0.0934693 (1955)\ttotal: 21.3s\tremaining: 11.3s\n",
      "1965:\tlearn: 0.0070193\ttest: 0.0934505\tbest: 0.0934505 (1965)\ttotal: 21.3s\tremaining: 11.2s\n",
      "1970:\tlearn: 0.0069899\ttest: 0.0934038\tbest: 0.0933732 (1968)\ttotal: 21.4s\tremaining: 11.2s\n",
      "1975:\tlearn: 0.0069585\ttest: 0.0932974\tbest: 0.0932974 (1975)\ttotal: 21.4s\tremaining: 11.1s\n",
      "1980:\tlearn: 0.0069293\ttest: 0.0932490\tbest: 0.0932283 (1979)\ttotal: 21.5s\tremaining: 11.1s\n",
      "1985:\tlearn: 0.0068981\ttest: 0.0932926\tbest: 0.0932283 (1979)\ttotal: 21.5s\tremaining: 11s\n",
      "1990:\tlearn: 0.0068786\ttest: 0.0933378\tbest: 0.0932283 (1979)\ttotal: 21.6s\tremaining: 10.9s\n",
      "1995:\tlearn: 0.0068468\ttest: 0.0933208\tbest: 0.0932283 (1979)\ttotal: 21.6s\tremaining: 10.9s\n",
      "2000:\tlearn: 0.0068275\ttest: 0.0934794\tbest: 0.0932283 (1979)\ttotal: 21.7s\tremaining: 10.8s\n",
      "2005:\tlearn: 0.0068086\ttest: 0.0934244\tbest: 0.0932283 (1979)\ttotal: 21.8s\tremaining: 10.8s\n",
      "2010:\tlearn: 0.0067877\ttest: 0.0933755\tbest: 0.0932283 (1979)\ttotal: 21.8s\tremaining: 10.7s\n",
      "2015:\tlearn: 0.0067634\ttest: 0.0934202\tbest: 0.0932283 (1979)\ttotal: 21.9s\tremaining: 10.7s\n",
      "2020:\tlearn: 0.0067431\ttest: 0.0933784\tbest: 0.0932283 (1979)\ttotal: 21.9s\tremaining: 10.6s\n",
      "2025:\tlearn: 0.0067168\ttest: 0.0933548\tbest: 0.0932283 (1979)\ttotal: 22s\tremaining: 10.6s\n",
      "2030:\tlearn: 0.0066971\ttest: 0.0933768\tbest: 0.0932283 (1979)\ttotal: 22s\tremaining: 10.5s\n",
      "2035:\tlearn: 0.0066757\ttest: 0.0933330\tbest: 0.0932283 (1979)\ttotal: 22.1s\tremaining: 10.5s\n",
      "2040:\tlearn: 0.0066542\ttest: 0.0932634\tbest: 0.0932283 (1979)\ttotal: 22.1s\tremaining: 10.4s\n",
      "2045:\tlearn: 0.0066360\ttest: 0.0932947\tbest: 0.0932283 (1979)\ttotal: 22.2s\tremaining: 10.4s\n",
      "2050:\tlearn: 0.0066117\ttest: 0.0932335\tbest: 0.0932142 (2049)\ttotal: 22.3s\tremaining: 10.3s\n",
      "2055:\tlearn: 0.0065911\ttest: 0.0931929\tbest: 0.0931805 (2054)\ttotal: 22.3s\tremaining: 10.2s\n",
      "2060:\tlearn: 0.0065647\ttest: 0.0931424\tbest: 0.0931424 (2060)\ttotal: 22.4s\tremaining: 10.2s\n",
      "2065:\tlearn: 0.0065445\ttest: 0.0931103\tbest: 0.0931034 (2062)\ttotal: 22.4s\tremaining: 10.1s\n",
      "2070:\tlearn: 0.0065263\ttest: 0.0930362\tbest: 0.0930362 (2070)\ttotal: 22.5s\tremaining: 10.1s\n",
      "2075:\tlearn: 0.0065089\ttest: 0.0930242\tbest: 0.0930176 (2071)\ttotal: 22.5s\tremaining: 10s\n",
      "2080:\tlearn: 0.0064900\ttest: 0.0929646\tbest: 0.0929646 (2080)\ttotal: 22.6s\tremaining: 9.97s\n",
      "2085:\tlearn: 0.0064659\ttest: 0.0929997\tbest: 0.0929375 (2081)\ttotal: 22.6s\tremaining: 9.92s\n",
      "2090:\tlearn: 0.0064385\ttest: 0.0929490\tbest: 0.0929375 (2081)\ttotal: 22.7s\tremaining: 9.86s\n",
      "2095:\tlearn: 0.0064150\ttest: 0.0929334\tbest: 0.0929277 (2091)\ttotal: 22.7s\tremaining: 9.81s\n",
      "2100:\tlearn: 0.0063874\ttest: 0.0928279\tbest: 0.0928135 (2099)\ttotal: 22.8s\tremaining: 9.76s\n",
      "2105:\tlearn: 0.0063611\ttest: 0.0929999\tbest: 0.0928135 (2099)\ttotal: 22.9s\tremaining: 9.7s\n",
      "2110:\tlearn: 0.0063404\ttest: 0.0931218\tbest: 0.0928135 (2099)\ttotal: 22.9s\tremaining: 9.65s\n",
      "2115:\tlearn: 0.0063220\ttest: 0.0930911\tbest: 0.0928135 (2099)\ttotal: 23s\tremaining: 9.6s\n",
      "2120:\tlearn: 0.0063012\ttest: 0.0930800\tbest: 0.0928135 (2099)\ttotal: 23s\tremaining: 9.54s\n",
      "2125:\tlearn: 0.0062825\ttest: 0.0930626\tbest: 0.0928135 (2099)\ttotal: 23.1s\tremaining: 9.49s\n",
      "2130:\tlearn: 0.0062665\ttest: 0.0931022\tbest: 0.0928135 (2099)\ttotal: 23.1s\tremaining: 9.43s\n",
      "2135:\tlearn: 0.0062487\ttest: 0.0930207\tbest: 0.0928135 (2099)\ttotal: 23.2s\tremaining: 9.38s\n",
      "2140:\tlearn: 0.0062288\ttest: 0.0928931\tbest: 0.0928135 (2099)\ttotal: 23.2s\tremaining: 9.32s\n",
      "2145:\tlearn: 0.0062111\ttest: 0.0928561\tbest: 0.0928135 (2099)\ttotal: 23.3s\tremaining: 9.27s\n",
      "2150:\tlearn: 0.0061951\ttest: 0.0928050\tbest: 0.0928050 (2150)\ttotal: 23.4s\tremaining: 9.22s\n",
      "2155:\tlearn: 0.0061795\ttest: 0.0927873\tbest: 0.0927423 (2153)\ttotal: 23.4s\tremaining: 9.16s\n",
      "2160:\tlearn: 0.0061596\ttest: 0.0926838\tbest: 0.0926838 (2160)\ttotal: 23.5s\tremaining: 9.11s\n",
      "2165:\tlearn: 0.0061391\ttest: 0.0926612\tbest: 0.0926612 (2165)\ttotal: 23.5s\tremaining: 9.05s\n",
      "2170:\tlearn: 0.0061181\ttest: 0.0926918\tbest: 0.0926612 (2165)\ttotal: 23.6s\tremaining: 9s\n",
      "2175:\tlearn: 0.0060969\ttest: 0.0925760\tbest: 0.0925760 (2175)\ttotal: 23.6s\tremaining: 8.95s\n",
      "2180:\tlearn: 0.0060722\ttest: 0.0924658\tbest: 0.0924658 (2180)\ttotal: 23.7s\tremaining: 8.89s\n",
      "2185:\tlearn: 0.0060526\ttest: 0.0924041\tbest: 0.0924041 (2185)\ttotal: 23.7s\tremaining: 8.84s\n",
      "2190:\tlearn: 0.0060292\ttest: 0.0924467\tbest: 0.0924041 (2185)\ttotal: 23.8s\tremaining: 8.79s\n",
      "2195:\tlearn: 0.0060126\ttest: 0.0924458\tbest: 0.0924041 (2185)\ttotal: 23.9s\tremaining: 8.73s\n",
      "2200:\tlearn: 0.0059922\ttest: 0.0925661\tbest: 0.0924041 (2185)\ttotal: 23.9s\tremaining: 8.68s\n",
      "2205:\tlearn: 0.0059762\ttest: 0.0925463\tbest: 0.0924041 (2185)\ttotal: 24s\tremaining: 8.63s\n",
      "2210:\tlearn: 0.0059602\ttest: 0.0926012\tbest: 0.0924041 (2185)\ttotal: 24s\tremaining: 8.57s\n",
      "2215:\tlearn: 0.0059461\ttest: 0.0926259\tbest: 0.0924041 (2185)\ttotal: 24.1s\tremaining: 8.52s\n",
      "2220:\tlearn: 0.0059300\ttest: 0.0926028\tbest: 0.0924041 (2185)\ttotal: 24.1s\tremaining: 8.46s\n",
      "2225:\tlearn: 0.0059097\ttest: 0.0926328\tbest: 0.0924041 (2185)\ttotal: 24.2s\tremaining: 8.4s\n",
      "2230:\tlearn: 0.0058950\ttest: 0.0926272\tbest: 0.0924041 (2185)\ttotal: 24.2s\tremaining: 8.35s\n",
      "2235:\tlearn: 0.0058787\ttest: 0.0926173\tbest: 0.0924041 (2185)\ttotal: 24.3s\tremaining: 8.3s\n",
      "2240:\tlearn: 0.0058587\ttest: 0.0925473\tbest: 0.0924041 (2185)\ttotal: 24.3s\tremaining: 8.24s\n",
      "2245:\tlearn: 0.0058368\ttest: 0.0925591\tbest: 0.0924041 (2185)\ttotal: 24.4s\tremaining: 8.19s\n",
      "2250:\tlearn: 0.0058144\ttest: 0.0924769\tbest: 0.0924041 (2185)\ttotal: 24.4s\tremaining: 8.13s\n",
      "2255:\tlearn: 0.0057855\ttest: 0.0924294\tbest: 0.0924041 (2185)\ttotal: 24.5s\tremaining: 8.08s\n",
      "2260:\tlearn: 0.0057683\ttest: 0.0924863\tbest: 0.0924041 (2185)\ttotal: 24.6s\tremaining: 8.03s\n",
      "2265:\tlearn: 0.0057504\ttest: 0.0925082\tbest: 0.0924041 (2185)\ttotal: 24.6s\tremaining: 7.97s\n",
      "2270:\tlearn: 0.0057323\ttest: 0.0925534\tbest: 0.0924041 (2185)\ttotal: 24.7s\tremaining: 7.92s\n",
      "2275:\tlearn: 0.0057124\ttest: 0.0925348\tbest: 0.0924041 (2185)\ttotal: 24.7s\tremaining: 7.86s\n",
      "2280:\tlearn: 0.0056928\ttest: 0.0925160\tbest: 0.0924041 (2185)\ttotal: 24.8s\tremaining: 7.81s\n",
      "2285:\tlearn: 0.0056768\ttest: 0.0925677\tbest: 0.0924041 (2185)\ttotal: 24.8s\tremaining: 7.75s\n",
      "2290:\tlearn: 0.0056587\ttest: 0.0924081\tbest: 0.0924014 (2289)\ttotal: 24.9s\tremaining: 7.7s\n",
      "2295:\tlearn: 0.0056428\ttest: 0.0924234\tbest: 0.0924014 (2289)\ttotal: 24.9s\tremaining: 7.64s\n",
      "2300:\tlearn: 0.0056286\ttest: 0.0924534\tbest: 0.0924014 (2289)\ttotal: 25s\tremaining: 7.59s\n",
      "2305:\tlearn: 0.0056136\ttest: 0.0924562\tbest: 0.0924014 (2289)\ttotal: 25s\tremaining: 7.54s\n",
      "2310:\tlearn: 0.0056031\ttest: 0.0924260\tbest: 0.0924014 (2289)\ttotal: 25.1s\tremaining: 7.48s\n"
     ]
    },
    {
     "name": "stdout",
     "output_type": "stream",
     "text": [
      "2315:\tlearn: 0.0055902\ttest: 0.0924103\tbest: 0.0923855 (2312)\ttotal: 25.1s\tremaining: 7.42s\n",
      "2320:\tlearn: 0.0055743\ttest: 0.0924239\tbest: 0.0923855 (2312)\ttotal: 25.2s\tremaining: 7.37s\n",
      "2325:\tlearn: 0.0055617\ttest: 0.0924195\tbest: 0.0923855 (2312)\ttotal: 25.2s\tremaining: 7.32s\n",
      "2330:\tlearn: 0.0055441\ttest: 0.0924161\tbest: 0.0923855 (2312)\ttotal: 25.3s\tremaining: 7.26s\n",
      "2335:\tlearn: 0.0055308\ttest: 0.0924224\tbest: 0.0923800 (2331)\ttotal: 25.3s\tremaining: 7.21s\n",
      "2340:\tlearn: 0.0055204\ttest: 0.0924151\tbest: 0.0923800 (2331)\ttotal: 25.4s\tremaining: 7.15s\n",
      "2345:\tlearn: 0.0055047\ttest: 0.0924285\tbest: 0.0923800 (2331)\ttotal: 25.5s\tremaining: 7.1s\n",
      "2350:\tlearn: 0.0054895\ttest: 0.0924110\tbest: 0.0923800 (2331)\ttotal: 25.5s\tremaining: 7.04s\n",
      "2355:\tlearn: 0.0054695\ttest: 0.0924389\tbest: 0.0923800 (2331)\ttotal: 25.6s\tremaining: 6.99s\n",
      "2360:\tlearn: 0.0054528\ttest: 0.0924882\tbest: 0.0923800 (2331)\ttotal: 25.6s\tremaining: 6.93s\n",
      "2365:\tlearn: 0.0054281\ttest: 0.0923744\tbest: 0.0923744 (2365)\ttotal: 25.7s\tremaining: 6.88s\n",
      "2370:\tlearn: 0.0054109\ttest: 0.0923996\tbest: 0.0923604 (2368)\ttotal: 25.7s\tremaining: 6.82s\n",
      "2375:\tlearn: 0.0053964\ttest: 0.0923820\tbest: 0.0923604 (2368)\ttotal: 25.8s\tremaining: 6.77s\n",
      "2380:\tlearn: 0.0053833\ttest: 0.0923905\tbest: 0.0923604 (2368)\ttotal: 25.8s\tremaining: 6.71s\n",
      "2385:\tlearn: 0.0053656\ttest: 0.0923198\tbest: 0.0923198 (2385)\ttotal: 25.9s\tremaining: 6.66s\n",
      "2390:\tlearn: 0.0053503\ttest: 0.0922896\tbest: 0.0922896 (2390)\ttotal: 25.9s\tremaining: 6.61s\n",
      "2395:\tlearn: 0.0053352\ttest: 0.0922948\tbest: 0.0922374 (2393)\ttotal: 26s\tremaining: 6.55s\n",
      "2400:\tlearn: 0.0053212\ttest: 0.0922338\tbest: 0.0922338 (2400)\ttotal: 26s\tremaining: 6.5s\n",
      "2405:\tlearn: 0.0053052\ttest: 0.0922377\tbest: 0.0921904 (2401)\ttotal: 26.1s\tremaining: 6.44s\n",
      "2410:\tlearn: 0.0052911\ttest: 0.0922417\tbest: 0.0921904 (2401)\ttotal: 26.1s\tremaining: 6.39s\n",
      "2415:\tlearn: 0.0052787\ttest: 0.0922568\tbest: 0.0921904 (2401)\ttotal: 26.2s\tremaining: 6.33s\n",
      "2420:\tlearn: 0.0052627\ttest: 0.0922447\tbest: 0.0921904 (2401)\ttotal: 26.3s\tremaining: 6.28s\n",
      "2425:\tlearn: 0.0052446\ttest: 0.0921973\tbest: 0.0921904 (2401)\ttotal: 26.3s\tremaining: 6.22s\n",
      "2430:\tlearn: 0.0052289\ttest: 0.0921596\tbest: 0.0921518 (2427)\ttotal: 26.4s\tremaining: 6.17s\n",
      "2435:\tlearn: 0.0052143\ttest: 0.0921998\tbest: 0.0921518 (2427)\ttotal: 26.4s\tremaining: 6.12s\n",
      "2440:\tlearn: 0.0051960\ttest: 0.0922052\tbest: 0.0921518 (2427)\ttotal: 26.5s\tremaining: 6.06s\n",
      "2445:\tlearn: 0.0051788\ttest: 0.0921618\tbest: 0.0921518 (2427)\ttotal: 26.5s\tremaining: 6.01s\n",
      "2450:\tlearn: 0.0051644\ttest: 0.0921251\tbest: 0.0921251 (2450)\ttotal: 26.6s\tremaining: 5.95s\n",
      "2455:\tlearn: 0.0051534\ttest: 0.0921579\tbest: 0.0921251 (2450)\ttotal: 26.6s\tremaining: 5.9s\n",
      "2460:\tlearn: 0.0051412\ttest: 0.0921503\tbest: 0.0921251 (2450)\ttotal: 26.7s\tremaining: 5.84s\n",
      "2465:\tlearn: 0.0051302\ttest: 0.0921547\tbest: 0.0921251 (2450)\ttotal: 26.7s\tremaining: 5.79s\n",
      "2470:\tlearn: 0.0051201\ttest: 0.0921480\tbest: 0.0921240 (2469)\ttotal: 26.8s\tremaining: 5.74s\n",
      "2475:\tlearn: 0.0051023\ttest: 0.0921338\tbest: 0.0921094 (2474)\ttotal: 26.8s\tremaining: 5.68s\n",
      "2480:\tlearn: 0.0050828\ttest: 0.0921022\tbest: 0.0921013 (2479)\ttotal: 26.9s\tremaining: 5.63s\n",
      "2485:\tlearn: 0.0050678\ttest: 0.0920620\tbest: 0.0920253 (2481)\ttotal: 27s\tremaining: 5.57s\n",
      "2490:\tlearn: 0.0050522\ttest: 0.0920720\tbest: 0.0920253 (2481)\ttotal: 27s\tremaining: 5.52s\n",
      "2495:\tlearn: 0.0050366\ttest: 0.0919665\tbest: 0.0919557 (2494)\ttotal: 27.1s\tremaining: 5.46s\n",
      "2500:\tlearn: 0.0050243\ttest: 0.0919792\tbest: 0.0919557 (2494)\ttotal: 27.1s\tremaining: 5.41s\n",
      "2505:\tlearn: 0.0050140\ttest: 0.0920512\tbest: 0.0919557 (2494)\ttotal: 27.2s\tremaining: 5.36s\n",
      "2510:\tlearn: 0.0050046\ttest: 0.0920797\tbest: 0.0919557 (2494)\ttotal: 27.2s\tremaining: 5.3s\n",
      "2515:\tlearn: 0.0049894\ttest: 0.0920027\tbest: 0.0919557 (2494)\ttotal: 27.3s\tremaining: 5.25s\n",
      "2520:\tlearn: 0.0049784\ttest: 0.0920122\tbest: 0.0919557 (2494)\ttotal: 27.3s\tremaining: 5.19s\n",
      "2525:\tlearn: 0.0049670\ttest: 0.0919908\tbest: 0.0919557 (2494)\ttotal: 27.4s\tremaining: 5.14s\n",
      "2530:\tlearn: 0.0049516\ttest: 0.0919835\tbest: 0.0919557 (2494)\ttotal: 27.4s\tremaining: 5.08s\n",
      "2535:\tlearn: 0.0049422\ttest: 0.0920140\tbest: 0.0919557 (2494)\ttotal: 27.5s\tremaining: 5.03s\n",
      "2540:\tlearn: 0.0049266\ttest: 0.0919590\tbest: 0.0919553 (2539)\ttotal: 27.5s\tremaining: 4.97s\n",
      "2545:\tlearn: 0.0049133\ttest: 0.0919203\tbest: 0.0919034 (2542)\ttotal: 27.6s\tremaining: 4.92s\n",
      "2550:\tlearn: 0.0048982\ttest: 0.0918870\tbest: 0.0918870 (2550)\ttotal: 27.7s\tremaining: 4.87s\n",
      "2555:\tlearn: 0.0048850\ttest: 0.0919068\tbest: 0.0918649 (2552)\ttotal: 27.7s\tremaining: 4.81s\n",
      "2560:\tlearn: 0.0048748\ttest: 0.0918382\tbest: 0.0918288 (2559)\ttotal: 27.8s\tremaining: 4.76s\n",
      "2565:\tlearn: 0.0048624\ttest: 0.0918520\tbest: 0.0918288 (2559)\ttotal: 27.8s\tremaining: 4.71s\n",
      "2570:\tlearn: 0.0048517\ttest: 0.0918772\tbest: 0.0918288 (2559)\ttotal: 27.9s\tremaining: 4.65s\n",
      "2575:\tlearn: 0.0048387\ttest: 0.0918929\tbest: 0.0918288 (2559)\ttotal: 27.9s\tremaining: 4.6s\n",
      "2580:\tlearn: 0.0048230\ttest: 0.0919320\tbest: 0.0918288 (2559)\ttotal: 28s\tremaining: 4.54s\n",
      "2585:\tlearn: 0.0048065\ttest: 0.0918785\tbest: 0.0918288 (2559)\ttotal: 28s\tremaining: 4.49s\n",
      "2590:\tlearn: 0.0047971\ttest: 0.0918511\tbest: 0.0918288 (2559)\ttotal: 28.1s\tremaining: 4.43s\n",
      "2595:\tlearn: 0.0047846\ttest: 0.0918446\tbest: 0.0918063 (2592)\ttotal: 28.1s\tremaining: 4.38s\n",
      "2600:\tlearn: 0.0047748\ttest: 0.0918464\tbest: 0.0918063 (2592)\ttotal: 28.2s\tremaining: 4.33s\n",
      "2605:\tlearn: 0.0047626\ttest: 0.0917771\tbest: 0.0917771 (2605)\ttotal: 28.3s\tremaining: 4.27s\n",
      "2610:\tlearn: 0.0047500\ttest: 0.0917042\tbest: 0.0917042 (2610)\ttotal: 28.3s\tremaining: 4.22s\n",
      "2615:\tlearn: 0.0047340\ttest: 0.0917217\tbest: 0.0916748 (2611)\ttotal: 28.4s\tremaining: 4.16s\n",
      "2620:\tlearn: 0.0047220\ttest: 0.0917170\tbest: 0.0916748 (2611)\ttotal: 28.4s\tremaining: 4.11s\n",
      "2625:\tlearn: 0.0047020\ttest: 0.0916743\tbest: 0.0916743 (2625)\ttotal: 28.5s\tremaining: 4.06s\n",
      "2630:\tlearn: 0.0046867\ttest: 0.0916331\tbest: 0.0916331 (2630)\ttotal: 28.5s\tremaining: 4s\n",
      "2635:\tlearn: 0.0046768\ttest: 0.0915653\tbest: 0.0915653 (2635)\ttotal: 28.6s\tremaining: 3.95s\n",
      "2640:\tlearn: 0.0046667\ttest: 0.0916603\tbest: 0.0915653 (2635)\ttotal: 28.6s\tremaining: 3.89s\n",
      "2645:\tlearn: 0.0046537\ttest: 0.0916261\tbest: 0.0915653 (2635)\ttotal: 28.7s\tremaining: 3.84s\n",
      "2650:\tlearn: 0.0046409\ttest: 0.0915524\tbest: 0.0915524 (2650)\ttotal: 28.8s\tremaining: 3.79s\n",
      "2655:\tlearn: 0.0046290\ttest: 0.0915819\tbest: 0.0915243 (2651)\ttotal: 28.8s\tremaining: 3.73s\n",
      "2660:\tlearn: 0.0046113\ttest: 0.0915104\tbest: 0.0915053 (2659)\ttotal: 28.9s\tremaining: 3.68s\n",
      "2665:\tlearn: 0.0045991\ttest: 0.0914807\tbest: 0.0914807 (2665)\ttotal: 28.9s\tremaining: 3.62s\n",
      "2670:\tlearn: 0.0045876\ttest: 0.0914699\tbest: 0.0914547 (2669)\ttotal: 29s\tremaining: 3.57s\n",
      "2675:\tlearn: 0.0045761\ttest: 0.0913828\tbest: 0.0913828 (2675)\ttotal: 29s\tremaining: 3.51s\n",
      "2680:\tlearn: 0.0045618\ttest: 0.0913293\tbest: 0.0913293 (2680)\ttotal: 29.1s\tremaining: 3.46s\n",
      "2685:\tlearn: 0.0045520\ttest: 0.0912892\tbest: 0.0912892 (2685)\ttotal: 29.1s\tremaining: 3.4s\n",
      "2690:\tlearn: 0.0045412\ttest: 0.0913671\tbest: 0.0912819 (2686)\ttotal: 29.2s\tremaining: 3.35s\n",
      "2695:\tlearn: 0.0045246\ttest: 0.0913724\tbest: 0.0912819 (2686)\ttotal: 29.2s\tremaining: 3.3s\n",
      "2700:\tlearn: 0.0045160\ttest: 0.0913872\tbest: 0.0912819 (2686)\ttotal: 29.3s\tremaining: 3.24s\n",
      "2705:\tlearn: 0.0045062\ttest: 0.0913491\tbest: 0.0912819 (2686)\ttotal: 29.3s\tremaining: 3.19s\n",
      "2710:\tlearn: 0.0044933\ttest: 0.0912968\tbest: 0.0912819 (2686)\ttotal: 29.4s\tremaining: 3.13s\n",
      "2715:\tlearn: 0.0044847\ttest: 0.0913096\tbest: 0.0912819 (2686)\ttotal: 29.4s\tremaining: 3.08s\n",
      "2720:\tlearn: 0.0044761\ttest: 0.0913068\tbest: 0.0912819 (2686)\ttotal: 29.5s\tremaining: 3.02s\n",
      "2725:\tlearn: 0.0044614\ttest: 0.0912784\tbest: 0.0912784 (2725)\ttotal: 29.6s\tremaining: 2.97s\n",
      "2730:\tlearn: 0.0044504\ttest: 0.0913262\tbest: 0.0912704 (2727)\ttotal: 29.6s\tremaining: 2.92s\n",
      "2735:\tlearn: 0.0044390\ttest: 0.0913287\tbest: 0.0912704 (2727)\ttotal: 29.7s\tremaining: 2.86s\n",
      "2740:\tlearn: 0.0044281\ttest: 0.0913421\tbest: 0.0912704 (2727)\ttotal: 29.7s\tremaining: 2.81s\n",
      "2745:\tlearn: 0.0044214\ttest: 0.0913168\tbest: 0.0912704 (2727)\ttotal: 29.8s\tremaining: 2.75s\n",
      "2750:\tlearn: 0.0044111\ttest: 0.0912977\tbest: 0.0912704 (2727)\ttotal: 29.8s\tremaining: 2.7s\n",
      "2755:\tlearn: 0.0044021\ttest: 0.0913281\tbest: 0.0912704 (2727)\ttotal: 29.9s\tremaining: 2.64s\n",
      "2760:\tlearn: 0.0043922\ttest: 0.0913064\tbest: 0.0912704 (2727)\ttotal: 29.9s\tremaining: 2.59s\n",
      "2765:\tlearn: 0.0043828\ttest: 0.0912792\tbest: 0.0912545 (2762)\ttotal: 30s\tremaining: 2.54s\n",
      "2770:\tlearn: 0.0043742\ttest: 0.0912921\tbest: 0.0912466 (2767)\ttotal: 30s\tremaining: 2.48s\n"
     ]
    },
    {
     "name": "stdout",
     "output_type": "stream",
     "text": [
      "2775:\tlearn: 0.0043651\ttest: 0.0912384\tbest: 0.0912384 (2775)\ttotal: 30.1s\tremaining: 2.43s\n",
      "2780:\tlearn: 0.0043528\ttest: 0.0912270\tbest: 0.0912026 (2778)\ttotal: 30.1s\tremaining: 2.37s\n",
      "2785:\tlearn: 0.0043422\ttest: 0.0912792\tbest: 0.0912026 (2778)\ttotal: 30.2s\tremaining: 2.32s\n",
      "2790:\tlearn: 0.0043311\ttest: 0.0912204\tbest: 0.0912026 (2778)\ttotal: 30.3s\tremaining: 2.27s\n",
      "2795:\tlearn: 0.0043183\ttest: 0.0912396\tbest: 0.0911802 (2793)\ttotal: 30.3s\tremaining: 2.21s\n",
      "2800:\tlearn: 0.0043073\ttest: 0.0912662\tbest: 0.0911802 (2793)\ttotal: 30.4s\tremaining: 2.16s\n",
      "2805:\tlearn: 0.0042970\ttest: 0.0912243\tbest: 0.0911802 (2793)\ttotal: 30.4s\tremaining: 2.1s\n",
      "2810:\tlearn: 0.0042891\ttest: 0.0912091\tbest: 0.0911802 (2793)\ttotal: 30.5s\tremaining: 2.05s\n",
      "2815:\tlearn: 0.0042791\ttest: 0.0912010\tbest: 0.0911802 (2793)\ttotal: 30.5s\tremaining: 1.99s\n",
      "2820:\tlearn: 0.0042698\ttest: 0.0912230\tbest: 0.0911802 (2793)\ttotal: 30.6s\tremaining: 1.94s\n",
      "2825:\tlearn: 0.0042594\ttest: 0.0913071\tbest: 0.0911802 (2793)\ttotal: 30.6s\tremaining: 1.89s\n",
      "2830:\tlearn: 0.0042503\ttest: 0.0913797\tbest: 0.0911802 (2793)\ttotal: 30.7s\tremaining: 1.83s\n",
      "2835:\tlearn: 0.0042439\ttest: 0.0914222\tbest: 0.0911802 (2793)\ttotal: 30.7s\tremaining: 1.78s\n",
      "2840:\tlearn: 0.0042321\ttest: 0.0914064\tbest: 0.0911802 (2793)\ttotal: 30.8s\tremaining: 1.72s\n",
      "2845:\tlearn: 0.0042192\ttest: 0.0913271\tbest: 0.0911802 (2793)\ttotal: 30.8s\tremaining: 1.67s\n",
      "2850:\tlearn: 0.0042092\ttest: 0.0913064\tbest: 0.0911802 (2793)\ttotal: 30.9s\tremaining: 1.61s\n",
      "2855:\tlearn: 0.0042019\ttest: 0.0913371\tbest: 0.0911802 (2793)\ttotal: 31s\tremaining: 1.56s\n",
      "2860:\tlearn: 0.0041915\ttest: 0.0913520\tbest: 0.0911802 (2793)\ttotal: 31s\tremaining: 1.51s\n",
      "2865:\tlearn: 0.0041796\ttest: 0.0912149\tbest: 0.0911802 (2793)\ttotal: 31.1s\tremaining: 1.45s\n",
      "2870:\tlearn: 0.0041692\ttest: 0.0911981\tbest: 0.0911802 (2793)\ttotal: 31.1s\tremaining: 1.4s\n",
      "2875:\tlearn: 0.0041606\ttest: 0.0912655\tbest: 0.0911802 (2793)\ttotal: 31.2s\tremaining: 1.34s\n",
      "2880:\tlearn: 0.0041466\ttest: 0.0912039\tbest: 0.0911802 (2793)\ttotal: 31.2s\tremaining: 1.29s\n",
      "2885:\tlearn: 0.0041400\ttest: 0.0912081\tbest: 0.0911802 (2793)\ttotal: 31.3s\tremaining: 1.24s\n",
      "2890:\tlearn: 0.0041298\ttest: 0.0912328\tbest: 0.0911802 (2793)\ttotal: 31.3s\tremaining: 1.18s\n",
      "2895:\tlearn: 0.0041164\ttest: 0.0911568\tbest: 0.0911568 (2895)\ttotal: 31.4s\tremaining: 1.13s\n",
      "2900:\tlearn: 0.0041087\ttest: 0.0911383\tbest: 0.0911276 (2898)\ttotal: 31.4s\tremaining: 1.07s\n",
      "2905:\tlearn: 0.0040986\ttest: 0.0911570\tbest: 0.0911261 (2901)\ttotal: 31.5s\tremaining: 1.02s\n",
      "2910:\tlearn: 0.0040909\ttest: 0.0911469\tbest: 0.0911261 (2901)\ttotal: 31.5s\tremaining: 964ms\n",
      "2915:\tlearn: 0.0040835\ttest: 0.0911432\tbest: 0.0911118 (2913)\ttotal: 31.6s\tremaining: 910ms\n",
      "2920:\tlearn: 0.0040729\ttest: 0.0911650\tbest: 0.0911118 (2913)\ttotal: 31.6s\tremaining: 856ms\n",
      "2925:\tlearn: 0.0040620\ttest: 0.0911599\tbest: 0.0911118 (2913)\ttotal: 31.7s\tremaining: 802ms\n",
      "2930:\tlearn: 0.0040518\ttest: 0.0911157\tbest: 0.0911118 (2913)\ttotal: 31.7s\tremaining: 747ms\n",
      "2935:\tlearn: 0.0040405\ttest: 0.0912004\tbest: 0.0911118 (2913)\ttotal: 31.8s\tremaining: 693ms\n",
      "2940:\tlearn: 0.0040279\ttest: 0.0912510\tbest: 0.0911118 (2913)\ttotal: 31.9s\tremaining: 639ms\n",
      "2945:\tlearn: 0.0040165\ttest: 0.0911998\tbest: 0.0911118 (2913)\ttotal: 31.9s\tremaining: 585ms\n",
      "2950:\tlearn: 0.0040079\ttest: 0.0911989\tbest: 0.0911118 (2913)\ttotal: 31.9s\tremaining: 531ms\n",
      "2955:\tlearn: 0.0039988\ttest: 0.0912594\tbest: 0.0911118 (2913)\ttotal: 32s\tremaining: 476ms\n",
      "2960:\tlearn: 0.0039883\ttest: 0.0911977\tbest: 0.0911118 (2913)\ttotal: 32.1s\tremaining: 422ms\n",
      "2965:\tlearn: 0.0039799\ttest: 0.0911351\tbest: 0.0911118 (2913)\ttotal: 32.1s\tremaining: 368ms\n",
      "2970:\tlearn: 0.0039711\ttest: 0.0911259\tbest: 0.0911118 (2913)\ttotal: 32.2s\tremaining: 314ms\n",
      "2975:\tlearn: 0.0039630\ttest: 0.0911334\tbest: 0.0911118 (2913)\ttotal: 32.2s\tremaining: 260ms\n",
      "2980:\tlearn: 0.0039525\ttest: 0.0911537\tbest: 0.0911118 (2913)\ttotal: 32.3s\tremaining: 206ms\n",
      "2985:\tlearn: 0.0039420\ttest: 0.0910728\tbest: 0.0910726 (2984)\ttotal: 32.3s\tremaining: 152ms\n",
      "2990:\tlearn: 0.0039324\ttest: 0.0910993\tbest: 0.0910726 (2984)\ttotal: 32.4s\tremaining: 97.4ms\n",
      "2995:\tlearn: 0.0039252\ttest: 0.0911393\tbest: 0.0910726 (2984)\ttotal: 32.4s\tremaining: 43.3ms\n",
      "2999:\tlearn: 0.0039175\ttest: 0.0911264\tbest: 0.0910726 (2984)\ttotal: 32.5s\tremaining: 0us\n",
      "bestTest = 0.09107256659\n",
      "bestIteration = 2984\n",
      "Shrink model to first 2985 iterations.\n",
      "accuracy score:1.000000\n",
      "accuracy score:0.959093\n"
     ]
    }
   ],
   "source": [
    "from catboost import CatBoostClassifier\n",
    "\n",
    "\n",
    "booster = CatBoostClassifier(iterations=3000, verbose=5, task_type=\"GPU\", devices='0:1')\n",
    "\n",
    "booster.fit(X_train, y_train, eval_set=(X_test, y_test))\n",
    "\n",
    "test_preds = booster.predict(X_test)\n",
    "train_preds = booster.predict(X_train)\n",
    "\n",
    "print(\"accuracy score:{:.6f}\".format(metrics.recall_score(y_train, train_preds, average=\"macro\", zero_division=0)))\n",
    "print(\"accuracy score:{:.6f}\".format(metrics.recall_score(y_test, test_preds, average=\"macro\", zero_division=0)))"
   ]
  },
  {
   "cell_type": "code",
   "execution_count": null,
   "metadata": {},
   "outputs": [],
   "source": [
    "print(f\"Cuda доступна {torch.cuda.is_available()}. Версия cuda {torch.version.cuda}\")\n",
    "\n",
    "gpu_id = 0\n",
    "gpu_str = \"cuda:{}\".format(gpu_id)\n",
    "device = torch.device(gpu_str if torch.cuda.is_available() else \"cpu\")\n",
    "\n",
    "x_cpu = torch.ones((3, 3))\n",
    "idx_cpus = set()\n",
    "devices_cpu = {}\n",
    "devices_gpu = {}\n",
    "\n",
    "for idx in range(1000):\n",
    "    device = torch.device(f\"cpu:{idx}\")\n",
    "    x_cpu = x_cpu.to(device)\n",
    "    if id(x_cpu) not in idx_cpus:\n",
    "        idx_cpus.add(id(x_cpu))\n",
    "        devices_cpu[f\"cpu:{idx}\"] = device\n",
    "        print(\"x_cpu:{} device: {} is_cuda: {} id: {}\".format(idx, x_cpu.device, x_cpu.is_cuda, id(x_cpu)))\n",
    "    else:\n",
    "        break\n",
    "        \n",
    "device_count = torch.cuda.device_count()\n",
    "\n",
    "print(\"\\ndevice_count: {}\".format(device_count))\n",
    "\n",
    "print(f\"Используется cuda:{torch.cuda.current_device()}\")\n",
    "\n",
    "for idx in range(torch.cuda.device_count()):\n",
    "    device = torch.device(f\"cuda:{idx}\")\n",
    "    x_gpu = x_cpu.to(device)\n",
    "    print(\"x_gpu:\\ndevice: {} is_cuda: {} id: {}\".format(x_gpu.device, x_gpu.is_cuda, id(x_gpu)))\n",
    "    device_name = torch.cuda.get_device_name(idx)\n",
    "    print(\"\\ndevice_name {}: {}\".format(idx, device_name))\n",
    "    #print(torch.cuda.memory_stats(device))\n",
    "    print(torch.cuda.get_device_capability(idx))\n",
    "    devices_gpu[f\"cuda:{idx}\"] = (device_name, device)"
   ]
  },
  {
   "cell_type": "code",
   "execution_count": 83,
   "metadata": {},
   "outputs": [],
   "source": [
    "params = {\n",
    "    \"path\":[\"./DBeaver_dataset.json\", \"./MonitorOff_dataset.json\", \"./PyCharm_dataset.json\", \"./SSMS_dataset.json\", \"./VisualStudio_dataset.json\", \"./Windows_enter_dataset.json\"],\n",
    "    \"path_img\":\"./Dataset/\",\n",
    "    \"lr\": 0.0001,\n",
    "    \"batch_size\": 32,\n",
    "    \"num_workers\": 4,\n",
    "    \"epochs\": 30,\n",
    "    \"size\": 128,\n",
    "    \"device\": torch.device(\"cuda:1\" if torch.cuda.is_available() else \"cpu\"),\n",
    "    \"path_model\":\"./best_model.mdl\",\n",
    "    'path_config':\"./config.cfg\",\n",
    "    'embedding_dims':128,\n",
    "}"
   ]
  },
  {
   "cell_type": "code",
   "execution_count": 86,
   "metadata": {},
   "outputs": [
    {
     "name": "stdout",
     "output_type": "stream",
     "text": [
      "Tesla M40\n"
     ]
    }
   ],
   "source": [
    "if device.type == \"cuda\":\n",
    "    print(torch.cuda.get_device_name(params[\"device\"].index))\n",
    "else:\n",
    "    print(\"CPU\")"
   ]
  },
  {
   "cell_type": "code",
   "execution_count": 87,
   "metadata": {},
   "outputs": [],
   "source": [
    "idx_y = y_train.loc[y_train['crop'] == 0].index"
   ]
  },
  {
   "cell_type": "code",
   "execution_count": 88,
   "metadata": {},
   "outputs": [],
   "source": [
    "unique_label = np.unique(y_train['crop'])\n",
    "idx_doc = {}\n",
    "\n",
    "for idx in unique_label:\n",
    "    idx_y = y_train.loc[y_train['crop'] == 0].index\n",
    "    idx_doc[idx] = X_train.loc[X_train.index.isin(idx_y)]"
   ]
  },
  {
   "cell_type": "code",
   "execution_count": 89,
   "metadata": {},
   "outputs": [
    {
     "data": {
      "text/plain": [
       "array([ 8.11858990e-03,  6.19355685e-03,  7.97536711e-03,  3.97022347e-03,\n",
       "        1.62941788e-02,  2.57734120e-02,  2.79945196e-02,  0.00000000e+00,\n",
       "        9.78659520e-03,  1.77484869e-02,  1.63026200e-02,  1.08608463e-02,\n",
       "        1.61802467e-02,  1.91423975e-02,  1.97633606e-02,  3.46384111e-03,\n",
       "        9.26232314e-03,  0.00000000e+00,  5.51736230e-03,  1.59016299e-02,\n",
       "        1.62693685e-02,  1.59813749e-02,  1.58433962e-02,  1.59797097e-02,\n",
       "        2.12057788e-02,  1.53210379e-02,  1.65146375e-02,  1.58108758e-02,\n",
       "        1.60208202e-02,  2.34600092e-02,  1.72843638e-02,  1.67537570e-02,\n",
       "        5.40784046e-03,  1.62449962e-02,  1.83851964e-02,  1.06512040e-02,\n",
       "        2.27932369e-02,  2.87107106e-03,  1.61443874e-02,  1.13849881e-02,\n",
       "        2.33941864e-02,  8.28772985e-03,  1.99702715e-03,  1.50121607e-05,\n",
       "        5.03767577e-03,  1.73305440e-02,  1.70996310e-03,  1.72861587e-02,\n",
       "        5.49504542e-03,  0.00000000e+00,  1.27392349e-02,  5.28717503e-04,\n",
       "       -2.44196635e-04,  0.00000000e+00,  2.00810196e-03,  1.20400667e-02,\n",
       "        0.00000000e+00,  1.36813544e-03,  5.65469868e-03,  1.43978153e-02,\n",
       "        2.22614907e-02,  7.38044785e-03,  0.00000000e+00,  6.82442753e-03,\n",
       "        9.51294375e-03,  1.33241147e-02,  3.83404649e-04,  9.56688471e-03,\n",
       "        4.36955823e-03,  3.99832262e-02,  5.56589687e-03,  1.56579855e-02,\n",
       "        1.41787153e-02, -7.40968212e-02,  1.53160581e-02,  1.47343579e-02,\n",
       "        1.30343402e-02,  3.41388055e-02,  1.36869112e-02,  1.30360744e-02,\n",
       "        3.06037692e-04,  1.04557573e-02,  1.18675500e-02,  1.97296617e-02,\n",
       "        2.99407386e-02,  1.68735555e-02,  1.49408692e-02, -1.62352924e-02,\n",
       "        1.41081050e-02,  1.60010865e-02,  1.61504477e-02,  1.89738142e-02,\n",
       "        1.45321721e-02,  1.47287008e-02,  0.00000000e+00,  9.66546371e-03,\n",
       "        1.51108667e-02,  1.36138799e-02,  0.00000000e+00,  1.66998007e-02,\n",
       "        1.47966827e-02,  3.19978960e-03,  1.67854317e-02,  1.30440630e-02,\n",
       "        9.19380718e-03,  2.40714500e-03,  1.14244934e-02,  1.37983267e-02,\n",
       "        0.00000000e+00,  7.37818350e-03,  1.39963550e-02,  4.87752653e-03,\n",
       "        7.19354654e-03,  1.29833205e-02,  1.29837813e-02,  1.29839157e-02,\n",
       "        1.29842929e-02,  1.39731688e-02,  1.39726279e-02,  1.39727688e-02,\n",
       "        1.39725153e-02])"
      ]
     },
     "execution_count": 89,
     "metadata": {},
     "output_type": "execute_result"
    }
   ],
   "source": [
    "from random import randrange\n",
    "\n",
    "idx_doc[0].iloc[randrange(len(idx_doc[0]))].to_numpy()"
   ]
  },
  {
   "cell_type": "code",
   "execution_count": 90,
   "metadata": {},
   "outputs": [
    {
     "data": {
      "text/plain": [
       "(4105, 121)"
      ]
     },
     "execution_count": 90,
     "metadata": {},
     "output_type": "execute_result"
    }
   ],
   "source": [
    "np.shape(X_train)"
   ]
  },
  {
   "cell_type": "code",
   "execution_count": null,
   "metadata": {},
   "outputs": [],
   "source": []
  },
  {
   "cell_type": "code",
   "execution_count": 91,
   "metadata": {},
   "outputs": [],
   "source": [
    "data = X_train.to_numpy()\n",
    "labels = y_train['crop'].to_numpy()"
   ]
  },
  {
   "cell_type": "code",
   "execution_count": 92,
   "metadata": {},
   "outputs": [
    {
     "data": {
      "text/plain": [
       "((4105, 121), (4105,))"
      ]
     },
     "execution_count": 92,
     "metadata": {},
     "output_type": "execute_result"
    }
   ],
   "source": [
    "np.shape(data), np.shape(labels)"
   ]
  },
  {
   "cell_type": "code",
   "execution_count": 93,
   "metadata": {},
   "outputs": [
    {
     "data": {
      "text/plain": [
       "(574, 121)"
      ]
     },
     "execution_count": 93,
     "metadata": {},
     "output_type": "execute_result"
    }
   ],
   "source": [
    "np.shape(data[(labels == 1), :])"
   ]
  },
  {
   "cell_type": "code",
   "execution_count": 94,
   "metadata": {},
   "outputs": [
    {
     "data": {
      "text/plain": [
       "121"
      ]
     },
     "execution_count": 94,
     "metadata": {},
     "output_type": "execute_result"
    }
   ],
   "source": [
    "np.shape(data)[-1]"
   ]
  },
  {
   "cell_type": "code",
   "execution_count": 95,
   "metadata": {},
   "outputs": [],
   "source": [
    "class ImageDataset_(Dataset):\n",
    "    def __init__(self, X, y, is_train):\n",
    "        self.is_train = is_train\n",
    "        self.unique_label = np.unique(y['crop'].to_numpy())\n",
    "        self.idx_doc = {}\n",
    "        self.is_train = is_train\n",
    "        self.unique_class = {}\n",
    "        self.unique_anchor = {}\n",
    "        self.data = X.to_numpy()\n",
    "        self.labels = y['crop'].to_numpy()\n",
    "        for label in self.unique_label:\n",
    "            self.unique_class[label] = self.data[(self.labels == label), :]\n",
    "            \n",
    "        self.change_positives()\n",
    "        \n",
    "        \n",
    "    def __len__(self):\n",
    "        return len(self.labels)\n",
    "    \n",
    "    \n",
    "    def change_positives(self):\n",
    "        self.unique_anchor = {}\n",
    "        for label in self.unique_label:\n",
    "            self.unique_anchor[label] = randrange(len(self.unique_class[label]))\n",
    "\n",
    "            \n",
    "    def __getitem__(self, item):        \n",
    "        anchor_img = self.data[item]\n",
    "        anchor_label = self.labels[item]\n",
    "        if self.is_train:\n",
    "            positive_img = torch.tensor(self.unique_class[anchor_label][self.unique_anchor[anchor_label]])\n",
    "            negative_img = [torch.tensor(self.unique_class[k][v]).float() for k, v in self.unique_anchor.items() if k != anchor_label]\n",
    "            return torch.tensor(anchor_img).float(), positive_img.float(), negative_img, torch.tensor(np.array([anchor_label])).float()\n",
    "        else:\n",
    "            return torch.tensor(anchor_img).float(), torch.tensor(np.array([anchor_label])).float()"
   ]
  },
  {
   "cell_type": "code",
   "execution_count": 96,
   "metadata": {},
   "outputs": [],
   "source": [
    "train_dataset = ImageDataset_(X_train, y_train, True)\n",
    "valid_dataset = ImageDataset_(X_test, y_test, True)"
   ]
  },
  {
   "cell_type": "code",
   "execution_count": 97,
   "metadata": {},
   "outputs": [],
   "source": [
    "train_loader = torch.utils.data.DataLoader(dataset=train_dataset,\n",
    "                                           batch_size=params['batch_size'],\n",
    "                                           shuffle=True,\n",
    "                                           pin_memory=True,\n",
    "                                           num_workers=params['num_workers'])\n",
    "\n",
    "valid_loader = torch.utils.data.DataLoader(dataset=valid_dataset,\n",
    "                                           batch_size=params['batch_size'],\n",
    "                                           # shuffle=True,\n",
    "                                           pin_memory=True,\n",
    "                                           num_workers=params['num_workers'])"
   ]
  },
  {
   "cell_type": "code",
   "execution_count": null,
   "metadata": {},
   "outputs": [],
   "source": []
  },
  {
   "cell_type": "code",
   "execution_count": 98,
   "metadata": {},
   "outputs": [],
   "source": [
    "class Network(nn.Module):\n",
    "    def __init__(self, emb_dim=128):\n",
    "        super(Network, self).__init__()\n",
    "        \n",
    "        self.line_1 = nn.Sequential(\n",
    "            nn.Linear(np.shape(data)[-1], 512),\n",
    "        )\n",
    "        \n",
    "        self.line_2 = nn.Sequential(\n",
    "            nn.Linear(512, 384),\n",
    "        )\n",
    "        \n",
    "        self.line_3 = nn.Sequential(\n",
    "            nn.Linear(384, 256),\n",
    "        )\n",
    "        \n",
    "        self.line_4 = nn.Sequential(\n",
    "            nn.Linear(256, 192),\n",
    "        )\n",
    "        \n",
    "        self.line_5 = nn.Sequential(\n",
    "            nn.Linear(384 + 512, 512),\n",
    "        )\n",
    "        \n",
    "        self.line_6 = nn.Sequential(\n",
    "            nn.Linear(512, 256),\n",
    "        )\n",
    "        \n",
    "        self.line_2_alter = nn.Sequential(\n",
    "            nn.Linear(512, 384),\n",
    "        )        \n",
    "        self.line_3_alter = nn.Sequential(\n",
    "            nn.Linear(384, 256),\n",
    "        )        \n",
    "        self.line_4_alter = nn.Sequential(\n",
    "            nn.Linear(256, 192),\n",
    "        )\n",
    "        \n",
    "        self.pred = nn.Sequential(\n",
    "            nn.Linear(256, 128),\n",
    "            nn.PReLU(),\n",
    "            nn.Linear(128, emb_dim),\n",
    "        )\n",
    "        \n",
    "    def forward(self, x):\n",
    "        \n",
    "        x_out = F.elu(self.line_1(x))\n",
    "        x = F.elu(self.line_2(x_out))\n",
    "        x = F.elu(self.line_3(x))\n",
    "        x = F.elu(self.line_4(x))\n",
    "        \n",
    "        x_alt = F.elu(self.line_2_alter(x_out))\n",
    "        x_alt = F.elu(self.line_3_alter(x_alt))\n",
    "        x_alt = F.elu(self.line_4_alter(x_alt))\n",
    "        \n",
    "        x = torch.concat([x, x_alt, x_out], -1)\n",
    "        \n",
    "        x = F.elu(self.line_5(x))\n",
    "        x = F.elu(self.line_6(x))\n",
    "        x = self.pred(x)\n",
    "        \n",
    "        return x"
   ]
  },
  {
   "cell_type": "code",
   "execution_count": 99,
   "metadata": {},
   "outputs": [],
   "source": [
    "def init_weights(m):\n",
    "    if isinstance(m, nn.Linear):\n",
    "        torch.nn.init.kaiming_normal_(m.weight)"
   ]
  },
  {
   "cell_type": "code",
   "execution_count": 204,
   "metadata": {},
   "outputs": [],
   "source": [
    "criterion = nn.TripletMarginWithDistanceLoss(distance_function=nn.CosineSimilarity())"
   ]
  },
  {
   "cell_type": "code",
   "execution_count": 205,
   "metadata": {},
   "outputs": [],
   "source": [
    "device = params[\"device\"]\n",
    "\n",
    "model = Network(16)\n",
    "model.apply(init_weights)\n",
    "model = torch.jit.script(model).to(device)"
   ]
  },
  {
   "cell_type": "code",
   "execution_count": 206,
   "metadata": {},
   "outputs": [],
   "source": [
    "optimizer = optim.Adam(model.parameters(), lr=0.00001)"
   ]
  },
  {
   "cell_type": "code",
   "execution_count": 184,
   "metadata": {},
   "outputs": [
    {
     "data": {
      "text/plain": [
       "RecursiveScriptModule(\n",
       "  original_name=Network\n",
       "  (line_1): RecursiveScriptModule(\n",
       "    original_name=Sequential\n",
       "    (0): RecursiveScriptModule(original_name=Linear)\n",
       "  )\n",
       "  (line_2): RecursiveScriptModule(\n",
       "    original_name=Sequential\n",
       "    (0): RecursiveScriptModule(original_name=Linear)\n",
       "  )\n",
       "  (line_3): RecursiveScriptModule(\n",
       "    original_name=Sequential\n",
       "    (0): RecursiveScriptModule(original_name=Linear)\n",
       "  )\n",
       "  (line_4): RecursiveScriptModule(\n",
       "    original_name=Sequential\n",
       "    (0): RecursiveScriptModule(original_name=Linear)\n",
       "  )\n",
       "  (line_5): RecursiveScriptModule(\n",
       "    original_name=Sequential\n",
       "    (0): RecursiveScriptModule(original_name=Linear)\n",
       "  )\n",
       "  (line_6): RecursiveScriptModule(\n",
       "    original_name=Sequential\n",
       "    (0): RecursiveScriptModule(original_name=Linear)\n",
       "  )\n",
       "  (line_2_alter): RecursiveScriptModule(\n",
       "    original_name=Sequential\n",
       "    (0): RecursiveScriptModule(original_name=Linear)\n",
       "  )\n",
       "  (line_3_alter): RecursiveScriptModule(\n",
       "    original_name=Sequential\n",
       "    (0): RecursiveScriptModule(original_name=Linear)\n",
       "  )\n",
       "  (line_4_alter): RecursiveScriptModule(\n",
       "    original_name=Sequential\n",
       "    (0): RecursiveScriptModule(original_name=Linear)\n",
       "  )\n",
       "  (pred): RecursiveScriptModule(\n",
       "    original_name=Sequential\n",
       "    (0): RecursiveScriptModule(original_name=Linear)\n",
       "    (1): RecursiveScriptModule(original_name=PReLU)\n",
       "    (2): RecursiveScriptModule(original_name=Linear)\n",
       "  )\n",
       ")"
      ]
     },
     "execution_count": 184,
     "metadata": {},
     "output_type": "execute_result"
    }
   ],
   "source": [
    "model"
   ]
  },
  {
   "cell_type": "code",
   "execution_count": null,
   "metadata": {},
   "outputs": [],
   "source": []
  },
  {
   "cell_type": "code",
   "execution_count": null,
   "metadata": {},
   "outputs": [],
   "source": []
  },
  {
   "cell_type": "code",
   "execution_count": 104,
   "metadata": {},
   "outputs": [
    {
     "name": "stdout",
     "output_type": "stream",
     "text": [
      "Загружены уникальные классы\n"
     ]
    }
   ],
   "source": [
    "try:\n",
    "    with open(params['path_config'], \"r\") as f:\n",
    "        config_ = json.loads(f.read())\n",
    "    train_dataset.unique_anchor = {int(k):v for k, v in config_['anchors'].items()}\n",
    "    print(\"Загружены уникальные классы\")\n",
    "except:\n",
    "    print(\"Файл не найден\")"
   ]
  },
  {
   "cell_type": "code",
   "execution_count": null,
   "metadata": {},
   "outputs": [],
   "source": []
  },
  {
   "cell_type": "code",
   "execution_count": 105,
   "metadata": {},
   "outputs": [
    {
     "data": {
      "text/plain": [
       "{'recall_score': 0.9948969711981664,\n",
       " 'anchors': {'0': 363,\n",
       "  '1': 86,\n",
       "  '2': 95,\n",
       "  '3': 383,\n",
       "  '4': 418,\n",
       "  '5': 82,\n",
       "  '6': 156}}"
      ]
     },
     "execution_count": 105,
     "metadata": {},
     "output_type": "execute_result"
    }
   ],
   "source": [
    "config_"
   ]
  },
  {
   "cell_type": "code",
   "execution_count": 106,
   "metadata": {},
   "outputs": [
    {
     "name": "stdout",
     "output_type": "stream",
     "text": [
      "Модель не загрузилась\n"
     ]
    }
   ],
   "source": [
    "try:\n",
    "    print(model.load_state_dict(torch.load(\"./recogn_model.mdl\")))\n",
    "except:\n",
    "    print(\"Модель не загрузилась\")"
   ]
  },
  {
   "cell_type": "code",
   "execution_count": 185,
   "metadata": {},
   "outputs": [
    {
     "name": "stdout",
     "output_type": "stream",
     "text": [
      "Tesla M40\n"
     ]
    }
   ],
   "source": [
    "if device.type == \"cuda\":\n",
    "    print(torch.cuda.get_device_name(params[\"device\"].index))"
   ]
  },
  {
   "cell_type": "code",
   "execution_count": 186,
   "metadata": {},
   "outputs": [
    {
     "data": {
      "text/plain": [
       "True"
      ]
     },
     "execution_count": 186,
     "metadata": {},
     "output_type": "execute_result"
    }
   ],
   "source": [
    "os.path.isfile(params['path_config'])"
   ]
  },
  {
   "cell_type": "code",
   "execution_count": 187,
   "metadata": {},
   "outputs": [],
   "source": [
    "u_a = {}\n",
    "\n",
    "for k in train_dataset.unique_anchor.keys():\n",
    "    u_a[str(k)] = train_dataset.unique_anchor[k]"
   ]
  },
  {
   "cell_type": "code",
   "execution_count": 110,
   "metadata": {},
   "outputs": [],
   "source": [
    "if not os.path.exists(params['path_config']):\n",
    "    with open(params['path_config'], \"w\") as f:\n",
    "        u_a = {}\n",
    "        for k in train_dataset.unique_anchor.keys():\n",
    "            u_a[str(k)] = train_dataset.unique_anchor[k]\n",
    "        f.write(json.dumps({\"recall_score\":0, \"anchors\":u_a}))"
   ]
  },
  {
   "cell_type": "code",
   "execution_count": 111,
   "metadata": {},
   "outputs": [],
   "source": [
    "with open(params['path_config'], \"r\") as f:\n",
    "    config = json.loads(f.read())"
   ]
  },
  {
   "cell_type": "code",
   "execution_count": 112,
   "metadata": {},
   "outputs": [],
   "source": [
    "train_dataset.unique_anchor = {int(k):v for k, v in config['anchors'].items()}"
   ]
  },
  {
   "cell_type": "code",
   "execution_count": 113,
   "metadata": {},
   "outputs": [
    {
     "name": "stdout",
     "output_type": "stream",
     "text": [
      "CPU times: user 17 µs, sys: 1e+03 ns, total: 18 µs\n",
      "Wall time: 38.9 µs\n"
     ]
    }
   ],
   "source": [
    "%%time\n",
    "def get_data(model, data_loader):\n",
    "    model.eval()\n",
    "    y_true = []\n",
    "    y_embedding = []\n",
    "    with torch.no_grad():\n",
    "        pbar_testing = tqdm_step(data_loader, desc=\"Testing\")\n",
    "        for step, (anchor_img, positive_img, negative_img, anchor_label) in enumerate(pbar_testing):\n",
    "            anchor_img = anchor_img.to(device)\n",
    "            anchor_label = anchor_label.to(device)\n",
    "            y_t = anchor_label.cpu().detach().numpy()\n",
    "            y_emb = model(anchor_img).cpu().detach().numpy()\n",
    "            for idx in range(len(anchor_label)):\n",
    "                y_true.append(y_t[idx])\n",
    "                y_embedding.append(y_emb[idx])\n",
    "\n",
    "    y_true = np.array(y_true)\n",
    "    y_embedding = np.array(y_embedding)\n",
    "    return y_embedding, y_true"
   ]
  },
  {
   "cell_type": "code",
   "execution_count": 211,
   "metadata": {},
   "outputs": [],
   "source": [
    "n_components=8"
   ]
  },
  {
   "cell_type": "code",
   "execution_count": 208,
   "metadata": {},
   "outputs": [
    {
     "data": {
      "application/vnd.jupyter.widget-view+json": {
       "model_id": "f333382f66704c578914ebb824ae9793",
       "version_major": 2,
       "version_minor": 0
      },
      "text/plain": [
       "Epochs:   0%|          | 0/40 [00:00<?, ?it/s]"
      ]
     },
     "metadata": {},
     "output_type": "display_data"
    },
    {
     "data": {
      "application/vnd.jupyter.widget-view+json": {
       "model_id": "83d8721458c445cda1de33a5fd58ee3a",
       "version_major": 2,
       "version_minor": 0
      },
      "text/plain": [
       "Training:   0%|          | 0/129 [00:00<?, ?it/s]"
      ]
     },
     "metadata": {},
     "output_type": "display_data"
    },
    {
     "name": "stdout",
     "output_type": "stream",
     "text": [
      "0.7600119\n",
      "0.9948969711981664\n"
     ]
    },
    {
     "data": {
      "application/vnd.jupyter.widget-view+json": {
       "model_id": "08ddbcb4b0b041518d64100d76876a11",
       "version_major": 2,
       "version_minor": 0
      },
      "text/plain": [
       "Testing:   0%|          | 0/129 [00:00<?, ?it/s]"
      ]
     },
     "metadata": {},
     "output_type": "display_data"
    },
    {
     "data": {
      "application/vnd.jupyter.widget-view+json": {
       "model_id": "df3712b59a6048e080be5c53cfad84bf",
       "version_major": 2,
       "version_minor": 0
      },
      "text/plain": [
       "Testing:   0%|          | 0/23 [00:00<?, ?it/s]"
      ]
     },
     "metadata": {},
     "output_type": "display_data"
    },
    {
     "name": "stderr",
     "output_type": "stream",
     "text": [
      "/home/arhitegio/anaconda3/lib/python3.9/site-packages/sklearn/utils/validation.py:993: DataConversionWarning: A column-vector y was passed when a 1d array was expected. Please change the shape of y to (n_samples, ), for example using ravel().\n",
      "  y = column_or_1d(y, warn=True)\n"
     ]
    },
    {
     "name": "stdout",
     "output_type": "stream",
     "text": [
      "Recall 0.7938533349491996\n",
      "Epoch: 1/40 - Loss: 0.7600\n"
     ]
    },
    {
     "data": {
      "application/vnd.jupyter.widget-view+json": {
       "model_id": "ed87fe30dd614cdfb4e430e59ca3036f",
       "version_major": 2,
       "version_minor": 0
      },
      "text/plain": [
       "Training:   0%|          | 0/129 [00:00<?, ?it/s]"
      ]
     },
     "metadata": {},
     "output_type": "display_data"
    },
    {
     "name": "stdout",
     "output_type": "stream",
     "text": [
      "0.3717623\n",
      "0.9948969711981664\n"
     ]
    },
    {
     "data": {
      "application/vnd.jupyter.widget-view+json": {
       "model_id": "280223c8485d4ceca5705c3912fe5106",
       "version_major": 2,
       "version_minor": 0
      },
      "text/plain": [
       "Testing:   0%|          | 0/129 [00:00<?, ?it/s]"
      ]
     },
     "metadata": {},
     "output_type": "display_data"
    },
    {
     "data": {
      "application/vnd.jupyter.widget-view+json": {
       "model_id": "5038d99ecd3e4bb8840dc575d558d956",
       "version_major": 2,
       "version_minor": 0
      },
      "text/plain": [
       "Testing:   0%|          | 0/23 [00:00<?, ?it/s]"
      ]
     },
     "metadata": {},
     "output_type": "display_data"
    },
    {
     "name": "stderr",
     "output_type": "stream",
     "text": [
      "/home/arhitegio/anaconda3/lib/python3.9/site-packages/sklearn/utils/validation.py:993: DataConversionWarning: A column-vector y was passed when a 1d array was expected. Please change the shape of y to (n_samples, ), for example using ravel().\n",
      "  y = column_or_1d(y, warn=True)\n"
     ]
    },
    {
     "name": "stdout",
     "output_type": "stream",
     "text": [
      "Recall 0.8453953043939822\n",
      "Epoch: 2/40 - Loss: 0.3718\n"
     ]
    },
    {
     "data": {
      "application/vnd.jupyter.widget-view+json": {
       "model_id": "1091b2ea7cf344e0b8c11a7a32358232",
       "version_major": 2,
       "version_minor": 0
      },
      "text/plain": [
       "Training:   0%|          | 0/129 [00:00<?, ?it/s]"
      ]
     },
     "metadata": {},
     "output_type": "display_data"
    },
    {
     "name": "stdout",
     "output_type": "stream",
     "text": [
      "0.3118182\n",
      "0.9948969711981664\n"
     ]
    },
    {
     "data": {
      "application/vnd.jupyter.widget-view+json": {
       "model_id": "468f217197c24c18aa97334b91cd473c",
       "version_major": 2,
       "version_minor": 0
      },
      "text/plain": [
       "Testing:   0%|          | 0/129 [00:00<?, ?it/s]"
      ]
     },
     "metadata": {},
     "output_type": "display_data"
    },
    {
     "data": {
      "application/vnd.jupyter.widget-view+json": {
       "model_id": "ecd21112a54a43598a5210f0974f1aec",
       "version_major": 2,
       "version_minor": 0
      },
      "text/plain": [
       "Testing:   0%|          | 0/23 [00:00<?, ?it/s]"
      ]
     },
     "metadata": {},
     "output_type": "display_data"
    },
    {
     "name": "stderr",
     "output_type": "stream",
     "text": [
      "/home/arhitegio/anaconda3/lib/python3.9/site-packages/sklearn/utils/validation.py:993: DataConversionWarning: A column-vector y was passed when a 1d array was expected. Please change the shape of y to (n_samples, ), for example using ravel().\n",
      "  y = column_or_1d(y, warn=True)\n"
     ]
    },
    {
     "name": "stdout",
     "output_type": "stream",
     "text": [
      "Recall 0.8585250007169559\n",
      "Epoch: 3/40 - Loss: 0.3118\n"
     ]
    },
    {
     "data": {
      "application/vnd.jupyter.widget-view+json": {
       "model_id": "6069cf7a8d52412287d753a14668f7b4",
       "version_major": 2,
       "version_minor": 0
      },
      "text/plain": [
       "Training:   0%|          | 0/129 [00:00<?, ?it/s]"
      ]
     },
     "metadata": {},
     "output_type": "display_data"
    },
    {
     "name": "stdout",
     "output_type": "stream",
     "text": [
      "0.2823041\n",
      "0.9948969711981664\n"
     ]
    },
    {
     "data": {
      "application/vnd.jupyter.widget-view+json": {
       "model_id": "d1210d25644d4c488b5ba5620a3f6f11",
       "version_major": 2,
       "version_minor": 0
      },
      "text/plain": [
       "Testing:   0%|          | 0/129 [00:00<?, ?it/s]"
      ]
     },
     "metadata": {},
     "output_type": "display_data"
    },
    {
     "data": {
      "application/vnd.jupyter.widget-view+json": {
       "model_id": "d0e6ad3cf8274569b75c9ede40eb03da",
       "version_major": 2,
       "version_minor": 0
      },
      "text/plain": [
       "Testing:   0%|          | 0/23 [00:00<?, ?it/s]"
      ]
     },
     "metadata": {},
     "output_type": "display_data"
    },
    {
     "name": "stderr",
     "output_type": "stream",
     "text": [
      "/home/arhitegio/anaconda3/lib/python3.9/site-packages/sklearn/utils/validation.py:993: DataConversionWarning: A column-vector y was passed when a 1d array was expected. Please change the shape of y to (n_samples, ), for example using ravel().\n",
      "  y = column_or_1d(y, warn=True)\n"
     ]
    },
    {
     "name": "stdout",
     "output_type": "stream",
     "text": [
      "Recall 0.8677991451573409\n",
      "Epoch: 4/40 - Loss: 0.2823\n"
     ]
    },
    {
     "data": {
      "application/vnd.jupyter.widget-view+json": {
       "model_id": "b3ce05283af54a1d8fcf9363090b9803",
       "version_major": 2,
       "version_minor": 0
      },
      "text/plain": [
       "Training:   0%|          | 0/129 [00:00<?, ?it/s]"
      ]
     },
     "metadata": {},
     "output_type": "display_data"
    },
    {
     "name": "stdout",
     "output_type": "stream",
     "text": [
      "0.2521296\n",
      "0.9948969711981664\n"
     ]
    },
    {
     "data": {
      "application/vnd.jupyter.widget-view+json": {
       "model_id": "8dbbc58e4ba74736a5ffd3595ee8c417",
       "version_major": 2,
       "version_minor": 0
      },
      "text/plain": [
       "Testing:   0%|          | 0/129 [00:00<?, ?it/s]"
      ]
     },
     "metadata": {},
     "output_type": "display_data"
    },
    {
     "data": {
      "application/vnd.jupyter.widget-view+json": {
       "model_id": "df1ce8dfd22c438ea5dce63e23aed346",
       "version_major": 2,
       "version_minor": 0
      },
      "text/plain": [
       "Testing:   0%|          | 0/23 [00:00<?, ?it/s]"
      ]
     },
     "metadata": {},
     "output_type": "display_data"
    },
    {
     "name": "stderr",
     "output_type": "stream",
     "text": [
      "/home/arhitegio/anaconda3/lib/python3.9/site-packages/sklearn/utils/validation.py:993: DataConversionWarning: A column-vector y was passed when a 1d array was expected. Please change the shape of y to (n_samples, ), for example using ravel().\n",
      "  y = column_or_1d(y, warn=True)\n"
     ]
    },
    {
     "name": "stdout",
     "output_type": "stream",
     "text": [
      "Recall 0.8769971148975552\n",
      "Epoch: 5/40 - Loss: 0.2521\n"
     ]
    },
    {
     "data": {
      "application/vnd.jupyter.widget-view+json": {
       "model_id": "b4a97ba9cdac4e1db40d8498ec7b6c2f",
       "version_major": 2,
       "version_minor": 0
      },
      "text/plain": [
       "Training:   0%|          | 0/129 [00:00<?, ?it/s]"
      ]
     },
     "metadata": {},
     "output_type": "display_data"
    },
    {
     "name": "stdout",
     "output_type": "stream",
     "text": [
      "0.23149902\n",
      "0.9948969711981664\n"
     ]
    },
    {
     "data": {
      "application/vnd.jupyter.widget-view+json": {
       "model_id": "be9a157a373b4bb9897e977f8cccec4d",
       "version_major": 2,
       "version_minor": 0
      },
      "text/plain": [
       "Testing:   0%|          | 0/129 [00:00<?, ?it/s]"
      ]
     },
     "metadata": {},
     "output_type": "display_data"
    },
    {
     "data": {
      "application/vnd.jupyter.widget-view+json": {
       "model_id": "79acec0e44234ea0a434ef43d3bb6ec6",
       "version_major": 2,
       "version_minor": 0
      },
      "text/plain": [
       "Testing:   0%|          | 0/23 [00:00<?, ?it/s]"
      ]
     },
     "metadata": {},
     "output_type": "display_data"
    },
    {
     "name": "stderr",
     "output_type": "stream",
     "text": [
      "/home/arhitegio/anaconda3/lib/python3.9/site-packages/sklearn/utils/validation.py:993: DataConversionWarning: A column-vector y was passed when a 1d array was expected. Please change the shape of y to (n_samples, ), for example using ravel().\n",
      "  y = column_or_1d(y, warn=True)\n"
     ]
    },
    {
     "name": "stdout",
     "output_type": "stream",
     "text": [
      "Recall 0.8762670733914363\n",
      "Epoch: 6/40 - Loss: 0.2315\n"
     ]
    },
    {
     "data": {
      "application/vnd.jupyter.widget-view+json": {
       "model_id": "d97d3ae905ad43ba853d59613fc9d337",
       "version_major": 2,
       "version_minor": 0
      },
      "text/plain": [
       "Training:   0%|          | 0/129 [00:00<?, ?it/s]"
      ]
     },
     "metadata": {},
     "output_type": "display_data"
    },
    {
     "name": "stdout",
     "output_type": "stream",
     "text": [
      "0.23287132\n",
      "0.9948969711981664\n"
     ]
    },
    {
     "data": {
      "application/vnd.jupyter.widget-view+json": {
       "model_id": "8229aaf71a2a4f759871035594893626",
       "version_major": 2,
       "version_minor": 0
      },
      "text/plain": [
       "Testing:   0%|          | 0/129 [00:00<?, ?it/s]"
      ]
     },
     "metadata": {},
     "output_type": "display_data"
    },
    {
     "data": {
      "application/vnd.jupyter.widget-view+json": {
       "model_id": "667e1777eb9b4f719cb5e96c6d980cc5",
       "version_major": 2,
       "version_minor": 0
      },
      "text/plain": [
       "Testing:   0%|          | 0/23 [00:00<?, ?it/s]"
      ]
     },
     "metadata": {},
     "output_type": "display_data"
    },
    {
     "name": "stderr",
     "output_type": "stream",
     "text": [
      "/home/arhitegio/anaconda3/lib/python3.9/site-packages/sklearn/utils/validation.py:993: DataConversionWarning: A column-vector y was passed when a 1d array was expected. Please change the shape of y to (n_samples, ), for example using ravel().\n",
      "  y = column_or_1d(y, warn=True)\n"
     ]
    },
    {
     "name": "stdout",
     "output_type": "stream",
     "text": [
      "Recall 0.8803410701398942\n",
      "Epoch: 7/40 - Loss: 0.2329\n"
     ]
    },
    {
     "data": {
      "application/vnd.jupyter.widget-view+json": {
       "model_id": "440830d395f8495ca9aebf6fb39527c2",
       "version_major": 2,
       "version_minor": 0
      },
      "text/plain": [
       "Training:   0%|          | 0/129 [00:00<?, ?it/s]"
      ]
     },
     "metadata": {},
     "output_type": "display_data"
    },
    {
     "name": "stdout",
     "output_type": "stream",
     "text": [
      "0.2216568\n",
      "0.9948969711981664\n"
     ]
    },
    {
     "data": {
      "application/vnd.jupyter.widget-view+json": {
       "model_id": "0ed24806055a4ce8b7890f7540472fa4",
       "version_major": 2,
       "version_minor": 0
      },
      "text/plain": [
       "Testing:   0%|          | 0/129 [00:00<?, ?it/s]"
      ]
     },
     "metadata": {},
     "output_type": "display_data"
    },
    {
     "data": {
      "application/vnd.jupyter.widget-view+json": {
       "model_id": "62e6f569ef2f4c38afde236f8f9eb265",
       "version_major": 2,
       "version_minor": 0
      },
      "text/plain": [
       "Testing:   0%|          | 0/23 [00:00<?, ?it/s]"
      ]
     },
     "metadata": {},
     "output_type": "display_data"
    },
    {
     "name": "stderr",
     "output_type": "stream",
     "text": [
      "/home/arhitegio/anaconda3/lib/python3.9/site-packages/sklearn/utils/validation.py:993: DataConversionWarning: A column-vector y was passed when a 1d array was expected. Please change the shape of y to (n_samples, ), for example using ravel().\n",
      "  y = column_or_1d(y, warn=True)\n"
     ]
    },
    {
     "name": "stdout",
     "output_type": "stream",
     "text": [
      "Recall 0.88328794937468\n",
      "Epoch: 8/40 - Loss: 0.2217\n"
     ]
    },
    {
     "data": {
      "application/vnd.jupyter.widget-view+json": {
       "model_id": "dd7e3cfc9ee04fe2b5f5ffb4737125a9",
       "version_major": 2,
       "version_minor": 0
      },
      "text/plain": [
       "Training:   0%|          | 0/129 [00:00<?, ?it/s]"
      ]
     },
     "metadata": {},
     "output_type": "display_data"
    },
    {
     "name": "stdout",
     "output_type": "stream",
     "text": [
      "0.21184838\n",
      "0.9948969711981664\n"
     ]
    },
    {
     "data": {
      "application/vnd.jupyter.widget-view+json": {
       "model_id": "60ff968399c34920b0df8bbe32152382",
       "version_major": 2,
       "version_minor": 0
      },
      "text/plain": [
       "Testing:   0%|          | 0/129 [00:00<?, ?it/s]"
      ]
     },
     "metadata": {},
     "output_type": "display_data"
    },
    {
     "data": {
      "application/vnd.jupyter.widget-view+json": {
       "model_id": "b55694dfb9e645a3b6b032af1beea233",
       "version_major": 2,
       "version_minor": 0
      },
      "text/plain": [
       "Testing:   0%|          | 0/23 [00:00<?, ?it/s]"
      ]
     },
     "metadata": {},
     "output_type": "display_data"
    },
    {
     "name": "stderr",
     "output_type": "stream",
     "text": [
      "/home/arhitegio/anaconda3/lib/python3.9/site-packages/sklearn/utils/validation.py:993: DataConversionWarning: A column-vector y was passed when a 1d array was expected. Please change the shape of y to (n_samples, ), for example using ravel().\n",
      "  y = column_or_1d(y, warn=True)\n"
     ]
    },
    {
     "name": "stdout",
     "output_type": "stream",
     "text": [
      "Recall 0.8925503893474317\n",
      "Epoch: 9/40 - Loss: 0.2118\n"
     ]
    },
    {
     "data": {
      "application/vnd.jupyter.widget-view+json": {
       "model_id": "e2350667c03147e59295e12ab4231f68",
       "version_major": 2,
       "version_minor": 0
      },
      "text/plain": [
       "Training:   0%|          | 0/129 [00:00<?, ?it/s]"
      ]
     },
     "metadata": {},
     "output_type": "display_data"
    },
    {
     "name": "stdout",
     "output_type": "stream",
     "text": [
      "0.20955381\n",
      "0.9948969711981664\n"
     ]
    },
    {
     "data": {
      "application/vnd.jupyter.widget-view+json": {
       "model_id": "a7de9d484df54f20a9c3532e6d005d77",
       "version_major": 2,
       "version_minor": 0
      },
      "text/plain": [
       "Testing:   0%|          | 0/129 [00:00<?, ?it/s]"
      ]
     },
     "metadata": {},
     "output_type": "display_data"
    },
    {
     "data": {
      "application/vnd.jupyter.widget-view+json": {
       "model_id": "df21b075725b4ddabef8539fed1ae53e",
       "version_major": 2,
       "version_minor": 0
      },
      "text/plain": [
       "Testing:   0%|          | 0/23 [00:00<?, ?it/s]"
      ]
     },
     "metadata": {},
     "output_type": "display_data"
    },
    {
     "name": "stderr",
     "output_type": "stream",
     "text": [
      "/home/arhitegio/anaconda3/lib/python3.9/site-packages/sklearn/utils/validation.py:993: DataConversionWarning: A column-vector y was passed when a 1d array was expected. Please change the shape of y to (n_samples, ), for example using ravel().\n",
      "  y = column_or_1d(y, warn=True)\n"
     ]
    },
    {
     "name": "stdout",
     "output_type": "stream",
     "text": [
      "Recall 0.9015918803399642\n",
      "Epoch: 10/40 - Loss: 0.2096\n"
     ]
    },
    {
     "data": {
      "application/vnd.jupyter.widget-view+json": {
       "model_id": "76324d86d43f4feb815ddbe8e31cdbd9",
       "version_major": 2,
       "version_minor": 0
      },
      "text/plain": [
       "Training:   0%|          | 0/129 [00:00<?, ?it/s]"
      ]
     },
     "metadata": {},
     "output_type": "display_data"
    },
    {
     "name": "stdout",
     "output_type": "stream",
     "text": [
      "0.20670436\n",
      "0.9948969711981664\n"
     ]
    },
    {
     "data": {
      "application/vnd.jupyter.widget-view+json": {
       "model_id": "bf4ea64493024a26a8798ffd1e4f6938",
       "version_major": 2,
       "version_minor": 0
      },
      "text/plain": [
       "Testing:   0%|          | 0/129 [00:00<?, ?it/s]"
      ]
     },
     "metadata": {},
     "output_type": "display_data"
    },
    {
     "data": {
      "application/vnd.jupyter.widget-view+json": {
       "model_id": "76b672f35abf4a6d8cc43de22881aa01",
       "version_major": 2,
       "version_minor": 0
      },
      "text/plain": [
       "Testing:   0%|          | 0/23 [00:00<?, ?it/s]"
      ]
     },
     "metadata": {},
     "output_type": "display_data"
    },
    {
     "name": "stderr",
     "output_type": "stream",
     "text": [
      "/home/arhitegio/anaconda3/lib/python3.9/site-packages/sklearn/utils/validation.py:993: DataConversionWarning: A column-vector y was passed when a 1d array was expected. Please change the shape of y to (n_samples, ), for example using ravel().\n",
      "  y = column_or_1d(y, warn=True)\n"
     ]
    },
    {
     "name": "stdout",
     "output_type": "stream",
     "text": [
      "Recall 0.8988557044412466\n",
      "Epoch: 11/40 - Loss: 0.2067\n"
     ]
    },
    {
     "data": {
      "application/vnd.jupyter.widget-view+json": {
       "model_id": "e6ce7f1cfcfd43b1ba7ac28b2e60992d",
       "version_major": 2,
       "version_minor": 0
      },
      "text/plain": [
       "Training:   0%|          | 0/129 [00:00<?, ?it/s]"
      ]
     },
     "metadata": {},
     "output_type": "display_data"
    },
    {
     "name": "stdout",
     "output_type": "stream",
     "text": [
      "0.19104275\n",
      "0.9948969711981664\n"
     ]
    },
    {
     "data": {
      "application/vnd.jupyter.widget-view+json": {
       "model_id": "e158b1d6e26b4f6dbb8a70e094a18309",
       "version_major": 2,
       "version_minor": 0
      },
      "text/plain": [
       "Testing:   0%|          | 0/129 [00:00<?, ?it/s]"
      ]
     },
     "metadata": {},
     "output_type": "display_data"
    },
    {
     "data": {
      "application/vnd.jupyter.widget-view+json": {
       "model_id": "1a1c2bec1ccb4c67be3b9e3aed8678f3",
       "version_major": 2,
       "version_minor": 0
      },
      "text/plain": [
       "Testing:   0%|          | 0/23 [00:00<?, ?it/s]"
      ]
     },
     "metadata": {},
     "output_type": "display_data"
    },
    {
     "name": "stderr",
     "output_type": "stream",
     "text": [
      "/home/arhitegio/anaconda3/lib/python3.9/site-packages/sklearn/utils/validation.py:993: DataConversionWarning: A column-vector y was passed when a 1d array was expected. Please change the shape of y to (n_samples, ), for example using ravel().\n",
      "  y = column_or_1d(y, warn=True)\n"
     ]
    },
    {
     "name": "stdout",
     "output_type": "stream",
     "text": [
      "Recall 0.899681164362752\n",
      "Epoch: 12/40 - Loss: 0.1910\n"
     ]
    },
    {
     "data": {
      "application/vnd.jupyter.widget-view+json": {
       "model_id": "d61eff3894644ef78200526863df23a9",
       "version_major": 2,
       "version_minor": 0
      },
      "text/plain": [
       "Training:   0%|          | 0/129 [00:00<?, ?it/s]"
      ]
     },
     "metadata": {},
     "output_type": "display_data"
    },
    {
     "name": "stdout",
     "output_type": "stream",
     "text": [
      "0.18992512\n",
      "0.9948969711981664\n"
     ]
    },
    {
     "data": {
      "application/vnd.jupyter.widget-view+json": {
       "model_id": "c2b2bdab237b4db6926c1026e4d54edf",
       "version_major": 2,
       "version_minor": 0
      },
      "text/plain": [
       "Testing:   0%|          | 0/129 [00:00<?, ?it/s]"
      ]
     },
     "metadata": {},
     "output_type": "display_data"
    },
    {
     "data": {
      "application/vnd.jupyter.widget-view+json": {
       "model_id": "f243157a084b4b1989928af12b693639",
       "version_major": 2,
       "version_minor": 0
      },
      "text/plain": [
       "Testing:   0%|          | 0/23 [00:00<?, ?it/s]"
      ]
     },
     "metadata": {},
     "output_type": "display_data"
    },
    {
     "name": "stderr",
     "output_type": "stream",
     "text": [
      "/home/arhitegio/anaconda3/lib/python3.9/site-packages/sklearn/utils/validation.py:993: DataConversionWarning: A column-vector y was passed when a 1d array was expected. Please change the shape of y to (n_samples, ), for example using ravel().\n",
      "  y = column_or_1d(y, warn=True)\n"
     ]
    },
    {
     "name": "stdout",
     "output_type": "stream",
     "text": [
      "Recall 0.9059241446466529\n",
      "Epoch: 13/40 - Loss: 0.1899\n"
     ]
    },
    {
     "data": {
      "application/vnd.jupyter.widget-view+json": {
       "model_id": "2e1edcee08fc4837ad6c909adb89b9ca",
       "version_major": 2,
       "version_minor": 0
      },
      "text/plain": [
       "Training:   0%|          | 0/129 [00:00<?, ?it/s]"
      ]
     },
     "metadata": {},
     "output_type": "display_data"
    },
    {
     "name": "stdout",
     "output_type": "stream",
     "text": [
      "0.182686\n",
      "0.9948969711981664\n"
     ]
    },
    {
     "data": {
      "application/vnd.jupyter.widget-view+json": {
       "model_id": "60e0edb8f131463182499e71703afafa",
       "version_major": 2,
       "version_minor": 0
      },
      "text/plain": [
       "Testing:   0%|          | 0/129 [00:00<?, ?it/s]"
      ]
     },
     "metadata": {},
     "output_type": "display_data"
    },
    {
     "data": {
      "application/vnd.jupyter.widget-view+json": {
       "model_id": "2255f91ef1a141c98d99088a0b99febd",
       "version_major": 2,
       "version_minor": 0
      },
      "text/plain": [
       "Testing:   0%|          | 0/23 [00:00<?, ?it/s]"
      ]
     },
     "metadata": {},
     "output_type": "display_data"
    },
    {
     "name": "stderr",
     "output_type": "stream",
     "text": [
      "/home/arhitegio/anaconda3/lib/python3.9/site-packages/sklearn/utils/validation.py:993: DataConversionWarning: A column-vector y was passed when a 1d array was expected. Please change the shape of y to (n_samples, ), for example using ravel().\n",
      "  y = column_or_1d(y, warn=True)\n"
     ]
    },
    {
     "name": "stdout",
     "output_type": "stream",
     "text": [
      "Recall 0.9038928007081114\n",
      "Epoch: 14/40 - Loss: 0.1827\n"
     ]
    },
    {
     "data": {
      "application/vnd.jupyter.widget-view+json": {
       "model_id": "eeb4b59b2fc549b98d6d33ad57f7395b",
       "version_major": 2,
       "version_minor": 0
      },
      "text/plain": [
       "Training:   0%|          | 0/129 [00:00<?, ?it/s]"
      ]
     },
     "metadata": {},
     "output_type": "display_data"
    },
    {
     "name": "stdout",
     "output_type": "stream",
     "text": [
      "0.17865995\n",
      "0.9948969711981664\n"
     ]
    },
    {
     "data": {
      "application/vnd.jupyter.widget-view+json": {
       "model_id": "09cfb9fedb9f4ac281bb0c47f443a657",
       "version_major": 2,
       "version_minor": 0
      },
      "text/plain": [
       "Testing:   0%|          | 0/129 [00:00<?, ?it/s]"
      ]
     },
     "metadata": {},
     "output_type": "display_data"
    },
    {
     "data": {
      "application/vnd.jupyter.widget-view+json": {
       "model_id": "480c76904f2b41d080b666dfdd785bc4",
       "version_major": 2,
       "version_minor": 0
      },
      "text/plain": [
       "Testing:   0%|          | 0/23 [00:00<?, ?it/s]"
      ]
     },
     "metadata": {},
     "output_type": "display_data"
    },
    {
     "name": "stderr",
     "output_type": "stream",
     "text": [
      "/home/arhitegio/anaconda3/lib/python3.9/site-packages/sklearn/utils/validation.py:993: DataConversionWarning: A column-vector y was passed when a 1d array was expected. Please change the shape of y to (n_samples, ), for example using ravel().\n",
      "  y = column_or_1d(y, warn=True)\n"
     ]
    },
    {
     "name": "stdout",
     "output_type": "stream",
     "text": [
      "Recall 0.9102663556582552\n",
      "Epoch: 15/40 - Loss: 0.1787\n"
     ]
    },
    {
     "data": {
      "application/vnd.jupyter.widget-view+json": {
       "model_id": "c8dd93c2eb7043e88309f4de13c508d6",
       "version_major": 2,
       "version_minor": 0
      },
      "text/plain": [
       "Training:   0%|          | 0/129 [00:00<?, ?it/s]"
      ]
     },
     "metadata": {},
     "output_type": "display_data"
    },
    {
     "name": "stdout",
     "output_type": "stream",
     "text": [
      "0.17574996\n",
      "0.9948969711981664\n"
     ]
    },
    {
     "data": {
      "application/vnd.jupyter.widget-view+json": {
       "model_id": "56cfff20595f4df3be017e24742d3f5a",
       "version_major": 2,
       "version_minor": 0
      },
      "text/plain": [
       "Testing:   0%|          | 0/129 [00:00<?, ?it/s]"
      ]
     },
     "metadata": {},
     "output_type": "display_data"
    },
    {
     "data": {
      "application/vnd.jupyter.widget-view+json": {
       "model_id": "dabee4c9297240c1b3af1a9e44e58a09",
       "version_major": 2,
       "version_minor": 0
      },
      "text/plain": [
       "Testing:   0%|          | 0/23 [00:00<?, ?it/s]"
      ]
     },
     "metadata": {},
     "output_type": "display_data"
    },
    {
     "name": "stderr",
     "output_type": "stream",
     "text": [
      "/home/arhitegio/anaconda3/lib/python3.9/site-packages/sklearn/utils/validation.py:993: DataConversionWarning: A column-vector y was passed when a 1d array was expected. Please change the shape of y to (n_samples, ), for example using ravel().\n",
      "  y = column_or_1d(y, warn=True)\n"
     ]
    },
    {
     "name": "stdout",
     "output_type": "stream",
     "text": [
      "Recall 0.9114864661936292\n",
      "Epoch: 16/40 - Loss: 0.1757\n"
     ]
    },
    {
     "data": {
      "application/vnd.jupyter.widget-view+json": {
       "model_id": "eaa762afd39343d1a187edd7765d8d58",
       "version_major": 2,
       "version_minor": 0
      },
      "text/plain": [
       "Training:   0%|          | 0/129 [00:00<?, ?it/s]"
      ]
     },
     "metadata": {},
     "output_type": "display_data"
    },
    {
     "name": "stdout",
     "output_type": "stream",
     "text": [
      "0.17882514\n",
      "0.9948969711981664\n"
     ]
    },
    {
     "data": {
      "application/vnd.jupyter.widget-view+json": {
       "model_id": "d1824196e8304f2281bc5e3da7986242",
       "version_major": 2,
       "version_minor": 0
      },
      "text/plain": [
       "Testing:   0%|          | 0/129 [00:00<?, ?it/s]"
      ]
     },
     "metadata": {},
     "output_type": "display_data"
    },
    {
     "data": {
      "application/vnd.jupyter.widget-view+json": {
       "model_id": "55b0c226574f4e43a6ebad9259d8e1ae",
       "version_major": 2,
       "version_minor": 0
      },
      "text/plain": [
       "Testing:   0%|          | 0/23 [00:00<?, ?it/s]"
      ]
     },
     "metadata": {},
     "output_type": "display_data"
    },
    {
     "name": "stderr",
     "output_type": "stream",
     "text": [
      "/home/arhitegio/anaconda3/lib/python3.9/site-packages/sklearn/utils/validation.py:993: DataConversionWarning: A column-vector y was passed when a 1d array was expected. Please change the shape of y to (n_samples, ), for example using ravel().\n",
      "  y = column_or_1d(y, warn=True)\n"
     ]
    },
    {
     "name": "stdout",
     "output_type": "stream",
     "text": [
      "Recall 0.9126008249806222\n",
      "Epoch: 17/40 - Loss: 0.1788\n"
     ]
    },
    {
     "data": {
      "application/vnd.jupyter.widget-view+json": {
       "model_id": "a18a472f41144a81a52c982b6b39ae70",
       "version_major": 2,
       "version_minor": 0
      },
      "text/plain": [
       "Training:   0%|          | 0/129 [00:00<?, ?it/s]"
      ]
     },
     "metadata": {},
     "output_type": "display_data"
    },
    {
     "name": "stdout",
     "output_type": "stream",
     "text": [
      "0.16224532\n",
      "0.9948969711981664\n"
     ]
    },
    {
     "data": {
      "application/vnd.jupyter.widget-view+json": {
       "model_id": "b820ac134e3747a488f5e4d9a11807f3",
       "version_major": 2,
       "version_minor": 0
      },
      "text/plain": [
       "Testing:   0%|          | 0/129 [00:00<?, ?it/s]"
      ]
     },
     "metadata": {},
     "output_type": "display_data"
    },
    {
     "data": {
      "application/vnd.jupyter.widget-view+json": {
       "model_id": "a46149f46dd94ca18ef121286e873397",
       "version_major": 2,
       "version_minor": 0
      },
      "text/plain": [
       "Testing:   0%|          | 0/23 [00:00<?, ?it/s]"
      ]
     },
     "metadata": {},
     "output_type": "display_data"
    },
    {
     "name": "stderr",
     "output_type": "stream",
     "text": [
      "/home/arhitegio/anaconda3/lib/python3.9/site-packages/sklearn/utils/validation.py:993: DataConversionWarning: A column-vector y was passed when a 1d array was expected. Please change the shape of y to (n_samples, ), for example using ravel().\n",
      "  y = column_or_1d(y, warn=True)\n"
     ]
    },
    {
     "name": "stdout",
     "output_type": "stream",
     "text": [
      "Recall 0.911175907187418\n",
      "Epoch: 18/40 - Loss: 0.1622\n"
     ]
    },
    {
     "data": {
      "application/vnd.jupyter.widget-view+json": {
       "model_id": "87b06bd8c8fa416eb82a07cf29905713",
       "version_major": 2,
       "version_minor": 0
      },
      "text/plain": [
       "Training:   0%|          | 0/129 [00:00<?, ?it/s]"
      ]
     },
     "metadata": {},
     "output_type": "display_data"
    },
    {
     "name": "stdout",
     "output_type": "stream",
     "text": [
      "0.15867302\n",
      "0.9948969711981664\n"
     ]
    },
    {
     "data": {
      "application/vnd.jupyter.widget-view+json": {
       "model_id": "e26ccc230d764a61aff1439796ca863d",
       "version_major": 2,
       "version_minor": 0
      },
      "text/plain": [
       "Testing:   0%|          | 0/129 [00:00<?, ?it/s]"
      ]
     },
     "metadata": {},
     "output_type": "display_data"
    },
    {
     "data": {
      "application/vnd.jupyter.widget-view+json": {
       "model_id": "d59aaa67f7d04b46b6c2cb132f18c653",
       "version_major": 2,
       "version_minor": 0
      },
      "text/plain": [
       "Testing:   0%|          | 0/23 [00:00<?, ?it/s]"
      ]
     },
     "metadata": {},
     "output_type": "display_data"
    },
    {
     "name": "stderr",
     "output_type": "stream",
     "text": [
      "/home/arhitegio/anaconda3/lib/python3.9/site-packages/sklearn/utils/validation.py:993: DataConversionWarning: A column-vector y was passed when a 1d array was expected. Please change the shape of y to (n_samples, ), for example using ravel().\n",
      "  y = column_or_1d(y, warn=True)\n"
     ]
    },
    {
     "name": "stdout",
     "output_type": "stream",
     "text": [
      "Recall 0.9182414297458611\n",
      "Epoch: 19/40 - Loss: 0.1587\n"
     ]
    },
    {
     "data": {
      "application/vnd.jupyter.widget-view+json": {
       "model_id": "df4ca4ced3f04fa2a0dec13fd823dcc6",
       "version_major": 2,
       "version_minor": 0
      },
      "text/plain": [
       "Training:   0%|          | 0/129 [00:00<?, ?it/s]"
      ]
     },
     "metadata": {},
     "output_type": "display_data"
    },
    {
     "name": "stdout",
     "output_type": "stream",
     "text": [
      "0.14535077\n",
      "0.9948969711981664\n"
     ]
    },
    {
     "data": {
      "application/vnd.jupyter.widget-view+json": {
       "model_id": "1002554e85204ea2b0b47118a5ac77c0",
       "version_major": 2,
       "version_minor": 0
      },
      "text/plain": [
       "Testing:   0%|          | 0/129 [00:00<?, ?it/s]"
      ]
     },
     "metadata": {},
     "output_type": "display_data"
    },
    {
     "data": {
      "application/vnd.jupyter.widget-view+json": {
       "model_id": "f64c30fd6ce744ef954b08fe375931c4",
       "version_major": 2,
       "version_minor": 0
      },
      "text/plain": [
       "Testing:   0%|          | 0/23 [00:00<?, ?it/s]"
      ]
     },
     "metadata": {},
     "output_type": "display_data"
    },
    {
     "name": "stderr",
     "output_type": "stream",
     "text": [
      "/home/arhitegio/anaconda3/lib/python3.9/site-packages/sklearn/utils/validation.py:993: DataConversionWarning: A column-vector y was passed when a 1d array was expected. Please change the shape of y to (n_samples, ), for example using ravel().\n",
      "  y = column_or_1d(y, warn=True)\n"
     ]
    },
    {
     "name": "stdout",
     "output_type": "stream",
     "text": [
      "Recall 0.917797589676839\n",
      "Epoch: 20/40 - Loss: 0.1454\n"
     ]
    },
    {
     "data": {
      "application/vnd.jupyter.widget-view+json": {
       "model_id": "6fbcb46a99f142598cb33713d1794b60",
       "version_major": 2,
       "version_minor": 0
      },
      "text/plain": [
       "Training:   0%|          | 0/129 [00:00<?, ?it/s]"
      ]
     },
     "metadata": {},
     "output_type": "display_data"
    },
    {
     "name": "stdout",
     "output_type": "stream",
     "text": [
      "0.1504447\n",
      "0.9948969711981664\n"
     ]
    },
    {
     "data": {
      "application/vnd.jupyter.widget-view+json": {
       "model_id": "0497fb373e6c4672932ee646e4bd6db6",
       "version_major": 2,
       "version_minor": 0
      },
      "text/plain": [
       "Testing:   0%|          | 0/129 [00:00<?, ?it/s]"
      ]
     },
     "metadata": {},
     "output_type": "display_data"
    },
    {
     "data": {
      "application/vnd.jupyter.widget-view+json": {
       "model_id": "d9b014cbac3f46c58a4a21d6b70283ce",
       "version_major": 2,
       "version_minor": 0
      },
      "text/plain": [
       "Testing:   0%|          | 0/23 [00:00<?, ?it/s]"
      ]
     },
     "metadata": {},
     "output_type": "display_data"
    },
    {
     "name": "stderr",
     "output_type": "stream",
     "text": [
      "/home/arhitegio/anaconda3/lib/python3.9/site-packages/sklearn/utils/validation.py:993: DataConversionWarning: A column-vector y was passed when a 1d array was expected. Please change the shape of y to (n_samples, ), for example using ravel().\n",
      "  y = column_or_1d(y, warn=True)\n"
     ]
    },
    {
     "name": "stdout",
     "output_type": "stream",
     "text": [
      "Recall 0.9136802816151113\n",
      "Epoch: 21/40 - Loss: 0.1504\n"
     ]
    },
    {
     "data": {
      "application/vnd.jupyter.widget-view+json": {
       "model_id": "b4aba6799db34986921630fd54d28ccf",
       "version_major": 2,
       "version_minor": 0
      },
      "text/plain": [
       "Training:   0%|          | 0/129 [00:00<?, ?it/s]"
      ]
     },
     "metadata": {},
     "output_type": "display_data"
    },
    {
     "name": "stdout",
     "output_type": "stream",
     "text": [
      "0.13575777\n",
      "0.9948969711981664\n"
     ]
    },
    {
     "data": {
      "application/vnd.jupyter.widget-view+json": {
       "model_id": "ccd8ccb488d143beb9e3503ca30aec5f",
       "version_major": 2,
       "version_minor": 0
      },
      "text/plain": [
       "Testing:   0%|          | 0/129 [00:00<?, ?it/s]"
      ]
     },
     "metadata": {},
     "output_type": "display_data"
    },
    {
     "data": {
      "application/vnd.jupyter.widget-view+json": {
       "model_id": "fcde21f5238e421690dd5d15fa4596b1",
       "version_major": 2,
       "version_minor": 0
      },
      "text/plain": [
       "Testing:   0%|          | 0/23 [00:00<?, ?it/s]"
      ]
     },
     "metadata": {},
     "output_type": "display_data"
    },
    {
     "name": "stderr",
     "output_type": "stream",
     "text": [
      "/home/arhitegio/anaconda3/lib/python3.9/site-packages/sklearn/utils/validation.py:993: DataConversionWarning: A column-vector y was passed when a 1d array was expected. Please change the shape of y to (n_samples, ), for example using ravel().\n",
      "  y = column_or_1d(y, warn=True)\n"
     ]
    },
    {
     "name": "stdout",
     "output_type": "stream",
     "text": [
      "Recall 0.9238608666236553\n",
      "Epoch: 22/40 - Loss: 0.1358\n"
     ]
    },
    {
     "data": {
      "application/vnd.jupyter.widget-view+json": {
       "model_id": "3a87087d943c43b18b32795ac4e9a993",
       "version_major": 2,
       "version_minor": 0
      },
      "text/plain": [
       "Training:   0%|          | 0/129 [00:00<?, ?it/s]"
      ]
     },
     "metadata": {},
     "output_type": "display_data"
    },
    {
     "name": "stdout",
     "output_type": "stream",
     "text": [
      "0.1377795\n",
      "0.9948969711981664\n"
     ]
    },
    {
     "data": {
      "application/vnd.jupyter.widget-view+json": {
       "model_id": "4f46b8581b654d8182f4c40a48267da9",
       "version_major": 2,
       "version_minor": 0
      },
      "text/plain": [
       "Testing:   0%|          | 0/129 [00:00<?, ?it/s]"
      ]
     },
     "metadata": {},
     "output_type": "display_data"
    },
    {
     "data": {
      "application/vnd.jupyter.widget-view+json": {
       "model_id": "c757d48ff19940a897d3e64c8cfc1b15",
       "version_major": 2,
       "version_minor": 0
      },
      "text/plain": [
       "Testing:   0%|          | 0/23 [00:00<?, ?it/s]"
      ]
     },
     "metadata": {},
     "output_type": "display_data"
    },
    {
     "name": "stderr",
     "output_type": "stream",
     "text": [
      "/home/arhitegio/anaconda3/lib/python3.9/site-packages/sklearn/utils/validation.py:993: DataConversionWarning: A column-vector y was passed when a 1d array was expected. Please change the shape of y to (n_samples, ), for example using ravel().\n",
      "  y = column_or_1d(y, warn=True)\n"
     ]
    },
    {
     "name": "stdout",
     "output_type": "stream",
     "text": [
      "Recall 0.9262704474189695\n",
      "Epoch: 23/40 - Loss: 0.1378\n"
     ]
    },
    {
     "data": {
      "application/vnd.jupyter.widget-view+json": {
       "model_id": "9956684a30084ef78331ad1ebcc38e9e",
       "version_major": 2,
       "version_minor": 0
      },
      "text/plain": [
       "Training:   0%|          | 0/129 [00:00<?, ?it/s]"
      ]
     },
     "metadata": {},
     "output_type": "display_data"
    },
    {
     "name": "stdout",
     "output_type": "stream",
     "text": [
      "0.1310907\n",
      "0.9948969711981664\n"
     ]
    },
    {
     "data": {
      "application/vnd.jupyter.widget-view+json": {
       "model_id": "e3a733939c3543cfa5083aa35b905d60",
       "version_major": 2,
       "version_minor": 0
      },
      "text/plain": [
       "Testing:   0%|          | 0/129 [00:00<?, ?it/s]"
      ]
     },
     "metadata": {},
     "output_type": "display_data"
    },
    {
     "data": {
      "application/vnd.jupyter.widget-view+json": {
       "model_id": "13dfb272d2864fb7a21eda1f3750e939",
       "version_major": 2,
       "version_minor": 0
      },
      "text/plain": [
       "Testing:   0%|          | 0/23 [00:00<?, ?it/s]"
      ]
     },
     "metadata": {},
     "output_type": "display_data"
    },
    {
     "name": "stderr",
     "output_type": "stream",
     "text": [
      "/home/arhitegio/anaconda3/lib/python3.9/site-packages/sklearn/utils/validation.py:993: DataConversionWarning: A column-vector y was passed when a 1d array was expected. Please change the shape of y to (n_samples, ), for example using ravel().\n",
      "  y = column_or_1d(y, warn=True)\n"
     ]
    },
    {
     "name": "stdout",
     "output_type": "stream",
     "text": [
      "Recall 0.9283083550667142\n",
      "Epoch: 24/40 - Loss: 0.1311\n"
     ]
    },
    {
     "data": {
      "application/vnd.jupyter.widget-view+json": {
       "model_id": "782dc1fc1c424c91a32e60c8b3b9b3b1",
       "version_major": 2,
       "version_minor": 0
      },
      "text/plain": [
       "Training:   0%|          | 0/129 [00:00<?, ?it/s]"
      ]
     },
     "metadata": {},
     "output_type": "display_data"
    },
    {
     "name": "stdout",
     "output_type": "stream",
     "text": [
      "0.12780906\n",
      "0.9948969711981664\n"
     ]
    },
    {
     "data": {
      "application/vnd.jupyter.widget-view+json": {
       "model_id": "570d1a424215463aaa2949b1a224b115",
       "version_major": 2,
       "version_minor": 0
      },
      "text/plain": [
       "Testing:   0%|          | 0/129 [00:00<?, ?it/s]"
      ]
     },
     "metadata": {},
     "output_type": "display_data"
    },
    {
     "data": {
      "application/vnd.jupyter.widget-view+json": {
       "model_id": "80db5476b76942b886c8719b29a0a7dd",
       "version_major": 2,
       "version_minor": 0
      },
      "text/plain": [
       "Testing:   0%|          | 0/23 [00:00<?, ?it/s]"
      ]
     },
     "metadata": {},
     "output_type": "display_data"
    },
    {
     "name": "stderr",
     "output_type": "stream",
     "text": [
      "/home/arhitegio/anaconda3/lib/python3.9/site-packages/sklearn/utils/validation.py:993: DataConversionWarning: A column-vector y was passed when a 1d array was expected. Please change the shape of y to (n_samples, ), for example using ravel().\n",
      "  y = column_or_1d(y, warn=True)\n"
     ]
    },
    {
     "name": "stdout",
     "output_type": "stream",
     "text": [
      "Recall 0.9294482313070654\n",
      "Epoch: 25/40 - Loss: 0.1278\n"
     ]
    },
    {
     "data": {
      "application/vnd.jupyter.widget-view+json": {
       "model_id": "54a4c60b436e41f7997d72770fefcb80",
       "version_major": 2,
       "version_minor": 0
      },
      "text/plain": [
       "Training:   0%|          | 0/129 [00:00<?, ?it/s]"
      ]
     },
     "metadata": {},
     "output_type": "display_data"
    },
    {
     "name": "stdout",
     "output_type": "stream",
     "text": [
      "0.12018692\n",
      "0.9948969711981664\n"
     ]
    },
    {
     "data": {
      "application/vnd.jupyter.widget-view+json": {
       "model_id": "f91ad59cb6e64d35b3ad388bfbaeec4d",
       "version_major": 2,
       "version_minor": 0
      },
      "text/plain": [
       "Testing:   0%|          | 0/129 [00:00<?, ?it/s]"
      ]
     },
     "metadata": {},
     "output_type": "display_data"
    },
    {
     "data": {
      "application/vnd.jupyter.widget-view+json": {
       "model_id": "dceca31f597444d891f0c731b35c075b",
       "version_major": 2,
       "version_minor": 0
      },
      "text/plain": [
       "Testing:   0%|          | 0/23 [00:00<?, ?it/s]"
      ]
     },
     "metadata": {},
     "output_type": "display_data"
    },
    {
     "name": "stderr",
     "output_type": "stream",
     "text": [
      "/home/arhitegio/anaconda3/lib/python3.9/site-packages/sklearn/utils/validation.py:993: DataConversionWarning: A column-vector y was passed when a 1d array was expected. Please change the shape of y to (n_samples, ), for example using ravel().\n",
      "  y = column_or_1d(y, warn=True)\n"
     ]
    },
    {
     "name": "stdout",
     "output_type": "stream",
     "text": [
      "Recall 0.9254332830298313\n",
      "Epoch: 26/40 - Loss: 0.1202\n"
     ]
    },
    {
     "data": {
      "application/vnd.jupyter.widget-view+json": {
       "model_id": "585242566d8648da8228d29333c95e38",
       "version_major": 2,
       "version_minor": 0
      },
      "text/plain": [
       "Training:   0%|          | 0/129 [00:00<?, ?it/s]"
      ]
     },
     "metadata": {},
     "output_type": "display_data"
    },
    {
     "name": "stdout",
     "output_type": "stream",
     "text": [
      "0.1114653\n",
      "0.9948969711981664\n"
     ]
    },
    {
     "data": {
      "application/vnd.jupyter.widget-view+json": {
       "model_id": "6b2539e1eb1a408f90faef42f4b4557a",
       "version_major": 2,
       "version_minor": 0
      },
      "text/plain": [
       "Testing:   0%|          | 0/129 [00:00<?, ?it/s]"
      ]
     },
     "metadata": {},
     "output_type": "display_data"
    },
    {
     "data": {
      "application/vnd.jupyter.widget-view+json": {
       "model_id": "161d60bb5e6c42a0b01f02d314393b81",
       "version_major": 2,
       "version_minor": 0
      },
      "text/plain": [
       "Testing:   0%|          | 0/23 [00:00<?, ?it/s]"
      ]
     },
     "metadata": {},
     "output_type": "display_data"
    },
    {
     "name": "stderr",
     "output_type": "stream",
     "text": [
      "/home/arhitegio/anaconda3/lib/python3.9/site-packages/sklearn/utils/validation.py:993: DataConversionWarning: A column-vector y was passed when a 1d array was expected. Please change the shape of y to (n_samples, ), for example using ravel().\n",
      "  y = column_or_1d(y, warn=True)\n"
     ]
    },
    {
     "name": "stdout",
     "output_type": "stream",
     "text": [
      "Recall 0.9361783629732585\n",
      "Epoch: 27/40 - Loss: 0.1115\n"
     ]
    },
    {
     "data": {
      "application/vnd.jupyter.widget-view+json": {
       "model_id": "7f12e8b8214c4a9d8bd426bd297102f4",
       "version_major": 2,
       "version_minor": 0
      },
      "text/plain": [
       "Training:   0%|          | 0/129 [00:00<?, ?it/s]"
      ]
     },
     "metadata": {},
     "output_type": "display_data"
    },
    {
     "name": "stdout",
     "output_type": "stream",
     "text": [
      "0.11215725\n",
      "0.9948969711981664\n"
     ]
    },
    {
     "data": {
      "application/vnd.jupyter.widget-view+json": {
       "model_id": "795de60c92bc4816ab2c550e8c148c7b",
       "version_major": 2,
       "version_minor": 0
      },
      "text/plain": [
       "Testing:   0%|          | 0/129 [00:00<?, ?it/s]"
      ]
     },
     "metadata": {},
     "output_type": "display_data"
    },
    {
     "data": {
      "application/vnd.jupyter.widget-view+json": {
       "model_id": "54ef5c1342ee4d08b0f5c63b0a5342e6",
       "version_major": 2,
       "version_minor": 0
      },
      "text/plain": [
       "Testing:   0%|          | 0/23 [00:00<?, ?it/s]"
      ]
     },
     "metadata": {},
     "output_type": "display_data"
    },
    {
     "name": "stderr",
     "output_type": "stream",
     "text": [
      "/home/arhitegio/anaconda3/lib/python3.9/site-packages/sklearn/utils/validation.py:993: DataConversionWarning: A column-vector y was passed when a 1d array was expected. Please change the shape of y to (n_samples, ), for example using ravel().\n",
      "  y = column_or_1d(y, warn=True)\n"
     ]
    },
    {
     "name": "stdout",
     "output_type": "stream",
     "text": [
      "Recall 0.9339579579030177\n",
      "Epoch: 28/40 - Loss: 0.1122\n"
     ]
    },
    {
     "data": {
      "application/vnd.jupyter.widget-view+json": {
       "model_id": "54a5c4f2bf8d4a99a49717f55a30138f",
       "version_major": 2,
       "version_minor": 0
      },
      "text/plain": [
       "Training:   0%|          | 0/129 [00:00<?, ?it/s]"
      ]
     },
     "metadata": {},
     "output_type": "display_data"
    },
    {
     "name": "stdout",
     "output_type": "stream",
     "text": [
      "0.11011475\n",
      "0.9948969711981664\n"
     ]
    },
    {
     "data": {
      "application/vnd.jupyter.widget-view+json": {
       "model_id": "25d253afce8b436584c44a953ab2bea7",
       "version_major": 2,
       "version_minor": 0
      },
      "text/plain": [
       "Testing:   0%|          | 0/129 [00:00<?, ?it/s]"
      ]
     },
     "metadata": {},
     "output_type": "display_data"
    },
    {
     "data": {
      "application/vnd.jupyter.widget-view+json": {
       "model_id": "16a23b14d45247bfba1f37a6ca9f84cf",
       "version_major": 2,
       "version_minor": 0
      },
      "text/plain": [
       "Testing:   0%|          | 0/23 [00:00<?, ?it/s]"
      ]
     },
     "metadata": {},
     "output_type": "display_data"
    },
    {
     "name": "stderr",
     "output_type": "stream",
     "text": [
      "/home/arhitegio/anaconda3/lib/python3.9/site-packages/sklearn/utils/validation.py:993: DataConversionWarning: A column-vector y was passed when a 1d array was expected. Please change the shape of y to (n_samples, ), for example using ravel().\n",
      "  y = column_or_1d(y, warn=True)\n"
     ]
    },
    {
     "name": "stdout",
     "output_type": "stream",
     "text": [
      "Recall 0.9310822002988156\n",
      "Epoch: 29/40 - Loss: 0.1101\n"
     ]
    },
    {
     "data": {
      "application/vnd.jupyter.widget-view+json": {
       "model_id": "3ed2cd2006fa452284b6a6bdcb1d869e",
       "version_major": 2,
       "version_minor": 0
      },
      "text/plain": [
       "Training:   0%|          | 0/129 [00:00<?, ?it/s]"
      ]
     },
     "metadata": {},
     "output_type": "display_data"
    },
    {
     "name": "stdout",
     "output_type": "stream",
     "text": [
      "0.10197679\n",
      "0.9948969711981664\n"
     ]
    },
    {
     "data": {
      "application/vnd.jupyter.widget-view+json": {
       "model_id": "e85613c9aabe4335ad23fd139d5a8e80",
       "version_major": 2,
       "version_minor": 0
      },
      "text/plain": [
       "Testing:   0%|          | 0/129 [00:00<?, ?it/s]"
      ]
     },
     "metadata": {},
     "output_type": "display_data"
    },
    {
     "data": {
      "application/vnd.jupyter.widget-view+json": {
       "model_id": "cda24f120f8b4d4999190142cb7b6ed2",
       "version_major": 2,
       "version_minor": 0
      },
      "text/plain": [
       "Testing:   0%|          | 0/23 [00:00<?, ?it/s]"
      ]
     },
     "metadata": {},
     "output_type": "display_data"
    },
    {
     "name": "stderr",
     "output_type": "stream",
     "text": [
      "/home/arhitegio/anaconda3/lib/python3.9/site-packages/sklearn/utils/validation.py:993: DataConversionWarning: A column-vector y was passed when a 1d array was expected. Please change the shape of y to (n_samples, ), for example using ravel().\n",
      "  y = column_or_1d(y, warn=True)\n"
     ]
    },
    {
     "name": "stdout",
     "output_type": "stream",
     "text": [
      "Recall 0.9352750941504148\n",
      "Epoch: 30/40 - Loss: 0.1020\n"
     ]
    },
    {
     "data": {
      "application/vnd.jupyter.widget-view+json": {
       "model_id": "d6a6a51301764216a13c755898e039de",
       "version_major": 2,
       "version_minor": 0
      },
      "text/plain": [
       "Training:   0%|          | 0/129 [00:00<?, ?it/s]"
      ]
     },
     "metadata": {},
     "output_type": "display_data"
    },
    {
     "name": "stdout",
     "output_type": "stream",
     "text": [
      "0.104237325\n",
      "0.9948969711981664\n"
     ]
    },
    {
     "data": {
      "application/vnd.jupyter.widget-view+json": {
       "model_id": "91e85afe4e944227824ae135d8cfb1e8",
       "version_major": 2,
       "version_minor": 0
      },
      "text/plain": [
       "Testing:   0%|          | 0/129 [00:00<?, ?it/s]"
      ]
     },
     "metadata": {},
     "output_type": "display_data"
    },
    {
     "data": {
      "application/vnd.jupyter.widget-view+json": {
       "model_id": "96ca3c09483e44349bc61929e1ef76b6",
       "version_major": 2,
       "version_minor": 0
      },
      "text/plain": [
       "Testing:   0%|          | 0/23 [00:00<?, ?it/s]"
      ]
     },
     "metadata": {},
     "output_type": "display_data"
    },
    {
     "name": "stderr",
     "output_type": "stream",
     "text": [
      "/home/arhitegio/anaconda3/lib/python3.9/site-packages/sklearn/utils/validation.py:993: DataConversionWarning: A column-vector y was passed when a 1d array was expected. Please change the shape of y to (n_samples, ), for example using ravel().\n",
      "  y = column_or_1d(y, warn=True)\n"
     ]
    },
    {
     "name": "stdout",
     "output_type": "stream",
     "text": [
      "Recall 0.9335506362513132\n",
      "Epoch: 31/40 - Loss: 0.1042\n"
     ]
    },
    {
     "data": {
      "application/vnd.jupyter.widget-view+json": {
       "model_id": "db45e4689bc145fba7ee52a6eef7d216",
       "version_major": 2,
       "version_minor": 0
      },
      "text/plain": [
       "Training:   0%|          | 0/129 [00:00<?, ?it/s]"
      ]
     },
     "metadata": {},
     "output_type": "display_data"
    },
    {
     "name": "stdout",
     "output_type": "stream",
     "text": [
      "0.09670903\n",
      "0.9948969711981664\n"
     ]
    },
    {
     "data": {
      "application/vnd.jupyter.widget-view+json": {
       "model_id": "c4a8ef996987478b811a2c2d3d2b6a71",
       "version_major": 2,
       "version_minor": 0
      },
      "text/plain": [
       "Testing:   0%|          | 0/129 [00:00<?, ?it/s]"
      ]
     },
     "metadata": {},
     "output_type": "display_data"
    },
    {
     "data": {
      "application/vnd.jupyter.widget-view+json": {
       "model_id": "419342cbc15248339f7c17ea954383bd",
       "version_major": 2,
       "version_minor": 0
      },
      "text/plain": [
       "Testing:   0%|          | 0/23 [00:00<?, ?it/s]"
      ]
     },
     "metadata": {},
     "output_type": "display_data"
    },
    {
     "name": "stderr",
     "output_type": "stream",
     "text": [
      "/home/arhitegio/anaconda3/lib/python3.9/site-packages/sklearn/utils/validation.py:993: DataConversionWarning: A column-vector y was passed when a 1d array was expected. Please change the shape of y to (n_samples, ), for example using ravel().\n",
      "  y = column_or_1d(y, warn=True)\n"
     ]
    },
    {
     "name": "stdout",
     "output_type": "stream",
     "text": [
      "Recall 0.9320044228658145\n",
      "Epoch: 32/40 - Loss: 0.0967\n"
     ]
    },
    {
     "data": {
      "application/vnd.jupyter.widget-view+json": {
       "model_id": "7de314ebad7d4573ab9684a48f2083d6",
       "version_major": 2,
       "version_minor": 0
      },
      "text/plain": [
       "Training:   0%|          | 0/129 [00:00<?, ?it/s]"
      ]
     },
     "metadata": {},
     "output_type": "display_data"
    },
    {
     "name": "stdout",
     "output_type": "stream",
     "text": [
      "0.08777358\n",
      "0.9948969711981664\n"
     ]
    },
    {
     "data": {
      "application/vnd.jupyter.widget-view+json": {
       "model_id": "9dde747c70614782b97c91567c5506a1",
       "version_major": 2,
       "version_minor": 0
      },
      "text/plain": [
       "Testing:   0%|          | 0/129 [00:00<?, ?it/s]"
      ]
     },
     "metadata": {},
     "output_type": "display_data"
    },
    {
     "data": {
      "application/vnd.jupyter.widget-view+json": {
       "model_id": "7a571e5f79c640a78c5e88ec20bebf74",
       "version_major": 2,
       "version_minor": 0
      },
      "text/plain": [
       "Testing:   0%|          | 0/23 [00:00<?, ?it/s]"
      ]
     },
     "metadata": {},
     "output_type": "display_data"
    },
    {
     "name": "stderr",
     "output_type": "stream",
     "text": [
      "/home/arhitegio/anaconda3/lib/python3.9/site-packages/sklearn/utils/validation.py:993: DataConversionWarning: A column-vector y was passed when a 1d array was expected. Please change the shape of y to (n_samples, ), for example using ravel().\n",
      "  y = column_or_1d(y, warn=True)\n"
     ]
    },
    {
     "name": "stdout",
     "output_type": "stream",
     "text": [
      "Recall 0.9322222698532076\n",
      "Epoch: 33/40 - Loss: 0.0878\n"
     ]
    },
    {
     "data": {
      "application/vnd.jupyter.widget-view+json": {
       "model_id": "2abe896e094542f5b18bbc2e202b3f86",
       "version_major": 2,
       "version_minor": 0
      },
      "text/plain": [
       "Training:   0%|          | 0/129 [00:00<?, ?it/s]"
      ]
     },
     "metadata": {},
     "output_type": "display_data"
    },
    {
     "name": "stdout",
     "output_type": "stream",
     "text": [
      "0.08339323\n",
      "0.9948969711981664\n"
     ]
    },
    {
     "data": {
      "application/vnd.jupyter.widget-view+json": {
       "model_id": "bb2d37afe6d94512b9e43e464a27a16d",
       "version_major": 2,
       "version_minor": 0
      },
      "text/plain": [
       "Testing:   0%|          | 0/129 [00:00<?, ?it/s]"
      ]
     },
     "metadata": {},
     "output_type": "display_data"
    },
    {
     "data": {
      "application/vnd.jupyter.widget-view+json": {
       "model_id": "0dae83a6ad6a40c490a9a4c6e1e5f3f9",
       "version_major": 2,
       "version_minor": 0
      },
      "text/plain": [
       "Testing:   0%|          | 0/23 [00:00<?, ?it/s]"
      ]
     },
     "metadata": {},
     "output_type": "display_data"
    },
    {
     "name": "stderr",
     "output_type": "stream",
     "text": [
      "/home/arhitegio/anaconda3/lib/python3.9/site-packages/sklearn/utils/validation.py:993: DataConversionWarning: A column-vector y was passed when a 1d array was expected. Please change the shape of y to (n_samples, ), for example using ravel().\n",
      "  y = column_or_1d(y, warn=True)\n"
     ]
    },
    {
     "name": "stdout",
     "output_type": "stream",
     "text": [
      "Recall 0.9364616467633918\n",
      "Epoch: 34/40 - Loss: 0.0834\n"
     ]
    },
    {
     "data": {
      "application/vnd.jupyter.widget-view+json": {
       "model_id": "500a57e90d5d4faeb737c86fe55a1010",
       "version_major": 2,
       "version_minor": 0
      },
      "text/plain": [
       "Training:   0%|          | 0/129 [00:00<?, ?it/s]"
      ]
     },
     "metadata": {},
     "output_type": "display_data"
    },
    {
     "name": "stdout",
     "output_type": "stream",
     "text": [
      "0.081683286\n",
      "0.9948969711981664\n"
     ]
    },
    {
     "data": {
      "application/vnd.jupyter.widget-view+json": {
       "model_id": "73d77ae484d64938b6e26b1176b5ddb2",
       "version_major": 2,
       "version_minor": 0
      },
      "text/plain": [
       "Testing:   0%|          | 0/129 [00:00<?, ?it/s]"
      ]
     },
     "metadata": {},
     "output_type": "display_data"
    },
    {
     "data": {
      "application/vnd.jupyter.widget-view+json": {
       "model_id": "b3b270da396a42718c632382aad4f0c3",
       "version_major": 2,
       "version_minor": 0
      },
      "text/plain": [
       "Testing:   0%|          | 0/23 [00:00<?, ?it/s]"
      ]
     },
     "metadata": {},
     "output_type": "display_data"
    },
    {
     "name": "stderr",
     "output_type": "stream",
     "text": [
      "/home/arhitegio/anaconda3/lib/python3.9/site-packages/sklearn/utils/validation.py:993: DataConversionWarning: A column-vector y was passed when a 1d array was expected. Please change the shape of y to (n_samples, ), for example using ravel().\n",
      "  y = column_or_1d(y, warn=True)\n"
     ]
    },
    {
     "name": "stdout",
     "output_type": "stream",
     "text": [
      "Recall 0.930308847479427\n",
      "Epoch: 35/40 - Loss: 0.0817\n"
     ]
    },
    {
     "data": {
      "application/vnd.jupyter.widget-view+json": {
       "model_id": "1166540e075749199f932e0624566b31",
       "version_major": 2,
       "version_minor": 0
      },
      "text/plain": [
       "Training:   0%|          | 0/129 [00:00<?, ?it/s]"
      ]
     },
     "metadata": {},
     "output_type": "display_data"
    },
    {
     "name": "stdout",
     "output_type": "stream",
     "text": [
      "0.07737871\n",
      "0.9948969711981664\n"
     ]
    },
    {
     "data": {
      "application/vnd.jupyter.widget-view+json": {
       "model_id": "76b07759f03c44018b893c1c3c56a5a6",
       "version_major": 2,
       "version_minor": 0
      },
      "text/plain": [
       "Testing:   0%|          | 0/129 [00:00<?, ?it/s]"
      ]
     },
     "metadata": {},
     "output_type": "display_data"
    },
    {
     "data": {
      "application/vnd.jupyter.widget-view+json": {
       "model_id": "d1096fac6f604070bb44eba132f8fc90",
       "version_major": 2,
       "version_minor": 0
      },
      "text/plain": [
       "Testing:   0%|          | 0/23 [00:00<?, ?it/s]"
      ]
     },
     "metadata": {},
     "output_type": "display_data"
    },
    {
     "name": "stderr",
     "output_type": "stream",
     "text": [
      "/home/arhitegio/anaconda3/lib/python3.9/site-packages/sklearn/utils/validation.py:993: DataConversionWarning: A column-vector y was passed when a 1d array was expected. Please change the shape of y to (n_samples, ), for example using ravel().\n",
      "  y = column_or_1d(y, warn=True)\n"
     ]
    },
    {
     "name": "stdout",
     "output_type": "stream",
     "text": [
      "Recall 0.9287772382721702\n",
      "Epoch: 36/40 - Loss: 0.0774\n"
     ]
    },
    {
     "data": {
      "application/vnd.jupyter.widget-view+json": {
       "model_id": "200144728bf24e1ab15b0813da7150b5",
       "version_major": 2,
       "version_minor": 0
      },
      "text/plain": [
       "Training:   0%|          | 0/129 [00:00<?, ?it/s]"
      ]
     },
     "metadata": {},
     "output_type": "display_data"
    },
    {
     "name": "stdout",
     "output_type": "stream",
     "text": [
      "0.07471055\n",
      "0.9948969711981664\n"
     ]
    },
    {
     "data": {
      "application/vnd.jupyter.widget-view+json": {
       "model_id": "cb8329c0632442138ccafd12bd3c4a7b",
       "version_major": 2,
       "version_minor": 0
      },
      "text/plain": [
       "Testing:   0%|          | 0/129 [00:00<?, ?it/s]"
      ]
     },
     "metadata": {},
     "output_type": "display_data"
    },
    {
     "data": {
      "application/vnd.jupyter.widget-view+json": {
       "model_id": "2631e0485e6c4a54b56a0fe2a2a6a7a4",
       "version_major": 2,
       "version_minor": 0
      },
      "text/plain": [
       "Testing:   0%|          | 0/23 [00:00<?, ?it/s]"
      ]
     },
     "metadata": {},
     "output_type": "display_data"
    },
    {
     "name": "stderr",
     "output_type": "stream",
     "text": [
      "/home/arhitegio/anaconda3/lib/python3.9/site-packages/sklearn/utils/validation.py:993: DataConversionWarning: A column-vector y was passed when a 1d array was expected. Please change the shape of y to (n_samples, ), for example using ravel().\n",
      "  y = column_or_1d(y, warn=True)\n"
     ]
    },
    {
     "name": "stdout",
     "output_type": "stream",
     "text": [
      "Recall 0.936007174422137\n",
      "Epoch: 37/40 - Loss: 0.0747\n"
     ]
    },
    {
     "data": {
      "application/vnd.jupyter.widget-view+json": {
       "model_id": "380bcf7ab3384ebe863993ab809066b2",
       "version_major": 2,
       "version_minor": 0
      },
      "text/plain": [
       "Training:   0%|          | 0/129 [00:00<?, ?it/s]"
      ]
     },
     "metadata": {},
     "output_type": "display_data"
    },
    {
     "name": "stdout",
     "output_type": "stream",
     "text": [
      "0.078275725\n",
      "0.9948969711981664\n"
     ]
    },
    {
     "data": {
      "application/vnd.jupyter.widget-view+json": {
       "model_id": "8b57021c9c174da187f2916124c17406",
       "version_major": 2,
       "version_minor": 0
      },
      "text/plain": [
       "Testing:   0%|          | 0/129 [00:00<?, ?it/s]"
      ]
     },
     "metadata": {},
     "output_type": "display_data"
    },
    {
     "data": {
      "application/vnd.jupyter.widget-view+json": {
       "model_id": "fa6ad05230cb403b9d031fb2380ec7e7",
       "version_major": 2,
       "version_minor": 0
      },
      "text/plain": [
       "Testing:   0%|          | 0/23 [00:00<?, ?it/s]"
      ]
     },
     "metadata": {},
     "output_type": "display_data"
    },
    {
     "name": "stderr",
     "output_type": "stream",
     "text": [
      "/home/arhitegio/anaconda3/lib/python3.9/site-packages/sklearn/utils/validation.py:993: DataConversionWarning: A column-vector y was passed when a 1d array was expected. Please change the shape of y to (n_samples, ), for example using ravel().\n",
      "  y = column_or_1d(y, warn=True)\n"
     ]
    },
    {
     "name": "stdout",
     "output_type": "stream",
     "text": [
      "Recall 0.9336192537675462\n",
      "Epoch: 38/40 - Loss: 0.0783\n"
     ]
    },
    {
     "data": {
      "application/vnd.jupyter.widget-view+json": {
       "model_id": "ce2e2fd19eb840779944ef253c170b30",
       "version_major": 2,
       "version_minor": 0
      },
      "text/plain": [
       "Training:   0%|          | 0/129 [00:00<?, ?it/s]"
      ]
     },
     "metadata": {},
     "output_type": "display_data"
    },
    {
     "name": "stdout",
     "output_type": "stream",
     "text": [
      "0.06755309\n",
      "0.9948969711981664\n"
     ]
    },
    {
     "data": {
      "application/vnd.jupyter.widget-view+json": {
       "model_id": "143155f159d641e3be29283ae60f2f15",
       "version_major": 2,
       "version_minor": 0
      },
      "text/plain": [
       "Testing:   0%|          | 0/129 [00:00<?, ?it/s]"
      ]
     },
     "metadata": {},
     "output_type": "display_data"
    },
    {
     "data": {
      "application/vnd.jupyter.widget-view+json": {
       "model_id": "11616d7e14b14093ad3fc199f6271290",
       "version_major": 2,
       "version_minor": 0
      },
      "text/plain": [
       "Testing:   0%|          | 0/23 [00:00<?, ?it/s]"
      ]
     },
     "metadata": {},
     "output_type": "display_data"
    },
    {
     "name": "stderr",
     "output_type": "stream",
     "text": [
      "/home/arhitegio/anaconda3/lib/python3.9/site-packages/sklearn/utils/validation.py:993: DataConversionWarning: A column-vector y was passed when a 1d array was expected. Please change the shape of y to (n_samples, ), for example using ravel().\n",
      "  y = column_or_1d(y, warn=True)\n"
     ]
    },
    {
     "name": "stdout",
     "output_type": "stream",
     "text": [
      "Recall 0.9292293998131151\n",
      "Epoch: 39/40 - Loss: 0.0676\n"
     ]
    },
    {
     "data": {
      "application/vnd.jupyter.widget-view+json": {
       "model_id": "a991bae9061e4cf3a8ad5852037b3a37",
       "version_major": 2,
       "version_minor": 0
      },
      "text/plain": [
       "Training:   0%|          | 0/129 [00:00<?, ?it/s]"
      ]
     },
     "metadata": {},
     "output_type": "display_data"
    },
    {
     "name": "stdout",
     "output_type": "stream",
     "text": [
      "0.073813714\n",
      "0.9948969711981664\n"
     ]
    },
    {
     "data": {
      "application/vnd.jupyter.widget-view+json": {
       "model_id": "677a93fffac54a20ac6f0d12f3c0937c",
       "version_major": 2,
       "version_minor": 0
      },
      "text/plain": [
       "Testing:   0%|          | 0/129 [00:00<?, ?it/s]"
      ]
     },
     "metadata": {},
     "output_type": "display_data"
    },
    {
     "data": {
      "application/vnd.jupyter.widget-view+json": {
       "model_id": "2e6a9aa0280042958dbaeaae72cdb518",
       "version_major": 2,
       "version_minor": 0
      },
      "text/plain": [
       "Testing:   0%|          | 0/23 [00:00<?, ?it/s]"
      ]
     },
     "metadata": {},
     "output_type": "display_data"
    },
    {
     "name": "stderr",
     "output_type": "stream",
     "text": [
      "/home/arhitegio/anaconda3/lib/python3.9/site-packages/sklearn/utils/validation.py:993: DataConversionWarning: A column-vector y was passed when a 1d array was expected. Please change the shape of y to (n_samples, ), for example using ravel().\n",
      "  y = column_or_1d(y, warn=True)\n"
     ]
    },
    {
     "name": "stdout",
     "output_type": "stream",
     "text": [
      "Recall 0.9303611478955843\n",
      "Epoch: 40/40 - Loss: 0.0738\n",
      "CPU times: user 11min 7s, sys: 1min 51s, total: 12min 58s\n",
      "Wall time: 11min 9s\n"
     ]
    }
   ],
   "source": [
    "%%time\n",
    "model.train()\n",
    "ep = 40 #48\n",
    "for epoch in tqdm_step(range(ep), desc=\"Epochs\"):\n",
    "    running_loss = []\n",
    "    #if epoch % 10 == 0:\n",
    "    #    train_loader.dataset.change_positives()\n",
    "    loss_arr = []\n",
    "    pbar = tqdm_step(train_loader, desc=\"Training\")\n",
    "\n",
    "    for step, (anchor_img, positive_img, negative_img, anchor_label) in enumerate(pbar):\n",
    "        anchor_img =   anchor_img.to(device)\n",
    "        positive_img = positive_img.to(device)\n",
    "        negative_img = [sample.to(device) for sample in negative_img]\n",
    "\n",
    "        for sample in negative_img:\n",
    "            optimizer.zero_grad()\n",
    "\n",
    "            anchor_out = model(anchor_img)\n",
    "            positive_out = model(positive_img)\n",
    "            negative_out = model(sample)\n",
    "\n",
    "            loss = criterion(anchor_out, positive_out, negative_out)\n",
    "            loss.backward()\n",
    "            optimizer.step()\n",
    "            l = loss.cpu().detach().numpy()\n",
    "            \n",
    "            loss_arr.append(l)\n",
    "        pbar.postfix = f\" - loss батча '{np.mean(loss_arr)}'\"\n",
    "        #if np.mean(loss_arr) <= 0.005:\n",
    "        #    break\n",
    "        \n",
    "        running_loss.append(np.mean(loss_arr))\n",
    "    with open(params['path_config'], \"r\") as f:\n",
    "        config = json.loads(f.read())\n",
    "    print(np.mean(running_loss))\n",
    "    print(config['recall_score'])\n",
    "    \n",
    "    X_train_, y_train_ = get_data(model, train_loader)\n",
    "    X_test_, y_test_ = get_data(model, valid_loader)\n",
    "    pca=PCA(n_components=n_components, whiten=True)\n",
    "    pca.fit(X_train_)\n",
    "    X_train_pca=pca.transform(X_train_)\n",
    "    X_test_pca=pca.transform(X_test_)\n",
    "    clf = SVC()\n",
    "    clf.fit(X_train_pca, y_train_)\n",
    "    y_pred = clf.predict(X_test_pca)\n",
    "    recall_score = metrics.recall_score(y_test_, y_pred, average=\"macro\", zero_division=0)#[None, 'micro', 'macro', 'weighted']\n",
    "    \n",
    "    if recall_score > config['recall_score']:\n",
    "        config['recall_score'] = recall_score\n",
    "        with open(params['path_config'], \"w\") as f:\n",
    "            f.write(json.dumps(config))\n",
    "        torch.save(model.state_dict(), './recogn_model.mdl')\n",
    "        print(f'Сохранено! Recall {recall_score}')\n",
    "    else:\n",
    "        print(f'Recall {recall_score}')\n",
    "    \n",
    "        \n",
    "    print(\"Epoch: {}/{} - Loss: {:.4f}\".format(epoch+1, ep, np.mean(running_loss)))"
   ]
  },
  {
   "cell_type": "code",
   "execution_count": 210,
   "metadata": {},
   "outputs": [
    {
     "data": {
      "application/vnd.jupyter.widget-view+json": {
       "model_id": "ea19cba3b2a54317ba976f79293a513a",
       "version_major": 2,
       "version_minor": 0
      },
      "text/plain": [
       "Epochs:   0%|          | 0/10 [00:00<?, ?it/s]"
      ]
     },
     "metadata": {},
     "output_type": "display_data"
    },
    {
     "data": {
      "application/vnd.jupyter.widget-view+json": {
       "model_id": "8aa9e8422d694140935b28a6e265f734",
       "version_major": 2,
       "version_minor": 0
      },
      "text/plain": [
       "Training:   0%|          | 0/129 [00:00<?, ?it/s]"
      ]
     },
     "metadata": {},
     "output_type": "display_data"
    },
    {
     "name": "stdout",
     "output_type": "stream",
     "text": [
      "0.06823089\n",
      "0.9948969711981664\n"
     ]
    },
    {
     "data": {
      "application/vnd.jupyter.widget-view+json": {
       "model_id": "14dbe41a0fb8425cb127eed1e122a907",
       "version_major": 2,
       "version_minor": 0
      },
      "text/plain": [
       "Testing:   0%|          | 0/129 [00:00<?, ?it/s]"
      ]
     },
     "metadata": {},
     "output_type": "display_data"
    },
    {
     "data": {
      "application/vnd.jupyter.widget-view+json": {
       "model_id": "a9d531bd53e340c1be81d1c0e15cd338",
       "version_major": 2,
       "version_minor": 0
      },
      "text/plain": [
       "Testing:   0%|          | 0/23 [00:00<?, ?it/s]"
      ]
     },
     "metadata": {},
     "output_type": "display_data"
    },
    {
     "name": "stderr",
     "output_type": "stream",
     "text": [
      "/home/arhitegio/anaconda3/lib/python3.9/site-packages/sklearn/utils/validation.py:993: DataConversionWarning: A column-vector y was passed when a 1d array was expected. Please change the shape of y to (n_samples, ), for example using ravel().\n",
      "  y = column_or_1d(y, warn=True)\n"
     ]
    },
    {
     "name": "stdout",
     "output_type": "stream",
     "text": [
      "0.9435583018505475\n",
      "Epoch: 1/10 - Loss: 0.0682\n"
     ]
    },
    {
     "data": {
      "application/vnd.jupyter.widget-view+json": {
       "model_id": "479c5206fe334970b6a5cbeffe8e4ca2",
       "version_major": 2,
       "version_minor": 0
      },
      "text/plain": [
       "Training:   0%|          | 0/129 [00:00<?, ?it/s]"
      ]
     },
     "metadata": {},
     "output_type": "display_data"
    },
    {
     "name": "stdout",
     "output_type": "stream",
     "text": [
      "0.06626881\n",
      "0.9948969711981664\n"
     ]
    },
    {
     "data": {
      "application/vnd.jupyter.widget-view+json": {
       "model_id": "6fd493f199534818a7a4ffc3f4eb6eaa",
       "version_major": 2,
       "version_minor": 0
      },
      "text/plain": [
       "Testing:   0%|          | 0/129 [00:00<?, ?it/s]"
      ]
     },
     "metadata": {},
     "output_type": "display_data"
    },
    {
     "data": {
      "application/vnd.jupyter.widget-view+json": {
       "model_id": "25fcf3f89f314556923957554b34c35d",
       "version_major": 2,
       "version_minor": 0
      },
      "text/plain": [
       "Testing:   0%|          | 0/23 [00:00<?, ?it/s]"
      ]
     },
     "metadata": {},
     "output_type": "display_data"
    },
    {
     "name": "stderr",
     "output_type": "stream",
     "text": [
      "/home/arhitegio/anaconda3/lib/python3.9/site-packages/sklearn/utils/validation.py:993: DataConversionWarning: A column-vector y was passed when a 1d array was expected. Please change the shape of y to (n_samples, ), for example using ravel().\n",
      "  y = column_or_1d(y, warn=True)\n"
     ]
    },
    {
     "name": "stdout",
     "output_type": "stream",
     "text": [
      "0.9443560122390506\n",
      "Epoch: 2/10 - Loss: 0.0663\n"
     ]
    },
    {
     "data": {
      "application/vnd.jupyter.widget-view+json": {
       "model_id": "a0e5c5bf0d474f0f8776bd3c56ecb610",
       "version_major": 2,
       "version_minor": 0
      },
      "text/plain": [
       "Training:   0%|          | 0/129 [00:00<?, ?it/s]"
      ]
     },
     "metadata": {},
     "output_type": "display_data"
    },
    {
     "name": "stdout",
     "output_type": "stream",
     "text": [
      "0.06871763\n",
      "0.9948969711981664\n"
     ]
    },
    {
     "data": {
      "application/vnd.jupyter.widget-view+json": {
       "model_id": "7622630a2d8f4f16b28da40e6e21f412",
       "version_major": 2,
       "version_minor": 0
      },
      "text/plain": [
       "Testing:   0%|          | 0/129 [00:00<?, ?it/s]"
      ]
     },
     "metadata": {},
     "output_type": "display_data"
    },
    {
     "data": {
      "application/vnd.jupyter.widget-view+json": {
       "model_id": "752ae60c873b47d793fb3c8a0e804f6f",
       "version_major": 2,
       "version_minor": 0
      },
      "text/plain": [
       "Testing:   0%|          | 0/23 [00:00<?, ?it/s]"
      ]
     },
     "metadata": {},
     "output_type": "display_data"
    },
    {
     "name": "stderr",
     "output_type": "stream",
     "text": [
      "/home/arhitegio/anaconda3/lib/python3.9/site-packages/sklearn/utils/validation.py:993: DataConversionWarning: A column-vector y was passed when a 1d array was expected. Please change the shape of y to (n_samples, ), for example using ravel().\n",
      "  y = column_or_1d(y, warn=True)\n"
     ]
    },
    {
     "name": "stdout",
     "output_type": "stream",
     "text": [
      "0.9429310944458464\n",
      "Epoch: 3/10 - Loss: 0.0687\n"
     ]
    },
    {
     "data": {
      "application/vnd.jupyter.widget-view+json": {
       "model_id": "da248dc8619c4ba0b0983ddac0999571",
       "version_major": 2,
       "version_minor": 0
      },
      "text/plain": [
       "Training:   0%|          | 0/129 [00:00<?, ?it/s]"
      ]
     },
     "metadata": {},
     "output_type": "display_data"
    },
    {
     "name": "stdout",
     "output_type": "stream",
     "text": [
      "0.057873636\n",
      "0.9948969711981664\n"
     ]
    },
    {
     "data": {
      "application/vnd.jupyter.widget-view+json": {
       "model_id": "a4b1948fd56b4f7bb598c7e8613cfdb2",
       "version_major": 2,
       "version_minor": 0
      },
      "text/plain": [
       "Testing:   0%|          | 0/129 [00:00<?, ?it/s]"
      ]
     },
     "metadata": {},
     "output_type": "display_data"
    },
    {
     "data": {
      "application/vnd.jupyter.widget-view+json": {
       "model_id": "3d05be3e52f7434c87bd0c6b5b9835b4",
       "version_major": 2,
       "version_minor": 0
      },
      "text/plain": [
       "Testing:   0%|          | 0/23 [00:00<?, ?it/s]"
      ]
     },
     "metadata": {},
     "output_type": "display_data"
    },
    {
     "name": "stderr",
     "output_type": "stream",
     "text": [
      "/home/arhitegio/anaconda3/lib/python3.9/site-packages/sklearn/utils/validation.py:993: DataConversionWarning: A column-vector y was passed when a 1d array was expected. Please change the shape of y to (n_samples, ), for example using ravel().\n",
      "  y = column_or_1d(y, warn=True)\n"
     ]
    },
    {
     "name": "stdout",
     "output_type": "stream",
     "text": [
      "0.9403187451583054\n",
      "Epoch: 4/10 - Loss: 0.0579\n"
     ]
    },
    {
     "data": {
      "application/vnd.jupyter.widget-view+json": {
       "model_id": "a39fb303174048929e206cecd0db20e7",
       "version_major": 2,
       "version_minor": 0
      },
      "text/plain": [
       "Training:   0%|          | 0/129 [00:00<?, ?it/s]"
      ]
     },
     "metadata": {},
     "output_type": "display_data"
    },
    {
     "name": "stdout",
     "output_type": "stream",
     "text": [
      "0.058737025\n",
      "0.9948969711981664\n"
     ]
    },
    {
     "data": {
      "application/vnd.jupyter.widget-view+json": {
       "model_id": "4666edce33c5411b83f5547572bc7189",
       "version_major": 2,
       "version_minor": 0
      },
      "text/plain": [
       "Testing:   0%|          | 0/129 [00:00<?, ?it/s]"
      ]
     },
     "metadata": {},
     "output_type": "display_data"
    },
    {
     "data": {
      "application/vnd.jupyter.widget-view+json": {
       "model_id": "54f1749311aa452c9f83eb78f7b1a14b",
       "version_major": 2,
       "version_minor": 0
      },
      "text/plain": [
       "Testing:   0%|          | 0/23 [00:00<?, ?it/s]"
      ]
     },
     "metadata": {},
     "output_type": "display_data"
    },
    {
     "name": "stderr",
     "output_type": "stream",
     "text": [
      "/home/arhitegio/anaconda3/lib/python3.9/site-packages/sklearn/utils/validation.py:993: DataConversionWarning: A column-vector y was passed when a 1d array was expected. Please change the shape of y to (n_samples, ), for example using ravel().\n",
      "  y = column_or_1d(y, warn=True)\n"
     ]
    },
    {
     "name": "stdout",
     "output_type": "stream",
     "text": [
      "0.9431694596260736\n",
      "Epoch: 5/10 - Loss: 0.0587\n"
     ]
    },
    {
     "data": {
      "application/vnd.jupyter.widget-view+json": {
       "model_id": "8096aa99a22f4f0d91d8f77034da6e46",
       "version_major": 2,
       "version_minor": 0
      },
      "text/plain": [
       "Training:   0%|          | 0/129 [00:00<?, ?it/s]"
      ]
     },
     "metadata": {},
     "output_type": "display_data"
    },
    {
     "name": "stdout",
     "output_type": "stream",
     "text": [
      "0.055165354\n",
      "0.9948969711981664\n"
     ]
    },
    {
     "data": {
      "application/vnd.jupyter.widget-view+json": {
       "model_id": "48d954fd505742229eb304233bd15380",
       "version_major": 2,
       "version_minor": 0
      },
      "text/plain": [
       "Testing:   0%|          | 0/129 [00:00<?, ?it/s]"
      ]
     },
     "metadata": {},
     "output_type": "display_data"
    },
    {
     "data": {
      "application/vnd.jupyter.widget-view+json": {
       "model_id": "dbb563d28c6744b7b3b079d9838af4d6",
       "version_major": 2,
       "version_minor": 0
      },
      "text/plain": [
       "Testing:   0%|          | 0/23 [00:00<?, ?it/s]"
      ]
     },
     "metadata": {},
     "output_type": "display_data"
    },
    {
     "name": "stderr",
     "output_type": "stream",
     "text": [
      "/home/arhitegio/anaconda3/lib/python3.9/site-packages/sklearn/utils/validation.py:993: DataConversionWarning: A column-vector y was passed when a 1d array was expected. Please change the shape of y to (n_samples, ), for example using ravel().\n",
      "  y = column_or_1d(y, warn=True)\n"
     ]
    },
    {
     "name": "stdout",
     "output_type": "stream",
     "text": [
      "0.9430111354268288\n",
      "Epoch: 6/10 - Loss: 0.0552\n"
     ]
    },
    {
     "data": {
      "application/vnd.jupyter.widget-view+json": {
       "model_id": "dc66efbb6c0746179e2200a7310e9683",
       "version_major": 2,
       "version_minor": 0
      },
      "text/plain": [
       "Training:   0%|          | 0/129 [00:00<?, ?it/s]"
      ]
     },
     "metadata": {},
     "output_type": "display_data"
    },
    {
     "name": "stdout",
     "output_type": "stream",
     "text": [
      "0.05967145\n",
      "0.9948969711981664\n"
     ]
    },
    {
     "data": {
      "application/vnd.jupyter.widget-view+json": {
       "model_id": "6570b4c31b5e4eac92e3b1bd57282bbb",
       "version_major": 2,
       "version_minor": 0
      },
      "text/plain": [
       "Testing:   0%|          | 0/129 [00:00<?, ?it/s]"
      ]
     },
     "metadata": {},
     "output_type": "display_data"
    },
    {
     "data": {
      "application/vnd.jupyter.widget-view+json": {
       "model_id": "9a35beb338da47919c0efef3354eba84",
       "version_major": 2,
       "version_minor": 0
      },
      "text/plain": [
       "Testing:   0%|          | 0/23 [00:00<?, ?it/s]"
      ]
     },
     "metadata": {},
     "output_type": "display_data"
    },
    {
     "name": "stderr",
     "output_type": "stream",
     "text": [
      "/home/arhitegio/anaconda3/lib/python3.9/site-packages/sklearn/utils/validation.py:993: DataConversionWarning: A column-vector y was passed when a 1d array was expected. Please change the shape of y to (n_samples, ), for example using ravel().\n",
      "  y = column_or_1d(y, warn=True)\n"
     ]
    },
    {
     "name": "stdout",
     "output_type": "stream",
     "text": [
      "0.9412582693319372\n",
      "Epoch: 7/10 - Loss: 0.0597\n"
     ]
    },
    {
     "data": {
      "application/vnd.jupyter.widget-view+json": {
       "model_id": "c46c0278d4024c0b82e62f29bcc4cd84",
       "version_major": 2,
       "version_minor": 0
      },
      "text/plain": [
       "Training:   0%|          | 0/129 [00:00<?, ?it/s]"
      ]
     },
     "metadata": {},
     "output_type": "display_data"
    },
    {
     "name": "stdout",
     "output_type": "stream",
     "text": [
      "0.0589768\n",
      "0.9948969711981664\n"
     ]
    },
    {
     "data": {
      "application/vnd.jupyter.widget-view+json": {
       "model_id": "384c042c752e469a9ebbd356606d0235",
       "version_major": 2,
       "version_minor": 0
      },
      "text/plain": [
       "Testing:   0%|          | 0/129 [00:00<?, ?it/s]"
      ]
     },
     "metadata": {},
     "output_type": "display_data"
    },
    {
     "data": {
      "application/vnd.jupyter.widget-view+json": {
       "model_id": "b93fcd2c765041c7a3dbbd3a1db275da",
       "version_major": 2,
       "version_minor": 0
      },
      "text/plain": [
       "Testing:   0%|          | 0/23 [00:00<?, ?it/s]"
      ]
     },
     "metadata": {},
     "output_type": "display_data"
    },
    {
     "name": "stdout",
     "output_type": "stream",
     "text": [
      "0.939379537860266\n",
      "Epoch: 8/10 - Loss: 0.0590\n"
     ]
    },
    {
     "name": "stderr",
     "output_type": "stream",
     "text": [
      "/home/arhitegio/anaconda3/lib/python3.9/site-packages/sklearn/utils/validation.py:993: DataConversionWarning: A column-vector y was passed when a 1d array was expected. Please change the shape of y to (n_samples, ), for example using ravel().\n",
      "  y = column_or_1d(y, warn=True)\n"
     ]
    },
    {
     "data": {
      "application/vnd.jupyter.widget-view+json": {
       "model_id": "c1996097501f435589b5354f24e845f7",
       "version_major": 2,
       "version_minor": 0
      },
      "text/plain": [
       "Training:   0%|          | 0/129 [00:00<?, ?it/s]"
      ]
     },
     "metadata": {},
     "output_type": "display_data"
    },
    {
     "name": "stdout",
     "output_type": "stream",
     "text": [
      "0.050379574\n",
      "0.9948969711981664\n"
     ]
    },
    {
     "data": {
      "application/vnd.jupyter.widget-view+json": {
       "model_id": "e7d2fe692ba04c24aa58e783d6ba161b",
       "version_major": 2,
       "version_minor": 0
      },
      "text/plain": [
       "Testing:   0%|          | 0/129 [00:00<?, ?it/s]"
      ]
     },
     "metadata": {},
     "output_type": "display_data"
    },
    {
     "data": {
      "application/vnd.jupyter.widget-view+json": {
       "model_id": "5f6097e584764a488f02d32d36546011",
       "version_major": 2,
       "version_minor": 0
      },
      "text/plain": [
       "Testing:   0%|          | 0/23 [00:00<?, ?it/s]"
      ]
     },
     "metadata": {},
     "output_type": "display_data"
    },
    {
     "name": "stdout",
     "output_type": "stream",
     "text": [
      "0.9377900131614975\n",
      "Epoch: 9/10 - Loss: 0.0504\n"
     ]
    },
    {
     "name": "stderr",
     "output_type": "stream",
     "text": [
      "/home/arhitegio/anaconda3/lib/python3.9/site-packages/sklearn/utils/validation.py:993: DataConversionWarning: A column-vector y was passed when a 1d array was expected. Please change the shape of y to (n_samples, ), for example using ravel().\n",
      "  y = column_or_1d(y, warn=True)\n"
     ]
    },
    {
     "data": {
      "application/vnd.jupyter.widget-view+json": {
       "model_id": "e2eb1403eca34cc3bb81a7f5b65c4de0",
       "version_major": 2,
       "version_minor": 0
      },
      "text/plain": [
       "Training:   0%|          | 0/129 [00:00<?, ?it/s]"
      ]
     },
     "metadata": {},
     "output_type": "display_data"
    },
    {
     "name": "stdout",
     "output_type": "stream",
     "text": [
      "0.055609804\n",
      "0.9948969711981664\n"
     ]
    },
    {
     "data": {
      "application/vnd.jupyter.widget-view+json": {
       "model_id": "29d22b00f00a4db5a060022a6af1ed60",
       "version_major": 2,
       "version_minor": 0
      },
      "text/plain": [
       "Testing:   0%|          | 0/129 [00:00<?, ?it/s]"
      ]
     },
     "metadata": {},
     "output_type": "display_data"
    },
    {
     "data": {
      "application/vnd.jupyter.widget-view+json": {
       "model_id": "58dde64a290147639a702ea6d2eab867",
       "version_major": 2,
       "version_minor": 0
      },
      "text/plain": [
       "Testing:   0%|          | 0/23 [00:00<?, ?it/s]"
      ]
     },
     "metadata": {},
     "output_type": "display_data"
    },
    {
     "name": "stderr",
     "output_type": "stream",
     "text": [
      "/home/arhitegio/anaconda3/lib/python3.9/site-packages/sklearn/utils/validation.py:993: DataConversionWarning: A column-vector y was passed when a 1d array was expected. Please change the shape of y to (n_samples, ), for example using ravel().\n",
      "  y = column_or_1d(y, warn=True)\n"
     ]
    },
    {
     "name": "stdout",
     "output_type": "stream",
     "text": [
      "0.9369079301624529\n",
      "Epoch: 10/10 - Loss: 0.0556\n",
      "CPU times: user 2min 49s, sys: 28.9 s, total: 3min 18s\n",
      "Wall time: 2min 49s\n"
     ]
    }
   ],
   "source": [
    "%%time\n",
    "model.train()\n",
    "ep = 10\n",
    "for epoch in tqdm_step(range(ep), desc=\"Epochs\"):\n",
    "    running_loss = []\n",
    "    #if epoch % 10 == 0:\n",
    "    #    train_loader.dataset.change_positives()\n",
    "    loss_arr = []\n",
    "    pbar = tqdm_step(train_loader, desc=\"Training\")\n",
    "\n",
    "    for step, (anchor_img, positive_img, negative_img, anchor_label) in enumerate(pbar):\n",
    "        anchor_img =   anchor_img.to(device)\n",
    "        positive_img = positive_img.to(device)\n",
    "        negative_img = [sample.to(device) for sample in negative_img]\n",
    "\n",
    "        for sample in negative_img:\n",
    "            optimizer.zero_grad()\n",
    "\n",
    "            anchor_out = model(anchor_img)\n",
    "            positive_out = model(positive_img)\n",
    "            negative_out = model(sample)\n",
    "\n",
    "            loss = criterion(anchor_out, positive_out, negative_out)\n",
    "            loss.backward()\n",
    "            optimizer.step()\n",
    "            l = loss.cpu().detach().numpy()\n",
    "            \n",
    "            loss_arr.append(l)\n",
    "        pbar.postfix = f\" - loss батча '{np.mean(loss_arr)}'\"\n",
    "        #if np.mean(loss_arr) <= 0.005:\n",
    "        #    break\n",
    "        \n",
    "        running_loss.append(np.mean(loss_arr))\n",
    "    with open(params['path_config'], \"r\") as f:\n",
    "        config = json.loads(f.read())\n",
    "    print(np.mean(running_loss))\n",
    "    print(config['recall_score'])\n",
    "    \n",
    "    X_train_, y_train_ = get_data(model, train_loader)\n",
    "    X_test_, y_test_ = get_data(model, valid_loader)\n",
    "    pca=PCA(n_components=n_components, whiten=True)\n",
    "    pca.fit(X_train_)\n",
    "    X_train_pca=pca.transform(X_train_)\n",
    "    X_test_pca=pca.transform(X_test_)\n",
    "    clf = SVC()\n",
    "    clf.fit(X_train_pca, y_train_)\n",
    "    y_pred = clf.predict(X_test_pca)\n",
    "    recall_score = metrics.recall_score(y_test_, y_pred, average=\"macro\", zero_division=0)#[None, 'micro', 'macro', 'weighted']\n",
    "    \n",
    "    if recall_score > config['recall_score']:\n",
    "        config['recall_score'] = recall_score\n",
    "        with open(params['path_config'], \"w\") as f:\n",
    "            f.write(json.dumps(config))\n",
    "        torch.save(model.state_dict(), './recogn_model.mdl')\n",
    "        print(f'Сохранено! {recall_score}')\n",
    "    else:\n",
    "        print(f'{recall_score}')\n",
    "    \n",
    "        \n",
    "    print(\"Epoch: {}/{} - Loss: {:.4f}\".format(epoch+1, ep, np.mean(running_loss)))"
   ]
  },
  {
   "cell_type": "code",
   "execution_count": 212,
   "metadata": {},
   "outputs": [
    {
     "data": {
      "application/vnd.jupyter.widget-view+json": {
       "model_id": "7392f076df7e4ddebe2a71f80903dd99",
       "version_major": 2,
       "version_minor": 0
      },
      "text/plain": [
       "Epochs:   0%|          | 0/5 [00:00<?, ?it/s]"
      ]
     },
     "metadata": {},
     "output_type": "display_data"
    },
    {
     "data": {
      "application/vnd.jupyter.widget-view+json": {
       "model_id": "a9730ba9da884771beb0f2b669099184",
       "version_major": 2,
       "version_minor": 0
      },
      "text/plain": [
       "Training:   0%|          | 0/129 [00:00<?, ?it/s]"
      ]
     },
     "metadata": {},
     "output_type": "display_data"
    },
    {
     "name": "stdout",
     "output_type": "stream",
     "text": [
      "0.049090702\n",
      "0.9948969711981664\n"
     ]
    },
    {
     "data": {
      "application/vnd.jupyter.widget-view+json": {
       "model_id": "932e32118cb84678a41d8ae5810c1e7d",
       "version_major": 2,
       "version_minor": 0
      },
      "text/plain": [
       "Testing:   0%|          | 0/129 [00:00<?, ?it/s]"
      ]
     },
     "metadata": {},
     "output_type": "display_data"
    },
    {
     "data": {
      "application/vnd.jupyter.widget-view+json": {
       "model_id": "36a45c1385a9466cb685898bf5aa48a5",
       "version_major": 2,
       "version_minor": 0
      },
      "text/plain": [
       "Testing:   0%|          | 0/23 [00:00<?, ?it/s]"
      ]
     },
     "metadata": {},
     "output_type": "display_data"
    },
    {
     "name": "stdout",
     "output_type": "stream",
     "text": [
      "0.9414328229424146\n",
      "Epoch: 1/5 - Loss: 0.0491\n"
     ]
    },
    {
     "name": "stderr",
     "output_type": "stream",
     "text": [
      "/home/arhitegio/anaconda3/lib/python3.9/site-packages/sklearn/utils/validation.py:993: DataConversionWarning: A column-vector y was passed when a 1d array was expected. Please change the shape of y to (n_samples, ), for example using ravel().\n",
      "  y = column_or_1d(y, warn=True)\n"
     ]
    },
    {
     "data": {
      "application/vnd.jupyter.widget-view+json": {
       "model_id": "2afb7acd1e2346f3bb2eadc9474ecada",
       "version_major": 2,
       "version_minor": 0
      },
      "text/plain": [
       "Training:   0%|          | 0/129 [00:00<?, ?it/s]"
      ]
     },
     "metadata": {},
     "output_type": "display_data"
    },
    {
     "name": "stdout",
     "output_type": "stream",
     "text": [
      "0.04923598\n",
      "0.9948969711981664\n"
     ]
    },
    {
     "data": {
      "application/vnd.jupyter.widget-view+json": {
       "model_id": "45c385db41804a06b467aa90cf13652e",
       "version_major": 2,
       "version_minor": 0
      },
      "text/plain": [
       "Testing:   0%|          | 0/129 [00:00<?, ?it/s]"
      ]
     },
     "metadata": {},
     "output_type": "display_data"
    },
    {
     "data": {
      "application/vnd.jupyter.widget-view+json": {
       "model_id": "f35f58be7dfe4a28852ffd35e592522c",
       "version_major": 2,
       "version_minor": 0
      },
      "text/plain": [
       "Testing:   0%|          | 0/23 [00:00<?, ?it/s]"
      ]
     },
     "metadata": {},
     "output_type": "display_data"
    },
    {
     "name": "stderr",
     "output_type": "stream",
     "text": [
      "/home/arhitegio/anaconda3/lib/python3.9/site-packages/sklearn/utils/validation.py:993: DataConversionWarning: A column-vector y was passed when a 1d array was expected. Please change the shape of y to (n_samples, ), for example using ravel().\n",
      "  y = column_or_1d(y, warn=True)\n"
     ]
    },
    {
     "name": "stdout",
     "output_type": "stream",
     "text": [
      "0.9383831972950542\n",
      "Epoch: 2/5 - Loss: 0.0492\n"
     ]
    },
    {
     "data": {
      "application/vnd.jupyter.widget-view+json": {
       "model_id": "d6204ba18de34bc0a4df536e812223b5",
       "version_major": 2,
       "version_minor": 0
      },
      "text/plain": [
       "Training:   0%|          | 0/129 [00:00<?, ?it/s]"
      ]
     },
     "metadata": {},
     "output_type": "display_data"
    },
    {
     "name": "stdout",
     "output_type": "stream",
     "text": [
      "0.05016766\n",
      "0.9948969711981664\n"
     ]
    },
    {
     "data": {
      "application/vnd.jupyter.widget-view+json": {
       "model_id": "f5a0dc25c9e940dcb15ab0c8caac580e",
       "version_major": 2,
       "version_minor": 0
      },
      "text/plain": [
       "Testing:   0%|          | 0/129 [00:00<?, ?it/s]"
      ]
     },
     "metadata": {},
     "output_type": "display_data"
    },
    {
     "data": {
      "application/vnd.jupyter.widget-view+json": {
       "model_id": "beb5ebe4db32480b8d32a6e042fd621f",
       "version_major": 2,
       "version_minor": 0
      },
      "text/plain": [
       "Testing:   0%|          | 0/23 [00:00<?, ?it/s]"
      ]
     },
     "metadata": {},
     "output_type": "display_data"
    },
    {
     "name": "stderr",
     "output_type": "stream",
     "text": [
      "/home/arhitegio/anaconda3/lib/python3.9/site-packages/sklearn/utils/validation.py:993: DataConversionWarning: A column-vector y was passed when a 1d array was expected. Please change the shape of y to (n_samples, ), for example using ravel().\n",
      "  y = column_or_1d(y, warn=True)\n"
     ]
    },
    {
     "name": "stdout",
     "output_type": "stream",
     "text": [
      "0.9373211299560414\n",
      "Epoch: 3/5 - Loss: 0.0502\n"
     ]
    },
    {
     "data": {
      "application/vnd.jupyter.widget-view+json": {
       "model_id": "47fedd6583324180b8f7f279a20286bb",
       "version_major": 2,
       "version_minor": 0
      },
      "text/plain": [
       "Training:   0%|          | 0/129 [00:00<?, ?it/s]"
      ]
     },
     "metadata": {},
     "output_type": "display_data"
    },
    {
     "name": "stdout",
     "output_type": "stream",
     "text": [
      "0.0442065\n",
      "0.9948969711981664\n"
     ]
    },
    {
     "data": {
      "application/vnd.jupyter.widget-view+json": {
       "model_id": "ce44c45b0dab45ba8e8b74c57d198a4d",
       "version_major": 2,
       "version_minor": 0
      },
      "text/plain": [
       "Testing:   0%|          | 0/129 [00:00<?, ?it/s]"
      ]
     },
     "metadata": {},
     "output_type": "display_data"
    },
    {
     "data": {
      "application/vnd.jupyter.widget-view+json": {
       "model_id": "3c60da4e559144f49fc16fc092b2cdf9",
       "version_major": 2,
       "version_minor": 0
      },
      "text/plain": [
       "Testing:   0%|          | 0/23 [00:00<?, ?it/s]"
      ]
     },
     "metadata": {},
     "output_type": "display_data"
    },
    {
     "name": "stderr",
     "output_type": "stream",
     "text": [
      "/home/arhitegio/anaconda3/lib/python3.9/site-packages/sklearn/utils/validation.py:993: DataConversionWarning: A column-vector y was passed when a 1d array was expected. Please change the shape of y to (n_samples, ), for example using ravel().\n",
      "  y = column_or_1d(y, warn=True)\n"
     ]
    },
    {
     "name": "stdout",
     "output_type": "stream",
     "text": [
      "0.9351467425956388\n",
      "Epoch: 4/5 - Loss: 0.0442\n"
     ]
    },
    {
     "data": {
      "application/vnd.jupyter.widget-view+json": {
       "model_id": "d7231ef72d4641429faf83b1709bffa2",
       "version_major": 2,
       "version_minor": 0
      },
      "text/plain": [
       "Training:   0%|          | 0/129 [00:00<?, ?it/s]"
      ]
     },
     "metadata": {},
     "output_type": "display_data"
    },
    {
     "name": "stdout",
     "output_type": "stream",
     "text": [
      "0.050491992\n",
      "0.9948969711981664\n"
     ]
    },
    {
     "data": {
      "application/vnd.jupyter.widget-view+json": {
       "model_id": "4fc03f5cfea747fa84562004df43ef2e",
       "version_major": 2,
       "version_minor": 0
      },
      "text/plain": [
       "Testing:   0%|          | 0/129 [00:00<?, ?it/s]"
      ]
     },
     "metadata": {},
     "output_type": "display_data"
    },
    {
     "data": {
      "application/vnd.jupyter.widget-view+json": {
       "model_id": "66f7463a241d4fbc9cce6b3b88800cd3",
       "version_major": 2,
       "version_minor": 0
      },
      "text/plain": [
       "Testing:   0%|          | 0/23 [00:00<?, ?it/s]"
      ]
     },
     "metadata": {},
     "output_type": "display_data"
    },
    {
     "name": "stdout",
     "output_type": "stream",
     "text": [
      "0.9416750454352766\n",
      "Epoch: 5/5 - Loss: 0.0505\n",
      "CPU times: user 1min 19s, sys: 13.7 s, total: 1min 33s\n",
      "Wall time: 1min 19s\n"
     ]
    },
    {
     "name": "stderr",
     "output_type": "stream",
     "text": [
      "/home/arhitegio/anaconda3/lib/python3.9/site-packages/sklearn/utils/validation.py:993: DataConversionWarning: A column-vector y was passed when a 1d array was expected. Please change the shape of y to (n_samples, ), for example using ravel().\n",
      "  y = column_or_1d(y, warn=True)\n"
     ]
    }
   ],
   "source": [
    "%%time\n",
    "model.train()\n",
    "ep = 5\n",
    "for epoch in tqdm_step(range(ep), desc=\"Epochs\"):\n",
    "    running_loss = []\n",
    "    #if epoch % 10 == 0:\n",
    "    #    train_loader.dataset.change_positives()\n",
    "    loss_arr = []\n",
    "    pbar = tqdm_step(train_loader, desc=\"Training\")\n",
    "\n",
    "    for step, (anchor_img, positive_img, negative_img, anchor_label) in enumerate(pbar):\n",
    "        anchor_img =   anchor_img.to(device)\n",
    "        positive_img = positive_img.to(device)\n",
    "        negative_img = [sample.to(device) for sample in negative_img]\n",
    "\n",
    "        for sample in negative_img:\n",
    "            optimizer.zero_grad()\n",
    "\n",
    "            anchor_out = model(anchor_img)\n",
    "            positive_out = model(positive_img)\n",
    "            negative_out = model(sample)\n",
    "\n",
    "            loss = criterion(anchor_out, positive_out, negative_out)\n",
    "            loss.backward()\n",
    "            optimizer.step()\n",
    "            l = loss.cpu().detach().numpy()\n",
    "            \n",
    "            loss_arr.append(l)\n",
    "        pbar.postfix = f\" - loss батча '{np.mean(loss_arr)}'\"\n",
    "        #if np.mean(loss_arr) <= 0.005:\n",
    "        #    break\n",
    "        \n",
    "        running_loss.append(np.mean(loss_arr))\n",
    "    with open(params['path_config'], \"r\") as f:\n",
    "        config = json.loads(f.read())\n",
    "    print(np.mean(running_loss))\n",
    "    print(config['recall_score'])\n",
    "    \n",
    "    X_train_, y_train_ = get_data(model, train_loader)\n",
    "    X_test_, y_test_ = get_data(model, valid_loader)\n",
    "    pca=PCA(n_components=n_components, whiten=True)\n",
    "    pca.fit(X_train_)\n",
    "    X_train_pca=pca.transform(X_train_)\n",
    "    X_test_pca=pca.transform(X_test_)\n",
    "    clf = SVC()\n",
    "    clf.fit(X_train_pca, y_train_)\n",
    "    y_pred = clf.predict(X_test_pca)\n",
    "    recall_score = metrics.recall_score(y_test_, y_pred, average=\"macro\", zero_division=0)#[None, 'micro', 'macro', 'weighted']\n",
    "    \n",
    "    if recall_score > config['recall_score']:\n",
    "        config['recall_score'] = recall_score\n",
    "        with open(params['path_config'], \"w\") as f:\n",
    "            f.write(json.dumps(config))\n",
    "        torch.save(model.state_dict(), './recogn_model.mdl')\n",
    "        print(f'Сохранено! {recall_score}')\n",
    "    else:\n",
    "        print(f'{recall_score}')\n",
    "    \n",
    "        \n",
    "    print(\"Epoch: {}/{} - Loss: {:.4f}\".format(epoch+1, ep, np.mean(running_loss)))"
   ]
  },
  {
   "cell_type": "code",
   "execution_count": 163,
   "metadata": {},
   "outputs": [],
   "source": [
    "optimizer = optim.Adam(model.parameters(), lr=0.000001)"
   ]
  },
  {
   "cell_type": "code",
   "execution_count": 164,
   "metadata": {},
   "outputs": [
    {
     "data": {
      "application/vnd.jupyter.widget-view+json": {
       "model_id": "616b925121e444d1b96ac84014ad3fd6",
       "version_major": 2,
       "version_minor": 0
      },
      "text/plain": [
       "Epochs:   0%|          | 0/10 [00:00<?, ?it/s]"
      ]
     },
     "metadata": {},
     "output_type": "display_data"
    },
    {
     "data": {
      "application/vnd.jupyter.widget-view+json": {
       "model_id": "1df2bb56694140ee84a99cdde20a63f3",
       "version_major": 2,
       "version_minor": 0
      },
      "text/plain": [
       "Training:   0%|          | 0/129 [00:00<?, ?it/s]"
      ]
     },
     "metadata": {},
     "output_type": "display_data"
    },
    {
     "name": "stdout",
     "output_type": "stream",
     "text": [
      "0.03593552\n",
      "0.9948969711981664\n"
     ]
    },
    {
     "data": {
      "application/vnd.jupyter.widget-view+json": {
       "model_id": "bb4ca874a52b486ca07f6ebc0c08c6c2",
       "version_major": 2,
       "version_minor": 0
      },
      "text/plain": [
       "Testing:   0%|          | 0/129 [00:00<?, ?it/s]"
      ]
     },
     "metadata": {},
     "output_type": "display_data"
    },
    {
     "data": {
      "application/vnd.jupyter.widget-view+json": {
       "model_id": "c8b602f2cd5e4468bded3f2ad486edeb",
       "version_major": 2,
       "version_minor": 0
      },
      "text/plain": [
       "Testing:   0%|          | 0/23 [00:00<?, ?it/s]"
      ]
     },
     "metadata": {},
     "output_type": "display_data"
    },
    {
     "name": "stderr",
     "output_type": "stream",
     "text": [
      "/home/arhitegio/anaconda3/lib/python3.9/site-packages/sklearn/utils/validation.py:993: DataConversionWarning: A column-vector y was passed when a 1d array was expected. Please change the shape of y to (n_samples, ), for example using ravel().\n",
      "  y = column_or_1d(y, warn=True)\n"
     ]
    },
    {
     "name": "stdout",
     "output_type": "stream",
     "text": [
      "0.9440144442656787\n",
      "Epoch: 1/10 - Loss: 0.0359\n"
     ]
    },
    {
     "data": {
      "application/vnd.jupyter.widget-view+json": {
       "model_id": "e4cc58cfa6244096a4ad3c454cda42b5",
       "version_major": 2,
       "version_minor": 0
      },
      "text/plain": [
       "Training:   0%|          | 0/129 [00:00<?, ?it/s]"
      ]
     },
     "metadata": {},
     "output_type": "display_data"
    },
    {
     "name": "stdout",
     "output_type": "stream",
     "text": [
      "0.03378559\n",
      "0.9948969711981664\n"
     ]
    },
    {
     "data": {
      "application/vnd.jupyter.widget-view+json": {
       "model_id": "6cfd839323d24254a450775e1a7f16c8",
       "version_major": 2,
       "version_minor": 0
      },
      "text/plain": [
       "Testing:   0%|          | 0/129 [00:00<?, ?it/s]"
      ]
     },
     "metadata": {},
     "output_type": "display_data"
    },
    {
     "data": {
      "application/vnd.jupyter.widget-view+json": {
       "model_id": "584f6f7e42c84825a7d92c97cbdeda51",
       "version_major": 2,
       "version_minor": 0
      },
      "text/plain": [
       "Testing:   0%|          | 0/23 [00:00<?, ?it/s]"
      ]
     },
     "metadata": {},
     "output_type": "display_data"
    },
    {
     "name": "stderr",
     "output_type": "stream",
     "text": [
      "/home/arhitegio/anaconda3/lib/python3.9/site-packages/sklearn/utils/validation.py:993: DataConversionWarning: A column-vector y was passed when a 1d array was expected. Please change the shape of y to (n_samples, ), for example using ravel().\n",
      "  y = column_or_1d(y, warn=True)\n"
     ]
    },
    {
     "name": "stdout",
     "output_type": "stream",
     "text": [
      "0.9399710877926547\n",
      "Epoch: 2/10 - Loss: 0.0338\n"
     ]
    },
    {
     "data": {
      "application/vnd.jupyter.widget-view+json": {
       "model_id": "f1030c86551b4c93b8beff357b8c71b8",
       "version_major": 2,
       "version_minor": 0
      },
      "text/plain": [
       "Training:   0%|          | 0/129 [00:00<?, ?it/s]"
      ]
     },
     "metadata": {},
     "output_type": "display_data"
    },
    {
     "name": "stdout",
     "output_type": "stream",
     "text": [
      "0.036218572\n",
      "0.9948969711981664\n"
     ]
    },
    {
     "data": {
      "application/vnd.jupyter.widget-view+json": {
       "model_id": "dfed01f6d5654ccda95a95a2a829fba1",
       "version_major": 2,
       "version_minor": 0
      },
      "text/plain": [
       "Testing:   0%|          | 0/129 [00:00<?, ?it/s]"
      ]
     },
     "metadata": {},
     "output_type": "display_data"
    },
    {
     "data": {
      "application/vnd.jupyter.widget-view+json": {
       "model_id": "80b144bd343b425cb652b3f4fbecec6f",
       "version_major": 2,
       "version_minor": 0
      },
      "text/plain": [
       "Testing:   0%|          | 0/23 [00:00<?, ?it/s]"
      ]
     },
     "metadata": {},
     "output_type": "display_data"
    },
    {
     "name": "stderr",
     "output_type": "stream",
     "text": [
      "/home/arhitegio/anaconda3/lib/python3.9/site-packages/sklearn/utils/validation.py:993: DataConversionWarning: A column-vector y was passed when a 1d array was expected. Please change the shape of y to (n_samples, ), for example using ravel().\n",
      "  y = column_or_1d(y, warn=True)\n"
     ]
    },
    {
     "name": "stdout",
     "output_type": "stream",
     "text": [
      "0.9410610890105333\n",
      "Epoch: 3/10 - Loss: 0.0362\n"
     ]
    },
    {
     "data": {
      "application/vnd.jupyter.widget-view+json": {
       "model_id": "02750ef09b444aedb4cc037b8b7081ae",
       "version_major": 2,
       "version_minor": 0
      },
      "text/plain": [
       "Training:   0%|          | 0/129 [00:00<?, ?it/s]"
      ]
     },
     "metadata": {},
     "output_type": "display_data"
    },
    {
     "name": "stdout",
     "output_type": "stream",
     "text": [
      "0.034820024\n",
      "0.9948969711981664\n"
     ]
    },
    {
     "data": {
      "application/vnd.jupyter.widget-view+json": {
       "model_id": "58fbea4b043643b19b68094b53d534ae",
       "version_major": 2,
       "version_minor": 0
      },
      "text/plain": [
       "Testing:   0%|          | 0/129 [00:00<?, ?it/s]"
      ]
     },
     "metadata": {},
     "output_type": "display_data"
    },
    {
     "data": {
      "application/vnd.jupyter.widget-view+json": {
       "model_id": "22e310fb67b84456926f55cc1b977add",
       "version_major": 2,
       "version_minor": 0
      },
      "text/plain": [
       "Testing:   0%|          | 0/23 [00:00<?, ?it/s]"
      ]
     },
     "metadata": {},
     "output_type": "display_data"
    },
    {
     "name": "stderr",
     "output_type": "stream",
     "text": [
      "/home/arhitegio/anaconda3/lib/python3.9/site-packages/sklearn/utils/validation.py:993: DataConversionWarning: A column-vector y was passed when a 1d array was expected. Please change the shape of y to (n_samples, ), for example using ravel().\n",
      "  y = column_or_1d(y, warn=True)\n"
     ]
    },
    {
     "name": "stdout",
     "output_type": "stream",
     "text": [
      "0.938259968562354\n",
      "Epoch: 4/10 - Loss: 0.0348\n"
     ]
    },
    {
     "data": {
      "application/vnd.jupyter.widget-view+json": {
       "model_id": "8ade2eee0cd1462dafebd7ffdfebfe04",
       "version_major": 2,
       "version_minor": 0
      },
      "text/plain": [
       "Training:   0%|          | 0/129 [00:00<?, ?it/s]"
      ]
     },
     "metadata": {},
     "output_type": "display_data"
    },
    {
     "name": "stdout",
     "output_type": "stream",
     "text": [
      "0.029574122\n",
      "0.9948969711981664\n"
     ]
    },
    {
     "data": {
      "application/vnd.jupyter.widget-view+json": {
       "model_id": "8bb9827b4584498ca692f23b4f8b66f3",
       "version_major": 2,
       "version_minor": 0
      },
      "text/plain": [
       "Testing:   0%|          | 0/129 [00:00<?, ?it/s]"
      ]
     },
     "metadata": {},
     "output_type": "display_data"
    },
    {
     "data": {
      "application/vnd.jupyter.widget-view+json": {
       "model_id": "d5382654465b4691b01ea66f445febf5",
       "version_major": 2,
       "version_minor": 0
      },
      "text/plain": [
       "Testing:   0%|          | 0/23 [00:00<?, ?it/s]"
      ]
     },
     "metadata": {},
     "output_type": "display_data"
    },
    {
     "name": "stderr",
     "output_type": "stream",
     "text": [
      "/home/arhitegio/anaconda3/lib/python3.9/site-packages/sklearn/utils/validation.py:993: DataConversionWarning: A column-vector y was passed when a 1d array was expected. Please change the shape of y to (n_samples, ), for example using ravel().\n",
      "  y = column_or_1d(y, warn=True)\n"
     ]
    },
    {
     "name": "stdout",
     "output_type": "stream",
     "text": [
      "0.942303325035378\n",
      "Epoch: 5/10 - Loss: 0.0296\n"
     ]
    },
    {
     "data": {
      "application/vnd.jupyter.widget-view+json": {
       "model_id": "40a409884eed4664b325c39b554bc63e",
       "version_major": 2,
       "version_minor": 0
      },
      "text/plain": [
       "Training:   0%|          | 0/129 [00:00<?, ?it/s]"
      ]
     },
     "metadata": {},
     "output_type": "display_data"
    },
    {
     "name": "stdout",
     "output_type": "stream",
     "text": [
      "0.03227103\n",
      "0.9948969711981664\n"
     ]
    },
    {
     "data": {
      "application/vnd.jupyter.widget-view+json": {
       "model_id": "0fc76670a62b4f7eb7d893d7887f6e9a",
       "version_major": 2,
       "version_minor": 0
      },
      "text/plain": [
       "Testing:   0%|          | 0/129 [00:00<?, ?it/s]"
      ]
     },
     "metadata": {},
     "output_type": "display_data"
    },
    {
     "data": {
      "application/vnd.jupyter.widget-view+json": {
       "model_id": "e55b69a6ce294e668e5de395e12b50ff",
       "version_major": 2,
       "version_minor": 0
      },
      "text/plain": [
       "Testing:   0%|          | 0/23 [00:00<?, ?it/s]"
      ]
     },
     "metadata": {},
     "output_type": "display_data"
    },
    {
     "name": "stderr",
     "output_type": "stream",
     "text": [
      "/home/arhitegio/anaconda3/lib/python3.9/site-packages/sklearn/utils/validation.py:993: DataConversionWarning: A column-vector y was passed when a 1d array was expected. Please change the shape of y to (n_samples, ), for example using ravel().\n",
      "  y = column_or_1d(y, warn=True)\n"
     ]
    },
    {
     "name": "stdout",
     "output_type": "stream",
     "text": [
      "0.9407444406120434\n",
      "Epoch: 6/10 - Loss: 0.0323\n"
     ]
    },
    {
     "data": {
      "application/vnd.jupyter.widget-view+json": {
       "model_id": "994a3b8119484b0e888cf3fa1139fc5c",
       "version_major": 2,
       "version_minor": 0
      },
      "text/plain": [
       "Training:   0%|          | 0/129 [00:00<?, ?it/s]"
      ]
     },
     "metadata": {},
     "output_type": "display_data"
    },
    {
     "name": "stdout",
     "output_type": "stream",
     "text": [
      "0.03796445\n",
      "0.9948969711981664\n"
     ]
    },
    {
     "data": {
      "application/vnd.jupyter.widget-view+json": {
       "model_id": "e7d61932c74d44ddb1abb1be2ee09624",
       "version_major": 2,
       "version_minor": 0
      },
      "text/plain": [
       "Testing:   0%|          | 0/129 [00:00<?, ?it/s]"
      ]
     },
     "metadata": {},
     "output_type": "display_data"
    },
    {
     "data": {
      "application/vnd.jupyter.widget-view+json": {
       "model_id": "63874ec1192e4fd8af40166f6590e5f2",
       "version_major": 2,
       "version_minor": 0
      },
      "text/plain": [
       "Testing:   0%|          | 0/23 [00:00<?, ?it/s]"
      ]
     },
     "metadata": {},
     "output_type": "display_data"
    },
    {
     "name": "stderr",
     "output_type": "stream",
     "text": [
      "/home/arhitegio/anaconda3/lib/python3.9/site-packages/sklearn/utils/validation.py:993: DataConversionWarning: A column-vector y was passed when a 1d array was expected. Please change the shape of y to (n_samples, ), for example using ravel().\n",
      "  y = column_or_1d(y, warn=True)\n"
     ]
    },
    {
     "name": "stdout",
     "output_type": "stream",
     "text": [
      "0.9409027648112883\n",
      "Epoch: 7/10 - Loss: 0.0380\n"
     ]
    },
    {
     "data": {
      "application/vnd.jupyter.widget-view+json": {
       "model_id": "8c000eb46d5b4ad3841159de55bc4d17",
       "version_major": 2,
       "version_minor": 0
      },
      "text/plain": [
       "Training:   0%|          | 0/129 [00:00<?, ?it/s]"
      ]
     },
     "metadata": {},
     "output_type": "display_data"
    },
    {
     "name": "stdout",
     "output_type": "stream",
     "text": [
      "0.038013484\n",
      "0.9948969711981664\n"
     ]
    },
    {
     "data": {
      "application/vnd.jupyter.widget-view+json": {
       "model_id": "40cf28cd76404b87942c3b1f667ee649",
       "version_major": 2,
       "version_minor": 0
      },
      "text/plain": [
       "Testing:   0%|          | 0/129 [00:00<?, ?it/s]"
      ]
     },
     "metadata": {},
     "output_type": "display_data"
    },
    {
     "data": {
      "application/vnd.jupyter.widget-view+json": {
       "model_id": "6ddbb714a075406ba6133aa246c9a5e6",
       "version_major": 2,
       "version_minor": 0
      },
      "text/plain": [
       "Testing:   0%|          | 0/23 [00:00<?, ?it/s]"
      ]
     },
     "metadata": {},
     "output_type": "display_data"
    },
    {
     "name": "stderr",
     "output_type": "stream",
     "text": [
      "/home/arhitegio/anaconda3/lib/python3.9/site-packages/sklearn/utils/validation.py:993: DataConversionWarning: A column-vector y was passed when a 1d array was expected. Please change the shape of y to (n_samples, ), for example using ravel().\n",
      "  y = column_or_1d(y, warn=True)\n"
     ]
    },
    {
     "name": "stdout",
     "output_type": "stream",
     "text": [
      "0.9371261817142814\n",
      "Epoch: 8/10 - Loss: 0.0380\n"
     ]
    },
    {
     "data": {
      "application/vnd.jupyter.widget-view+json": {
       "model_id": "897e68459cd547659e736a854ebba7ae",
       "version_major": 2,
       "version_minor": 0
      },
      "text/plain": [
       "Training:   0%|          | 0/129 [00:00<?, ?it/s]"
      ]
     },
     "metadata": {},
     "output_type": "display_data"
    },
    {
     "name": "stdout",
     "output_type": "stream",
     "text": [
      "0.030802604\n",
      "0.9948969711981664\n"
     ]
    },
    {
     "data": {
      "application/vnd.jupyter.widget-view+json": {
       "model_id": "47ecc2daa4734a628e54acbdb467156f",
       "version_major": 2,
       "version_minor": 0
      },
      "text/plain": [
       "Testing:   0%|          | 0/129 [00:00<?, ?it/s]"
      ]
     },
     "metadata": {},
     "output_type": "display_data"
    },
    {
     "data": {
      "application/vnd.jupyter.widget-view+json": {
       "model_id": "e73d012d088c42c98fcd40838bbf0ffe",
       "version_major": 2,
       "version_minor": 0
      },
      "text/plain": [
       "Testing:   0%|          | 0/23 [00:00<?, ?it/s]"
      ]
     },
     "metadata": {},
     "output_type": "display_data"
    },
    {
     "name": "stderr",
     "output_type": "stream",
     "text": [
      "/home/arhitegio/anaconda3/lib/python3.9/site-packages/sklearn/utils/validation.py:993: DataConversionWarning: A column-vector y was passed when a 1d array was expected. Please change the shape of y to (n_samples, ), for example using ravel().\n",
      "  y = column_or_1d(y, warn=True)\n"
     ]
    },
    {
     "name": "stdout",
     "output_type": "stream",
     "text": [
      "0.938259968562354\n",
      "Epoch: 9/10 - Loss: 0.0308\n"
     ]
    },
    {
     "data": {
      "application/vnd.jupyter.widget-view+json": {
       "model_id": "48fda6ebd10c4be5945a5f868d999811",
       "version_major": 2,
       "version_minor": 0
      },
      "text/plain": [
       "Training:   0%|          | 0/129 [00:00<?, ?it/s]"
      ]
     },
     "metadata": {},
     "output_type": "display_data"
    },
    {
     "name": "stdout",
     "output_type": "stream",
     "text": [
      "0.03338428\n",
      "0.9948969711981664\n"
     ]
    },
    {
     "data": {
      "application/vnd.jupyter.widget-view+json": {
       "model_id": "2cc3fd8ecc014292945e88c85984ca46",
       "version_major": 2,
       "version_minor": 0
      },
      "text/plain": [
       "Testing:   0%|          | 0/129 [00:00<?, ?it/s]"
      ]
     },
     "metadata": {},
     "output_type": "display_data"
    },
    {
     "data": {
      "application/vnd.jupyter.widget-view+json": {
       "model_id": "c859336dbae04234a2bd35fd8842921c",
       "version_major": 2,
       "version_minor": 0
      },
      "text/plain": [
       "Testing:   0%|          | 0/23 [00:00<?, ?it/s]"
      ]
     },
     "metadata": {},
     "output_type": "display_data"
    },
    {
     "name": "stderr",
     "output_type": "stream",
     "text": [
      "/home/arhitegio/anaconda3/lib/python3.9/site-packages/sklearn/utils/validation.py:993: DataConversionWarning: A column-vector y was passed when a 1d array was expected. Please change the shape of y to (n_samples, ), for example using ravel().\n",
      "  y = column_or_1d(y, warn=True)\n"
     ]
    },
    {
     "name": "stdout",
     "output_type": "stream",
     "text": [
      "0.938526741938371\n",
      "Epoch: 10/10 - Loss: 0.0334\n",
      "CPU times: user 2min 37s, sys: 27.5 s, total: 3min 5s\n",
      "Wall time: 2min 39s\n"
     ]
    }
   ],
   "source": [
    "%%time\n",
    "model.train()\n",
    "ep = 10\n",
    "for epoch in tqdm_step(range(ep), desc=\"Epochs\"):\n",
    "    running_loss = []\n",
    "    #if epoch % 10 == 0:\n",
    "    #    train_loader.dataset.change_positives()\n",
    "    loss_arr = []\n",
    "    pbar = tqdm_step(train_loader, desc=\"Training\")\n",
    "\n",
    "    for step, (anchor_img, positive_img, negative_img, anchor_label) in enumerate(pbar):\n",
    "        anchor_img =   anchor_img.to(device)\n",
    "        positive_img = positive_img.to(device)\n",
    "        negative_img = [sample.to(device) for sample in negative_img]\n",
    "\n",
    "        for sample in negative_img:\n",
    "            optimizer.zero_grad()\n",
    "\n",
    "            anchor_out = model(anchor_img)\n",
    "            positive_out = model(positive_img)\n",
    "            negative_out = model(sample)\n",
    "\n",
    "            loss = criterion(anchor_out, positive_out, negative_out)\n",
    "            loss.backward()\n",
    "            optimizer.step()\n",
    "            l = loss.cpu().detach().numpy()\n",
    "            \n",
    "            loss_arr.append(l)\n",
    "        pbar.postfix = f\" - loss батча '{np.mean(loss_arr)}'\"\n",
    "        #if np.mean(loss_arr) <= 0.005:\n",
    "        #    break\n",
    "        \n",
    "        running_loss.append(np.mean(loss_arr))\n",
    "    with open(params['path_config'], \"r\") as f:\n",
    "        config = json.loads(f.read())\n",
    "    print(np.mean(running_loss))\n",
    "    print(config['recall_score'])\n",
    "    \n",
    "    X_train_, y_train_ = get_data(model, train_loader)\n",
    "    X_test_, y_test_ = get_data(model, valid_loader)\n",
    "    pca=PCA(n_components=n_components, whiten=True)\n",
    "    pca.fit(X_train_)\n",
    "    X_train_pca=pca.transform(X_train_)\n",
    "    X_test_pca=pca.transform(X_test_)\n",
    "    clf = SVC()\n",
    "    clf.fit(X_train_pca, y_train_)\n",
    "    y_pred = clf.predict(X_test_pca)\n",
    "    recall_score = metrics.recall_score(y_test_, y_pred, average=\"macro\", zero_division=0)#[None, 'micro', 'macro', 'weighted']\n",
    "    \n",
    "    if recall_score > config['recall_score']:\n",
    "        config['recall_score'] = recall_score\n",
    "        with open(params['path_config'], \"w\") as f:\n",
    "            f.write(json.dumps(config))\n",
    "        torch.save(model.state_dict(), './recogn_model.mdl')\n",
    "        print(f'Сохранено! {recall_score}')\n",
    "    else:\n",
    "        print(f'{recall_score}')\n",
    "    \n",
    "        \n",
    "    print(\"Epoch: {}/{} - Loss: {:.4f}\".format(epoch+1, ep, np.mean(running_loss)))"
   ]
  },
  {
   "cell_type": "code",
   "execution_count": 137,
   "metadata": {},
   "outputs": [],
   "source": [
    "optimizer = optim.Adam(model.parameters(), lr=0.0000001)"
   ]
  },
  {
   "cell_type": "code",
   "execution_count": 138,
   "metadata": {},
   "outputs": [
    {
     "data": {
      "application/vnd.jupyter.widget-view+json": {
       "model_id": "60af4ae8da7c4b37bde1e5e9cf568fc3",
       "version_major": 2,
       "version_minor": 0
      },
      "text/plain": [
       "Epochs:   0%|          | 0/10 [00:00<?, ?it/s]"
      ]
     },
     "metadata": {},
     "output_type": "display_data"
    },
    {
     "data": {
      "application/vnd.jupyter.widget-view+json": {
       "model_id": "906260867b144305a8c923137e3d5010",
       "version_major": 2,
       "version_minor": 0
      },
      "text/plain": [
       "Training:   0%|          | 0/129 [00:00<?, ?it/s]"
      ]
     },
     "metadata": {},
     "output_type": "display_data"
    },
    {
     "name": "stdout",
     "output_type": "stream",
     "text": [
      "0.017368017\n",
      "0.9948969711981664\n"
     ]
    },
    {
     "data": {
      "application/vnd.jupyter.widget-view+json": {
       "model_id": "b200119033a841eb9b3d7f4716b4e266",
       "version_major": 2,
       "version_minor": 0
      },
      "text/plain": [
       "Testing:   0%|          | 0/129 [00:00<?, ?it/s]"
      ]
     },
     "metadata": {},
     "output_type": "display_data"
    },
    {
     "data": {
      "application/vnd.jupyter.widget-view+json": {
       "model_id": "24d9332d4c294a9fa18510658dac69c3",
       "version_major": 2,
       "version_minor": 0
      },
      "text/plain": [
       "Testing:   0%|          | 0/23 [00:00<?, ?it/s]"
      ]
     },
     "metadata": {},
     "output_type": "display_data"
    },
    {
     "name": "stderr",
     "output_type": "stream",
     "text": [
      "/home/arhitegio/anaconda3/lib/python3.9/site-packages/sklearn/utils/validation.py:993: DataConversionWarning: A column-vector y was passed when a 1d array was expected. Please change the shape of y to (n_samples, ), for example using ravel().\n",
      "  y = column_or_1d(y, warn=True)\n"
     ]
    },
    {
     "name": "stdout",
     "output_type": "stream",
     "text": [
      "0.920299556647202\n",
      "Epoch: 1/10 - Loss: 0.0174\n"
     ]
    },
    {
     "data": {
      "application/vnd.jupyter.widget-view+json": {
       "model_id": "ee3ff45ac7d54155abfeca7949f63822",
       "version_major": 2,
       "version_minor": 0
      },
      "text/plain": [
       "Training:   0%|          | 0/129 [00:00<?, ?it/s]"
      ]
     },
     "metadata": {},
     "output_type": "display_data"
    },
    {
     "name": "stdout",
     "output_type": "stream",
     "text": [
      "0.017989578\n",
      "0.9948969711981664\n"
     ]
    },
    {
     "data": {
      "application/vnd.jupyter.widget-view+json": {
       "model_id": "0d840af99cf84fe4948137bce352dca5",
       "version_major": 2,
       "version_minor": 0
      },
      "text/plain": [
       "Testing:   0%|          | 0/129 [00:00<?, ?it/s]"
      ]
     },
     "metadata": {},
     "output_type": "display_data"
    },
    {
     "data": {
      "application/vnd.jupyter.widget-view+json": {
       "model_id": "d69ecabadf1f49bba82d297999b241f1",
       "version_major": 2,
       "version_minor": 0
      },
      "text/plain": [
       "Testing:   0%|          | 0/23 [00:00<?, ?it/s]"
      ]
     },
     "metadata": {},
     "output_type": "display_data"
    },
    {
     "name": "stderr",
     "output_type": "stream",
     "text": [
      "/home/arhitegio/anaconda3/lib/python3.9/site-packages/sklearn/utils/validation.py:993: DataConversionWarning: A column-vector y was passed when a 1d array was expected. Please change the shape of y to (n_samples, ), for example using ravel().\n",
      "  y = column_or_1d(y, warn=True)\n"
     ]
    },
    {
     "name": "stdout",
     "output_type": "stream",
     "text": [
      "0.9200327832711849\n",
      "Epoch: 2/10 - Loss: 0.0180\n"
     ]
    },
    {
     "data": {
      "application/vnd.jupyter.widget-view+json": {
       "model_id": "f5af40eb199d47dc9aeb74ada80978b2",
       "version_major": 2,
       "version_minor": 0
      },
      "text/plain": [
       "Training:   0%|          | 0/129 [00:00<?, ?it/s]"
      ]
     },
     "metadata": {},
     "output_type": "display_data"
    },
    {
     "name": "stdout",
     "output_type": "stream",
     "text": [
      "0.018740188\n",
      "0.9948969711981664\n"
     ]
    },
    {
     "data": {
      "application/vnd.jupyter.widget-view+json": {
       "model_id": "89660d0324634c72ad9fb210bb22764e",
       "version_major": 2,
       "version_minor": 0
      },
      "text/plain": [
       "Testing:   0%|          | 0/129 [00:00<?, ?it/s]"
      ]
     },
     "metadata": {},
     "output_type": "display_data"
    },
    {
     "data": {
      "application/vnd.jupyter.widget-view+json": {
       "model_id": "ad216a93cc324f8ba94123d317bbb98f",
       "version_major": 2,
       "version_minor": 0
      },
      "text/plain": [
       "Testing:   0%|          | 0/23 [00:00<?, ?it/s]"
      ]
     },
     "metadata": {},
     "output_type": "display_data"
    },
    {
     "name": "stderr",
     "output_type": "stream",
     "text": [
      "/home/arhitegio/anaconda3/lib/python3.9/site-packages/sklearn/utils/validation.py:993: DataConversionWarning: A column-vector y was passed when a 1d array was expected. Please change the shape of y to (n_samples, ), for example using ravel().\n",
      "  y = column_or_1d(y, warn=True)\n"
     ]
    },
    {
     "name": "stdout",
     "output_type": "stream",
     "text": [
      "0.9200327832711849\n",
      "Epoch: 3/10 - Loss: 0.0187\n"
     ]
    },
    {
     "data": {
      "application/vnd.jupyter.widget-view+json": {
       "model_id": "52792a4964c24c75aa601cbcd366820d",
       "version_major": 2,
       "version_minor": 0
      },
      "text/plain": [
       "Training:   0%|          | 0/129 [00:00<?, ?it/s]"
      ]
     },
     "metadata": {},
     "output_type": "display_data"
    },
    {
     "name": "stdout",
     "output_type": "stream",
     "text": [
      "0.019207695\n",
      "0.9948969711981664\n"
     ]
    },
    {
     "data": {
      "application/vnd.jupyter.widget-view+json": {
       "model_id": "47babf944ff54bf7901d95635438e6ba",
       "version_major": 2,
       "version_minor": 0
      },
      "text/plain": [
       "Testing:   0%|          | 0/129 [00:00<?, ?it/s]"
      ]
     },
     "metadata": {},
     "output_type": "display_data"
    },
    {
     "data": {
      "application/vnd.jupyter.widget-view+json": {
       "model_id": "ba8bc00ef34f4236ba34e9a88b2d9b9a",
       "version_major": 2,
       "version_minor": 0
      },
      "text/plain": [
       "Testing:   0%|          | 0/23 [00:00<?, ?it/s]"
      ]
     },
     "metadata": {},
     "output_type": "display_data"
    },
    {
     "name": "stderr",
     "output_type": "stream",
     "text": [
      "/home/arhitegio/anaconda3/lib/python3.9/site-packages/sklearn/utils/validation.py:993: DataConversionWarning: A column-vector y was passed when a 1d array was expected. Please change the shape of y to (n_samples, ), for example using ravel().\n",
      "  y = column_or_1d(y, warn=True)\n"
     ]
    },
    {
     "name": "stdout",
     "output_type": "stream",
     "text": [
      "0.9200327832711849\n",
      "Epoch: 4/10 - Loss: 0.0192\n"
     ]
    },
    {
     "data": {
      "application/vnd.jupyter.widget-view+json": {
       "model_id": "e652a7b1b4814440a3badea28a54fe7c",
       "version_major": 2,
       "version_minor": 0
      },
      "text/plain": [
       "Training:   0%|          | 0/129 [00:00<?, ?it/s]"
      ]
     },
     "metadata": {},
     "output_type": "display_data"
    },
    {
     "name": "stdout",
     "output_type": "stream",
     "text": [
      "0.015583119\n",
      "0.9948969711981664\n"
     ]
    },
    {
     "data": {
      "application/vnd.jupyter.widget-view+json": {
       "model_id": "8701047e527648a8a0069ef78d58f2b0",
       "version_major": 2,
       "version_minor": 0
      },
      "text/plain": [
       "Testing:   0%|          | 0/129 [00:00<?, ?it/s]"
      ]
     },
     "metadata": {},
     "output_type": "display_data"
    },
    {
     "data": {
      "application/vnd.jupyter.widget-view+json": {
       "model_id": "d435c5783c514c148d97b9c777c7b038",
       "version_major": 2,
       "version_minor": 0
      },
      "text/plain": [
       "Testing:   0%|          | 0/23 [00:00<?, ?it/s]"
      ]
     },
     "metadata": {},
     "output_type": "display_data"
    },
    {
     "name": "stderr",
     "output_type": "stream",
     "text": [
      "/home/arhitegio/anaconda3/lib/python3.9/site-packages/sklearn/utils/validation.py:993: DataConversionWarning: A column-vector y was passed when a 1d array was expected. Please change the shape of y to (n_samples, ), for example using ravel().\n",
      "  y = column_or_1d(y, warn=True)\n"
     ]
    },
    {
     "name": "stdout",
     "output_type": "stream",
     "text": [
      "0.9200327832711849\n",
      "Epoch: 5/10 - Loss: 0.0156\n"
     ]
    },
    {
     "data": {
      "application/vnd.jupyter.widget-view+json": {
       "model_id": "0518bdeb940845e88e9fee506e4714de",
       "version_major": 2,
       "version_minor": 0
      },
      "text/plain": [
       "Training:   0%|          | 0/129 [00:00<?, ?it/s]"
      ]
     },
     "metadata": {},
     "output_type": "display_data"
    },
    {
     "name": "stdout",
     "output_type": "stream",
     "text": [
      "0.016453568\n",
      "0.9948969711981664\n"
     ]
    },
    {
     "data": {
      "application/vnd.jupyter.widget-view+json": {
       "model_id": "d7de677203eb49e8988e1d17bb0f3f7e",
       "version_major": 2,
       "version_minor": 0
      },
      "text/plain": [
       "Testing:   0%|          | 0/129 [00:00<?, ?it/s]"
      ]
     },
     "metadata": {},
     "output_type": "display_data"
    },
    {
     "data": {
      "application/vnd.jupyter.widget-view+json": {
       "model_id": "a49e99c5478e47a18ae49f0d151b3149",
       "version_major": 2,
       "version_minor": 0
      },
      "text/plain": [
       "Testing:   0%|          | 0/23 [00:00<?, ?it/s]"
      ]
     },
     "metadata": {},
     "output_type": "display_data"
    },
    {
     "name": "stderr",
     "output_type": "stream",
     "text": [
      "/home/arhitegio/anaconda3/lib/python3.9/site-packages/sklearn/utils/validation.py:993: DataConversionWarning: A column-vector y was passed when a 1d array was expected. Please change the shape of y to (n_samples, ), for example using ravel().\n",
      "  y = column_or_1d(y, warn=True)\n"
     ]
    },
    {
     "name": "stdout",
     "output_type": "stream",
     "text": [
      "0.9200327832711849\n",
      "Epoch: 6/10 - Loss: 0.0165\n"
     ]
    },
    {
     "data": {
      "application/vnd.jupyter.widget-view+json": {
       "model_id": "2932896148454e4abd5722a3a6d6f9ce",
       "version_major": 2,
       "version_minor": 0
      },
      "text/plain": [
       "Training:   0%|          | 0/129 [00:00<?, ?it/s]"
      ]
     },
     "metadata": {},
     "output_type": "display_data"
    },
    {
     "name": "stdout",
     "output_type": "stream",
     "text": [
      "0.02045934\n",
      "0.9948969711981664\n"
     ]
    },
    {
     "data": {
      "application/vnd.jupyter.widget-view+json": {
       "model_id": "32df0d7168e44d038cfa63cc53711f13",
       "version_major": 2,
       "version_minor": 0
      },
      "text/plain": [
       "Testing:   0%|          | 0/129 [00:00<?, ?it/s]"
      ]
     },
     "metadata": {},
     "output_type": "display_data"
    },
    {
     "data": {
      "application/vnd.jupyter.widget-view+json": {
       "model_id": "536ba9faca3a401e863b83e9f11633f5",
       "version_major": 2,
       "version_minor": 0
      },
      "text/plain": [
       "Testing:   0%|          | 0/23 [00:00<?, ?it/s]"
      ]
     },
     "metadata": {},
     "output_type": "display_data"
    },
    {
     "name": "stderr",
     "output_type": "stream",
     "text": [
      "/home/arhitegio/anaconda3/lib/python3.9/site-packages/sklearn/utils/validation.py:993: DataConversionWarning: A column-vector y was passed when a 1d array was expected. Please change the shape of y to (n_samples, ), for example using ravel().\n",
      "  y = column_or_1d(y, warn=True)\n"
     ]
    },
    {
     "name": "stdout",
     "output_type": "stream",
     "text": [
      "0.9227477733461031\n",
      "Epoch: 7/10 - Loss: 0.0205\n"
     ]
    },
    {
     "data": {
      "application/vnd.jupyter.widget-view+json": {
       "model_id": "389ae2474874415aa84d5b303514506c",
       "version_major": 2,
       "version_minor": 0
      },
      "text/plain": [
       "Training:   0%|          | 0/129 [00:00<?, ?it/s]"
      ]
     },
     "metadata": {},
     "output_type": "display_data"
    },
    {
     "name": "stdout",
     "output_type": "stream",
     "text": [
      "0.020225713\n",
      "0.9948969711981664\n"
     ]
    },
    {
     "data": {
      "application/vnd.jupyter.widget-view+json": {
       "model_id": "b57a4c4f0ffb4d52acccca3457460340",
       "version_major": 2,
       "version_minor": 0
      },
      "text/plain": [
       "Testing:   0%|          | 0/129 [00:00<?, ?it/s]"
      ]
     },
     "metadata": {},
     "output_type": "display_data"
    },
    {
     "data": {
      "application/vnd.jupyter.widget-view+json": {
       "model_id": "65b102f4421942f39db14c4d77d56b7d",
       "version_major": 2,
       "version_minor": 0
      },
      "text/plain": [
       "Testing:   0%|          | 0/23 [00:00<?, ?it/s]"
      ]
     },
     "metadata": {},
     "output_type": "display_data"
    },
    {
     "name": "stderr",
     "output_type": "stream",
     "text": [
      "/home/arhitegio/anaconda3/lib/python3.9/site-packages/sklearn/utils/validation.py:993: DataConversionWarning: A column-vector y was passed when a 1d array was expected. Please change the shape of y to (n_samples, ), for example using ravel().\n",
      "  y = column_or_1d(y, warn=True)\n"
     ]
    },
    {
     "name": "stdout",
     "output_type": "stream",
     "text": [
      "0.9227477733461031\n",
      "Epoch: 8/10 - Loss: 0.0202\n"
     ]
    },
    {
     "data": {
      "application/vnd.jupyter.widget-view+json": {
       "model_id": "14a037805894443e94a0df47486f5ae5",
       "version_major": 2,
       "version_minor": 0
      },
      "text/plain": [
       "Training:   0%|          | 0/129 [00:00<?, ?it/s]"
      ]
     },
     "metadata": {},
     "output_type": "display_data"
    },
    {
     "name": "stdout",
     "output_type": "stream",
     "text": [
      "0.017522223\n",
      "0.9948969711981664\n"
     ]
    },
    {
     "data": {
      "application/vnd.jupyter.widget-view+json": {
       "model_id": "e979b37658f64a649addb5fdab967149",
       "version_major": 2,
       "version_minor": 0
      },
      "text/plain": [
       "Testing:   0%|          | 0/129 [00:00<?, ?it/s]"
      ]
     },
     "metadata": {},
     "output_type": "display_data"
    },
    {
     "data": {
      "application/vnd.jupyter.widget-view+json": {
       "model_id": "26de24b0cd6d4f2ca9f37025cebcfcb0",
       "version_major": 2,
       "version_minor": 0
      },
      "text/plain": [
       "Testing:   0%|          | 0/23 [00:00<?, ?it/s]"
      ]
     },
     "metadata": {},
     "output_type": "display_data"
    },
    {
     "name": "stderr",
     "output_type": "stream",
     "text": [
      "/home/arhitegio/anaconda3/lib/python3.9/site-packages/sklearn/utils/validation.py:993: DataConversionWarning: A column-vector y was passed when a 1d array was expected. Please change the shape of y to (n_samples, ), for example using ravel().\n",
      "  y = column_or_1d(y, warn=True)\n"
     ]
    },
    {
     "name": "stdout",
     "output_type": "stream",
     "text": [
      "0.9227477733461031\n",
      "Epoch: 9/10 - Loss: 0.0175\n"
     ]
    },
    {
     "data": {
      "application/vnd.jupyter.widget-view+json": {
       "model_id": "d7196b02a27f4dd197d5439c6fae4b0c",
       "version_major": 2,
       "version_minor": 0
      },
      "text/plain": [
       "Training:   0%|          | 0/129 [00:00<?, ?it/s]"
      ]
     },
     "metadata": {},
     "output_type": "display_data"
    },
    {
     "name": "stdout",
     "output_type": "stream",
     "text": [
      "0.018959757\n",
      "0.9948969711981664\n"
     ]
    },
    {
     "data": {
      "application/vnd.jupyter.widget-view+json": {
       "model_id": "fd32991670d1435d90571e0d12121f01",
       "version_major": 2,
       "version_minor": 0
      },
      "text/plain": [
       "Testing:   0%|          | 0/129 [00:00<?, ?it/s]"
      ]
     },
     "metadata": {},
     "output_type": "display_data"
    },
    {
     "data": {
      "application/vnd.jupyter.widget-view+json": {
       "model_id": "cc9214d489714d9cadde02801c2c8855",
       "version_major": 2,
       "version_minor": 0
      },
      "text/plain": [
       "Testing:   0%|          | 0/23 [00:00<?, ?it/s]"
      ]
     },
     "metadata": {},
     "output_type": "display_data"
    },
    {
     "name": "stderr",
     "output_type": "stream",
     "text": [
      "/home/arhitegio/anaconda3/lib/python3.9/site-packages/sklearn/utils/validation.py:993: DataConversionWarning: A column-vector y was passed when a 1d array was expected. Please change the shape of y to (n_samples, ), for example using ravel().\n",
      "  y = column_or_1d(y, warn=True)\n"
     ]
    },
    {
     "name": "stdout",
     "output_type": "stream",
     "text": [
      "0.9215055373212585\n",
      "Epoch: 10/10 - Loss: 0.0190\n",
      "CPU times: user 2min 45s, sys: 30.1 s, total: 3min 15s\n",
      "Wall time: 2min 42s\n"
     ]
    }
   ],
   "source": [
    "%%time\n",
    "model.train()\n",
    "ep = 10\n",
    "for epoch in tqdm_step(range(ep), desc=\"Epochs\"):\n",
    "    running_loss = []\n",
    "    #if epoch % 10 == 0:\n",
    "    #    train_loader.dataset.change_positives()\n",
    "    loss_arr = []\n",
    "    pbar = tqdm_step(train_loader, desc=\"Training\")\n",
    "\n",
    "    for step, (anchor_img, positive_img, negative_img, anchor_label) in enumerate(pbar):\n",
    "        anchor_img =   anchor_img.to(device)\n",
    "        positive_img = positive_img.to(device)\n",
    "        negative_img = [sample.to(device) for sample in negative_img]\n",
    "\n",
    "        for sample in negative_img:\n",
    "            optimizer.zero_grad()\n",
    "\n",
    "            anchor_out = model(anchor_img)\n",
    "            positive_out = model(positive_img)\n",
    "            negative_out = model(sample)\n",
    "\n",
    "            loss = criterion(anchor_out, positive_out, negative_out)\n",
    "            loss.backward()\n",
    "            optimizer.step()\n",
    "            l = loss.cpu().detach().numpy()\n",
    "            \n",
    "            loss_arr.append(l)\n",
    "        pbar.postfix = f\" - loss батча '{np.mean(loss_arr)}'\"\n",
    "        #if np.mean(loss_arr) <= 0.005:\n",
    "        #    break\n",
    "        \n",
    "        running_loss.append(np.mean(loss_arr))\n",
    "    with open(params['path_config'], \"r\") as f:\n",
    "        config = json.loads(f.read())\n",
    "    print(np.mean(running_loss))\n",
    "    print(config['recall_score'])\n",
    "    \n",
    "    X_train_, y_train_ = get_data(model, train_loader)\n",
    "    X_test_, y_test_ = get_data(model, valid_loader)\n",
    "    pca=PCA(n_components=n_components, whiten=True)\n",
    "    pca.fit(X_train_)\n",
    "    X_train_pca=pca.transform(X_train_)\n",
    "    X_test_pca=pca.transform(X_test_)\n",
    "    clf = SVC()\n",
    "    clf.fit(X_train_pca, y_train_)\n",
    "    y_pred = clf.predict(X_test_pca)\n",
    "    recall_score = metrics.recall_score(y_test_, y_pred, average=\"macro\", zero_division=0)#[None, 'micro', 'macro', 'weighted']\n",
    "    \n",
    "    if recall_score > config['recall_score']:\n",
    "        config['recall_score'] = recall_score\n",
    "        with open(params['path_config'], \"w\") as f:\n",
    "            f.write(json.dumps(config))\n",
    "        torch.save(model.state_dict(), './recogn_model.mdl')\n",
    "        print(f'Сохранено! {recall_score}')\n",
    "    print(recall_score)\n",
    "        \n",
    "    print(\"Epoch: {}/{} - Loss: {:.4f}\".format(epoch+1, ep, np.mean(running_loss)))"
   ]
  },
  {
   "cell_type": "code",
   "execution_count": null,
   "metadata": {},
   "outputs": [],
   "source": [
    "model.load_state_dict(torch.load('./recogn_model.mdl'))\n",
    "model.to(device)"
   ]
  },
  {
   "cell_type": "code",
   "execution_count": 116,
   "metadata": {},
   "outputs": [
    {
     "data": {
      "text/plain": [
       "tensor([[-0.6295,  1.5483, -0.2660,  1.6536,  0.7975, -2.7003,  2.3568, -0.1113,\n",
       "         -0.4422,  1.2191, -0.8088, -3.8752, -0.5169,  0.1315, -1.1243,  0.2283,\n",
       "          0.4812, -0.0954, -2.5607,  0.1354,  5.3669,  1.3726,  1.4986, -0.0258,\n",
       "          1.6460,  1.7646,  2.7357, -1.3989,  0.0391,  2.2738, -0.3167,  0.0734,\n",
       "          0.9210, -0.4719, -0.5069,  0.6622,  2.0460,  0.5004, -0.2047, -0.3501,\n",
       "          1.2925,  0.0533,  2.1416,  0.7028, -0.3433, -1.0806,  0.9612,  0.1131,\n",
       "         -3.0729,  0.1195,  0.3191, -0.0221, -0.8487,  2.6032,  0.9002, -1.3426,\n",
       "          1.7506, -0.5623, -1.7265,  1.2910, -0.1604,  1.9936,  0.2533,  1.0466,\n",
       "          1.4511, -4.2718,  3.1964, -1.3346, -0.6375,  6.6622, -1.1209, -2.9667,\n",
       "          0.5603,  1.4281,  2.5573,  1.1334,  2.3752, -2.6483,  1.1943,  0.7671,\n",
       "          0.4884,  0.0865, -0.5836,  2.1685,  1.2239,  0.1332, -2.8788, -1.3272,\n",
       "          1.4566, -1.4026,  0.1848, -0.9616,  1.3328,  0.4301, -1.1590,  0.1390,\n",
       "         -0.3532, -1.4159,  2.3945, -0.7919, -2.5659,  1.3143, -0.9334,  1.4219,\n",
       "         -0.3973, -2.0020, -1.0847, -0.5445,  1.7961,  2.1574,  3.5396,  0.5420,\n",
       "          1.5448, -1.0950,  0.2191, -1.2350,  0.8105, -1.0748,  0.3995,  0.4874,\n",
       "         -1.6534,  1.0467,  3.8682, -2.9045,  1.8835, -3.3456,  1.8886,  0.3058]],\n",
       "       device='cuda:1', grad_fn=<AddmmBackward0>)"
      ]
     },
     "execution_count": 116,
     "metadata": {},
     "output_type": "execute_result"
    }
   ],
   "source": [
    "model(torch.tensor(np.array([valid_dataset[0][0].numpy()])).to(device))"
   ]
  },
  {
   "cell_type": "code",
   "execution_count": 139,
   "metadata": {},
   "outputs": [
    {
     "data": {
      "text/plain": [
       "{'name_num': {0: 0, 1: 1, 2: 2, 3: 3, 4: 4, 5: 5, 6: 6},\n",
       " 'num_name': {0: 0, 1: 1, 2: 2, 3: 3, 4: 4, 5: 5, 6: 6}}"
      ]
     },
     "execution_count": 139,
     "metadata": {},
     "output_type": "execute_result"
    }
   ],
   "source": [
    "data_convert = {'name_num':{e: pos for pos, e in enumerate(np.unique(y_test))}, 'num_name':{pos:e for pos, e in enumerate(np.unique(y_test))}}\n",
    "data_convert"
   ]
  },
  {
   "cell_type": "code",
   "execution_count": null,
   "metadata": {},
   "outputs": [],
   "source": []
  },
  {
   "cell_type": "code",
   "execution_count": 232,
   "metadata": {},
   "outputs": [
    {
     "data": {
      "application/vnd.jupyter.widget-view+json": {
       "model_id": "f04383b0995f42668b2f23913b85e944",
       "version_major": 2,
       "version_minor": 0
      },
      "text/plain": [
       "Testing:   0%|          | 0/129 [00:00<?, ?it/s]"
      ]
     },
     "metadata": {},
     "output_type": "display_data"
    },
    {
     "data": {
      "application/vnd.jupyter.widget-view+json": {
       "model_id": "fecb2eb8a1f944fba526873fed73087c",
       "version_major": 2,
       "version_minor": 0
      },
      "text/plain": [
       "Testing:   0%|          | 0/23 [00:00<?, ?it/s]"
      ]
     },
     "metadata": {},
     "output_type": "display_data"
    },
    {
     "name": "stdout",
     "output_type": "stream",
     "text": [
      "CPU times: user 649 ms, sys: 719 ms, total: 1.37 s\n",
      "Wall time: 1.56 s\n"
     ]
    }
   ],
   "source": [
    "%%time\n",
    "X_train_, y_train_ = get_data(model, train_loader)\n",
    "X_test_, y_test_ = get_data(model, valid_loader)"
   ]
  },
  {
   "cell_type": "code",
   "execution_count": 214,
   "metadata": {},
   "outputs": [],
   "source": [
    "X_train_ = np.concatenate([X_train_, X_train.to_numpy()], -1)\n",
    "X_test_ = np.concatenate([X_test_, X_test.to_numpy()], -1)"
   ]
  },
  {
   "cell_type": "code",
   "execution_count": 215,
   "metadata": {},
   "outputs": [
    {
     "data": {
      "text/plain": [
       "(4105, 121)"
      ]
     },
     "execution_count": 215,
     "metadata": {},
     "output_type": "execute_result"
    }
   ],
   "source": [
    "np.shape(X_train.to_numpy())"
   ]
  },
  {
   "cell_type": "code",
   "execution_count": 216,
   "metadata": {},
   "outputs": [],
   "source": [
    "train_dataset = ImageDataset_(X_train, y_train, True)\n",
    "valid_dataset = ImageDataset_(X_test, y_test, True)"
   ]
  },
  {
   "cell_type": "code",
   "execution_count": 217,
   "metadata": {},
   "outputs": [],
   "source": [
    "data_params_lst = []\n",
    "data_targets_lst = []\n",
    "for idx in range(len(train_dataset)):\n",
    "    #print(np.shape(train_ds[idx][0].numpy()))\n",
    "    mdl = torch.flatten(model(torch.tensor(np.array([train_dataset[0][0].numpy()])).to(device))).cpu().detach().numpy()\n",
    "    #print(np.shape(mdl))\n",
    "    data_params_lst.append(mdl)\n",
    "    #print(train_dataset[idx][3])\n",
    "    data_targets_lst.append(torch.tensor([float(train_dataset[idx][3])]).numpy()[0])\n",
    "data_params_lst = np.array(data_params_lst)\n",
    "data_targets_lst = np.array(data_targets_lst)"
   ]
  },
  {
   "cell_type": "code",
   "execution_count": 170,
   "metadata": {},
   "outputs": [],
   "source": [
    "#data_params_lst"
   ]
  },
  {
   "cell_type": "code",
   "execution_count": null,
   "metadata": {},
   "outputs": [],
   "source": []
  },
  {
   "cell_type": "code",
   "execution_count": 171,
   "metadata": {},
   "outputs": [],
   "source": [
    "#X_train_, X_test_, y_train_, y_test_=train_test_split(data_params_lst, data_targets_lst, test_size=0.3, stratify=data_targets_lst, random_state=0)"
   ]
  },
  {
   "cell_type": "code",
   "execution_count": 233,
   "metadata": {},
   "outputs": [],
   "source": [
    "n_components=7"
   ]
  },
  {
   "cell_type": "code",
   "execution_count": 234,
   "metadata": {},
   "outputs": [
    {
     "data": {
      "text/plain": [
       "PCA(n_components=7, whiten=True)"
      ]
     },
     "execution_count": 234,
     "metadata": {},
     "output_type": "execute_result"
    }
   ],
   "source": [
    "pca=PCA(n_components=n_components, whiten=True)\n",
    "pca.fit(X_train_)"
   ]
  },
  {
   "cell_type": "code",
   "execution_count": 235,
   "metadata": {},
   "outputs": [],
   "source": [
    "X_train_pca=pca.transform(X_train_)\n",
    "X_test_pca=pca.transform(X_test_)"
   ]
  },
  {
   "cell_type": "code",
   "execution_count": 227,
   "metadata": {},
   "outputs": [],
   "source": [
    "#fig,ax=plt.subplots(1,1,figsize=(8,8))\n",
    "#ax.imshow(pca.mean_.reshape((16,8)), cmap=\"gray\")\n",
    "#ax.set_xticks([])\n",
    "#ax.set_yticks([])\n",
    "#ax.set_title('Average Face')"
   ]
  },
  {
   "cell_type": "code",
   "execution_count": 228,
   "metadata": {},
   "outputs": [
    {
     "name": "stderr",
     "output_type": "stream",
     "text": [
      "/home/arhitegio/anaconda3/lib/python3.9/site-packages/sklearn/utils/validation.py:993: DataConversionWarning: A column-vector y was passed when a 1d array was expected. Please change the shape of y to (n_samples, ), for example using ravel().\n",
      "  y = column_or_1d(y, warn=True)\n"
     ]
    },
    {
     "name": "stdout",
     "output_type": "stream",
     "text": [
      "accuracy score:0.971503\n"
     ]
    }
   ],
   "source": [
    "clf = SVC()\n",
    "clf.fit(X_train_pca, y_train_)\n",
    "y_pred = clf.predict(X_train_pca)\n",
    "print(\"accuracy score:{:.6f}\".format(metrics.recall_score(y_train_, y_pred, average=\"macro\", zero_division=0)))"
   ]
  },
  {
   "cell_type": "code",
   "execution_count": 229,
   "metadata": {},
   "outputs": [
    {
     "name": "stdout",
     "output_type": "stream",
     "text": [
      "accuracy score:0.943076\n"
     ]
    },
    {
     "name": "stderr",
     "output_type": "stream",
     "text": [
      "/home/arhitegio/anaconda3/lib/python3.9/site-packages/sklearn/utils/validation.py:993: DataConversionWarning: A column-vector y was passed when a 1d array was expected. Please change the shape of y to (n_samples, ), for example using ravel().\n",
      "  y = column_or_1d(y, warn=True)\n"
     ]
    }
   ],
   "source": [
    "clf = SVC()\n",
    "clf.fit(X_train_pca, y_train_)\n",
    "y_pred = clf.predict(X_test_pca)\n",
    "print(\"accuracy score:{:.6f}\".format(metrics.recall_score(y_test_, y_pred, average=\"macro\", zero_division=0)))"
   ]
  },
  {
   "cell_type": "code",
   "execution_count": 230,
   "metadata": {},
   "outputs": [
    {
     "name": "stderr",
     "output_type": "stream",
     "text": [
      "/tmp/ipykernel_9630/4116114615.py:2: DataConversionWarning: A column-vector y was passed when a 1d array was expected. Please change the shape of y to (n_samples,), for example using ravel().\n",
      "  clf.fit(X_train_, y_train_)\n"
     ]
    },
    {
     "data": {
      "text/plain": [
       "RandomForestClassifier(n_estimators=10)"
      ]
     },
     "execution_count": 230,
     "metadata": {},
     "output_type": "execute_result"
    }
   ],
   "source": [
    "clf = RandomForestClassifier(n_estimators = 10)\n",
    "clf.fit(X_train_, y_train_)"
   ]
  },
  {
   "cell_type": "code",
   "execution_count": 179,
   "metadata": {},
   "outputs": [
    {
     "name": "stdout",
     "output_type": "stream",
     "text": [
      "RandomForestClassifier(n_estimators=10) \n",
      " 0.9354816591709645\n"
     ]
    }
   ],
   "source": [
    "from sklearn.metrics import recall_score, precision_score\n",
    "\n",
    "pred = clf.predict(X_test_)\n",
    "print(clf,'\\n',recall_score(y_test_, pred, average=\"macro\", zero_division=0))"
   ]
  },
  {
   "cell_type": "code",
   "execution_count": 131,
   "metadata": {},
   "outputs": [
    {
     "name": "stdout",
     "output_type": "stream",
     "text": [
      "Requirement already satisfied: catboost in /home/arhitegio/anaconda3/lib/python3.9/site-packages (1.1.1)\r\n",
      "Requirement already satisfied: matplotlib in /home/arhitegio/anaconda3/lib/python3.9/site-packages (from catboost) (3.5.2)\r\n",
      "Requirement already satisfied: plotly in /home/arhitegio/anaconda3/lib/python3.9/site-packages (from catboost) (5.9.0)\r\n",
      "Requirement already satisfied: pandas>=0.24.0 in /home/arhitegio/anaconda3/lib/python3.9/site-packages (from catboost) (1.4.4)\r\n",
      "Requirement already satisfied: graphviz in /home/arhitegio/anaconda3/lib/python3.9/site-packages (from catboost) (0.20.1)\r\n",
      "Requirement already satisfied: scipy in /home/arhitegio/anaconda3/lib/python3.9/site-packages (from catboost) (1.9.1)\r\n",
      "Requirement already satisfied: numpy>=1.16.0 in /home/arhitegio/anaconda3/lib/python3.9/site-packages (from catboost) (1.23.4)\r\n",
      "Requirement already satisfied: six in /home/arhitegio/anaconda3/lib/python3.9/site-packages (from catboost) (1.16.0)\r\n",
      "Requirement already satisfied: python-dateutil>=2.8.1 in /home/arhitegio/anaconda3/lib/python3.9/site-packages (from pandas>=0.24.0->catboost) (2.8.2)\r\n",
      "Requirement already satisfied: pytz>=2020.1 in /home/arhitegio/anaconda3/lib/python3.9/site-packages (from pandas>=0.24.0->catboost) (2022.1)\r\n",
      "Requirement already satisfied: packaging>=20.0 in /home/arhitegio/anaconda3/lib/python3.9/site-packages (from matplotlib->catboost) (21.3)\r\n",
      "Requirement already satisfied: pillow>=6.2.0 in /home/arhitegio/anaconda3/lib/python3.9/site-packages (from matplotlib->catboost) (9.2.0)\r\n",
      "Requirement already satisfied: cycler>=0.10 in /home/arhitegio/anaconda3/lib/python3.9/site-packages (from matplotlib->catboost) (0.11.0)\r\n",
      "Requirement already satisfied: kiwisolver>=1.0.1 in /home/arhitegio/anaconda3/lib/python3.9/site-packages (from matplotlib->catboost) (1.4.2)\r\n",
      "Requirement already satisfied: pyparsing>=2.2.1 in /home/arhitegio/anaconda3/lib/python3.9/site-packages (from matplotlib->catboost) (3.0.9)\r\n",
      "Requirement already satisfied: fonttools>=4.22.0 in /home/arhitegio/anaconda3/lib/python3.9/site-packages (from matplotlib->catboost) (4.25.0)\r\n",
      "Requirement already satisfied: tenacity>=6.2.0 in /home/arhitegio/anaconda3/lib/python3.9/site-packages (from plotly->catboost) (8.0.1)\r\n"
     ]
    }
   ],
   "source": [
    "!pip install catboost"
   ]
  },
  {
   "cell_type": "code",
   "execution_count": null,
   "metadata": {},
   "outputs": [],
   "source": []
  },
  {
   "cell_type": "code",
   "execution_count": 180,
   "metadata": {},
   "outputs": [
    {
     "name": "stdout",
     "output_type": "stream",
     "text": [
      "Learning rate set to 0.089583\n",
      "0:\tlearn: 1.4999427\ttest: 1.5265933\tbest: 1.5265933 (0)\ttotal: 21.6ms\tremaining: 43.1s\n",
      "10:\tlearn: 0.4551711\ttest: 0.5580937\tbest: 0.5580937 (10)\ttotal: 148ms\tremaining: 26.8s\n",
      "20:\tlearn: 0.2291133\ttest: 0.3540362\tbest: 0.3540362 (20)\ttotal: 269ms\tremaining: 25.4s\n",
      "30:\tlearn: 0.1462647\ttest: 0.2822395\tbest: 0.2822395 (30)\ttotal: 395ms\tremaining: 25.1s\n",
      "40:\tlearn: 0.1116542\ttest: 0.2565268\tbest: 0.2565268 (40)\ttotal: 511ms\tremaining: 24.4s\n",
      "50:\tlearn: 0.0982809\ttest: 0.2469892\tbest: 0.2469892 (50)\ttotal: 618ms\tremaining: 23.6s\n",
      "60:\tlearn: 0.0920241\ttest: 0.2440240\tbest: 0.2440240 (60)\ttotal: 725ms\tremaining: 23s\n",
      "70:\tlearn: 0.0884667\ttest: 0.2436936\tbest: 0.2435702 (67)\ttotal: 829ms\tremaining: 22.5s\n",
      "80:\tlearn: 0.0841604\ttest: 0.2430963\tbest: 0.2429761 (74)\ttotal: 932ms\tremaining: 22.1s\n",
      "90:\tlearn: 0.0823085\ttest: 0.2432967\tbest: 0.2428955 (83)\ttotal: 1.03s\tremaining: 21.6s\n",
      "100:\tlearn: 0.0806699\ttest: 0.2433452\tbest: 0.2428955 (83)\ttotal: 1.13s\tremaining: 21.3s\n",
      "110:\tlearn: 0.0770815\ttest: 0.2415192\tbest: 0.2415192 (110)\ttotal: 1.23s\tremaining: 21s\n",
      "120:\tlearn: 0.0755898\ttest: 0.2418510\tbest: 0.2415192 (110)\ttotal: 1.33s\tremaining: 20.7s\n",
      "130:\tlearn: 0.0733509\ttest: 0.2421491\tbest: 0.2415192 (110)\ttotal: 1.44s\tremaining: 20.5s\n",
      "140:\tlearn: 0.0710963\ttest: 0.2422707\tbest: 0.2415192 (110)\ttotal: 1.54s\tremaining: 20.3s\n",
      "150:\tlearn: 0.0690388\ttest: 0.2427131\tbest: 0.2415192 (110)\ttotal: 1.64s\tremaining: 20.1s\n",
      "160:\tlearn: 0.0674058\ttest: 0.2429011\tbest: 0.2415192 (110)\ttotal: 1.75s\tremaining: 19.9s\n",
      "170:\tlearn: 0.0657075\ttest: 0.2423489\tbest: 0.2415192 (110)\ttotal: 1.85s\tremaining: 19.8s\n",
      "180:\tlearn: 0.0640378\ttest: 0.2416105\tbest: 0.2415192 (110)\ttotal: 1.95s\tremaining: 19.6s\n",
      "190:\tlearn: 0.0621281\ttest: 0.2421115\tbest: 0.2415192 (110)\ttotal: 2.06s\tremaining: 19.5s\n",
      "200:\tlearn: 0.0606128\ttest: 0.2424567\tbest: 0.2415192 (110)\ttotal: 2.16s\tremaining: 19.4s\n",
      "210:\tlearn: 0.0587914\ttest: 0.2419579\tbest: 0.2415192 (110)\ttotal: 2.28s\tremaining: 19.3s\n",
      "220:\tlearn: 0.0577689\ttest: 0.2418988\tbest: 0.2415192 (110)\ttotal: 2.38s\tremaining: 19.2s\n",
      "230:\tlearn: 0.0560014\ttest: 0.2412934\tbest: 0.2410903 (228)\ttotal: 2.49s\tremaining: 19.1s\n",
      "240:\tlearn: 0.0550129\ttest: 0.2420034\tbest: 0.2410903 (228)\ttotal: 2.59s\tremaining: 18.9s\n",
      "250:\tlearn: 0.0537816\ttest: 0.2420911\tbest: 0.2410903 (228)\ttotal: 2.69s\tremaining: 18.8s\n",
      "260:\tlearn: 0.0528028\ttest: 0.2421965\tbest: 0.2410903 (228)\ttotal: 2.8s\tremaining: 18.6s\n",
      "270:\tlearn: 0.0514589\ttest: 0.2425301\tbest: 0.2410903 (228)\ttotal: 2.9s\tremaining: 18.5s\n",
      "280:\tlearn: 0.0505481\ttest: 0.2429943\tbest: 0.2410903 (228)\ttotal: 3.01s\tremaining: 18.4s\n",
      "290:\tlearn: 0.0494951\ttest: 0.2430558\tbest: 0.2410903 (228)\ttotal: 3.12s\tremaining: 18.3s\n",
      "300:\tlearn: 0.0480722\ttest: 0.2423700\tbest: 0.2410903 (228)\ttotal: 3.23s\tremaining: 18.2s\n",
      "310:\tlearn: 0.0463567\ttest: 0.2426060\tbest: 0.2410903 (228)\ttotal: 3.34s\tremaining: 18.1s\n",
      "320:\tlearn: 0.0456704\ttest: 0.2428733\tbest: 0.2410903 (228)\ttotal: 3.44s\tremaining: 18s\n",
      "330:\tlearn: 0.0445419\ttest: 0.2429701\tbest: 0.2410903 (228)\ttotal: 3.54s\tremaining: 17.9s\n",
      "340:\tlearn: 0.0428355\ttest: 0.2428390\tbest: 0.2410903 (228)\ttotal: 3.65s\tremaining: 17.7s\n",
      "350:\tlearn: 0.0418219\ttest: 0.2428654\tbest: 0.2410903 (228)\ttotal: 3.76s\tremaining: 17.7s\n",
      "360:\tlearn: 0.0409522\ttest: 0.2433928\tbest: 0.2410903 (228)\ttotal: 3.86s\tremaining: 17.5s\n",
      "370:\tlearn: 0.0399288\ttest: 0.2434985\tbest: 0.2410903 (228)\ttotal: 3.97s\tremaining: 17.4s\n",
      "380:\tlearn: 0.0390795\ttest: 0.2435156\tbest: 0.2410903 (228)\ttotal: 4.07s\tremaining: 17.3s\n",
      "390:\tlearn: 0.0378808\ttest: 0.2434353\tbest: 0.2410903 (228)\ttotal: 4.18s\tremaining: 17.2s\n",
      "400:\tlearn: 0.0370420\ttest: 0.2435390\tbest: 0.2410903 (228)\ttotal: 4.28s\tremaining: 17.1s\n",
      "410:\tlearn: 0.0359913\ttest: 0.2437709\tbest: 0.2410903 (228)\ttotal: 4.38s\tremaining: 16.9s\n",
      "420:\tlearn: 0.0351024\ttest: 0.2434840\tbest: 0.2410903 (228)\ttotal: 4.49s\tremaining: 16.8s\n",
      "430:\tlearn: 0.0341272\ttest: 0.2441727\tbest: 0.2410903 (228)\ttotal: 4.6s\tremaining: 16.7s\n",
      "440:\tlearn: 0.0335210\ttest: 0.2444271\tbest: 0.2410903 (228)\ttotal: 4.71s\tremaining: 16.6s\n",
      "450:\tlearn: 0.0326770\ttest: 0.2446920\tbest: 0.2410903 (228)\ttotal: 4.81s\tremaining: 16.5s\n",
      "460:\tlearn: 0.0321450\ttest: 0.2451519\tbest: 0.2410903 (228)\ttotal: 4.92s\tremaining: 16.4s\n",
      "470:\tlearn: 0.0312572\ttest: 0.2451153\tbest: 0.2410903 (228)\ttotal: 5.03s\tremaining: 16.3s\n",
      "480:\tlearn: 0.0304970\ttest: 0.2450662\tbest: 0.2410903 (228)\ttotal: 5.13s\tremaining: 16.2s\n",
      "490:\tlearn: 0.0297048\ttest: 0.2453839\tbest: 0.2410903 (228)\ttotal: 5.24s\tremaining: 16.1s\n",
      "500:\tlearn: 0.0290018\ttest: 0.2457450\tbest: 0.2410903 (228)\ttotal: 5.34s\tremaining: 16s\n",
      "510:\tlearn: 0.0282611\ttest: 0.2456906\tbest: 0.2410903 (228)\ttotal: 5.45s\tremaining: 15.9s\n",
      "520:\tlearn: 0.0277463\ttest: 0.2460719\tbest: 0.2410903 (228)\ttotal: 5.56s\tremaining: 15.8s\n",
      "530:\tlearn: 0.0271490\ttest: 0.2459913\tbest: 0.2410903 (228)\ttotal: 5.67s\tremaining: 15.7s\n",
      "540:\tlearn: 0.0264212\ttest: 0.2465685\tbest: 0.2410903 (228)\ttotal: 5.78s\tremaining: 15.6s\n",
      "550:\tlearn: 0.0260607\ttest: 0.2467571\tbest: 0.2410903 (228)\ttotal: 5.88s\tremaining: 15.5s\n",
      "560:\tlearn: 0.0251728\ttest: 0.2469884\tbest: 0.2410903 (228)\ttotal: 5.99s\tremaining: 15.4s\n",
      "570:\tlearn: 0.0246763\ttest: 0.2474004\tbest: 0.2410903 (228)\ttotal: 6.09s\tremaining: 15.2s\n",
      "580:\tlearn: 0.0241531\ttest: 0.2478363\tbest: 0.2410903 (228)\ttotal: 6.2s\tremaining: 15.1s\n",
      "590:\tlearn: 0.0236901\ttest: 0.2478367\tbest: 0.2410903 (228)\ttotal: 6.3s\tremaining: 15s\n",
      "600:\tlearn: 0.0230256\ttest: 0.2481571\tbest: 0.2410903 (228)\ttotal: 6.42s\tremaining: 14.9s\n",
      "610:\tlearn: 0.0225730\ttest: 0.2486600\tbest: 0.2410903 (228)\ttotal: 6.52s\tremaining: 14.8s\n",
      "620:\tlearn: 0.0217767\ttest: 0.2495771\tbest: 0.2410903 (228)\ttotal: 6.63s\tremaining: 14.7s\n",
      "630:\tlearn: 0.0211752\ttest: 0.2499035\tbest: 0.2410903 (228)\ttotal: 6.74s\tremaining: 14.6s\n",
      "640:\tlearn: 0.0207899\ttest: 0.2501348\tbest: 0.2410903 (228)\ttotal: 6.84s\tremaining: 14.5s\n",
      "650:\tlearn: 0.0202471\ttest: 0.2505790\tbest: 0.2410903 (228)\ttotal: 6.95s\tremaining: 14.4s\n",
      "660:\tlearn: 0.0197895\ttest: 0.2512052\tbest: 0.2410903 (228)\ttotal: 7.06s\tremaining: 14.3s\n",
      "670:\tlearn: 0.0193973\ttest: 0.2513642\tbest: 0.2410903 (228)\ttotal: 7.17s\tremaining: 14.2s\n",
      "680:\tlearn: 0.0189974\ttest: 0.2512632\tbest: 0.2410903 (228)\ttotal: 7.28s\tremaining: 14.1s\n",
      "690:\tlearn: 0.0185989\ttest: 0.2516233\tbest: 0.2410903 (228)\ttotal: 7.39s\tremaining: 14s\n",
      "700:\tlearn: 0.0181523\ttest: 0.2524784\tbest: 0.2410903 (228)\ttotal: 7.5s\tremaining: 13.9s\n",
      "710:\tlearn: 0.0177734\ttest: 0.2527607\tbest: 0.2410903 (228)\ttotal: 7.61s\tremaining: 13.8s\n",
      "720:\tlearn: 0.0173343\ttest: 0.2529799\tbest: 0.2410903 (228)\ttotal: 7.72s\tremaining: 13.7s\n",
      "730:\tlearn: 0.0169142\ttest: 0.2529510\tbest: 0.2410903 (228)\ttotal: 7.83s\tremaining: 13.6s\n",
      "740:\tlearn: 0.0166403\ttest: 0.2529124\tbest: 0.2410903 (228)\ttotal: 7.93s\tremaining: 13.5s\n",
      "750:\tlearn: 0.0163392\ttest: 0.2532232\tbest: 0.2410903 (228)\ttotal: 8.04s\tremaining: 13.4s\n",
      "760:\tlearn: 0.0159979\ttest: 0.2534532\tbest: 0.2410903 (228)\ttotal: 8.16s\tremaining: 13.3s\n",
      "770:\tlearn: 0.0155107\ttest: 0.2536910\tbest: 0.2410903 (228)\ttotal: 8.27s\tremaining: 13.2s\n",
      "780:\tlearn: 0.0152107\ttest: 0.2541023\tbest: 0.2410903 (228)\ttotal: 8.38s\tremaining: 13.1s\n",
      "790:\tlearn: 0.0149923\ttest: 0.2544508\tbest: 0.2410903 (228)\ttotal: 8.5s\tremaining: 13s\n",
      "800:\tlearn: 0.0147141\ttest: 0.2548198\tbest: 0.2410903 (228)\ttotal: 8.61s\tremaining: 12.9s\n",
      "810:\tlearn: 0.0143146\ttest: 0.2555059\tbest: 0.2410903 (228)\ttotal: 8.72s\tremaining: 12.8s\n",
      "820:\tlearn: 0.0141120\ttest: 0.2560225\tbest: 0.2410903 (228)\ttotal: 8.84s\tremaining: 12.7s\n",
      "830:\tlearn: 0.0137987\ttest: 0.2563627\tbest: 0.2410903 (228)\ttotal: 8.95s\tremaining: 12.6s\n",
      "840:\tlearn: 0.0135686\ttest: 0.2567176\tbest: 0.2410903 (228)\ttotal: 9.06s\tremaining: 12.5s\n",
      "850:\tlearn: 0.0133274\ttest: 0.2567665\tbest: 0.2410903 (228)\ttotal: 9.17s\tremaining: 12.4s\n",
      "860:\tlearn: 0.0131433\ttest: 0.2573415\tbest: 0.2410903 (228)\ttotal: 9.28s\tremaining: 12.3s\n",
      "870:\tlearn: 0.0128696\ttest: 0.2579906\tbest: 0.2410903 (228)\ttotal: 9.39s\tremaining: 12.2s\n",
      "880:\tlearn: 0.0126176\ttest: 0.2585797\tbest: 0.2410903 (228)\ttotal: 9.51s\tremaining: 12.1s\n",
      "890:\tlearn: 0.0123557\ttest: 0.2589612\tbest: 0.2410903 (228)\ttotal: 9.62s\tremaining: 12s\n",
      "900:\tlearn: 0.0121752\ttest: 0.2592040\tbest: 0.2410903 (228)\ttotal: 9.73s\tremaining: 11.9s\n",
      "910:\tlearn: 0.0120826\ttest: 0.2592076\tbest: 0.2410903 (228)\ttotal: 9.85s\tremaining: 11.8s\n"
     ]
    },
    {
     "name": "stdout",
     "output_type": "stream",
     "text": [
      "920:\tlearn: 0.0119238\ttest: 0.2591384\tbest: 0.2410903 (228)\ttotal: 9.96s\tremaining: 11.7s\n",
      "930:\tlearn: 0.0117765\ttest: 0.2597567\tbest: 0.2410903 (228)\ttotal: 10.1s\tremaining: 11.6s\n",
      "940:\tlearn: 0.0115459\ttest: 0.2602606\tbest: 0.2410903 (228)\ttotal: 10.2s\tremaining: 11.5s\n",
      "950:\tlearn: 0.0113429\ttest: 0.2610651\tbest: 0.2410903 (228)\ttotal: 10.3s\tremaining: 11.4s\n",
      "960:\tlearn: 0.0110870\ttest: 0.2618063\tbest: 0.2410903 (228)\ttotal: 10.4s\tremaining: 11.2s\n",
      "970:\tlearn: 0.0109403\ttest: 0.2618260\tbest: 0.2410903 (228)\ttotal: 10.5s\tremaining: 11.1s\n",
      "980:\tlearn: 0.0107433\ttest: 0.2625464\tbest: 0.2410903 (228)\ttotal: 10.6s\tremaining: 11s\n",
      "990:\tlearn: 0.0105348\ttest: 0.2628663\tbest: 0.2410903 (228)\ttotal: 10.7s\tremaining: 10.9s\n",
      "1000:\tlearn: 0.0103928\ttest: 0.2631883\tbest: 0.2410903 (228)\ttotal: 10.8s\tremaining: 10.8s\n",
      "1010:\tlearn: 0.0102185\ttest: 0.2636482\tbest: 0.2410903 (228)\ttotal: 10.9s\tremaining: 10.7s\n",
      "1020:\tlearn: 0.0100654\ttest: 0.2638987\tbest: 0.2410903 (228)\ttotal: 11.1s\tremaining: 10.6s\n",
      "1030:\tlearn: 0.0099321\ttest: 0.2644304\tbest: 0.2410903 (228)\ttotal: 11.2s\tremaining: 10.5s\n",
      "1040:\tlearn: 0.0098239\ttest: 0.2644791\tbest: 0.2410903 (228)\ttotal: 11.3s\tremaining: 10.4s\n",
      "1050:\tlearn: 0.0097113\ttest: 0.2645249\tbest: 0.2410903 (228)\ttotal: 11.4s\tremaining: 10.3s\n",
      "1060:\tlearn: 0.0095698\ttest: 0.2649806\tbest: 0.2410903 (228)\ttotal: 11.5s\tremaining: 10.2s\n",
      "1070:\tlearn: 0.0094106\ttest: 0.2652181\tbest: 0.2410903 (228)\ttotal: 11.6s\tremaining: 10.1s\n",
      "1080:\tlearn: 0.0092958\ttest: 0.2651794\tbest: 0.2410903 (228)\ttotal: 11.7s\tremaining: 9.96s\n",
      "1090:\tlearn: 0.0091817\ttest: 0.2654780\tbest: 0.2410903 (228)\ttotal: 11.8s\tremaining: 9.85s\n",
      "1100:\tlearn: 0.0090719\ttest: 0.2658965\tbest: 0.2410903 (228)\ttotal: 11.9s\tremaining: 9.74s\n",
      "1110:\tlearn: 0.0089250\ttest: 0.2663955\tbest: 0.2410903 (228)\ttotal: 12s\tremaining: 9.64s\n",
      "1120:\tlearn: 0.0088108\ttest: 0.2670203\tbest: 0.2410903 (228)\ttotal: 12.2s\tremaining: 9.53s\n",
      "1130:\tlearn: 0.0087083\ttest: 0.2673579\tbest: 0.2410903 (228)\ttotal: 12.3s\tremaining: 9.44s\n",
      "1140:\tlearn: 0.0085832\ttest: 0.2677438\tbest: 0.2410903 (228)\ttotal: 12.4s\tremaining: 9.35s\n",
      "1150:\tlearn: 0.0084709\ttest: 0.2678933\tbest: 0.2410903 (228)\ttotal: 12.5s\tremaining: 9.25s\n",
      "1160:\tlearn: 0.0083761\ttest: 0.2685215\tbest: 0.2410903 (228)\ttotal: 12.7s\tremaining: 9.15s\n",
      "1170:\tlearn: 0.0083160\ttest: 0.2686199\tbest: 0.2410903 (228)\ttotal: 12.8s\tremaining: 9.04s\n",
      "1180:\tlearn: 0.0082017\ttest: 0.2687278\tbest: 0.2410903 (228)\ttotal: 12.9s\tremaining: 8.94s\n",
      "1190:\tlearn: 0.0080934\ttest: 0.2688451\tbest: 0.2410903 (228)\ttotal: 13s\tremaining: 8.82s\n",
      "1200:\tlearn: 0.0080185\ttest: 0.2693560\tbest: 0.2410903 (228)\ttotal: 13.1s\tremaining: 8.71s\n",
      "1210:\tlearn: 0.0079482\ttest: 0.2693122\tbest: 0.2410903 (228)\ttotal: 13.2s\tremaining: 8.6s\n",
      "1220:\tlearn: 0.0078662\ttest: 0.2695940\tbest: 0.2410903 (228)\ttotal: 13.3s\tremaining: 8.48s\n",
      "1230:\tlearn: 0.0077971\ttest: 0.2696805\tbest: 0.2410903 (228)\ttotal: 13.4s\tremaining: 8.37s\n",
      "1240:\tlearn: 0.0076306\ttest: 0.2702680\tbest: 0.2410903 (228)\ttotal: 13.5s\tremaining: 8.27s\n",
      "1250:\tlearn: 0.0075805\ttest: 0.2701475\tbest: 0.2410903 (228)\ttotal: 13.6s\tremaining: 8.15s\n",
      "1260:\tlearn: 0.0074833\ttest: 0.2706302\tbest: 0.2410903 (228)\ttotal: 13.7s\tremaining: 8.04s\n",
      "1270:\tlearn: 0.0073989\ttest: 0.2709038\tbest: 0.2410903 (228)\ttotal: 13.8s\tremaining: 7.93s\n",
      "1280:\tlearn: 0.0073239\ttest: 0.2710564\tbest: 0.2410903 (228)\ttotal: 13.9s\tremaining: 7.82s\n",
      "1290:\tlearn: 0.0072503\ttest: 0.2715085\tbest: 0.2410903 (228)\ttotal: 14s\tremaining: 7.71s\n",
      "1300:\tlearn: 0.0071303\ttest: 0.2718623\tbest: 0.2410903 (228)\ttotal: 14.1s\tremaining: 7.6s\n",
      "1310:\tlearn: 0.0070511\ttest: 0.2723897\tbest: 0.2410903 (228)\ttotal: 14.3s\tremaining: 7.49s\n",
      "1320:\tlearn: 0.0069814\ttest: 0.2727064\tbest: 0.2410903 (228)\ttotal: 14.4s\tremaining: 7.38s\n",
      "1330:\tlearn: 0.0069016\ttest: 0.2730691\tbest: 0.2410903 (228)\ttotal: 14.5s\tremaining: 7.27s\n",
      "1340:\tlearn: 0.0068396\ttest: 0.2734552\tbest: 0.2410903 (228)\ttotal: 14.6s\tremaining: 7.16s\n",
      "1350:\tlearn: 0.0067511\ttest: 0.2740997\tbest: 0.2410903 (228)\ttotal: 14.7s\tremaining: 7.05s\n",
      "1360:\tlearn: 0.0066768\ttest: 0.2747374\tbest: 0.2410903 (228)\ttotal: 14.8s\tremaining: 6.94s\n",
      "1370:\tlearn: 0.0065911\ttest: 0.2750576\tbest: 0.2410903 (228)\ttotal: 14.9s\tremaining: 6.84s\n",
      "1380:\tlearn: 0.0065170\ttest: 0.2753822\tbest: 0.2410903 (228)\ttotal: 15s\tremaining: 6.73s\n",
      "1390:\tlearn: 0.0064291\ttest: 0.2757908\tbest: 0.2410903 (228)\ttotal: 15.1s\tremaining: 6.62s\n",
      "1400:\tlearn: 0.0063308\ttest: 0.2764414\tbest: 0.2410903 (228)\ttotal: 15.2s\tremaining: 6.51s\n",
      "1410:\tlearn: 0.0062594\ttest: 0.2767910\tbest: 0.2410903 (228)\ttotal: 15.3s\tremaining: 6.41s\n",
      "1420:\tlearn: 0.0062055\ttest: 0.2767529\tbest: 0.2410903 (228)\ttotal: 15.5s\tremaining: 6.3s\n",
      "1430:\tlearn: 0.0061510\ttest: 0.2770322\tbest: 0.2410903 (228)\ttotal: 15.6s\tremaining: 6.19s\n",
      "1440:\tlearn: 0.0060964\ttest: 0.2774563\tbest: 0.2410903 (228)\ttotal: 15.7s\tremaining: 6.08s\n",
      "1450:\tlearn: 0.0060538\ttest: 0.2773606\tbest: 0.2410903 (228)\ttotal: 15.8s\tremaining: 5.97s\n",
      "1460:\tlearn: 0.0059791\ttest: 0.2779319\tbest: 0.2410903 (228)\ttotal: 15.9s\tremaining: 5.86s\n",
      "1470:\tlearn: 0.0059082\ttest: 0.2782947\tbest: 0.2410903 (228)\ttotal: 16s\tremaining: 5.75s\n",
      "1480:\tlearn: 0.0058585\ttest: 0.2783968\tbest: 0.2410903 (228)\ttotal: 16.1s\tremaining: 5.64s\n",
      "1490:\tlearn: 0.0058144\ttest: 0.2785505\tbest: 0.2410903 (228)\ttotal: 16.2s\tremaining: 5.53s\n",
      "1500:\tlearn: 0.0057331\ttest: 0.2791101\tbest: 0.2410903 (228)\ttotal: 16.3s\tremaining: 5.42s\n",
      "1510:\tlearn: 0.0056512\ttest: 0.2795247\tbest: 0.2410903 (228)\ttotal: 16.4s\tremaining: 5.31s\n",
      "1520:\tlearn: 0.0055903\ttest: 0.2798991\tbest: 0.2410903 (228)\ttotal: 16.5s\tremaining: 5.2s\n",
      "1530:\tlearn: 0.0055133\ttest: 0.2802874\tbest: 0.2410903 (228)\ttotal: 16.6s\tremaining: 5.09s\n",
      "1540:\tlearn: 0.0054700\ttest: 0.2807312\tbest: 0.2410903 (228)\ttotal: 16.7s\tremaining: 4.99s\n",
      "1550:\tlearn: 0.0054084\ttest: 0.2813643\tbest: 0.2410903 (228)\ttotal: 16.9s\tremaining: 4.88s\n",
      "1560:\tlearn: 0.0053634\ttest: 0.2815116\tbest: 0.2410903 (228)\ttotal: 17s\tremaining: 4.77s\n",
      "1570:\tlearn: 0.0053317\ttest: 0.2815342\tbest: 0.2410903 (228)\ttotal: 17.1s\tremaining: 4.66s\n",
      "1580:\tlearn: 0.0052911\ttest: 0.2815349\tbest: 0.2410903 (228)\ttotal: 17.2s\tremaining: 4.55s\n",
      "1590:\tlearn: 0.0052300\ttest: 0.2819994\tbest: 0.2410903 (228)\ttotal: 17.3s\tremaining: 4.44s\n",
      "1600:\tlearn: 0.0051930\ttest: 0.2820517\tbest: 0.2410903 (228)\ttotal: 17.4s\tremaining: 4.33s\n",
      "1610:\tlearn: 0.0051482\ttest: 0.2823355\tbest: 0.2410903 (228)\ttotal: 17.5s\tremaining: 4.22s\n",
      "1620:\tlearn: 0.0051063\ttest: 0.2826701\tbest: 0.2410903 (228)\ttotal: 17.6s\tremaining: 4.12s\n",
      "1630:\tlearn: 0.0050742\ttest: 0.2827422\tbest: 0.2410903 (228)\ttotal: 17.7s\tremaining: 4.01s\n",
      "1640:\tlearn: 0.0050253\ttest: 0.2829256\tbest: 0.2410903 (228)\ttotal: 17.8s\tremaining: 3.9s\n",
      "1650:\tlearn: 0.0049725\ttest: 0.2832316\tbest: 0.2410903 (228)\ttotal: 17.9s\tremaining: 3.79s\n",
      "1660:\tlearn: 0.0049311\ttest: 0.2834826\tbest: 0.2410903 (228)\ttotal: 18s\tremaining: 3.68s\n",
      "1670:\tlearn: 0.0049019\ttest: 0.2834148\tbest: 0.2410903 (228)\ttotal: 18.1s\tremaining: 3.57s\n",
      "1680:\tlearn: 0.0048646\ttest: 0.2836911\tbest: 0.2410903 (228)\ttotal: 18.3s\tremaining: 3.46s\n",
      "1690:\tlearn: 0.0048192\ttest: 0.2842043\tbest: 0.2410903 (228)\ttotal: 18.4s\tremaining: 3.36s\n",
      "1700:\tlearn: 0.0047787\ttest: 0.2847579\tbest: 0.2410903 (228)\ttotal: 18.5s\tremaining: 3.25s\n",
      "1710:\tlearn: 0.0047286\ttest: 0.2850398\tbest: 0.2410903 (228)\ttotal: 18.6s\tremaining: 3.14s\n",
      "1720:\tlearn: 0.0046964\ttest: 0.2852790\tbest: 0.2410903 (228)\ttotal: 18.7s\tremaining: 3.03s\n",
      "1730:\tlearn: 0.0046497\ttest: 0.2854054\tbest: 0.2410903 (228)\ttotal: 18.8s\tremaining: 2.92s\n",
      "1740:\tlearn: 0.0045992\ttest: 0.2858160\tbest: 0.2410903 (228)\ttotal: 18.9s\tremaining: 2.82s\n",
      "1750:\tlearn: 0.0045587\ttest: 0.2858193\tbest: 0.2410903 (228)\ttotal: 19s\tremaining: 2.71s\n",
      "1760:\tlearn: 0.0045293\ttest: 0.2858108\tbest: 0.2410903 (228)\ttotal: 19.1s\tremaining: 2.6s\n",
      "1770:\tlearn: 0.0044904\ttest: 0.2862167\tbest: 0.2410903 (228)\ttotal: 19.3s\tremaining: 2.49s\n",
      "1780:\tlearn: 0.0044433\ttest: 0.2868695\tbest: 0.2410903 (228)\ttotal: 19.4s\tremaining: 2.38s\n",
      "1790:\tlearn: 0.0044135\ttest: 0.2871993\tbest: 0.2410903 (228)\ttotal: 19.5s\tremaining: 2.27s\n",
      "1800:\tlearn: 0.0043764\ttest: 0.2874299\tbest: 0.2410903 (228)\ttotal: 19.6s\tremaining: 2.16s\n",
      "1810:\tlearn: 0.0043549\ttest: 0.2875676\tbest: 0.2410903 (228)\ttotal: 19.7s\tremaining: 2.05s\n",
      "1820:\tlearn: 0.0043242\ttest: 0.2879222\tbest: 0.2410903 (228)\ttotal: 19.8s\tremaining: 1.94s\n",
      "1830:\tlearn: 0.0042972\ttest: 0.2882491\tbest: 0.2410903 (228)\ttotal: 19.9s\tremaining: 1.83s\n"
     ]
    },
    {
     "name": "stdout",
     "output_type": "stream",
     "text": [
      "1840:\tlearn: 0.0042688\ttest: 0.2884215\tbest: 0.2410903 (228)\ttotal: 20s\tremaining: 1.73s\n",
      "1850:\tlearn: 0.0042348\ttest: 0.2887065\tbest: 0.2410903 (228)\ttotal: 20.1s\tremaining: 1.62s\n",
      "1860:\tlearn: 0.0042062\ttest: 0.2889257\tbest: 0.2410903 (228)\ttotal: 20.2s\tremaining: 1.51s\n",
      "1870:\tlearn: 0.0041737\ttest: 0.2890977\tbest: 0.2410903 (228)\ttotal: 20.3s\tremaining: 1.4s\n",
      "1880:\tlearn: 0.0041474\ttest: 0.2892498\tbest: 0.2410903 (228)\ttotal: 20.4s\tremaining: 1.29s\n",
      "1890:\tlearn: 0.0041075\ttest: 0.2893704\tbest: 0.2410903 (228)\ttotal: 20.5s\tremaining: 1.18s\n",
      "1900:\tlearn: 0.0040693\ttest: 0.2895629\tbest: 0.2410903 (228)\ttotal: 20.6s\tremaining: 1.07s\n",
      "1910:\tlearn: 0.0040480\ttest: 0.2898885\tbest: 0.2410903 (228)\ttotal: 20.7s\tremaining: 966ms\n",
      "1920:\tlearn: 0.0040176\ttest: 0.2899192\tbest: 0.2410903 (228)\ttotal: 20.8s\tremaining: 857ms\n",
      "1930:\tlearn: 0.0039848\ttest: 0.2901300\tbest: 0.2410903 (228)\ttotal: 20.9s\tremaining: 749ms\n",
      "1940:\tlearn: 0.0039651\ttest: 0.2902077\tbest: 0.2410903 (228)\ttotal: 21.1s\tremaining: 640ms\n",
      "1950:\tlearn: 0.0039429\ttest: 0.2901165\tbest: 0.2410903 (228)\ttotal: 21.2s\tremaining: 532ms\n",
      "1960:\tlearn: 0.0039226\ttest: 0.2901637\tbest: 0.2410903 (228)\ttotal: 21.3s\tremaining: 423ms\n",
      "1970:\tlearn: 0.0039043\ttest: 0.2902457\tbest: 0.2410903 (228)\ttotal: 21.4s\tremaining: 315ms\n",
      "1980:\tlearn: 0.0038768\ttest: 0.2904618\tbest: 0.2410903 (228)\ttotal: 21.5s\tremaining: 206ms\n",
      "1990:\tlearn: 0.0038536\ttest: 0.2906660\tbest: 0.2410903 (228)\ttotal: 21.6s\tremaining: 97.6ms\n",
      "1999:\tlearn: 0.0038222\ttest: 0.2910969\tbest: 0.2410903 (228)\ttotal: 21.7s\tremaining: 0us\n",
      "bestTest = 0.2410902563\n",
      "bestIteration = 228\n",
      "Shrink model to first 229 iterations.\n",
      "accuracy score:0.985029\n",
      "accuracy score:0.937055\n"
     ]
    }
   ],
   "source": [
    "from catboost import CatBoostClassifier\n",
    "\n",
    "\n",
    "booster = CatBoostClassifier(iterations=2000, verbose=10, task_type=\"GPU\", devices='0:1')\n",
    "\n",
    "booster.fit(X_train_, y_train_, eval_set=(X_test_, y_test_))\n",
    "\n",
    "test_preds = booster.predict(X_test_)\n",
    "train_preds = booster.predict(X_train_)\n",
    "\n",
    "print(\"accuracy score:{:.6f}\".format(metrics.recall_score(y_train_, train_preds, average=\"macro\", zero_division=0)))\n",
    "print(\"accuracy score:{:.6f}\".format(metrics.recall_score(y_test_, test_preds, average=\"macro\", zero_division=0)))"
   ]
  },
  {
   "cell_type": "code",
   "execution_count": 154,
   "metadata": {},
   "outputs": [
    {
     "data": {
      "text/plain": [
       "array([0, 1, 2, 3, 4, 5, 6])"
      ]
     },
     "execution_count": 154,
     "metadata": {},
     "output_type": "execute_result"
    }
   ],
   "source": [
    "train_dataset.unique_label"
   ]
  },
  {
   "cell_type": "code",
   "execution_count": 181,
   "metadata": {},
   "outputs": [
    {
     "data": {
      "text/plain": [
       "<matplotlib.colorbar.Colorbar at 0x7f44b1dcbe50>"
      ]
     },
     "execution_count": 181,
     "metadata": {},
     "output_type": "execute_result"
    },
    {
     "data": {
      "image/png": "[encoded data removed]",
      "text/plain": [
       "<Figure size 2000x1600 with 2 Axes>"
      ]
     },
     "metadata": {},
     "output_type": "display_data"
    }
   ],
   "source": [
    "number_of_people=len(data_convert['num_name'])\n",
    "index_range=len(y_test_)\n",
    "fig=plt.figure(figsize=(20,16))\n",
    "ax=fig.add_subplot(1,1,1)\n",
    "scatter=ax.scatter(X_test_pca[:index_range,0],\n",
    "            X_test_pca[:index_range,1], \n",
    "            c=y_test_[:index_range],\n",
    "            s=10,\n",
    "           cmap=plt.get_cmap('jet', number_of_people)\n",
    "          )\n",
    "\n",
    "ax.set_xlabel(\"First Principle Component\")\n",
    "ax.set_ylabel(\"Second Principle Component\")\n",
    "ax.set_title(\"PCA projection of {} people\".format(number_of_people))\n",
    "\n",
    "fig.colorbar(scatter)"
   ]
  },
  {
   "cell_type": "code",
   "execution_count": null,
   "metadata": {},
   "outputs": [],
   "source": [
    "df_test = pd.read_csv(\"test_dataset_test.csv\")"
   ]
  },
  {
   "cell_type": "code",
   "execution_count": null,
   "metadata": {},
   "outputs": [],
   "source": [
    "df_test_id = df_test['id']"
   ]
  },
  {
   "cell_type": "code",
   "execution_count": null,
   "metadata": {},
   "outputs": [],
   "source": [
    "calc = {}\n",
    "data_arr = df_test[arr_cols].to_numpy()\n",
    "\n",
    "df_test['sum_nd_global_mean'] = np.sum(data_arr, axis=1)\n",
    "df_test['sum_nd_global_max'] = np.max(data_arr, axis=1)\n",
    "df_test['sum_nd_global_min'] = np.min(data_arr, axis=1)\n",
    "df_test['sum_nd_global_mean'] = np.mean(data_arr, axis=1)\n",
    "df_test['sum_nd_global_median'] = np.median(data_arr, axis=1)\n",
    "df_test['sum_nd_global_std'] = np.std(data_arr, axis=1)\n",
    "df_test['sum_nd_global_argmax'] = np.argmax(data_arr, axis=1)\n",
    "df_test['sum_nd_global_argmin'] = np.argmin(data_arr, axis=1)\n",
    "\n",
    "for k in group_cols.keys():\n",
    "    data_k_arr = df_test[group_cols[k]].to_numpy()\n",
    "    df_test[f'sum_nd_{k}_mean'] = np.sum(data_k_arr, axis=1)\n",
    "    df_test[f'sum_nd_{k}_max'] = np.max(data_k_arr, axis=1)\n",
    "    df_test[f'sum_nd_{k}_min'] = np.min(data_k_arr, axis=1)\n",
    "    df_test[f'sum_nd_{k}_mean'] = np.mean(data_k_arr, axis=1)\n",
    "    df_test[f'sum_nd_{k}_median'] = np.median(data_k_arr, axis=1)\n",
    "    df_test[f'sum_nd_{k}_std'] = np.std(data_k_arr, axis=1)\n",
    "    df_test[f'sum_nd_{k}_argmax'] = np.argmax(data_k_arr, axis=1)\n",
    "    df_test[f'sum_nd_{k}_argmin'] = np.argmin(data_k_arr, axis=1)"
   ]
  },
  {
   "cell_type": "code",
   "execution_count": null,
   "metadata": {},
   "outputs": [],
   "source": [
    "x_min = []\n",
    "x_max = []\n",
    "x_mean = []\n",
    "x_mediam = []\n",
    "y_min = []\n",
    "y_max = []\n",
    "y_mean = []\n",
    "y_mediam = []\n",
    "\n",
    "geo_list = []\n",
    "\n",
    "for idx in range(len(df_test[\".geo\"])):\n",
    "    row = json.loads(df_test[\".geo\"].iloc[idx])\n",
    "    x = []\n",
    "    y = []\n",
    "    \n",
    "    el = row\n",
    "    while True:\n",
    "        if type(el) == type(dict()):\n",
    "            keys = el.keys()\n",
    "            for k in keys:\n",
    "                if k in ['coordinates', 'geometries']:\n",
    "                    geo_list.append(el[k])\n",
    "        if type(el) == list and type(el[0]) == type(list()):\n",
    "            for e in el:\n",
    "                geo_list.append(e)\n",
    "        if type(el) == list and type(el[0]) in (int, float) and len(el) == 2:\n",
    "            x.append(el[0])\n",
    "            y.append(el[1])\n",
    "        if type(el) == type(list()) and type(el[0]) == type(dict()):\n",
    "            for e in el:\n",
    "                geo_list.append(e)\n",
    "        if len(geo_list) > 0:\n",
    "            el = geo_list.pop(-1)\n",
    "        else:\n",
    "            break\n",
    "    \n",
    "    if len(x) == 0:\n",
    "        print('--------------------------------------------------------------')\n",
    "        print(x)\n",
    "        print('--------------------------------------------------------------')\n",
    "        print(y)\n",
    "        print('--------------------------------------------------------------')\n",
    "        print(row)\n",
    "    \n",
    "    x_min.append(np.min(x))\n",
    "    x_max.append(np.max(x))\n",
    "    x_mean.append(np.mean(x))\n",
    "    x_mediam.append(np.median(x))\n",
    "    y_min.append(np.min(y))\n",
    "    y_max.append(np.max(y))\n",
    "    y_mean.append(np.mean(y))\n",
    "    y_mediam.append(np.median(y))"
   ]
  },
  {
   "cell_type": "code",
   "execution_count": null,
   "metadata": {},
   "outputs": [],
   "source": [
    "df_test['x_min'] = x_min / np.max(x_min)\n",
    "df_test['x_max'] = x_max / np.max(x_max)\n",
    "df_test['x_mean'] = x_mean / np.max(x_mean)\n",
    "df_test['x_mediam'] = x_mediam / np.max(x_mediam)\n",
    "df_test['y_min'] = y_min / np.max(y_min)\n",
    "df_test['y_max'] = y_max / np.max(y_max)\n",
    "df_test['y_mean'] = y_mean / np.max(y_mean)\n",
    "df_test['y_mediam'] = y_mediam / np.max(y_mediam)"
   ]
  },
  {
   "cell_type": "code",
   "execution_count": null,
   "metadata": {},
   "outputs": [],
   "source": [
    "X_test = df_test.drop([\"id\",\".geo\"], axis = 1)"
   ]
  },
  {
   "cell_type": "code",
   "execution_count": null,
   "metadata": {},
   "outputs": [],
   "source": [
    "X_test = X_test[clf.feature_names_in_[mask]]"
   ]
  },
  {
   "cell_type": "code",
   "execution_count": null,
   "metadata": {},
   "outputs": [],
   "source": [
    "X_test.columns"
   ]
  },
  {
   "cell_type": "code",
   "execution_count": null,
   "metadata": {},
   "outputs": [],
   "source": [
    "from sklearn import preprocessing\n",
    "import numpy as np\n",
    "\n",
    "\n",
    "for col in X_test.columns:\n",
    "    val = preprocessing.normalize([X_test[col].to_numpy()])\n",
    "    X_test[col] = val[0]"
   ]
  },
  {
   "cell_type": "code",
   "execution_count": null,
   "metadata": {},
   "outputs": [],
   "source": [
    "np.shape(X_test.to_numpy()), np.shape(df_test_id.to_numpy())"
   ]
  },
  {
   "cell_type": "code",
   "execution_count": null,
   "metadata": {},
   "outputs": [],
   "source": [
    "class ImageDataset_Test(Dataset):\n",
    "    def __init__(self, X, ids):\n",
    "        self.X = X.to_numpy()\n",
    "        self.ids = ids.to_numpy()\n",
    "        \n",
    "    def __len__(self):\n",
    "        return len(self.X)\n",
    "            \n",
    "    def __getitem__(self, item):\n",
    "        return torch.tensor(self.X[item]).float(), torch.tensor(np.array([self.ids[item]])).float()"
   ]
  },
  {
   "cell_type": "code",
   "execution_count": null,
   "metadata": {},
   "outputs": [],
   "source": [
    "test_dataset = ImageDataset_Test(X_test, df_test_id)"
   ]
  },
  {
   "cell_type": "code",
   "execution_count": null,
   "metadata": {},
   "outputs": [],
   "source": [
    "test_loader = torch.utils.data.DataLoader(dataset=test_dataset,\n",
    "                                           batch_size=params['batch_size'],\n",
    "                                           # shuffle=True,\n",
    "                                           pin_memory=True,\n",
    "                                           num_workers=params['num_workers'])"
   ]
  },
  {
   "cell_type": "code",
   "execution_count": null,
   "metadata": {},
   "outputs": [],
   "source": [
    "for e1, e2 in test_loader:\n",
    "    print(np.shape(e1))\n",
    "    print(np.shape(e2))\n",
    "    break"
   ]
  },
  {
   "cell_type": "code",
   "execution_count": null,
   "metadata": {},
   "outputs": [],
   "source": [
    "%%time\n",
    "def get_test_data(model, data_loader):\n",
    "    model.eval()\n",
    "    y_true = []\n",
    "    y_embedding = []\n",
    "    with torch.no_grad():\n",
    "        pbar_testing = tqdm_step(data_loader, desc=\"Testing\")\n",
    "        for step, (anchor_img, anchor_label) in enumerate(pbar_testing):\n",
    "            anchor_img = anchor_img.to(device)\n",
    "            anchor_label = anchor_label.to(device)\n",
    "            y_t = anchor_label.cpu().detach().numpy()\n",
    "            y_emb = model(anchor_img).cpu().detach().numpy()\n",
    "            for idx in range(len(anchor_label)):\n",
    "                y_true.append(y_t[idx])\n",
    "                y_embedding.append(y_emb[idx])\n",
    "\n",
    "    y_true = np.array(y_true)\n",
    "    y_embedding = np.array(y_embedding)\n",
    "    return y_embedding, y_true"
   ]
  },
  {
   "cell_type": "code",
   "execution_count": null,
   "metadata": {},
   "outputs": [],
   "source": [
    "x = get_test_data(model, test_loader)"
   ]
  },
  {
   "cell_type": "code",
   "execution_count": null,
   "metadata": {},
   "outputs": [],
   "source": [
    "X_test"
   ]
  },
  {
   "cell_type": "code",
   "execution_count": null,
   "metadata": {},
   "outputs": [],
   "source": [
    "y_pred = booster.predict(X_test)"
   ]
  },
  {
   "cell_type": "code",
   "execution_count": null,
   "metadata": {},
   "outputs": [],
   "source": [
    "np.shape(y_pred)"
   ]
  },
  {
   "cell_type": "code",
   "execution_count": null,
   "metadata": {},
   "outputs": [],
   "source": [
    "y_pred = booster.predict(x[0])\n",
    "df_test_id"
   ]
  },
  {
   "cell_type": "code",
   "execution_count": null,
   "metadata": {},
   "outputs": [],
   "source": [
    "pca=PCA(n_components=n_components, whiten=True)\n",
    "pca.fit(X_train_)"
   ]
  },
  {
   "cell_type": "code",
   "execution_count": null,
   "metadata": {},
   "outputs": [],
   "source": [
    "X_train_pca=pca.transform(X_train_)\n",
    "X_test_pca=pca.transform(x[0])"
   ]
  },
  {
   "cell_type": "code",
   "execution_count": null,
   "metadata": {
    "scrolled": true
   },
   "outputs": [],
   "source": [
    "clf = SVC()\n",
    "clf.fit(X_train_pca, y_train_)\n",
    "y_pred = clf.predict(X_test_pca)"
   ]
  },
  {
   "cell_type": "code",
   "execution_count": null,
   "metadata": {},
   "outputs": [],
   "source": [
    "import pandas as pd\n",
    "\n",
    "pd.DataFrame(data=list(zip([int(e[0]) for e in x[1]],[int(e) for e in y_pred])), columns=['id', 'crop']).set_index('id').to_csv('submit.csv', sep=',', encoding='utf-8')"
   ]
  },
  {
   "cell_type": "code",
   "execution_count": null,
   "metadata": {},
   "outputs": [],
   "source": [
    "import pandas as pd\n",
    "\n",
    "pd.DataFrame(data=list(zip([int(e) for e in df_test_id.to_numpy()],[int(e) for e in y_pred])), columns=['id', 'crop']).set_index('id').to_csv('submit.csv', sep=',', encoding='utf-8')"
   ]
  },
  {
   "cell_type": "code",
   "execution_count": null,
   "metadata": {},
   "outputs": [],
   "source": []
  }
 ],
 "metadata": {
  "colab": {
   "provenance": []
  },
  "kernelspec": {
   "display_name": "Python 3 (ipykernel)",
   "language": "python",
   "name": "python3"
  },
  "language_info": {
   "codemirror_mode": {
    "name": "ipython",
    "version": 3
   },
   "file_extension": ".py",
   "mimetype": "text/x-python",
   "name": "python",
   "nbconvert_exporter": "python",
   "pygments_lexer": "ipython3",
   "version": "3.9.13"
  }
 },
 "nbformat": 4,
 "nbformat_minor": 1
}
